{
 "cells": [
  {
   "cell_type": "markdown",
   "metadata": {
    "id": "LTlmjXExP75I"
   },
   "source": [
    "# Машинное обучение, ФКН ВШЭ\n",
    "\n",
    "## Практическое задание 4. Классификация"
   ]
  },
  {
   "cell_type": "markdown",
   "metadata": {
    "id": "kH11bAAV2SoV"
   },
   "source": [
    "### Общая информация\n",
    "Дата выдачи: 16.11.2024\n",
    "\n",
    "Мягкий дедлайн: 28.11.2024\n",
    "\n",
    "Жесткий дедлайн: 02.12.2024"
   ]
  },
  {
   "cell_type": "markdown",
   "metadata": {
    "id": "iWjJuhqS3Ucc"
   },
   "source": [
    "### О задании\n",
    "\n",
    "В этом задании вы:\n",
    "- ознакомитесь с тем, что происходит \"внутри\" метода опорных векторов и логистической регрессии\n",
    "- познакомитесь с калибровкой вероятности\n",
    "- изучите методы трансформации переменных и методы отбора признаков\n",
    "- попробуете оценить экономический эффект модели\n",
    "\n",
    "----\n",
    "\n",
    "#### Самостоятельная оценка результатов\n",
    "\n",
    "Для удобства проверки, исходя из набора решенных задач, посчитайте свою максимальную оценку.\n",
    "\n",
    "**Оценка**:"
   ]
  },
  {
   "cell_type": "markdown",
   "metadata": {
    "id": "Or0r6z5v1Mmt"
   },
   "source": [
    "### Оценивание и штрафы"
   ]
  },
  {
   "cell_type": "markdown",
   "metadata": {
    "id": "CecLXG_w3zs0"
   },
   "source": [
    "Каждая из задач имеет определенную «стоимость» (указана в скобках около задачи). Максимально допустимая оценка за работу — 10 баллов.\n",
    "\n",
    "Задание выполняется самостоятельно. «Похожие» решения считаются плагиатом и все задействованные студенты (в том числе те, у кого списали) не могут получить за него больше 0 баллов (подробнее о плагиате см. на странице курса). Если вы нашли решение какого-то из заданий (или его часть) в открытом источнике, необходимо указать ссылку на этот источник в отдельном блоке в конце вашей работы (скорее всего вы будете не единственным, кто это нашел, поэтому чтобы исключить подозрение в плагиате, необходима ссылка на источник).\n",
    "\n",
    "Неэффективная реализация кода может негативно отразиться на оценке."
   ]
  },
  {
   "cell_type": "markdown",
   "metadata": {
    "id": "eMwMhTpA1MwR"
   },
   "source": [
    "### Формат сдачи"
   ]
  },
  {
   "cell_type": "markdown",
   "metadata": {
    "id": "O5qs8FC_35h7"
   },
   "source": [
    "Для сдачи задания переименуйте получившийся файл *.ipynb в соответствии со следующим форматом: homework-practice-04-linclass-__Username__.ipynb, где Username — ваша фамилия и имя на латинице именно в таком порядке (например, homework-practice-04-linclass-__IvanovIvan__.ipynb)."
   ]
  },
  {
   "cell_type": "markdown",
   "metadata": {
    "id": "KGWDDNDyP75O"
   },
   "source": [
    "# Часть 1. SVM, LR и калибровка вероятностей (2 балла + 0.5 бонус)"
   ]
  },
  {
   "cell_type": "code",
   "execution_count": 1,
   "metadata": {
    "execution": {
     "iopub.execute_input": "2024-12-22T12:40:04.801575Z",
     "iopub.status.busy": "2024-12-22T12:40:04.800313Z",
     "iopub.status.idle": "2024-12-22T12:40:04.907075Z",
     "shell.execute_reply": "2024-12-22T12:40:04.906122Z",
     "shell.execute_reply.started": "2024-12-22T12:40:04.801530Z"
    },
    "id": "KyqoX1BNP75N",
    "tags": []
   },
   "outputs": [
    {
     "data": {
      "text/plain": [
       "polars.config.Config"
      ]
     },
     "execution_count": 1,
     "metadata": {},
     "output_type": "execute_result"
    }
   ],
   "source": [
    "import numpy as np\n",
    "import pandas as pd\n",
    "import polars as pl\n",
    "import matplotlib.pyplot as plt\n",
    "%matplotlib inline\n",
    "\n",
    "pd.set_option('display.max_rows', 100)\n",
    "pd.set_option('display.max_columns', 100)\n",
    "pl.Config().set_tbl_rows(100)\n",
    "pl.Config().set_tbl_cols(100)"
   ]
  },
  {
   "cell_type": "markdown",
   "metadata": {
    "id": "xvhLtt4OP75Q"
   },
   "source": [
    "#### __Задание 1.1  Сравнение методов__ (0.5 балла)\n",
    "\n"
   ]
  },
  {
   "cell_type": "markdown",
   "metadata": {
    "id": "LZw2aOq9P75O"
   },
   "source": [
    "Сгенерируем синтетические данные."
   ]
  },
  {
   "cell_type": "code",
   "execution_count": 2,
   "metadata": {
    "execution": {
     "iopub.execute_input": "2024-12-22T12:40:04.909506Z",
     "iopub.status.busy": "2024-12-22T12:40:04.908793Z",
     "iopub.status.idle": "2024-12-22T12:40:05.392286Z",
     "shell.execute_reply": "2024-12-22T12:40:05.391477Z",
     "shell.execute_reply.started": "2024-12-22T12:40:04.909449Z"
    },
    "id": "mqkczFrQP75P",
    "tags": []
   },
   "outputs": [],
   "source": [
    "from sklearn.datasets import make_classification\n",
    "from sklearn.model_selection import train_test_split\n",
    "\n",
    "# фиксируем random_state для воспроизводимости результатов\n",
    "X, y = make_classification(\n",
    "    n_samples=10000, n_features=10, n_informative=5, n_redundant=5, random_state=42\n",
    ")\n",
    "\n",
    "X_train, X_test, y_train, y_test = train_test_split(X, y, test_size=0.3, random_state=42)"
   ]
  },
  {
   "cell_type": "markdown",
   "metadata": {
    "id": "BdPx-lQbtaRe"
   },
   "source": [
    "__Случайный классификатор__\n",
    "\n",
    "Для начала зададим самую простую модель, которая на каждом объекте выдаёт случайный ответ. По тестовой выборке вычислим AUC-ROC, AUC-PR."
   ]
  },
  {
   "cell_type": "code",
   "execution_count": 3,
   "metadata": {
    "colab": {
     "base_uri": "https://localhost:8080/"
    },
    "execution": {
     "iopub.execute_input": "2024-12-22T12:40:05.395330Z",
     "iopub.status.busy": "2024-12-22T12:40:05.393281Z",
     "iopub.status.idle": "2024-12-22T12:40:05.439342Z",
     "shell.execute_reply": "2024-12-22T12:40:05.438424Z",
     "shell.execute_reply.started": "2024-12-22T12:40:05.395285Z"
    },
    "id": "5gcSglAOjVn-",
    "outputId": "fcd0a054-36ab-48a9-e116-3d8f07bef819",
    "tags": []
   },
   "outputs": [
    {
     "data": {
      "text/plain": [
       "array([0.5, 0.5, 0.5, ..., 0.5, 0.5, 0.5])"
      ]
     },
     "execution_count": 3,
     "metadata": {},
     "output_type": "execute_result"
    }
   ],
   "source": [
    "from sklearn.dummy import DummyClassifier\n",
    "random_classifier = DummyClassifier(strategy='uniform', random_state=42).fit(X_train, y_train)\n",
    "y_random = random_classifier.predict_proba(X_test)[:,1]\n",
    "y_random"
   ]
  },
  {
   "cell_type": "markdown",
   "metadata": {
    "id": "bUhBXPre7jNi"
   },
   "source": [
    "**Вопрос:** решаем задачу бинарной классификации, но y\\_random содержит какие-то дробные числа, а не 0/1. Почему?\n",
    "\n"
   ]
  },
  {
   "cell_type": "markdown",
   "metadata": {
    "id": "RpIDxyuHH1bt"
   },
   "source": [
    "**Ответ**: В массиве y_random содержатся дробные числа, потому что метод predict_proba возвращает вероятности принадлежности к каждому классу, а не сами классы (0 или 1)"
   ]
  },
  {
   "cell_type": "markdown",
   "metadata": {
    "id": "LnmZFwEYDVqx"
   },
   "source": [
    "*Ниже приведен **пример** работы* со встроенными функциями `sklearn` для отрисовки ROC и PR кривых, сохранения метрик. Пайплайн можно изменять как вам удобно."
   ]
  },
  {
   "cell_type": "code",
   "execution_count": 4,
   "metadata": {
    "execution": {
     "iopub.execute_input": "2024-12-22T12:40:05.442099Z",
     "iopub.status.busy": "2024-12-22T12:40:05.441346Z",
     "iopub.status.idle": "2024-12-22T12:40:05.493320Z",
     "shell.execute_reply": "2024-12-22T12:40:05.492385Z",
     "shell.execute_reply.started": "2024-12-22T12:40:05.442060Z"
    },
    "id": "gNJLhNj7DkLx",
    "tags": []
   },
   "outputs": [],
   "source": [
    "from sklearn.metrics import average_precision_score\n",
    "\n",
    "from sklearn.metrics import precision_recall_curve\n",
    "from sklearn.metrics import PrecisionRecallDisplay\n",
    "\n",
    "from sklearn.metrics import roc_auc_score\n",
    "from sklearn.metrics import RocCurveDisplay"
   ]
  },
  {
   "cell_type": "code",
   "execution_count": 5,
   "metadata": {
    "colab": {
     "base_uri": "https://localhost:8080/",
     "height": 561
    },
    "execution": {
     "iopub.execute_input": "2024-12-22T12:40:05.495867Z",
     "iopub.status.busy": "2024-12-22T12:40:05.495007Z",
     "iopub.status.idle": "2024-12-22T12:40:05.985758Z",
     "shell.execute_reply": "2024-12-22T12:40:05.984818Z",
     "shell.execute_reply.started": "2024-12-22T12:40:05.495807Z"
    },
    "id": "-WHELzN6_fsQ",
    "outputId": "a8231316-1d2a-4986-8fbe-53704b823f36",
    "tags": []
   },
   "outputs": [
    {
     "name": "stdout",
     "output_type": "stream",
     "text": [
      "Random Classifier metrics\n",
      "AUC-PR: 0.5057\n",
      "AUC-ROC: 0.5000\n"
     ]
    },
    {
     "data": {
      "image/png": "[encoded data removed]",
      "text/plain": [
       "<Figure size 1100x500 with 2 Axes>"
      ]
     },
     "metadata": {},
     "output_type": "display_data"
    }
   ],
   "source": [
    "def depict_pr_roc(y_true, y_pred, classifier_name='Some Classifier', ax=None):\n",
    "    if ax is None:\n",
    "        fig, ax = plt.subplots(1, 2, figsize=(11, 5))\n",
    "\n",
    "    print(classifier_name, 'metrics')\n",
    "    PrecisionRecallDisplay.from_predictions(y_true, y_pred, ax=ax[0], name=classifier_name)\n",
    "    print('AUC-PR: %.4f' % average_precision_score(y_true, y_pred))\n",
    "    ax[0].set_title(\"PRC\")\n",
    "    ax[0].set_ylim(0, 1.1)\n",
    "\n",
    "    RocCurveDisplay.from_predictions(y_true, y_pred, ax=ax[1], name=classifier_name)\n",
    "    print('AUC-ROC: %.4f' % roc_auc_score(y_true, y_pred))\n",
    "    ax[1].set_title(\"ROC\")\n",
    "    ax[1].set_ylim(0, 1.1)\n",
    "\n",
    "    plt.tight_layout()\n",
    "    plt.legend()\n",
    "\n",
    "\n",
    "depict_pr_roc(y_test, y_random, 'Random Classifier')"
   ]
  },
  {
   "cell_type": "code",
   "execution_count": 6,
   "metadata": {
    "colab": {
     "base_uri": "https://localhost:8080/",
     "height": 81
    },
    "execution": {
     "iopub.execute_input": "2024-12-22T12:40:05.988693Z",
     "iopub.status.busy": "2024-12-22T12:40:05.986765Z",
     "iopub.status.idle": "2024-12-22T12:40:06.018862Z",
     "shell.execute_reply": "2024-12-22T12:40:06.017907Z",
     "shell.execute_reply.started": "2024-12-22T12:40:05.988635Z"
    },
    "id": "pSugCdAAEF2z",
    "outputId": "0841a6fb-17a8-4890-8f22-7f175fe222fb",
    "tags": []
   },
   "outputs": [
    {
     "data": {
      "text/html": [
       "<div>\n",
       "<style scoped>\n",
       "    .dataframe tbody tr th:only-of-type {\n",
       "        vertical-align: middle;\n",
       "    }\n",
       "\n",
       "    .dataframe tbody tr th {\n",
       "        vertical-align: top;\n",
       "    }\n",
       "\n",
       "    .dataframe thead th {\n",
       "        text-align: right;\n",
       "    }\n",
       "</style>\n",
       "<table border=\"1\" class=\"dataframe\">\n",
       "  <thead>\n",
       "    <tr style=\"text-align: right;\">\n",
       "      <th></th>\n",
       "      <th>auc_pr</th>\n",
       "      <th>roc_auc_score</th>\n",
       "      <th>reg_const</th>\n",
       "    </tr>\n",
       "  </thead>\n",
       "  <tbody>\n",
       "    <tr>\n",
       "      <th>Random Classifier</th>\n",
       "      <td>0.505667</td>\n",
       "      <td>0.5</td>\n",
       "      <td>0.0</td>\n",
       "    </tr>\n",
       "  </tbody>\n",
       "</table>\n",
       "</div>"
      ],
      "text/plain": [
       "                     auc_pr  roc_auc_score  reg_const\n",
       "Random Classifier  0.505667            0.5        0.0"
      ]
     },
     "execution_count": 6,
     "metadata": {},
     "output_type": "execute_result"
    }
   ],
   "source": [
    "# dataframe для сравнения\n",
    "# методов классификации по метрикам\n",
    "df_metrics = pd.DataFrame(\n",
    "    columns=['auc_pr', 'roc_auc_score', 'reg_const']\n",
    ")\n",
    "precision, recall, _ = precision_recall_curve(y_test, y_random)\n",
    "# добавление очередной строки с характеристиками метода\n",
    "df_metrics.loc['Random Classifier'] = [\n",
    "      average_precision_score(y_test, y_random),\n",
    "      roc_auc_score(y_test, y_random),\n",
    "      0,\n",
    "]\n",
    "\n",
    "# по аналогии результаты следующих экспериментов можно будет собрать в табличку\n",
    "df_metrics"
   ]
  },
  {
   "cell_type": "markdown",
   "metadata": {
    "id": "9IwDobmQtW2P"
   },
   "source": [
    "__Support Vector Machine (Linear Kernel)__\n",
    "\n",
    "Обучите метод опорных векторов.\n",
    "\n",
    "Подберите параметр регуляризации `C` с точки зрения AUC-PR (можете воспользоваться кросс-валидацией или отделить валидационную выборку от обучающей).\n"
   ]
  },
  {
   "cell_type": "code",
   "execution_count": 7,
   "metadata": {
    "execution": {
     "iopub.execute_input": "2024-12-22T12:40:06.021647Z",
     "iopub.status.busy": "2024-12-22T12:40:06.020088Z",
     "iopub.status.idle": "2024-12-22T12:40:06.067008Z",
     "shell.execute_reply": "2024-12-22T12:40:06.066070Z",
     "shell.execute_reply.started": "2024-12-22T12:40:06.021608Z"
    },
    "id": "eyjF-qc3P75Q",
    "tags": []
   },
   "outputs": [],
   "source": [
    "from sklearn.svm import LinearSVC\n",
    "from sklearn.model_selection import GridSearchCV\n",
    "#from sklearn.pipeline import Pipeline\n",
    "#from sklearn.preprocessing import StandardScaler\n",
    "\n"
   ]
  },
  {
   "cell_type": "code",
   "execution_count": 8,
   "metadata": {
    "execution": {
     "iopub.execute_input": "2024-12-22T12:40:06.069064Z",
     "iopub.status.busy": "2024-12-22T12:40:06.067987Z",
     "iopub.status.idle": "2024-12-22T12:40:55.725022Z",
     "shell.execute_reply": "2024-12-22T12:40:55.724226Z",
     "shell.execute_reply.started": "2024-12-22T12:40:06.069023Z"
    },
    "tags": []
   },
   "outputs": [
    {
     "name": "stdout",
     "output_type": "stream",
     "text": [
      "Fitting 5 folds for each of 20 candidates, totalling 100 fits\n",
      "Лучший параметр C: 0.10526315798421051\n"
     ]
    }
   ],
   "source": [
    "parameter_grid = np.linspace(1e-10, 1, 20)  \n",
    "param_grid = {'C': parameter_grid}\n",
    "\n",
    "def custom_pr_auc(estimator, X, y):\n",
    "    y_pred = estimator.decision_function(X)\n",
    "    return average_precision_score(y, y_pred)\n",
    "\n",
    "model = LinearSVC(\n",
    "    max_iter=10000,\n",
    "    random_state=42,\n",
    "    dual=True,\n",
    "    tol=1e-4,\n",
    ")\n",
    "\n",
    "\n",
    "grid_search = GridSearchCV(\n",
    "    model,\n",
    "    param_grid=param_grid,\n",
    "    scoring=custom_pr_auc,\n",
    "    cv=5,\n",
    "    verbose=1,\n",
    ")\n",
    "\n",
    "svm_classifier = grid_search.fit(X_train, y_train)\n",
    "best_C = svm_classifier.best_params_['C']\n",
    "\n",
    "print(f\"Лучший параметр C: {best_C}\")\n",
    "\n"
   ]
  },
  {
   "cell_type": "markdown",
   "metadata": {
    "id": "fapa63xlP75R"
   },
   "source": [
    "  На тестовой части:\n",
    "  - постройте ROC и PR кривые,\n",
    "  - посчитайте AUC-ROC, AUC-PR"
   ]
  },
  {
   "cell_type": "code",
   "execution_count": 9,
   "metadata": {
    "execution": {
     "iopub.execute_input": "2024-12-22T12:40:55.727184Z",
     "iopub.status.busy": "2024-12-22T12:40:55.726082Z",
     "iopub.status.idle": "2024-12-22T12:40:56.283101Z",
     "shell.execute_reply": "2024-12-22T12:40:56.282145Z",
     "shell.execute_reply.started": "2024-12-22T12:40:55.727144Z"
    },
    "id": "xTvNT5uRP75S",
    "tags": []
   },
   "outputs": [
    {
     "name": "stdout",
     "output_type": "stream",
     "text": [
      "AUC-ROC: 0.84765\n",
      "AUC-PR: 0.82995\n"
     ]
    },
    {
     "data": {
      "image/png": "[encoded data removed]",
      "text/plain": [
       "<Figure size 1200x600 with 2 Axes>"
      ]
     },
     "metadata": {},
     "output_type": "display_data"
    }
   ],
   "source": [
    "from scipy.special import expit\n",
    "\n",
    "fig, ax = plt.subplots(1, 2, figsize=(12, 6))\n",
    "\n",
    "svm_classifier = LinearSVC(\n",
    "    C=best_C,             \n",
    "    random_state=42,   \n",
    "    max_iter=10000,        \n",
    "    dual=True              \n",
    ")\n",
    "\n",
    "svm_classifier.fit(X_train, y_train)\n",
    "\n",
    "decision_scores = svm_classifier.decision_function(X_test)\n",
    "y_pred_probs = expit(decision_scores)\n",
    "\n",
    "auc_roc = roc_auc_score(y_test, y_pred_probs)\n",
    "auc_pr = average_precision_score(y_test, y_pred_probs)\n",
    "print(f\"AUC-ROC: {auc_roc:.5f}\")\n",
    "print(f\"AUC-PR: {auc_pr:.5f}\")\n",
    "\n",
    "RocCurveDisplay.from_predictions(y_test, y_pred_probs, ax=ax[0], name=\"ROC Curve\")\n",
    "ax[0].set_title(\"ROC Curve\")\n",
    "ax[0].set_xlabel(\"False Positive Rate\")\n",
    "ax[0].set_ylabel(\"True Positive Rate\")\n",
    "\n",
    "PrecisionRecallDisplay.from_predictions(y_test, y_pred_probs, ax=ax[1], name=\"PR Curve\")\n",
    "ax[1].set_title(\"Precision-Recall Curve\")\n",
    "ax[1].set_xlabel(\"Recall\")\n",
    "ax[1].set_ylabel(\"Precision\")\n",
    "\n",
    "plt.tight_layout()\n",
    "plt.show()\n"
   ]
  },
  {
   "cell_type": "markdown",
   "metadata": {
    "id": "FTvgDyaFhkYz"
   },
   "source": [
    "Проанализируйте, как себя ведут обе кривые:\n",
    "- Что происходит при увеличении порога? Как бы вы это проинтерпретировали?\n",
    "- Монотонные ли кривые? Как вы это объясните?"
   ]
  },
  {
   "cell_type": "markdown",
   "metadata": {},
   "source": [
    "ОТВЕТ:\n",
    "\n",
    "ROC Curve:\n",
    "Увеличение порога приводит к снижению True Positive Rate, тк модель начинает предсказывать меньше положительных классов.\n",
    "False Positive Rate тоже уменьшается, так как уменьшается количество ложно положительных объектов.\n",
    "\n",
    "ROC-кривая монотонно растет, тк с увеличением порога TPR и FPR меняются вместе\n",
    "\n",
    "PR-кривая:\n",
    "\n",
    "Увеличение порога приводит к снижению полноты, тк модель предсказывает меньше положительных объектов.\n",
    "Однако точность сначала растет, а затем начинает снижаться, тк меньше объектов классифицируются как положительные.\n",
    "\n",
    "PR-кривая не монотонна. Это нормально, тк Precision и Recall могут изменяться независимо друг от друга при разных порогах\n",
    "\n",
    "\n"
   ]
  },
  {
   "cell_type": "markdown",
   "metadata": {
    "id": "tEoGp5EDtIzW"
   },
   "source": [
    "Сравните AUC-ROC и AUC-PR для вашей модели с этими же метриками для случайного классификатора."
   ]
  },
  {
   "cell_type": "code",
   "execution_count": 10,
   "metadata": {
    "execution": {
     "iopub.execute_input": "2024-12-22T12:40:56.287803Z",
     "iopub.status.busy": "2024-12-22T12:40:56.286697Z",
     "iopub.status.idle": "2024-12-22T12:40:56.378911Z",
     "shell.execute_reply": "2024-12-22T12:40:56.378003Z",
     "shell.execute_reply.started": "2024-12-22T12:40:56.287764Z"
    },
    "id": "wnRTMhsm6Hvv",
    "tags": []
   },
   "outputs": [
    {
     "data": {
      "text/html": [
       "<div>\n",
       "<style scoped>\n",
       "    .dataframe tbody tr th:only-of-type {\n",
       "        vertical-align: middle;\n",
       "    }\n",
       "\n",
       "    .dataframe tbody tr th {\n",
       "        vertical-align: top;\n",
       "    }\n",
       "\n",
       "    .dataframe thead th {\n",
       "        text-align: right;\n",
       "    }\n",
       "</style>\n",
       "<table border=\"1\" class=\"dataframe\">\n",
       "  <thead>\n",
       "    <tr style=\"text-align: right;\">\n",
       "      <th></th>\n",
       "      <th>auc_pr</th>\n",
       "      <th>roc_auc_score</th>\n",
       "      <th>reg_const</th>\n",
       "    </tr>\n",
       "  </thead>\n",
       "  <tbody>\n",
       "    <tr>\n",
       "      <th>Random Classifier</th>\n",
       "      <td>0.505667</td>\n",
       "      <td>0.500000</td>\n",
       "      <td>0.000000</td>\n",
       "    </tr>\n",
       "    <tr>\n",
       "      <th>SVM Linear Classifier</th>\n",
       "      <td>0.829951</td>\n",
       "      <td>0.847652</td>\n",
       "      <td>0.105263</td>\n",
       "    </tr>\n",
       "  </tbody>\n",
       "</table>\n",
       "</div>"
      ],
      "text/plain": [
       "                         auc_pr  roc_auc_score  reg_const\n",
       "Random Classifier      0.505667       0.500000   0.000000\n",
       "SVM Linear Classifier  0.829951       0.847652   0.105263"
      ]
     },
     "execution_count": 10,
     "metadata": {},
     "output_type": "execute_result"
    }
   ],
   "source": [
    "df_metrics = pd.DataFrame(columns=['auc_pr', 'roc_auc_score', 'reg_const'])\n",
    "\n",
    "precision, recall, _ = precision_recall_curve(y_test, y_random)\n",
    "df_metrics.loc['Random Classifier'] = [\n",
    "    average_precision_score(y_test, y_random),\n",
    "    roc_auc_score(y_test, y_random),\n",
    "    0,\n",
    "]\n",
    "\n",
    "precision, recall, _ = precision_recall_curve(y_test, y_pred_probs)\n",
    "df_metrics.loc['SVM Linear Classifier'] = [\n",
    "    average_precision_score(y_test, y_pred_probs),\n",
    "    roc_auc_score(y_test, y_pred_probs),\n",
    "    best_C,  \n",
    "]\n",
    "\n",
    "df_metrics"
   ]
  },
  {
   "cell_type": "markdown",
   "metadata": {
    "id": "Ln5VaZE_P75S"
   },
   "source": [
    "__Logistic Regression__\n",
    "\n",
    "\n",
    "Аналогичное задание для логистической регрессии с L2 регуляризатором:\n",
    "\n",
    "\n",
    "*   подберите гиперпараметр C, используя метрику AUC-PR\n",
    "*   нарисуйте ROC, PR кривые для тестовой части\n",
    "*   выведите метрики для тестовых данных и сравните их с результатами случайного классификатора\n",
    "\n"
   ]
  },
  {
   "cell_type": "code",
   "execution_count": 11,
   "metadata": {
    "execution": {
     "iopub.execute_input": "2024-12-22T12:40:56.381101Z",
     "iopub.status.busy": "2024-12-22T12:40:56.379939Z",
     "iopub.status.idle": "2024-12-22T12:40:57.494767Z",
     "shell.execute_reply": "2024-12-22T12:40:57.493851Z",
     "shell.execute_reply.started": "2024-12-22T12:40:56.381059Z"
    },
    "id": "r1TlamoBP75S",
    "tags": []
   },
   "outputs": [
    {
     "name": "stdout",
     "output_type": "stream",
     "text": [
      "Лучший параметр C для логистической регрессии: 0.07894736851578947\n"
     ]
    }
   ],
   "source": [
    "from sklearn.linear_model import LogisticRegression\n",
    "\n",
    "parameter_grid_LR = np.linspace(1e-10, 1.5, 20)  \n",
    "param_grid_LR = {'C': parameter_grid_LR}\n",
    "\n",
    "model_LR = LogisticRegression( \n",
    "    penalty='l2',\n",
    "    random_state=42,    \n",
    "    max_iter=10000,    \n",
    "    n_jobs=1    \n",
    ")\n",
    "\n",
    "def custom_pr_auc_LR(estimator, X, y):\n",
    "    y_pred = estimator.predict_proba(X)[:, 1]\n",
    "    return average_precision_score(y, y_pred)\n",
    "\n",
    "grid_search_LR = GridSearchCV(\n",
    "    model_LR,         \n",
    "    param_grid=param_grid_LR,    \n",
    "    scoring=custom_pr_auc_LR,    \n",
    "    cv=5,                    \n",
    ")\n",
    "\n",
    "logreg_classifier = grid_search_LR.fit(X_train, y_train)\n",
    "\n",
    "best_C_LR = logreg_classifier.best_params_['C']\n",
    "\n",
    "print(f\"Лучший параметр C для логистической регрессии: {best_C_LR}\")"
   ]
  },
  {
   "cell_type": "code",
   "execution_count": 12,
   "metadata": {
    "execution": {
     "iopub.execute_input": "2024-12-22T12:40:57.497298Z",
     "iopub.status.busy": "2024-12-22T12:40:57.496479Z",
     "iopub.status.idle": "2024-12-22T12:40:57.937878Z",
     "shell.execute_reply": "2024-12-22T12:40:57.936866Z",
     "shell.execute_reply.started": "2024-12-22T12:40:57.497246Z"
    },
    "tags": []
   },
   "outputs": [
    {
     "name": "stdout",
     "output_type": "stream",
     "text": [
      "AUC-ROC: 0.84784\n",
      "AUC-PR: 0.82944\n"
     ]
    },
    {
     "data": {
      "image/png": "[encoded data removed]",
      "text/plain": [
       "<Figure size 1200x600 with 2 Axes>"
      ]
     },
     "metadata": {},
     "output_type": "display_data"
    }
   ],
   "source": [
    "fig, ax = plt.subplots(1, 2, figsize=(12, 6))\n",
    "logreg_classifier = LogisticRegression(\n",
    "    C=best_C_LR,               \n",
    "    penalty='l2',          \n",
    "    random_state=42,         \n",
    "    max_iter=10000         \n",
    ")\n",
    "\n",
    "logreg_classifier.fit(X_train, y_train)\n",
    "\n",
    "y_pred_probs_LR = logreg_classifier.predict_proba(X_test)[:, 1]\n",
    "\n",
    "auc_roc_LR = roc_auc_score(y_test, y_pred_probs_LR)\n",
    "auc_pr_LR = average_precision_score(y_test, y_pred_probs_LR)\n",
    "print(f\"AUC-ROC: {auc_roc_LR:.5f}\")\n",
    "print(f\"AUC-PR: {auc_pr_LR:.5f}\")\n",
    "\n",
    "RocCurveDisplay.from_predictions(y_test, y_pred_probs_LR, ax=ax[0], name=\"ROC Curve\")\n",
    "ax[0].set_title(\"ROC Curve\")\n",
    "ax[0].set_xlabel(\"False Positive Rate\")\n",
    "ax[0].set_ylabel(\"True Positive Rate\")\n",
    "\n",
    "PrecisionRecallDisplay.from_predictions(y_test, y_pred_probs_LR, ax=ax[1], name=\"PR Curve\")\n",
    "ax[1].set_title(\"Precision-Recall Curve\")\n",
    "ax[1].set_xlabel(\"Recall\")\n",
    "ax[1].set_ylabel(\"Precision\")\n",
    "\n",
    "plt.tight_layout()\n",
    "plt.show()"
   ]
  },
  {
   "cell_type": "code",
   "execution_count": 13,
   "metadata": {
    "execution": {
     "iopub.execute_input": "2024-12-22T12:40:57.940027Z",
     "iopub.status.busy": "2024-12-22T12:40:57.939208Z",
     "iopub.status.idle": "2024-12-22T12:40:57.955830Z",
     "shell.execute_reply": "2024-12-22T12:40:57.955121Z",
     "shell.execute_reply.started": "2024-12-22T12:40:57.939989Z"
    },
    "tags": []
   },
   "outputs": [
    {
     "data": {
      "text/html": [
       "<div>\n",
       "<style scoped>\n",
       "    .dataframe tbody tr th:only-of-type {\n",
       "        vertical-align: middle;\n",
       "    }\n",
       "\n",
       "    .dataframe tbody tr th {\n",
       "        vertical-align: top;\n",
       "    }\n",
       "\n",
       "    .dataframe thead th {\n",
       "        text-align: right;\n",
       "    }\n",
       "</style>\n",
       "<table border=\"1\" class=\"dataframe\">\n",
       "  <thead>\n",
       "    <tr style=\"text-align: right;\">\n",
       "      <th></th>\n",
       "      <th>auc_pr</th>\n",
       "      <th>roc_auc_score</th>\n",
       "      <th>reg_const</th>\n",
       "    </tr>\n",
       "  </thead>\n",
       "  <tbody>\n",
       "    <tr>\n",
       "      <th>Random Classifier</th>\n",
       "      <td>0.505667</td>\n",
       "      <td>0.500000</td>\n",
       "      <td>0.000000</td>\n",
       "    </tr>\n",
       "    <tr>\n",
       "      <th>SVM Linear Classifier</th>\n",
       "      <td>0.829951</td>\n",
       "      <td>0.847652</td>\n",
       "      <td>0.105263</td>\n",
       "    </tr>\n",
       "    <tr>\n",
       "      <th>Logistic Regression</th>\n",
       "      <td>0.829440</td>\n",
       "      <td>0.847838</td>\n",
       "      <td>0.078947</td>\n",
       "    </tr>\n",
       "  </tbody>\n",
       "</table>\n",
       "</div>"
      ],
      "text/plain": [
       "                         auc_pr  roc_auc_score  reg_const\n",
       "Random Classifier      0.505667       0.500000   0.000000\n",
       "SVM Linear Classifier  0.829951       0.847652   0.105263\n",
       "Logistic Regression    0.829440       0.847838   0.078947"
      ]
     },
     "execution_count": 13,
     "metadata": {},
     "output_type": "execute_result"
    }
   ],
   "source": [
    "df_metrics.loc['Logistic Regression'] = [\n",
    "    auc_pr_LR, \n",
    "    auc_roc_LR, \n",
    "    best_C_LR    \n",
    "]\n",
    "df_metrics"
   ]
  },
  {
   "cell_type": "markdown",
   "metadata": {
    "id": "Gnj5PG1Rm5qX"
   },
   "source": [
    "Нарисуйте ROC, PR кривые для тестовой части для всех 3 классификаторов на одном графике"
   ]
  },
  {
   "cell_type": "code",
   "execution_count": 14,
   "metadata": {
    "execution": {
     "iopub.execute_input": "2024-12-22T12:40:57.957337Z",
     "iopub.status.busy": "2024-12-22T12:40:57.956848Z",
     "iopub.status.idle": "2024-12-22T12:40:58.502574Z",
     "shell.execute_reply": "2024-12-22T12:40:58.501604Z",
     "shell.execute_reply.started": "2024-12-22T12:40:57.957302Z"
    },
    "id": "X3BaXTRBnAwK",
    "tags": []
   },
   "outputs": [
    {
     "data": {
      "image/png": "[encoded data removed]",
      "text/plain": [
       "<Figure size 1200x600 with 2 Axes>"
      ]
     },
     "metadata": {},
     "output_type": "display_data"
    }
   ],
   "source": [
    "fig, ax = plt.subplots(1, 2, figsize=(12, 6))\n",
    "\n",
    "def depict_pr_roc(y_true, y_pred, classifier_name, ax):\n",
    "    RocCurveDisplay.from_predictions(y_true, y_pred, ax=ax[0], name=classifier_name)\n",
    "    PrecisionRecallDisplay.from_predictions(y_true, y_pred, ax=ax[1], name=classifier_name)\n",
    "\n",
    "depict_pr_roc(y_test, y_pred_probs_LR, \"Logistic Regression\", ax)\n",
    "depict_pr_roc(y_test, y_pred_probs, \"SVM Classifier\", ax)\n",
    "depict_pr_roc(y_test, y_random, \"Random Classifier\", ax)\n",
    "\n",
    "ax[0].set_title(\"ROC Curve\")\n",
    "ax[0].set_xlabel(\"False Positive Rate\")\n",
    "ax[0].set_ylabel(\"True Positive Rate\")\n",
    "ax[1].set_title(\"Precision-Recall Curve\")\n",
    "ax[1].set_xlabel(\"Recall\")\n",
    "ax[1].set_ylabel(\"Precision\")\n",
    "plt.tight_layout()\n",
    "plt.legend()\n",
    "plt.show()\n"
   ]
  },
  {
   "cell_type": "markdown",
   "metadata": {
    "id": "khlorKXtr1Sy"
   },
   "source": [
    "**Вопрос:** Сравните результаты LR и SVM с точки зрения всех вычисленных критериев качества, объясните различия (если они есть).\n",
    "\n"
   ]
  },
  {
   "cell_type": "markdown",
   "metadata": {
    "id": "Un_w7BMZIAf2"
   },
   "source": [
    "**Ответ:** различий почти нет "
   ]
  },
  {
   "cell_type": "markdown",
   "metadata": {
    "id": "RvWzOe4wP75T"
   },
   "source": [
    "#### __Задание 1.2. Визуализация в подходах SVM, LR__ (0.5 балла)\n",
    "\n"
   ]
  },
  {
   "cell_type": "markdown",
   "metadata": {
    "id": "kWS1NfYwBbQ_"
   },
   "source": [
    "В названии метода опорных векторов присутствуют некоторые \"опорные векторы\". По сути, это объекты из обучающей выборки, которые задали положение разделяющей гиперплоскости.\n",
    "\n",
    "* Сгенерируйте синтетические данные с помощью `make_classification` __с 2 признаками__, обучите на нём метод опорных векторов. Не забудьте зафиксировать seed для воспроизводимости\n",
    "\n",
    "* Визуализируйте разделяющую прямую, все объекты и выделите опорные векторы. Ниже есть шаблоны, можете воспользоваться ими, либо написать своё"
   ]
  },
  {
   "cell_type": "code",
   "execution_count": 15,
   "metadata": {
    "execution": {
     "iopub.execute_input": "2024-12-22T12:40:58.506619Z",
     "iopub.status.busy": "2024-12-22T12:40:58.505194Z",
     "iopub.status.idle": "2024-12-22T12:40:58.532346Z",
     "shell.execute_reply": "2024-12-22T12:40:58.531542Z",
     "shell.execute_reply.started": "2024-12-22T12:40:58.506558Z"
    },
    "id": "qIS-aGxi-Nr0",
    "tags": []
   },
   "outputs": [
    {
     "data": {
      "text/html": [
       "<style>#sk-container-id-1 {color: black;background-color: white;}#sk-container-id-1 pre{padding: 0;}#sk-container-id-1 div.sk-toggleable {background-color: white;}#sk-container-id-1 label.sk-toggleable__label {cursor: pointer;display: block;width: 100%;margin-bottom: 0;padding: 0.3em;box-sizing: border-box;text-align: center;}#sk-container-id-1 label.sk-toggleable__label-arrow:before {content: \"▸\";float: left;margin-right: 0.25em;color: #696969;}#sk-container-id-1 label.sk-toggleable__label-arrow:hover:before {color: black;}#sk-container-id-1 div.sk-estimator:hover label.sk-toggleable__label-arrow:before {color: black;}#sk-container-id-1 div.sk-toggleable__content {max-height: 0;max-width: 0;overflow: hidden;text-align: left;background-color: #f0f8ff;}#sk-container-id-1 div.sk-toggleable__content pre {margin: 0.2em;color: black;border-radius: 0.25em;background-color: #f0f8ff;}#sk-container-id-1 input.sk-toggleable__control:checked~div.sk-toggleable__content {max-height: 200px;max-width: 100%;overflow: auto;}#sk-container-id-1 input.sk-toggleable__control:checked~label.sk-toggleable__label-arrow:before {content: \"▾\";}#sk-container-id-1 div.sk-estimator input.sk-toggleable__control:checked~label.sk-toggleable__label {background-color: #d4ebff;}#sk-container-id-1 div.sk-label input.sk-toggleable__control:checked~label.sk-toggleable__label {background-color: #d4ebff;}#sk-container-id-1 input.sk-hidden--visually {border: 0;clip: rect(1px 1px 1px 1px);clip: rect(1px, 1px, 1px, 1px);height: 1px;margin: -1px;overflow: hidden;padding: 0;position: absolute;width: 1px;}#sk-container-id-1 div.sk-estimator {font-family: monospace;background-color: #f0f8ff;border: 1px dotted black;border-radius: 0.25em;box-sizing: border-box;margin-bottom: 0.5em;}#sk-container-id-1 div.sk-estimator:hover {background-color: #d4ebff;}#sk-container-id-1 div.sk-parallel-item::after {content: \"\";width: 100%;border-bottom: 1px solid gray;flex-grow: 1;}#sk-container-id-1 div.sk-label:hover label.sk-toggleable__label {background-color: #d4ebff;}#sk-container-id-1 div.sk-serial::before {content: \"\";position: absolute;border-left: 1px solid gray;box-sizing: border-box;top: 0;bottom: 0;left: 50%;z-index: 0;}#sk-container-id-1 div.sk-serial {display: flex;flex-direction: column;align-items: center;background-color: white;padding-right: 0.2em;padding-left: 0.2em;position: relative;}#sk-container-id-1 div.sk-item {position: relative;z-index: 1;}#sk-container-id-1 div.sk-parallel {display: flex;align-items: stretch;justify-content: center;background-color: white;position: relative;}#sk-container-id-1 div.sk-item::before, #sk-container-id-1 div.sk-parallel-item::before {content: \"\";position: absolute;border-left: 1px solid gray;box-sizing: border-box;top: 0;bottom: 0;left: 50%;z-index: -1;}#sk-container-id-1 div.sk-parallel-item {display: flex;flex-direction: column;z-index: 1;position: relative;background-color: white;}#sk-container-id-1 div.sk-parallel-item:first-child::after {align-self: flex-end;width: 50%;}#sk-container-id-1 div.sk-parallel-item:last-child::after {align-self: flex-start;width: 50%;}#sk-container-id-1 div.sk-parallel-item:only-child::after {width: 0;}#sk-container-id-1 div.sk-dashed-wrapped {border: 1px dashed gray;margin: 0 0.4em 0.5em 0.4em;box-sizing: border-box;padding-bottom: 0.4em;background-color: white;}#sk-container-id-1 div.sk-label label {font-family: monospace;font-weight: bold;display: inline-block;line-height: 1.2em;}#sk-container-id-1 div.sk-label-container {text-align: center;}#sk-container-id-1 div.sk-container {/* jupyter's `normalize.less` sets `[hidden] { display: none; }` but bootstrap.min.css set `[hidden] { display: none !important; }` so we also need the `!important` here to be able to override the default hidden behavior on the sphinx rendered scikit-learn.org. See: https://github.com/scikit-learn/scikit-learn/issues/21755 */display: inline-block !important;position: relative;}#sk-container-id-1 div.sk-text-repr-fallback {display: none;}</style><div id=\"sk-container-id-1\" class=\"sk-top-container\"><div class=\"sk-text-repr-fallback\"><pre>SVC(C=0.10526315798421051, kernel=&#x27;linear&#x27;, random_state=42)</pre><b>In a Jupyter environment, please rerun this cell to show the HTML representation or trust the notebook. <br />On GitHub, the HTML representation is unable to render, please try loading this page with nbviewer.org.</b></div><div class=\"sk-container\" hidden><div class=\"sk-item\"><div class=\"sk-estimator sk-toggleable\"><input class=\"sk-toggleable__control sk-hidden--visually\" id=\"sk-estimator-id-1\" type=\"checkbox\" checked><label for=\"sk-estimator-id-1\" class=\"sk-toggleable__label sk-toggleable__label-arrow\">SVC</label><div class=\"sk-toggleable__content\"><pre>SVC(C=0.10526315798421051, kernel=&#x27;linear&#x27;, random_state=42)</pre></div></div></div></div></div>"
      ],
      "text/plain": [
       "SVC(C=0.10526315798421051, kernel='linear', random_state=42)"
      ]
     },
     "execution_count": 15,
     "metadata": {},
     "output_type": "execute_result"
    }
   ],
   "source": [
    "from sklearn.svm import SVC\n",
    "X, y = make_classification(\n",
    "    n_samples=1000,  \n",
    "    n_features=2,           \n",
    "    n_classes=2,     \n",
    "    n_informative=2,  \n",
    "    n_redundant=0,      \n",
    "    random_state=42     \n",
    ")\n",
    "X_train, X_test, y_train, y_test = train_test_split(X, y, test_size=0.3, random_state=42)\n",
    "\n",
    "model = SVC(kernel='linear', C=best_C, random_state=42)\n",
    "\n",
    "model.fit(X_train, y_train)\n"
   ]
  },
  {
   "cell_type": "code",
   "execution_count": 16,
   "metadata": {
    "colab": {
     "base_uri": "https://localhost:8080/",
     "height": 108
    },
    "execution": {
     "iopub.execute_input": "2024-12-22T12:40:58.534139Z",
     "iopub.status.busy": "2024-12-22T12:40:58.533543Z",
     "iopub.status.idle": "2024-12-22T12:40:58.867246Z",
     "shell.execute_reply": "2024-12-22T12:40:58.866442Z",
     "shell.execute_reply.started": "2024-12-22T12:40:58.534087Z"
    },
    "id": "9jA3GbO9-wcU",
    "outputId": "97672099-52da-48cb-824a-88db5744d87c",
    "tags": []
   },
   "outputs": [
    {
     "data": {
      "image/png": "[encoded data removed]",
      "text/plain": [
       "<Figure size 640x480 with 1 Axes>"
      ]
     },
     "metadata": {},
     "output_type": "display_data"
    }
   ],
   "source": [
    "def plot_svm_2D(X, y, model,  plot_support=True):\n",
    "\n",
    "    # создали сетку\n",
    "    xx = np.linspace(X[:,0].min(), X[:,0].max(), 30)\n",
    "    yy = np.linspace(X[:,1].min(), X[:,1].max(), 30)\n",
    "    YY, XX = np.meshgrid(yy, xx)\n",
    "    xy = np.vstack([XX.ravel(), YY.ravel()]).T\n",
    "\n",
    "    # Ответы модели для сетки для отрисовки разделяющей прямой\n",
    "    Z = model.decision_function(xy).reshape(XX.shape)\n",
    "\n",
    "    plt.contour(XX, YY, Z, colors='k', levels=[-1, 0, 1], alpha=0.5, linestyles=['--', '-', '--'])\n",
    "\n",
    "    # Отрисовали выборку\n",
    "    plt.scatter(\n",
    "        X[:, 0], X[:, 1], c=y, cmap=plt.cm.bwr, s=50, edgecolors='k'\n",
    "    )\n",
    "\n",
    "    # Отрисовали опорные векторы\n",
    "    if plot_support:\n",
    "        plt.scatter(\n",
    "            model.support_vectors_[:, 0], model.support_vectors_[:, 1],\n",
    "            label='support vectors',\n",
    "            s=100,\n",
    "            linewidth=1,\n",
    "            edgecolor=\"blue\",\n",
    "            facecolors='none'\n",
    "        )\n",
    "\n",
    "    plt.legend()\n",
    "    plt.show()\n",
    "\n",
    "plot_svm_2D(X_train, y_train, model)"
   ]
  },
  {
   "cell_type": "markdown",
   "metadata": {
    "id": "gdMs4iQAIYpu"
   },
   "source": [
    "**Вопрос:** какие объекты выделяются как \"опорные\"?\n",
    "\n"
   ]
  },
  {
   "cell_type": "markdown",
   "metadata": {
    "id": "dplr4chfIXnm"
   },
   "source": [
    "**Ответ:** опорные векторы — это те объекты, которые задают положение и наклон разделяющей гиперплоскости, определяя максимальный возможный отступ между классами"
   ]
  },
  {
   "cell_type": "markdown",
   "metadata": {
    "id": "gfpVN70PP75U"
   },
   "source": [
    "В отличие от метода опорных векторов, логистическая регрессия не пытается построить разделяющую гиперплоскость с максимальным отступом, а приближает в каждой точке пространства объектов вероятность положительных ответов $p(y=+1|x)$. Попробуйте нарисовать это распределение на плоскости, не забудьте отметить на ней все объекты."
   ]
  },
  {
   "cell_type": "code",
   "execution_count": 17,
   "metadata": {
    "execution": {
     "iopub.execute_input": "2024-12-22T12:40:58.869003Z",
     "iopub.status.busy": "2024-12-22T12:40:58.868376Z",
     "iopub.status.idle": "2024-12-22T12:40:58.883808Z",
     "shell.execute_reply": "2024-12-22T12:40:58.883139Z",
     "shell.execute_reply.started": "2024-12-22T12:40:58.868966Z"
    },
    "tags": []
   },
   "outputs": [
    {
     "data": {
      "text/html": [
       "<style>#sk-container-id-2 {color: black;background-color: white;}#sk-container-id-2 pre{padding: 0;}#sk-container-id-2 div.sk-toggleable {background-color: white;}#sk-container-id-2 label.sk-toggleable__label {cursor: pointer;display: block;width: 100%;margin-bottom: 0;padding: 0.3em;box-sizing: border-box;text-align: center;}#sk-container-id-2 label.sk-toggleable__label-arrow:before {content: \"▸\";float: left;margin-right: 0.25em;color: #696969;}#sk-container-id-2 label.sk-toggleable__label-arrow:hover:before {color: black;}#sk-container-id-2 div.sk-estimator:hover label.sk-toggleable__label-arrow:before {color: black;}#sk-container-id-2 div.sk-toggleable__content {max-height: 0;max-width: 0;overflow: hidden;text-align: left;background-color: #f0f8ff;}#sk-container-id-2 div.sk-toggleable__content pre {margin: 0.2em;color: black;border-radius: 0.25em;background-color: #f0f8ff;}#sk-container-id-2 input.sk-toggleable__control:checked~div.sk-toggleable__content {max-height: 200px;max-width: 100%;overflow: auto;}#sk-container-id-2 input.sk-toggleable__control:checked~label.sk-toggleable__label-arrow:before {content: \"▾\";}#sk-container-id-2 div.sk-estimator input.sk-toggleable__control:checked~label.sk-toggleable__label {background-color: #d4ebff;}#sk-container-id-2 div.sk-label input.sk-toggleable__control:checked~label.sk-toggleable__label {background-color: #d4ebff;}#sk-container-id-2 input.sk-hidden--visually {border: 0;clip: rect(1px 1px 1px 1px);clip: rect(1px, 1px, 1px, 1px);height: 1px;margin: -1px;overflow: hidden;padding: 0;position: absolute;width: 1px;}#sk-container-id-2 div.sk-estimator {font-family: monospace;background-color: #f0f8ff;border: 1px dotted black;border-radius: 0.25em;box-sizing: border-box;margin-bottom: 0.5em;}#sk-container-id-2 div.sk-estimator:hover {background-color: #d4ebff;}#sk-container-id-2 div.sk-parallel-item::after {content: \"\";width: 100%;border-bottom: 1px solid gray;flex-grow: 1;}#sk-container-id-2 div.sk-label:hover label.sk-toggleable__label {background-color: #d4ebff;}#sk-container-id-2 div.sk-serial::before {content: \"\";position: absolute;border-left: 1px solid gray;box-sizing: border-box;top: 0;bottom: 0;left: 50%;z-index: 0;}#sk-container-id-2 div.sk-serial {display: flex;flex-direction: column;align-items: center;background-color: white;padding-right: 0.2em;padding-left: 0.2em;position: relative;}#sk-container-id-2 div.sk-item {position: relative;z-index: 1;}#sk-container-id-2 div.sk-parallel {display: flex;align-items: stretch;justify-content: center;background-color: white;position: relative;}#sk-container-id-2 div.sk-item::before, #sk-container-id-2 div.sk-parallel-item::before {content: \"\";position: absolute;border-left: 1px solid gray;box-sizing: border-box;top: 0;bottom: 0;left: 50%;z-index: -1;}#sk-container-id-2 div.sk-parallel-item {display: flex;flex-direction: column;z-index: 1;position: relative;background-color: white;}#sk-container-id-2 div.sk-parallel-item:first-child::after {align-self: flex-end;width: 50%;}#sk-container-id-2 div.sk-parallel-item:last-child::after {align-self: flex-start;width: 50%;}#sk-container-id-2 div.sk-parallel-item:only-child::after {width: 0;}#sk-container-id-2 div.sk-dashed-wrapped {border: 1px dashed gray;margin: 0 0.4em 0.5em 0.4em;box-sizing: border-box;padding-bottom: 0.4em;background-color: white;}#sk-container-id-2 div.sk-label label {font-family: monospace;font-weight: bold;display: inline-block;line-height: 1.2em;}#sk-container-id-2 div.sk-label-container {text-align: center;}#sk-container-id-2 div.sk-container {/* jupyter's `normalize.less` sets `[hidden] { display: none; }` but bootstrap.min.css set `[hidden] { display: none !important; }` so we also need the `!important` here to be able to override the default hidden behavior on the sphinx rendered scikit-learn.org. See: https://github.com/scikit-learn/scikit-learn/issues/21755 */display: inline-block !important;position: relative;}#sk-container-id-2 div.sk-text-repr-fallback {display: none;}</style><div id=\"sk-container-id-2\" class=\"sk-top-container\"><div class=\"sk-text-repr-fallback\"><pre>LogisticRegression(C=0.07894736851578947)</pre><b>In a Jupyter environment, please rerun this cell to show the HTML representation or trust the notebook. <br />On GitHub, the HTML representation is unable to render, please try loading this page with nbviewer.org.</b></div><div class=\"sk-container\" hidden><div class=\"sk-item\"><div class=\"sk-estimator sk-toggleable\"><input class=\"sk-toggleable__control sk-hidden--visually\" id=\"sk-estimator-id-2\" type=\"checkbox\" checked><label for=\"sk-estimator-id-2\" class=\"sk-toggleable__label sk-toggleable__label-arrow\">LogisticRegression</label><div class=\"sk-toggleable__content\"><pre>LogisticRegression(C=0.07894736851578947)</pre></div></div></div></div></div>"
      ],
      "text/plain": [
       "LogisticRegression(C=0.07894736851578947)"
      ]
     },
     "execution_count": 17,
     "metadata": {},
     "output_type": "execute_result"
    }
   ],
   "source": [
    "model = LogisticRegression(C=best_C_LR)\n",
    "model.fit(X_train, y_train)"
   ]
  },
  {
   "cell_type": "code",
   "execution_count": 18,
   "metadata": {
    "execution": {
     "iopub.execute_input": "2024-12-22T12:40:58.886154Z",
     "iopub.status.busy": "2024-12-22T12:40:58.884876Z",
     "iopub.status.idle": "2024-12-22T12:40:59.244994Z",
     "shell.execute_reply": "2024-12-22T12:40:59.243983Z",
     "shell.execute_reply.started": "2024-12-22T12:40:58.886115Z"
    },
    "id": "k5D2jq87f3MC",
    "tags": []
   },
   "outputs": [
    {
     "data": {
      "image/png": "[encoded data removed]",
      "text/plain": [
       "<Figure size 640x480 with 2 Axes>"
      ]
     },
     "metadata": {},
     "output_type": "display_data"
    }
   ],
   "source": [
    "def plot_logreg_2D(X, y, model):\n",
    "\n",
    "    # создали сетку\n",
    "    xx = np.linspace(X[:,0].min(), X[:,0].max(), 1000)\n",
    "    yy = np.linspace(X[:,1].min(), X[:,1].max(), 1000)\n",
    "    YY, XX = np.meshgrid(yy, xx)\n",
    "    xy = np.vstack([XX.ravel(), YY.ravel()]).T\n",
    "\n",
    "    # Ответы модели для сетки для отрисовки распределения\n",
    "    Z = model.predict_proba(xy)[:,1]\n",
    "    Z = Z.reshape((xx.shape[0], -1)).T\n",
    "\n",
    "    image = plt.imshow(\n",
    "        Z,\n",
    "        interpolation='nearest',\n",
    "        extent=(xx.min(), xx.max(), yy.min(), yy.max()),\n",
    "        aspect='auto',\n",
    "        origin='lower',\n",
    "        cmap=plt.cm.PuOr_r\n",
    "    )\n",
    "\n",
    "    #Отрисовали выборку\n",
    "    plt.scatter(\n",
    "        X[:, 0], X[:, 1], c=y, edgecolors='k',\n",
    "        cmap=plt.cm.Paired\n",
    "    )\n",
    "    plt.colorbar(image)\n",
    "    plt.show()\n",
    "\n",
    "plot_logreg_2D(X_train, y_train, model)"
   ]
  },
  {
   "cell_type": "markdown",
   "metadata": {
    "id": "AQ-Um7-6JnAp"
   },
   "source": [
    "**Вопрос:** Как на картинке визуализирована область, где модель не уверена ($p(y=+1|x) = 0.5$)? Как это обосновать теоритечески?\n",
    "\n"
   ]
  },
  {
   "cell_type": "markdown",
   "metadata": {
    "id": "SAAF0HiaIh9Z"
   },
   "source": [
    "**Ответ:** На изображении область, где модель не уверена в своем предсказании, является белой полосой между двумя основными цветами. В этой области вероятность принадлежности к положительному классу ≈0.5."
   ]
  },
  {
   "cell_type": "markdown",
   "metadata": {
    "id": "4VbJR0e3P75U"
   },
   "source": [
    "#### __Задание 2. Калибровка вероятностей__ (1 балл)\n",
    "\n"
   ]
  },
  {
   "cell_type": "markdown",
   "metadata": {
    "id": "I8taLYSgBd9u"
   },
   "source": [
    "Перейдём к оценке качества выдаваемых алгоритмами вероятностей. Начнём с калибровочных кривых.\n",
    "\n",
    "Допустим, алгоритм возвращает некоторые числа от нуля до единицы. Хорошо ли они оценивают вероятность?\n",
    "\n",
    "Хорошо откалиброванный  классификатор должен выдавать значения так, чтобы среди образцов, для которых он дал значение, близкое к $\\alpha$, примерно $\\alpha * 100 \\%$ фактически принадлежали к положительному классу. (Например, если классификатор выдает 0.3 для некоторых, то 30% из них должны принадлежать классу 1)"
   ]
  },
  {
   "cell_type": "markdown",
   "metadata": {
    "id": "TRBGtMArIxMc"
   },
   "source": [
    "Для построения калибровочной криовой используем следующий алгоритм:\n",
    "\n",
    "Разобьем отрезок $[0, 1]$ на несколько маленьких отрезков одинаковой длины.\n",
    "\n",
    "Рассмотрим $i$-й отрезок с границами $[a_i, b_i]$ и предсказания $p_1, p_2, \\dots, p_k$, которые попали в него. Пусть им соответствуют истинные ответы $y_1, y_2, \\dots, y_k$. Если алгоритм выдает корректные вероятности, то среди этих истинных ответов должно быть примерно $(a_i + b_i) / 2$ единиц. Иными словами, если нарисовать кривую, у которой по оси X отложены центры отрезков, а по оси Y — доли единичных ответов этих в отрезках, то она должна оказаться диагональной.\n",
    "\n",
    "Ниже приведена функция, которая должна рисовать такие кривые. В ней допущено две ошибки — найдите и исправьте их."
   ]
  },
  {
   "cell_type": "code",
   "execution_count": 19,
   "metadata": {
    "execution": {
     "iopub.execute_input": "2024-12-22T12:40:59.246926Z",
     "iopub.status.busy": "2024-12-22T12:40:59.246192Z",
     "iopub.status.idle": "2024-12-22T12:40:59.259894Z",
     "shell.execute_reply": "2024-12-22T12:40:59.259095Z",
     "shell.execute_reply.started": "2024-12-22T12:40:59.246882Z"
    },
    "id": "R75uefZuP75V",
    "tags": []
   },
   "outputs": [],
   "source": [
    "def plot_calibration_curve(y_test, preds, model_name, ax):\n",
    "    bin_middle_points = []\n",
    "    bin_real_ratios = []\n",
    "    n_bins = 10\n",
    "    for i in range(n_bins):\n",
    "        l = 1.0 / n_bins * i\n",
    "        r = 1.0 / n_bins * (i + 1)\n",
    "        bin_middle_points.append((l + r) / 2) \n",
    "        bin_real_ratios.append(np.mean(y_test[(preds >= l) & (preds < r)] == 1))  \n",
    "    ax.plot(bin_middle_points, bin_real_ratios, marker='o', label=f\"{model_name}\")"
   ]
  },
  {
   "cell_type": "markdown",
   "metadata": {
    "id": "R13YCkxMO_R4"
   },
   "source": [
    "Сгенерируйте синтетические данные аналогично использованным в самом первом задании. Постройте калибровочные кривые на тестовой части для логистической регрессии и метода опорных векторов (не забудьте перевести его предсказания в $[0;1]$).\n",
    "\n",
    "Отрисуйте калибровочную кривую идеально откалиброванной модели (диагональ)"
   ]
  },
  {
   "cell_type": "code",
   "execution_count": 20,
   "metadata": {
    "execution": {
     "iopub.execute_input": "2024-12-22T12:40:59.261909Z",
     "iopub.status.busy": "2024-12-22T12:40:59.260807Z",
     "iopub.status.idle": "2024-12-22T12:40:59.279606Z",
     "shell.execute_reply": "2024-12-22T12:40:59.278798Z",
     "shell.execute_reply.started": "2024-12-22T12:40:59.261872Z"
    },
    "id": "Jk6pz90lQYST",
    "tags": []
   },
   "outputs": [],
   "source": [
    "X, y = make_classification(\n",
    "    n_samples=10000, n_features=10, n_informative=5, n_redundant=5, random_state=42)\n",
    "\n",
    "X_train, X_test, y_train, y_test = train_test_split(X, y, test_size=0.3, random_state=42)"
   ]
  },
  {
   "cell_type": "code",
   "execution_count": 21,
   "metadata": {
    "execution": {
     "iopub.execute_input": "2024-12-22T12:40:59.281249Z",
     "iopub.status.busy": "2024-12-22T12:40:59.280713Z",
     "iopub.status.idle": "2024-12-22T12:41:01.272453Z",
     "shell.execute_reply": "2024-12-22T12:41:01.271527Z",
     "shell.execute_reply.started": "2024-12-22T12:40:59.281211Z"
    },
    "tags": []
   },
   "outputs": [
    {
     "data": {
      "image/png": "[encoded data removed]",
      "text/plain": [
       "<Figure size 600x600 with 1 Axes>"
      ]
     },
     "metadata": {},
     "output_type": "display_data"
    }
   ],
   "source": [
    "fig, ax = plt.subplots(1, 1, figsize=(6, 6))\n",
    "\n",
    "logreg_model = LogisticRegression(C=best_C_LR, random_state=42, max_iter=10000)\n",
    "logreg_model.fit(X_train, y_train)\n",
    "logreg_preds = logreg_model.predict_proba(X_test)[:, 1]\n",
    "plot_calibration_curve(y_test, logreg_preds, \"Logistic Regression\", ax)\n",
    "\n",
    "svm_model = SVC(C=best_C, kernel='linear', random_state=42)\n",
    "svm_model.fit(X_train, y_train)\n",
    "svm_preds = expit(svm_model.decision_function(X_test))\n",
    "plot_calibration_curve(y_test, svm_preds, \"SVM\", ax)\n",
    "\n",
    "ax.plot([0, 1], [0, 1], linestyle='--', color='gray', label=\"Ideal Calibration\")\n",
    "\n",
    "ax.set_ylim([-0.05, 1.05])\n",
    "ax.set_xlim([-0.05, 1.05])\n",
    "ax.set_xlabel(\"Predicted Probability\")\n",
    "ax.set_ylabel(\"Fraction of Positives\")\n",
    "ax.set_title(\"Calibration Curves\")\n",
    "ax.legend()\n",
    "ax.grid()\n",
    "plt.show()\n"
   ]
  },
  {
   "cell_type": "markdown",
   "metadata": {
    "id": "t15IAX7GPJjF"
   },
   "source": [
    "**Вопрос**: хорошо ли откалиброваны кривые для SVM, логистической регрессии? Подумайте, как это следует из вида кривой\n",
    "\n",
    "**Ответ:** Кривая SVM откалибрована чуть хуже, чем LR. \n",
    "\n",
    "Из формальных способов в этом убедиться есть знакомый вам LogLoss, который напрямую оценивает вероятности,\n",
    "$$\\text{LogLoss} = -\\frac{1}{N}\\sum_{i} \\sum_{k \\in {0. 1}}\\log p_k[y_i = k]$$\n",
    "а так же BrierScore, который подсчитывает отклонение между получившейся вероятностью и реальным значением таргета.\n",
    "$$\\text{BrierScore} = \\frac{1}{N}\\sum_{i} (p_i - y_i)^2$$\n",
    "Посмотрите на них тоже и сделайте вывод"
   ]
  },
  {
   "cell_type": "code",
   "execution_count": 22,
   "metadata": {
    "execution": {
     "iopub.execute_input": "2024-12-22T12:41:01.275337Z",
     "iopub.status.busy": "2024-12-22T12:41:01.274072Z",
     "iopub.status.idle": "2024-12-22T12:41:01.310905Z",
     "shell.execute_reply": "2024-12-22T12:41:01.310044Z",
     "shell.execute_reply.started": "2024-12-22T12:41:01.275296Z"
    },
    "id": "tQ8d-pl26rQU",
    "tags": []
   },
   "outputs": [
    {
     "name": "stdout",
     "output_type": "stream",
     "text": [
      "Logistic Regression:\n",
      "  LogLoss: 0.48587\n",
      "  Brier Score: 0.15861\n",
      "SVM:\n",
      "  LogLoss: 0.49036\n",
      "  Brier Score: 0.15941\n"
     ]
    }
   ],
   "source": [
    "from sklearn.metrics import log_loss, brier_score_loss\n",
    "\n",
    "log_loss_logreg = log_loss(y_test, logreg_preds)\n",
    "brier_score_logreg = brier_score_loss(y_test, logreg_preds)\n",
    "\n",
    "log_loss_svm = log_loss(y_test, svm_preds)\n",
    "brier_score_svm = brier_score_loss(y_test, svm_preds)\n",
    "\n",
    "print(\"Logistic Regression:\")\n",
    "print(f\"  LogLoss: {log_loss_logreg:.5f}\")\n",
    "print(f\"  Brier Score: {brier_score_logreg:.5f}\")\n",
    "\n",
    "print(\"SVM:\")\n",
    "print(f\"  LogLoss: {log_loss_svm:.5f}\")\n",
    "print(f\"  Brier Score: {brier_score_svm:.5f}\")"
   ]
  },
  {
   "cell_type": "markdown",
   "metadata": {
    "id": "cgANQZyhPHIX"
   },
   "source": [
    "Изучите распределение ответов классификаторов при помощи гистограмм"
   ]
  },
  {
   "cell_type": "code",
   "execution_count": 23,
   "metadata": {
    "execution": {
     "iopub.execute_input": "2024-12-22T12:41:01.313112Z",
     "iopub.status.busy": "2024-12-22T12:41:01.311842Z",
     "iopub.status.idle": "2024-12-22T12:41:01.722079Z",
     "shell.execute_reply": "2024-12-22T12:41:01.721086Z",
     "shell.execute_reply.started": "2024-12-22T12:41:01.313070Z"
    },
    "id": "GAP1X3NObCXp",
    "tags": []
   },
   "outputs": [
    {
     "data": {
      "image/png": "[encoded data removed]",
      "text/plain": [
       "<Figure size 1200x600 with 2 Axes>"
      ]
     },
     "metadata": {},
     "output_type": "display_data"
    }
   ],
   "source": [
    "plt.figure(figsize=(12, 6))\n",
    "\n",
    "plt.subplot(1, 2, 1)\n",
    "plt.hist(logreg_preds, bins=20, color='blue', alpha=0.7, edgecolor='w')\n",
    "plt.title(\"LR\")\n",
    "plt.xlabel(\"Вероятность\")\n",
    "plt.ylabel(\"Частота\")\n",
    "\n",
    "plt.subplot(1, 2, 2)\n",
    "plt.hist(svm_preds, bins=20, color='green', alpha=0.7, edgecolor='w')\n",
    "plt.title(\"SVM\")\n",
    "plt.xlabel(\"Вероятность\")\n",
    "plt.ylabel(\"Частота\")\n",
    "\n",
    "plt.tight_layout()\n",
    "plt.show()"
   ]
  },
  {
   "cell_type": "markdown",
   "metadata": {
    "id": "S7ga-L4CPK_O"
   },
   "source": [
    "**Вопрос:** Чем они различаются? Чем вы можете объяснить это?"
   ]
  },
  {
   "cell_type": "markdown",
   "metadata": {
    "id": "LOmrLYqdPP_0"
   },
   "source": [
    "**Ответ:** \n",
    "\n",
    "Логистическая регрессия дает более хорошие предсказания, она более интерпретируема.\n",
    "Метод опорных векторов изначально не сосредоточен на вероятностях, поэтому он делает «жесткие» предсказания.Это объясняется тем, что SVM изначально не возвращает вероятности, а работает с расстоянием от разделяющей гиперплоскости.Результирующие вероятности получаются менее гладкими, чем у логистической регрессии."
   ]
  },
  {
   "cell_type": "markdown",
   "metadata": {
    "id": "M9-6ClfaP75W"
   },
   "source": [
    "Воспользуйтесь `CalibratedClassifierCV` из `sklearn` для калибровки вероятностей метода опорных векторов на обучении и постройте с его помощью  предсказания для тестовой выборки."
   ]
  },
  {
   "cell_type": "code",
   "execution_count": 24,
   "metadata": {
    "execution": {
     "iopub.execute_input": "2024-12-22T12:41:01.723729Z",
     "iopub.status.busy": "2024-12-22T12:41:01.723123Z",
     "iopub.status.idle": "2024-12-22T12:41:06.919450Z",
     "shell.execute_reply": "2024-12-22T12:41:06.918503Z",
     "shell.execute_reply.started": "2024-12-22T12:41:01.723690Z"
    },
    "id": "RR3pVlSNP75W",
    "tags": []
   },
   "outputs": [
    {
     "data": {
      "image/png": "[encoded data removed]",
      "text/plain": [
       "<Figure size 600x600 with 1 Axes>"
      ]
     },
     "metadata": {},
     "output_type": "display_data"
    }
   ],
   "source": [
    "from sklearn.calibration import CalibratedClassifierCV\n",
    "\n",
    "calibrated_svm = CalibratedClassifierCV(estimator=svm_model, method='sigmoid', cv=5)\n",
    "calibrated_svm.fit(X_train, y_train)\n",
    "svm_preds_calibrated = calibrated_svm.predict_proba(X_test)[:, 1]\n",
    "\n",
    "fig, ax = plt.subplots(1, 1, figsize=(6, 6))\n",
    "\n",
    "plot_calibration_curve(y_test, svm_preds, \"SVM\", ax)\n",
    "plot_calibration_curve(y_test, svm_preds_calibrated, \"SVM (Calibrated)\", ax)\n",
    "\n",
    "ax.plot([0, 1], [0, 1], linestyle='--', color='gray', label=\"Ideal Calibration\")\n",
    "\n",
    "ax.set_ylim([-0.05, 1.05])\n",
    "ax.set_xlim([-0.05, 1.05])\n",
    "ax.set_xlabel(\"Predicted Probability\")\n",
    "ax.set_ylabel(\"Fraction of Positives\")\n",
    "ax.set_title(\"Calibration Curves for SVM\")\n",
    "ax.legend()\n",
    "ax.grid()\n",
    "plt.show()\n"
   ]
  },
  {
   "cell_type": "markdown",
   "metadata": {
    "id": "PnwOFuW6XyPc"
   },
   "source": [
    "**Вопрос:** Улучшились ли калибровочная кривая и качество калибровки?\n",
    "\n",
    "**Ответ:** Да, результат заметно улучшился, кривая стало схожа с LR"
   ]
  },
  {
   "cell_type": "markdown",
   "metadata": {
    "id": "p2dpbXgoP75X"
   },
   "source": [
    "##### __Бонус: Авторское решение__ (0.5 балла)\n",
    "\n",
    "Реализуйте свою функцию для калибровки вероятностей, используя любой из известных подходов. Кратко опишите ваш подход и продемонстрируйте результаты. Ключевые слова для вдохновения: `Platt`, `Isotonic`."
   ]
  },
  {
   "cell_type": "code",
   "execution_count": 25,
   "metadata": {
    "execution": {
     "iopub.execute_input": "2024-12-22T12:41:06.921618Z",
     "iopub.status.busy": "2024-12-22T12:41:06.920868Z",
     "iopub.status.idle": "2024-12-22T12:41:06.951004Z",
     "shell.execute_reply": "2024-12-22T12:41:06.949835Z",
     "shell.execute_reply.started": "2024-12-22T12:41:06.921582Z"
    },
    "id": "R8mtQgBJP75X",
    "tags": []
   },
   "outputs": [],
   "source": [
    "# your code here"
   ]
  },
  {
   "cell_type": "markdown",
   "metadata": {
    "id": "FaOVU4vJP75X"
   },
   "source": [
    "# Часть 2. Обработка категориальных переменных (4 балла + 1.5 бонус)"
   ]
  },
  {
   "cell_type": "markdown",
   "metadata": {
    "id": "8KQ9ywUEP75X"
   },
   "source": [
    "Как мы знаем, перекодировать категориальную переменную в список чисел (к примеру 1, 2, 3, ..., n) плохо, поскольку это бы задало на множестве ее значений некоторый порядок, не имеющий смысла.\n",
    "\n",
    "В этой части мы рассмотрим два основных способа обработки категориальных значений:\n",
    "- One-hot-кодирование\n",
    "- Счётчики (CTR, mean-target кодирование, ...) — каждый категориальный признак заменяется на среднее значение целевой переменной по всем объектам, имеющим одинаковое значение в этом признаке.\n",
    "\n",
    "Начнём с one-hot-кодирования. Допустим наш категориальный признак $f_j(x)$ принимает значения из множества $C=\\{c_1, \\dots, c_m\\}$. Заменим его на $m$ бинарных признаков $b_1(x), \\dots, b_m(x)$, каждый из которых является индикатором одного из возможных категориальных значений:\n",
    "$$\n",
    "b_i(x) = [f_j(x) = c_i]\n",
    "$$"
   ]
  },
  {
   "cell_type": "markdown",
   "metadata": {
    "id": "pPsScraBP75Y"
   },
   "source": [
    "#### __Подготовка данных__\n",
    "\n",
    "*(бесценный шаг)*\n",
    "\n",
    "Разберем датасет [покупок велосипедов](https://www.kaggle.com/datasets/heeraldedhia/bike-buyers/): даны признаки покупателя, требуется предсказать, купит ли он/она велосипед\n",
    "\n"
   ]
  },
  {
   "cell_type": "markdown",
   "metadata": {
    "id": "BPuDzNoCo2nk"
   },
   "source": [
    "Замените пропуски в категориальных переменных на новую категорию (`'undefined'`)\n",
    "\n",
    "Разделите признаки на 2 таблицы: категориальные и числовые признаки"
   ]
  },
  {
   "cell_type": "code",
   "execution_count": 26,
   "metadata": {
    "execution": {
     "iopub.execute_input": "2024-12-22T12:41:06.952991Z",
     "iopub.status.busy": "2024-12-22T12:41:06.952238Z",
     "iopub.status.idle": "2024-12-22T12:41:07.181017Z",
     "shell.execute_reply": "2024-12-22T12:41:07.179801Z",
     "shell.execute_reply.started": "2024-12-22T12:41:06.952951Z"
    },
    "id": "5MTr7gi1PMqv",
    "tags": []
   },
   "outputs": [
    {
     "data": {
      "text/html": [
       "<div>\n",
       "<style scoped>\n",
       "    .dataframe tbody tr th:only-of-type {\n",
       "        vertical-align: middle;\n",
       "    }\n",
       "\n",
       "    .dataframe tbody tr th {\n",
       "        vertical-align: top;\n",
       "    }\n",
       "\n",
       "    .dataframe thead th {\n",
       "        text-align: right;\n",
       "    }\n",
       "</style>\n",
       "<table border=\"1\" class=\"dataframe\">\n",
       "  <thead>\n",
       "    <tr style=\"text-align: right;\">\n",
       "      <th></th>\n",
       "      <th>ID</th>\n",
       "      <th>Marital Status</th>\n",
       "      <th>Gender</th>\n",
       "      <th>Income</th>\n",
       "      <th>Children</th>\n",
       "      <th>Education</th>\n",
       "      <th>Occupation</th>\n",
       "      <th>Home Owner</th>\n",
       "      <th>Cars</th>\n",
       "      <th>Commute Distance</th>\n",
       "      <th>Region</th>\n",
       "      <th>Age</th>\n",
       "      <th>Purchased Bike</th>\n",
       "    </tr>\n",
       "  </thead>\n",
       "  <tbody>\n",
       "    <tr>\n",
       "      <th>0</th>\n",
       "      <td>12496</td>\n",
       "      <td>Married</td>\n",
       "      <td>Female</td>\n",
       "      <td>40000.0</td>\n",
       "      <td>1.0</td>\n",
       "      <td>Bachelors</td>\n",
       "      <td>Skilled Manual</td>\n",
       "      <td>Yes</td>\n",
       "      <td>0.0</td>\n",
       "      <td>0-1 Miles</td>\n",
       "      <td>Europe</td>\n",
       "      <td>42.0</td>\n",
       "      <td>No</td>\n",
       "    </tr>\n",
       "    <tr>\n",
       "      <th>1</th>\n",
       "      <td>24107</td>\n",
       "      <td>Married</td>\n",
       "      <td>Male</td>\n",
       "      <td>30000.0</td>\n",
       "      <td>3.0</td>\n",
       "      <td>Partial College</td>\n",
       "      <td>Clerical</td>\n",
       "      <td>Yes</td>\n",
       "      <td>1.0</td>\n",
       "      <td>0-1 Miles</td>\n",
       "      <td>Europe</td>\n",
       "      <td>43.0</td>\n",
       "      <td>No</td>\n",
       "    </tr>\n",
       "    <tr>\n",
       "      <th>2</th>\n",
       "      <td>14177</td>\n",
       "      <td>Married</td>\n",
       "      <td>Male</td>\n",
       "      <td>80000.0</td>\n",
       "      <td>5.0</td>\n",
       "      <td>Partial College</td>\n",
       "      <td>Professional</td>\n",
       "      <td>No</td>\n",
       "      <td>2.0</td>\n",
       "      <td>2-5 Miles</td>\n",
       "      <td>Europe</td>\n",
       "      <td>60.0</td>\n",
       "      <td>No</td>\n",
       "    </tr>\n",
       "    <tr>\n",
       "      <th>3</th>\n",
       "      <td>24381</td>\n",
       "      <td>Single</td>\n",
       "      <td>NaN</td>\n",
       "      <td>70000.0</td>\n",
       "      <td>0.0</td>\n",
       "      <td>Bachelors</td>\n",
       "      <td>Professional</td>\n",
       "      <td>Yes</td>\n",
       "      <td>1.0</td>\n",
       "      <td>5-10 Miles</td>\n",
       "      <td>Pacific</td>\n",
       "      <td>41.0</td>\n",
       "      <td>Yes</td>\n",
       "    </tr>\n",
       "    <tr>\n",
       "      <th>4</th>\n",
       "      <td>25597</td>\n",
       "      <td>Single</td>\n",
       "      <td>Male</td>\n",
       "      <td>30000.0</td>\n",
       "      <td>0.0</td>\n",
       "      <td>Bachelors</td>\n",
       "      <td>Clerical</td>\n",
       "      <td>No</td>\n",
       "      <td>0.0</td>\n",
       "      <td>0-1 Miles</td>\n",
       "      <td>Europe</td>\n",
       "      <td>36.0</td>\n",
       "      <td>Yes</td>\n",
       "    </tr>\n",
       "  </tbody>\n",
       "</table>\n",
       "</div>"
      ],
      "text/plain": [
       "      ID Marital Status  Gender   Income  Children        Education  \\\n",
       "0  12496        Married  Female  40000.0       1.0        Bachelors   \n",
       "1  24107        Married    Male  30000.0       3.0  Partial College   \n",
       "2  14177        Married    Male  80000.0       5.0  Partial College   \n",
       "3  24381         Single     NaN  70000.0       0.0        Bachelors   \n",
       "4  25597         Single    Male  30000.0       0.0        Bachelors   \n",
       "\n",
       "       Occupation Home Owner  Cars Commute Distance   Region   Age  \\\n",
       "0  Skilled Manual        Yes   0.0        0-1 Miles   Europe  42.0   \n",
       "1        Clerical        Yes   1.0        0-1 Miles   Europe  43.0   \n",
       "2    Professional         No   2.0        2-5 Miles   Europe  60.0   \n",
       "3    Professional        Yes   1.0       5-10 Miles  Pacific  41.0   \n",
       "4        Clerical         No   0.0        0-1 Miles   Europe  36.0   \n",
       "\n",
       "  Purchased Bike  \n",
       "0             No  \n",
       "1             No  \n",
       "2             No  \n",
       "3            Yes  \n",
       "4            Yes  "
      ]
     },
     "execution_count": 26,
     "metadata": {},
     "output_type": "execute_result"
    }
   ],
   "source": [
    "data = pd.read_csv(\"/home/jupyter/datasphere/project/bike_buyers.csv\")\n",
    "data.head()\n"
   ]
  },
  {
   "cell_type": "code",
   "execution_count": 27,
   "metadata": {
    "execution": {
     "iopub.execute_input": "2024-12-22T12:41:07.183126Z",
     "iopub.status.busy": "2024-12-22T12:41:07.182536Z",
     "iopub.status.idle": "2024-12-22T12:41:07.220074Z",
     "shell.execute_reply": "2024-12-22T12:41:07.219050Z",
     "shell.execute_reply.started": "2024-12-22T12:41:07.183089Z"
    },
    "tags": []
   },
   "outputs": [
    {
     "data": {
      "text/plain": [
       "ID                    int64\n",
       "Marital Status       object\n",
       "Gender               object\n",
       "Income              float64\n",
       "Children            float64\n",
       "Education            object\n",
       "Occupation           object\n",
       "Home Owner           object\n",
       "Cars                float64\n",
       "Commute Distance     object\n",
       "Region               object\n",
       "Age                 float64\n",
       "Purchased Bike       object\n",
       "dtype: object"
      ]
     },
     "execution_count": 27,
     "metadata": {},
     "output_type": "execute_result"
    }
   ],
   "source": [
    "data.dtypes"
   ]
  },
  {
   "cell_type": "code",
   "execution_count": 28,
   "metadata": {
    "execution": {
     "iopub.execute_input": "2024-12-22T12:41:07.226087Z",
     "iopub.status.busy": "2024-12-22T12:41:07.224963Z",
     "iopub.status.idle": "2024-12-22T12:41:07.276548Z",
     "shell.execute_reply": "2024-12-22T12:41:07.275535Z",
     "shell.execute_reply.started": "2024-12-22T12:41:07.226024Z"
    },
    "id": "rGWlojJwOEjL",
    "tags": []
   },
   "outputs": [],
   "source": [
    "# Заменим пропуски категориальных переменных\n",
    "# your code here\n",
    "data = data.drop(columns=['ID'])\n",
    "categorical_columns = data.select_dtypes(include=['object']).columns\n",
    "data[categorical_columns] = data[categorical_columns].fillna('undefined')\n",
    "\n",
    "# Отделим X и y\n",
    "# your code here\n",
    "X = data.drop(columns=['Purchased Bike'])  \n",
    "X = data.drop(columns=['Purchased Bike']) \n",
    "y = (data['Purchased Bike'] == 'Yes').astype(int)\n",
    "\n",
    "\n",
    "# Разделим на категориальные признаки и числовые\n",
    "numerical = ['Income', 'Children', 'Cars', 'Age']\n",
    "categorical = ['Marital Status', 'Gender', 'Education', 'Occupation', 'Home Owner', 'Commute Distance', 'Region']\n",
    "\n",
    "X_numerical = X.select_dtypes(include=['int64', 'float64'])  \n",
    "X_categorical = X.select_dtypes(include=['object'])   "
   ]
  },
  {
   "cell_type": "markdown",
   "metadata": {
    "id": "ch0M2v8Akirw"
   },
   "source": [
    "В начале поработаем только с категориальными признаками"
   ]
  },
  {
   "cell_type": "code",
   "execution_count": 29,
   "metadata": {
    "execution": {
     "iopub.execute_input": "2024-12-22T12:41:07.278805Z",
     "iopub.status.busy": "2024-12-22T12:41:07.277995Z",
     "iopub.status.idle": "2024-12-22T12:41:07.306660Z",
     "shell.execute_reply": "2024-12-22T12:41:07.305570Z",
     "shell.execute_reply.started": "2024-12-22T12:41:07.278766Z"
    },
    "id": "QIYErZMnP75Z",
    "tags": []
   },
   "outputs": [],
   "source": [
    "from sklearn.model_selection import train_test_split\n",
    "\n",
    "X_train, X_test, y_train, y_test = train_test_split(X_categorical, y, test_size=0.25, random_state=777, stratify=y)"
   ]
  },
  {
   "cell_type": "markdown",
   "metadata": {
    "id": "m5LjHkuCP75Z"
   },
   "source": [
    "#### __Задание 3. OrdinalEncoder__  (0.5 балла)\n",
    "\n",
    "Закодируйте категориальные признаки с помощью `OrdinalEncoder`. Посчитайте качество (в этом задании будем работать c __`AUC-PR`__) при применении логистической регрессии. Замерьте время, потребовавшееся на обучение модели, с учетом кодирования признаков."
   ]
  },
  {
   "cell_type": "code",
   "execution_count": 30,
   "metadata": {
    "execution": {
     "iopub.execute_input": "2024-12-22T12:41:07.309727Z",
     "iopub.status.busy": "2024-12-22T12:41:07.307999Z",
     "iopub.status.idle": "2024-12-22T12:41:07.358506Z",
     "shell.execute_reply": "2024-12-22T12:41:07.357377Z",
     "shell.execute_reply.started": "2024-12-22T12:41:07.309682Z"
    },
    "id": "bdZT2tXXP75a",
    "tags": []
   },
   "outputs": [
    {
     "name": "stdout",
     "output_type": "stream",
     "text": [
      "AUC-PR: 0.58830\n",
      "Время обучения модели: 0.00575 секунд\n"
     ]
    }
   ],
   "source": [
    "from sklearn.preprocessing import OrdinalEncoder\n",
    "from time import time\n",
    "\n",
    "enc = OrdinalEncoder()\n",
    "X_train_encoded = enc.fit_transform(X_train)  \n",
    "X_test_encoded = enc.transform(X_test)      \n",
    "\n",
    "\n",
    "start_time = time() \n",
    "model = LogisticRegression(random_state=42, max_iter=10000)\n",
    "model.fit(X_train_encoded, y_train)  \n",
    "end_time = time()  \n",
    "\n",
    "y_pred_probs = model.predict_proba(X_test_encoded)[:, 1]\n",
    "auc_pr = average_precision_score(y_test, y_pred_probs) \n",
    "\n",
    "print(f\"AUC-PR: {auc_pr:.5f}\")\n",
    "print(f\"Время обучения модели: {end_time - start_time:.5f} секунд\")\n"
   ]
  },
  {
   "cell_type": "markdown",
   "metadata": {
    "id": "ScIo7NthP75a"
   },
   "source": [
    "#### __Задание 4. One-Hot Encoding__ (0.5 балла)\n",
    "\n"
   ]
  },
  {
   "cell_type": "markdown",
   "metadata": {
    "id": "p3sFuKAtLwOx"
   },
   "source": [
    "Закодируйте все категориальные признаки с помощью one-hot-кодирования. Обучите логистическую регрессию и посмотрите, как изменилось качество модели (в сравнении с тем, что было до кодирования). Измерьте время, потребовавшееся на кодирование категориальных признаков и обучение модели."
   ]
  },
  {
   "cell_type": "code",
   "execution_count": 31,
   "metadata": {
    "execution": {
     "iopub.execute_input": "2024-12-22T12:41:07.361051Z",
     "iopub.status.busy": "2024-12-22T12:41:07.359814Z",
     "iopub.status.idle": "2024-12-22T12:41:07.476983Z",
     "shell.execute_reply": "2024-12-22T12:41:07.476084Z",
     "shell.execute_reply.started": "2024-12-22T12:41:07.361007Z"
    },
    "id": "t4PbjLIHP75a",
    "tags": []
   },
   "outputs": [
    {
     "name": "stdout",
     "output_type": "stream",
     "text": [
      "AUC-PR: 0.66664\n",
      "Время на кодирование и обучение: 0.02266 секунд\n"
     ]
    }
   ],
   "source": [
    "from sklearn.preprocessing import OneHotEncoder\n",
    "enc = OneHotEncoder(handle_unknown='ignore')\n",
    "\n",
    "start_time = time()  \n",
    "X_train_encoded = enc.fit_transform(X_train) \n",
    "X_test_encoded = enc.transform(X_test)     \n",
    "\n",
    "model = LogisticRegression(random_state=42, max_iter=10000)\n",
    "model.fit(X_train_encoded, y_train) \n",
    "end_time = time() \n",
    "\n",
    "y_pred_probs = model.predict_proba(X_test_encoded)[:, 1]  \n",
    "auc_pr = average_precision_score(y_test, y_pred_probs)\n",
    "\n",
    "print(f\"AUC-PR: {auc_pr:.5f}\")\n",
    "print(f\"Время на кодирование и обучение: {end_time - start_time:.5f} секунд\")"
   ]
  },
  {
   "cell_type": "markdown",
   "metadata": {
    "id": "9p-qOs6lP75b"
   },
   "source": [
    "Как можно заметить, one-hot-кодирование может сильно увеличивать количество признаков. Это сказывается на объеме необходимой памяти, особенно, если некоторый признак имеет большое количество значений.\n"
   ]
  },
  {
   "cell_type": "markdown",
   "metadata": {
    "id": "l1q3k3yaLF8Y"
   },
   "source": [
    "#### __Задание 5. Mean-target Encoding__ (1 балл)"
   ]
  },
  {
   "cell_type": "markdown",
   "metadata": {
    "id": "tanu5Hm5Lr7R"
   },
   "source": [
    "> Проблемы разрастания числа признаков можно избежать в другом способе кодирования категориальных признаков — mean-target encoding (для простоты будем называть это __счётчиками__). Сравним эффективность методов в рамках нашей маркетинговой задачи.\n",
    "\n",
    "> Основная идея в том, что важны не сами категории, а значения целевой переменной, которые имеют объекты этой категории. Каждый категориальный признак мы заменим средним значением целевой переменной по всем объектам этой же категории:\n",
    "\n",
    "$$\n",
    "g_j(x, X) = \\frac{\\sum_{i=1}^{\\ell} [f_j(x) = f_j(x_i)][y_i = +1]}{\\sum_{i=1}^{\\ell} [f_j(x) = f_j(x_i)]}\n",
    "$$\n",
    "\n",
    "Закодируйте категориальные переменные с помощью счётчиков (ровно так, как описано выше, без каких-либо хитростей). Обучите логистическую регрессию и посмотрите на качество модели на тестовом множестве.\n",
    "\n",
    "Сравните время обучения с предыдущими экспериментами (с учетом кодирования признаков)."
   ]
  },
  {
   "cell_type": "code",
   "execution_count": 32,
   "metadata": {
    "execution": {
     "iopub.execute_input": "2024-12-22T12:41:07.479029Z",
     "iopub.status.busy": "2024-12-22T12:41:07.477995Z",
     "iopub.status.idle": "2024-12-22T12:41:07.506685Z",
     "shell.execute_reply": "2024-12-22T12:41:07.505806Z",
     "shell.execute_reply.started": "2024-12-22T12:41:07.478984Z"
    },
    "id": "v9MNSGWrgz5-",
    "tags": []
   },
   "outputs": [],
   "source": [
    "def MeanTargetEncodingTrain(X_train, y_train):\n",
    "    mappings = {}\n",
    "\n",
    "    X_train_with_target = pd.concat([X_train, y_train.rename(\"target\")], axis=1)\n",
    "    \n",
    "    for col in X_train.columns:\n",
    "        col_map = X_train_with_target.groupby(col)['target'].mean()\n",
    "        mappings[col] = col_map.to_dict()  \n",
    "    return mappings\n",
    "\n",
    "\n",
    "def MeanTargetEncodingApply(X, mappings):\n",
    "    X_enc = X.copy()\n",
    "    for col in X_enc.columns:\n",
    "        col_map = mappings[col]\n",
    "        X_enc[col] = X_enc[col].map(col_map)\n",
    "    return X_enc.astype(float)"
   ]
  },
  {
   "cell_type": "code",
   "execution_count": 33,
   "metadata": {
    "execution": {
     "iopub.execute_input": "2024-12-22T12:41:07.508993Z",
     "iopub.status.busy": "2024-12-22T12:41:07.507650Z",
     "iopub.status.idle": "2024-12-22T12:41:07.557558Z",
     "shell.execute_reply": "2024-12-22T12:41:07.556690Z",
     "shell.execute_reply.started": "2024-12-22T12:41:07.508953Z"
    },
    "tags": []
   },
   "outputs": [
    {
     "name": "stdout",
     "output_type": "stream",
     "text": [
      "AUC-PR: 0.65754\n",
      "Время: 0.02188 секунд\n"
     ]
    }
   ],
   "source": [
    "start_time = time()\n",
    "mappings = MeanTargetEncodingTrain(X_train, y_train)\n",
    "\n",
    "X_train_mte = MeanTargetEncodingApply(X_train, mappings)\n",
    "X_test_mte = MeanTargetEncodingApply(X_test, mappings)\n",
    "\n",
    "model = LogisticRegression(random_state=42, max_iter=10000)\n",
    "model.fit(X_train_mte, y_train)\n",
    "\n",
    "end_time = time()\n",
    "\n",
    "y_pred_probs = model.predict_proba(X_test_mte)[:, 1]\n",
    "auc_pr = average_precision_score(y_test, y_pred_probs)\n",
    "\n",
    "print(f\"AUC-PR: {auc_pr:.5f}\")\n",
    "print(f\"Время: {end_time - start_time:.5f} секунд\")"
   ]
  },
  {
   "cell_type": "markdown",
   "metadata": {
    "id": "ABXherJ3LGBj"
   },
   "source": [
    "##### __Бонус: Эффективная реализация (1 балл)__\n",
    "\n",
    "Здесь и далее реализуйте вычисление счетчиков с помощью трансформера (наследуйтесь от классов `BaseEstimator, TransformerMixin` из `sklearn.base`). Обратите внимание, что все вычисления должны быть векторизованными, трансформер не должен модифицировать передаваемую ему выборку inplace, а все необходимые статистики нужно считать только по обучающей выборке в методе `fit`. Ваш трансформер должен принимать при инициализации список из категориальных признаков и изменять только их."
   ]
  },
  {
   "cell_type": "code",
   "execution_count": 34,
   "metadata": {
    "execution": {
     "iopub.execute_input": "2024-12-22T12:41:07.558900Z",
     "iopub.status.busy": "2024-12-22T12:41:07.558450Z",
     "iopub.status.idle": "2024-12-22T12:41:07.590189Z",
     "shell.execute_reply": "2024-12-22T12:41:07.589339Z",
     "shell.execute_reply.started": "2024-12-22T12:41:07.558867Z"
    },
    "id": "Kk8D4dDuP75b",
    "tags": []
   },
   "outputs": [],
   "source": [
    "from sklearn.base import BaseEstimator, TransformerMixin\n",
    "class MeanTargetEncoder(BaseEstimator, TransformerMixin):\n",
    "    def __init__(self, categorical_features):\n",
    "        self.categorical_features = categorical_features\n",
    "        self._X = None  \n",
    "\n",
    "    def fit(self, X, y):\n",
    "        if not hasattr(y, 'name') or y.name is None:\n",
    "            y = pd.Series(y, name='target')\n",
    "        \n",
    "        self._X = pd.concat([X, y.rename('target')], axis=1)\n",
    "        return self\n",
    "\n",
    "    def transform(self, X):\n",
    "        X = X.copy()\n",
    "        \n",
    "        for column in self.categorical_features:\n",
    "            X[column] = X[column].map(self._X.groupby(column)['target'].mean())\n",
    "        \n",
    "        return X\n"
   ]
  },
  {
   "cell_type": "code",
   "execution_count": 35,
   "metadata": {
    "execution": {
     "iopub.execute_input": "2024-12-22T12:41:07.591864Z",
     "iopub.status.busy": "2024-12-22T12:41:07.591249Z",
     "iopub.status.idle": "2024-12-22T12:41:07.767818Z",
     "shell.execute_reply": "2024-12-22T12:41:07.766858Z",
     "shell.execute_reply.started": "2024-12-22T12:41:07.591827Z"
    },
    "tags": []
   },
   "outputs": [
    {
     "name": "stdout",
     "output_type": "stream",
     "text": [
      "AUC-PR: 0.65754\n",
      "Время: 0.02240 секунд\n"
     ]
    }
   ],
   "source": [
    "from sklearn.compose import ColumnTransformer\n",
    "\n",
    "column_transformer = ColumnTransformer([\n",
    "    ('mean-target-encoder', MeanTargetEncoder(categorical_features=categorical), categorical)\n",
    "], remainder='passthrough') \n",
    "\n",
    "start_time = time()\n",
    "\n",
    "X_train_encoded = column_transformer.fit_transform(X_train, y_train)\n",
    "X_test_encoded = column_transformer.transform(X_test)\n",
    "\n",
    "model = LogisticRegression(random_state=42, max_iter=10000)\n",
    "model.fit(X_train_encoded, y_train)\n",
    "\n",
    "end_time = time()\n",
    "\n",
    "y_pred_probs = model.predict_proba(X_test_encoded)[:, 1]\n",
    "auc_pr = average_precision_score(y_test, y_pred_probs)\n",
    "\n",
    "print(f\"AUC-PR: {auc_pr:.5f}\")\n",
    "print(f\"Время: {end_time - start_time:.5f} секунд\")\n"
   ]
  },
  {
   "cell_type": "markdown",
   "metadata": {
    "id": "bH-JPoINqJ62"
   },
   "source": [
    "_______\n",
    "\n",
    "__Методы борьбы с переобучением счетчиков__\n",
    "\n",
    "\n",
    "Отметим, что mean-target encoding признаки сами по себе являются классификаторами и, обучаясь на них, мы допускаем \"утечку\" целевой переменной в признаки. Это ведёт к __переобучению__, поэтому считать такие признаки необходимо таким образом, чтобы при вычислении для конкретного объекта его __целевая метка не использовалась__.\n",
    "\n",
    "Это можно делать следующими способами:\n",
    "1. Вычислять значение счётчика по всем объектам расположенным выше в датасете (например, если у нас выборка отсортирована по времени).\n",
    "2. Вычислять по фолдам, то есть делить выборку на некоторое количество частей и подсчитывать значение признаков по всем фолдам кроме текущего (как делается в кросс-валидации).\n",
    "3. Внесение некоторого шума в посчитанные признаки.\n",
    "\n",
    "#### __Задание 6. Пошумим__  (0.5 балла)\n",
    "\n",
    "Реализуйте корректное вычисление счётчиков самым простым способом — добавление шума к значениям.  При этом постарайтесь найти баланс между борьбой с переобучением и сохранением полезности признаков. Снова обучите логистическую регрессию, оцените качество."
   ]
  },
  {
   "cell_type": "code",
   "execution_count": 36,
   "metadata": {
    "execution": {
     "iopub.execute_input": "2024-12-22T12:41:07.770827Z",
     "iopub.status.busy": "2024-12-22T12:41:07.768872Z",
     "iopub.status.idle": "2024-12-22T12:41:07.814338Z",
     "shell.execute_reply": "2024-12-22T12:41:07.813515Z",
     "shell.execute_reply.started": "2024-12-22T12:41:07.770780Z"
    },
    "id": "HiqJBxrAP75c",
    "tags": []
   },
   "outputs": [],
   "source": [
    "class MeanTargetEncoder(BaseEstimator, TransformerMixin):\n",
    "    def __init__(self, categorical_features, noise_level=0.05):\n",
    "        self.categorical_features = categorical_features\n",
    "        self.noise_level = noise_level\n",
    "        self._X = None  \n",
    "\n",
    "    def fit(self, X, y):\n",
    "        self._X = pd.concat([X, y.rename('target')], axis=1)\n",
    "        return self\n",
    "\n",
    "    def transform(self, X):\n",
    "        X = X.copy()\n",
    "        \n",
    "        for column in self.categorical_features:\n",
    "            mean_values = self._X.groupby(column)['target'].mean()\n",
    "            X[column] = X[column].map(mean_values)\n",
    "\n",
    "            noise = np.random.normal(loc=0, scale=self.noise_level, size=X.shape[0])\n",
    "            X[column] = (X[column] + noise).clip(0.01, 0.99)\n",
    "        \n",
    "        return X"
   ]
  },
  {
   "cell_type": "code",
   "execution_count": 37,
   "metadata": {
    "execution": {
     "iopub.execute_input": "2024-12-22T12:41:07.816427Z",
     "iopub.status.busy": "2024-12-22T12:41:07.815326Z",
     "iopub.status.idle": "2024-12-22T12:41:07.979369Z",
     "shell.execute_reply": "2024-12-22T12:41:07.978494Z",
     "shell.execute_reply.started": "2024-12-22T12:41:07.816384Z"
    },
    "tags": []
   },
   "outputs": [
    {
     "name": "stdout",
     "output_type": "stream",
     "text": [
      "AUC-PR: 0.61999\n",
      "Время: 0.03693 секунд\n"
     ]
    }
   ],
   "source": [
    "column_transformer = ColumnTransformer([\n",
    "    ('mean-target-encoder', MeanTargetEncoder(categorical_features=categorical, noise_level=0.05), categorical)\n",
    "], remainder='passthrough') \n",
    "\n",
    "start_time = time()\n",
    "\n",
    "X_train_encoded = column_transformer.fit_transform(X_train, y_train)\n",
    "X_test_encoded = column_transformer.transform(X_test)\n",
    "\n",
    "model = LogisticRegression(random_state=42, max_iter=10000)\n",
    "model.fit(X_train_encoded, y_train)\n",
    "\n",
    "end_time = time()\n",
    "\n",
    "y_pred_probs = model.predict_proba(X_test_encoded)[:, 1]\n",
    "auc_pr = average_precision_score(y_test, y_pred_probs)\n",
    "\n",
    "print(f\"AUC-PR: {auc_pr:.5f}\")\n",
    "print(f\"Время: {end_time - start_time:.5f} секунд\")"
   ]
  },
  {
   "cell_type": "markdown",
   "metadata": {
    "id": "UOxwE8rGLSzH"
   },
   "source": [
    "**Вопрос:** Сделайте выводы. Помогло ли добавление шума? Почему?\n",
    "\n",
    "**Ответ:** качетво только немного улучшилось "
   ]
  },
  {
   "cell_type": "markdown",
   "metadata": {
    "id": "1GtUtPCjP75c"
   },
   "source": [
    "##### __Бонус: другой подход__ (0.5 балла)\n",
    "\n",
    "Посчитайте корректные счётчики первым или вторым способов из описанных выше (не забудьте добавить и шум).\n",
    "\n",
    "\n"
   ]
  },
  {
   "cell_type": "markdown",
   "metadata": {
    "id": "aMe2b5i6P75d"
   },
   "source": [
    "#### __Задание 7. Сглаживание счетчиков__  (1 балл)"
   ]
  },
  {
   "cell_type": "markdown",
   "metadata": {
    "id": "4gnmTaJqP75d"
   },
   "source": [
    "> Теперь ответим на следующий вопрос: что будет, если некоторая категория встречается в выборке всего несколько раз? По этой причине производится сглаживание счётчиков. Например, на практике хорошие результаты показывает использование сглаживания средним по всей выборке:\n",
    "$$\n",
    "g_j(x, X) = \\frac{\\sum_{i=1}^{\\ell} [f_j(x) = f_j(x_i)][y_i = +1] + C \\times \\text{global_mean}}{\\sum_{i=1}^{\\ell} [f_j(x) = f_j(x_i)] + C}\n",
    "$$\n",
    "где $\\text{global_mean}$ — доля объектов положительного класса в выборке, $C$ — параметр, определяющий степень сглаживания (можно использовать 10 или подобрать для каждого признака свой). Идея в том, что мы \"разбавляем\" среднее значение по категории глобальным средним значением. И тем меньше, чем большее количество объектов этой категории встречается в выборке.\n",
    "\n",
    "> Вместо среднего значения целевой переменной для сглаживания можно использовать любое другое значение от 0 до 1 (этот параметр иногда называют $prior$). Можно сделать несколько признаков с разными значениями параметра. На практике в задачах бинарной классификации полезными бывают даже отрицательные значения!\n",
    "\n",
    "Добавьте сглаживание, описанное выше и повторите эксперименты. Подберите $C$, чтобы качество было лучше, чем при использовании One-Hot-Encoding\n"
   ]
  },
  {
   "cell_type": "code",
   "execution_count": 38,
   "metadata": {
    "execution": {
     "iopub.execute_input": "2024-12-22T12:41:07.981036Z",
     "iopub.status.busy": "2024-12-22T12:41:07.980465Z",
     "iopub.status.idle": "2024-12-22T12:41:08.093113Z",
     "shell.execute_reply": "2024-12-22T12:41:08.092230Z",
     "shell.execute_reply.started": "2024-12-22T12:41:07.981003Z"
    },
    "id": "4xRMlYQlP75d",
    "tags": []
   },
   "outputs": [],
   "source": [
    "class MeanTargetEncoderSmoothed(BaseEstimator, TransformerMixin):\n",
    "    def __init__(self, categorical_features, smoothing=10):\n",
    "        self.categorical_features = categorical_features\n",
    "        self.smoothing = smoothing\n",
    "        self.global_mean = None\n",
    "        self.target_means_ = {}\n",
    "\n",
    "    def fit(self, X, y):\n",
    "        self._X = pd.concat([X, y.rename('target')], axis=1)\n",
    "        self.global_mean = y.mean()\n",
    "        self.target_means_ = {}\n",
    "\n",
    "        for col in self.categorical_features:\n",
    "            category_stats = self._X.groupby(col).agg(\n",
    "                count=('target', 'size'),\n",
    "                mean=('target', 'mean')\n",
    "            )\n",
    "\n",
    "            category_stats['smoothed_mean'] = (\n",
    "                category_stats['mean'] * category_stats['count'] +\n",
    "                self.smoothing * self.global_mean\n",
    "            ) / (category_stats['count'] + self.smoothing)\n",
    "\n",
    "            self.target_means_[col] = category_stats['smoothed_mean']\n",
    "\n",
    "        return self\n",
    "\n",
    "    def transform(self, X):\n",
    "        X = X.copy()\n",
    "\n",
    "        for col in self.categorical_features:\n",
    "            X[col] = X[col].map(self.target_means_[col])\n",
    "            X[col] = X[col].astype('float64')\n",
    "\n",
    "        return X\n",
    "\n"
   ]
  },
  {
   "cell_type": "code",
   "execution_count": 39,
   "metadata": {
    "execution": {
     "iopub.execute_input": "2024-12-22T12:41:08.094846Z",
     "iopub.status.busy": "2024-12-22T12:41:08.094188Z",
     "iopub.status.idle": "2024-12-22T12:41:08.217572Z",
     "shell.execute_reply": "2024-12-22T12:41:08.216660Z",
     "shell.execute_reply.started": "2024-12-22T12:41:08.094808Z"
    },
    "tags": []
   },
   "outputs": [
    {
     "name": "stdout",
     "output_type": "stream",
     "text": [
      "AUC-PR: 0.67206\n",
      "Время: 0.04887 секунд\n"
     ]
    }
   ],
   "source": [
    "column_transformer = ColumnTransformer([\n",
    "    ('mean-target-encoder', MeanTargetEncoderSmoothed(categorical_features=categorical, smoothing=10), categorical)\n",
    "], remainder='passthrough') \n",
    "\n",
    "start_time = time()\n",
    "\n",
    "X_train_encoded = column_transformer.fit_transform(X_train, y_train)\n",
    "X_test_encoded = column_transformer.transform(X_test)\n",
    "\n",
    "model = LogisticRegression(random_state=42, max_iter=10000)\n",
    "model.fit(X_train_encoded, y_train)\n",
    "\n",
    "end_time = time()\n",
    "\n",
    "y_pred_probs = model.predict_proba(X_test_encoded)[:, 1]\n",
    "auc_pr = average_precision_score(y_test, y_pred_probs)\n",
    "\n",
    "print(f\"AUC-PR: {auc_pr:.5f}\")\n",
    "print(f\"Время: {end_time - start_time:.5f} секунд\")"
   ]
  },
  {
   "cell_type": "markdown",
   "metadata": {},
   "source": [
    "При one-hot-encoding  было AUC-PR: 0.66664, после добавления сглаживания качество улучшилось "
   ]
  },
  {
   "cell_type": "markdown",
   "metadata": {
    "id": "TksKMbr_P75d"
   },
   "source": [
    "#### **Задание 8. Числовые или категориальные?**  (0.5 балла)\n",
    "\n",
    "Теперь добавим числовые признаки к счётчикам (тем, которые дали наибольший прирост качества).\n",
    "\n",
    "\n",
    "Проверьте их на наличие выбросов и заполните пропуски средним или медианой, подумайте, что лучше в условиях наших данных\n",
    "\n"
   ]
  },
  {
   "cell_type": "code",
   "execution_count": 40,
   "metadata": {
    "execution": {
     "iopub.execute_input": "2024-12-22T12:41:18.460809Z",
     "iopub.status.busy": "2024-12-22T12:41:18.459714Z",
     "iopub.status.idle": "2024-12-22T12:41:18.523751Z",
     "shell.execute_reply": "2024-12-22T12:41:18.522840Z",
     "shell.execute_reply.started": "2024-12-22T12:41:18.460762Z"
    },
    "tags": []
   },
   "outputs": [],
   "source": [
    "from sklearn.impute import SimpleImputer\n",
    "\n",
    "imputer = SimpleImputer(strategy='median')\n",
    "X_numerical_imputed = pd.DataFrame(imputer.fit_transform(X_numerical), columns=X_numerical.columns)\n",
    "\n",
    "X_full = pd.concat([X_categorical, X_numerical_imputed], axis=1)"
   ]
  },
  {
   "cell_type": "code",
   "execution_count": 41,
   "metadata": {
    "execution": {
     "iopub.execute_input": "2024-12-22T12:41:18.789659Z",
     "iopub.status.busy": "2024-12-22T12:41:18.788380Z",
     "iopub.status.idle": "2024-12-22T12:41:18.804986Z",
     "shell.execute_reply": "2024-12-22T12:41:18.804191Z",
     "shell.execute_reply.started": "2024-12-22T12:41:18.789611Z"
    },
    "tags": []
   },
   "outputs": [
    {
     "data": {
      "text/plain": [
       "Marital Status       object\n",
       "Gender               object\n",
       "Education            object\n",
       "Occupation           object\n",
       "Home Owner           object\n",
       "Commute Distance     object\n",
       "Region               object\n",
       "Income              float64\n",
       "Children            float64\n",
       "Cars                float64\n",
       "Age                 float64\n",
       "dtype: object"
      ]
     },
     "execution_count": 41,
     "metadata": {},
     "output_type": "execute_result"
    }
   ],
   "source": [
    "X_full.dtypes"
   ]
  },
  {
   "cell_type": "code",
   "execution_count": 48,
   "metadata": {
    "execution": {
     "iopub.execute_input": "2024-12-22T12:48:22.964224Z",
     "iopub.status.busy": "2024-12-22T12:48:22.962883Z",
     "iopub.status.idle": "2024-12-22T12:48:23.043459Z",
     "shell.execute_reply": "2024-12-22T12:48:23.042623Z",
     "shell.execute_reply.started": "2024-12-22T12:48:22.964172Z"
    },
    "id": "NGE4O-alP75e",
    "tags": []
   },
   "outputs": [
    {
     "name": "stdout",
     "output_type": "stream",
     "text": [
      "AUC-PR: 0.57802\n",
      "Время обучения модели: 0.00549 секунд\n",
      "\n",
      "Таблица с метриками:\n"
     ]
    },
    {
     "data": {
      "text/html": [
       "<div>\n",
       "<style scoped>\n",
       "    .dataframe tbody tr th:only-of-type {\n",
       "        vertical-align: middle;\n",
       "    }\n",
       "\n",
       "    .dataframe tbody tr th {\n",
       "        vertical-align: top;\n",
       "    }\n",
       "\n",
       "    .dataframe thead th {\n",
       "        text-align: right;\n",
       "    }\n",
       "</style>\n",
       "<table border=\"1\" class=\"dataframe\">\n",
       "  <thead>\n",
       "    <tr style=\"text-align: right;\">\n",
       "      <th></th>\n",
       "      <th>auc_pr</th>\n",
       "      <th>training_time</th>\n",
       "    </tr>\n",
       "  </thead>\n",
       "  <tbody>\n",
       "    <tr>\n",
       "      <th>MeanTarget_Encoder_Smoothed</th>\n",
       "      <td>0.57802</td>\n",
       "      <td>0.00549</td>\n",
       "    </tr>\n",
       "  </tbody>\n",
       "</table>\n",
       "</div>"
      ],
      "text/plain": [
       "                              auc_pr  training_time\n",
       "MeanTarget_Encoder_Smoothed  0.57802        0.00549"
      ]
     },
     "execution_count": 48,
     "metadata": {},
     "output_type": "execute_result"
    }
   ],
   "source": [
    "X_train, X_test, y_train, y_test = train_test_split(X_full, target, test_size=0.25, random_state=777, stratify=target)\n",
    "\n",
    "mean_target_encoder = MeanTargetEncoderSmoothed(categorical_features=categorical, smoothing=10)\n",
    "\n",
    "X_train_encoded = mean_target_encoder.fit_transform(X_train, y_train)\n",
    "X_test_encoded = mean_target_encoder.transform(X_test)\n",
    "\n",
    "start_time = time()\n",
    "model = LogisticRegression(random_state=42, max_iter=10000)\n",
    "model.fit(X_train_encoded, y_train)\n",
    "end_time = time()\n",
    "\n",
    "y_pred_probs = model.predict_proba(X_test_encoded)[:, 1]\n",
    "auc_pr = average_precision_score(y_test, y_pred_probs)\n",
    "\n",
    "df_metrics_new = pd.DataFrame(columns=['auc_pr', 'training_time'])\n",
    "df_metrics_new.loc['MeanTarget_Encoder_Smoothed'] = [auc_pr, end_time - start_time]\n",
    "\n",
    "print(f\"AUC-PR: {auc_pr:.5f}\")\n",
    "print(f\"Время обучения модели: {end_time - start_time:.5f} секунд\")\n",
    "print(\"\\nТаблица с метриками:\")\n",
    "df_metrics_new\n"
   ]
  },
  {
   "cell_type": "markdown",
   "metadata": {
    "id": "JfqXdaqblnZo"
   },
   "source": [
    " Сейчас для числовых признаков мы ищем линейную зависимость, что в общем случае  может быть неверной гипотезой. Тем не менее, у этих признаков есть довольно много уникальных значений (сколько?), поэтому применять к ним one-hot кодирование может оказаться излишним. Попробуйте закодировать эти признаки с помощью счетчиков. Стало ли лучше?"
   ]
  },
  {
   "cell_type": "markdown",
   "metadata": {
    "id": "3p_jGTg-h3MG"
   },
   "source": [
    "Посчитаем количество уникальных значений в каждом числовом признаке:"
   ]
  },
  {
   "cell_type": "code",
   "execution_count": 49,
   "metadata": {
    "execution": {
     "iopub.execute_input": "2024-12-22T12:49:09.118863Z",
     "iopub.status.busy": "2024-12-22T12:49:09.117627Z",
     "iopub.status.idle": "2024-12-22T12:49:09.135852Z",
     "shell.execute_reply": "2024-12-22T12:49:09.135003Z",
     "shell.execute_reply.started": "2024-12-22T12:49:09.118812Z"
    },
    "tags": []
   },
   "outputs": [
    {
     "name": "stdout",
     "output_type": "stream",
     "text": [
      "Количество уникальных значений в каждом числовом признаке:\n",
      "Income      16\n",
      "Children     6\n",
      "Cars         5\n",
      "Age         53\n",
      "dtype: int64\n"
     ]
    }
   ],
   "source": [
    "unique_values = data[['Income', 'Children', 'Cars', 'Age']].nunique()\n",
    "\n",
    "print(\"Количество уникальных значений в каждом числовом признаке:\")\n",
    "print(unique_values)\n"
   ]
  },
  {
   "cell_type": "code",
   "execution_count": 52,
   "metadata": {
    "execution": {
     "iopub.execute_input": "2024-12-22T12:51:39.753822Z",
     "iopub.status.busy": "2024-12-22T12:51:39.752865Z",
     "iopub.status.idle": "2024-12-22T12:51:39.851033Z",
     "shell.execute_reply": "2024-12-22T12:51:39.850292Z",
     "shell.execute_reply.started": "2024-12-22T12:51:39.753773Z"
    },
    "tags": []
   },
   "outputs": [
    {
     "name": "stdout",
     "output_type": "stream",
     "text": [
      "AUC-PR: 0.67138\n",
      "Время обучения модели: 0.00794 секунд\n",
      "\n",
      "Таблица с метриками:\n"
     ]
    },
    {
     "data": {
      "text/html": [
       "<div>\n",
       "<style scoped>\n",
       "    .dataframe tbody tr th:only-of-type {\n",
       "        vertical-align: middle;\n",
       "    }\n",
       "\n",
       "    .dataframe tbody tr th {\n",
       "        vertical-align: top;\n",
       "    }\n",
       "\n",
       "    .dataframe thead th {\n",
       "        text-align: right;\n",
       "    }\n",
       "</style>\n",
       "<table border=\"1\" class=\"dataframe\">\n",
       "  <thead>\n",
       "    <tr style=\"text-align: right;\">\n",
       "      <th></th>\n",
       "      <th>auc_pr</th>\n",
       "      <th>training_time</th>\n",
       "    </tr>\n",
       "  </thead>\n",
       "  <tbody>\n",
       "    <tr>\n",
       "      <th>MeanTarget_Encoder_Smoothed</th>\n",
       "      <td>0.671382</td>\n",
       "      <td>0.007941</td>\n",
       "    </tr>\n",
       "  </tbody>\n",
       "</table>\n",
       "</div>"
      ],
      "text/plain": [
       "                               auc_pr  training_time\n",
       "MeanTarget_Encoder_Smoothed  0.671382       0.007941"
      ]
     },
     "execution_count": 52,
     "metadata": {},
     "output_type": "execute_result"
    }
   ],
   "source": [
    "features_to_encode = data.drop(columns='Purchased Bike').columns.tolist()\n",
    "mean_target_encoder = MeanTargetEncoderSmoothed(categorical_features=features_to_encode, smoothing=10)\n",
    "\n",
    "X_train_encoded = mean_target_encoder.fit_transform(X_train, y_train)\n",
    "X_test_encoded = mean_target_encoder.transform(X_test)\n",
    "\n",
    "start_time = time()\n",
    "model = LogisticRegression(random_state=42, max_iter=10000)\n",
    "model.fit(X_train_encoded, y_train)\n",
    "end_time = time()\n",
    "\n",
    "y_pred_probs_new = model.predict_proba(X_test_encoded)[:, 1]\n",
    "auc_pr_new = average_precision_score(y_test, y_pred_probs_new)\n",
    "\n",
    "df_metrics_new = pd.DataFrame(columns=['auc_pr', 'training_time'])\n",
    "df_metrics_new.loc['MeanTarget_Encoder_Smoothed'] = [auc_pr_new, end_time - start_time]\n",
    "\n",
    "print(f\"AUC-PR: {auc_pr_new:.5f}\")\n",
    "print(f\"Время обучения модели: {end_time - start_time:.5f} секунд\")\n",
    "print(\"\\nТаблица с метриками:\")\n",
    "df_metrics_new"
   ]
  },
  {
   "cell_type": "markdown",
   "metadata": {
    "id": "ia0qk__0iNCS"
   },
   "source": [
    "> __Замечание.__ Усложнение методов вычисления счётчиков не делают результаты модели гарантированно лучше. Особенно с учётом того, что логистическая регрессия не такая сложная модель, чтобы переобучаться. Поэтому вы необязательно должны были получать на каждом шаге всё лучшие и лучшие результаты (но необходимые результаты у вас должны были получиться)."
   ]
  },
  {
   "cell_type": "markdown",
   "metadata": {
    "id": "2mwXyUnOP75e"
   },
   "source": [
    "\n",
    "Как мы могли пронаблюдать, счётчики являются конкурентной альтернативой one-hot-кодированию. Опишите, какие плюсы и минусы использования счётчиков по сравнению с one-hot-кодированием вы заметили.\n",
    "\n",
    "__Ответ__:\n",
    "\n",
    "Плюсы: \n",
    "\n",
    "1) One-hot-кодирование увеличивает количество признаков, особенно при большом числе категорий. Оно заменяет категориальный признак одним числовым, и это уменьшает размерность и снижает расходы на память\n",
    "\n",
    "2)Сглаживание в Mean-Target Encoding помогает избежать сильного влияния редких категорий и делает модель более устойчивой\n",
    "\n",
    "3)Для признаков с большим количеством уникальных значений one-hot-кодирование не подходит, а счётчики просто сводят такие признаки к числовому значению\n",
    "\n",
    "\n",
    "Минус: \n",
    "Если при вычислении счётчиков используются значения целевой переменной из тестовой выборки, это может привести к переобучению."
   ]
  },
  {
   "cell_type": "markdown",
   "metadata": {
    "id": "_oU4I7HjP75f"
   },
   "source": [
    "# Часть 3. Отбор признаков (2 балла)"
   ]
  },
  {
   "cell_type": "markdown",
   "metadata": {
    "id": "EsmcHDoZNu5l"
   },
   "source": [
    "Загрузим данные [UCI Adult Dataset](https://archive.ics.uci.edu/ml/datasets/Adult). Этот набор данных содержит информацию о годовых доходах отдельных людей. В качестве признакового описания используется различная информация о человеке (образование, профессия, брачный статус и т.д.). Целевая переменная является бинарной: больше ли годовой доход 50K долларов или нет."
   ]
  },
  {
   "cell_type": "code",
   "execution_count": 56,
   "metadata": {
    "execution": {
     "iopub.execute_input": "2024-12-22T12:53:14.990117Z",
     "iopub.status.busy": "2024-12-22T12:53:14.989033Z",
     "iopub.status.idle": "2024-12-22T12:53:19.871706Z",
     "shell.execute_reply": "2024-12-22T12:53:19.870795Z",
     "shell.execute_reply.started": "2024-12-22T12:53:14.990074Z"
    },
    "id": "hk7jX8EsNrz2",
    "tags": []
   },
   "outputs": [
    {
     "name": "stderr",
     "output_type": "stream",
     "text": [
      "--2024-12-22 12:53:14--  https://archive.ics.uci.edu/ml/machine-learning-databases/adult/adult.data\n",
      "Resolving archive.ics.uci.edu (archive.ics.uci.edu)... 128.195.10.252\n",
      "Connecting to archive.ics.uci.edu (archive.ics.uci.edu)|128.195.10.252|:443... connected.\n",
      "HTTP request sent, awaiting response... 200 OK\n",
      "Length: unspecified\n",
      "Saving to: ‘adult.data.2’\n",
      "\n",
      "     0K .......... .......... .......... .......... ..........  130K\n",
      "    50K .......... .......... .......... .......... ..........  259K\n",
      "   100K .......... .......... .......... .......... .......... 85.6M\n",
      "   150K .......... .......... .......... .......... .......... 46.8M\n",
      "   200K .......... .......... .......... .......... ..........  261K\n",
      "   250K .......... .......... .......... .......... .......... 45.6M\n",
      "   300K .......... .......... .......... .......... ..........  258K\n",
      "   350K .......... .......... .......... .......... ..........  168M\n",
      "   400K .......... .......... .......... .......... ..........  281M\n",
      "   450K .......... .......... .......... .......... ..........  281M\n",
      "   500K .......... .......... .......... .......... ..........  274M\n",
      "   550K .......... .......... .......... .......... ..........  252M\n",
      "   600K .......... .......... .......... .......... .......... 92.6M\n",
      "   650K .......... .......... .......... .......... ..........  264K\n",
      "   700K .......... .......... .......... .......... .......... 46.5M\n",
      "   750K .......... .......... .......... .......... .......... 94.2M\n",
      "   800K .......... .......... .......... .......... .......... 48.0M\n",
      "   850K .......... .......... .......... .......... .......... 35.4M\n",
      "   900K .......... .......... .......... .......... ..........  265K\n",
      "   950K .......... .......... .......... .......... .......... 32.2M\n",
      "  1000K .......... .......... .......... .......... .......... 75.5M\n",
      "  1050K .......... .......... .......... .......... .......... 66.7M\n",
      "  1100K .......... .......... .......... .......... .......... 36.7M\n",
      "  1150K .......... .......... .......... .......... ..........  264K\n",
      "  1200K .......... .......... .......... .......... .......... 46.6M\n",
      "  1250K .......... .......... .......... .......... .......... 43.4M\n",
      "  1300K .......... .......... .......... .......... .......... 45.0M\n",
      "  1350K .......... .......... .......... .......... ..........  131K\n",
      "  1400K .......... .......... .......... .......... ..........  197M\n",
      "  1450K .......... .......... .......... .......... ..........  185M\n",
      "  1500K .......... .......... .......... .......... ..........  210M\n",
      "  1550K .......... .......... .......... .......... ..........  193M\n",
      "  1600K .......... .......... .......... .......... ..........  223M\n",
      "  1650K .......... .......... .......... .......... .......... 62.0M\n",
      "  1700K .......... .......... .......... .......... .......... 45.4M\n",
      "  1750K .......... .......... .......... .......... .......... 29.6M\n",
      "  1800K .......... .......... .......... .......... ..........  265K\n",
      "  1850K .......... .......... .......... .......... .......... 28.5M\n",
      "  1900K .......... .......... .......... .......... .......... 54.2M\n",
      "  1950K .......... .......... .......... .......... ..........  263K\n",
      "  2000K .......... .......... .......... .......... ..........  101M\n",
      "  2050K .......... .......... .......... .......... .......... 41.2M\n",
      "  2100K .......... .......... .......... .......... .......... 37.1M\n",
      "  2150K .......... .......... .......... .......... ..........  262K\n",
      "  2200K .......... .......... .......... .......... .......... 49.2M\n",
      "  2250K .......... .......... .......... .......... .......... 62.7M\n",
      "  2300K .......... .......... .......... .......... .......... 40.4M\n",
      "  2350K .......... .......... .......... .......... ..........  262K\n",
      "  2400K .......... .......... .......... .......... .......... 55.6M\n",
      "  2450K .......... .......... .......... .......... .......... 61.3M\n",
      "  2500K .......... .......... .......... .......... .......... 49.3M\n",
      "  2550K .......... .......... .......... .......... ..........  262K\n",
      "  2600K .......... .......... .......... .......... .......... 47.0M\n",
      "  2650K .......... .......... .......... .......... .......... 43.3M\n",
      "  2700K .......... .......... .......... .......... .......... 82.9M\n",
      "  2750K .......... .......... .......... .......... ..........  263K\n",
      "  2800K .......... .......... .......... .......... .......... 98.7M\n",
      "  2850K .......... .......... .......... .......... .......... 43.3M\n",
      "  2900K .......... .......... .......... .......... .......... 50.9M\n",
      "  2950K .......... .......... .......... .......... ..........  263K\n",
      "  3000K .......... .......... .......... .......... .......... 52.5M\n",
      "  3050K .......... .......... .......... .......... .......... 77.8M\n",
      "  3100K .......... .......... .......... .......... .......... 59.6M\n",
      "  3150K .......... .......... .......... .......... ..........  261K\n",
      "  3200K .......... .......... .......... .......... .......... 68.3M\n",
      "  3250K .......... .......... .......... .......... .......... 80.3M\n",
      "  3300K .......... .......... .......... .......... .......... 44.0M\n",
      "  3350K .......... .......... .......... .......... .......... 35.4M\n",
      "  3400K .......... .......... .......... .......... ..........  264K\n",
      "  3450K .......... .......... .......... .......... .......... 46.2M\n",
      "  3500K .......... .......... .......... .......... .......... 44.5M\n",
      "  3550K .......... .......... .......... .......... .......... 37.6M\n",
      "  3600K .......... .......... .......... .......... ..........  264K\n",
      "  3650K .......... .......... .......... .......... .......... 63.2M\n",
      "  3700K .......... .......... .......... .......... .......... 70.2M\n",
      "  3750K .......... .......... .......... .......... .......... 30.1M\n",
      "  3800K .......... .......... .......... .......... .......... 47.1M\n",
      "  3850K .......... .......... .......... .                      165K=4.1s\n",
      "\n",
      "2024-12-22 12:53:19 (957 KB/s) - ‘adult.data.2’ saved [3974305]\n",
      "\n"
     ]
    }
   ],
   "source": [
    "!wget https://archive.ics.uci.edu/ml/machine-learning-databases/adult/adult.data"
   ]
  },
  {
   "cell_type": "code",
   "execution_count": 57,
   "metadata": {
    "execution": {
     "iopub.execute_input": "2024-12-22T12:53:19.874627Z",
     "iopub.status.busy": "2024-12-22T12:53:19.873228Z",
     "iopub.status.idle": "2024-12-22T12:53:19.945680Z",
     "shell.execute_reply": "2024-12-22T12:53:19.944788Z",
     "shell.execute_reply.started": "2024-12-22T12:53:19.874585Z"
    },
    "id": "XVqw4RQ5iXRC",
    "tags": []
   },
   "outputs": [
    {
     "data": {
      "text/html": [
       "<div>\n",
       "<style scoped>\n",
       "    .dataframe tbody tr th:only-of-type {\n",
       "        vertical-align: middle;\n",
       "    }\n",
       "\n",
       "    .dataframe tbody tr th {\n",
       "        vertical-align: top;\n",
       "    }\n",
       "\n",
       "    .dataframe thead th {\n",
       "        text-align: right;\n",
       "    }\n",
       "</style>\n",
       "<table border=\"1\" class=\"dataframe\">\n",
       "  <thead>\n",
       "    <tr style=\"text-align: right;\">\n",
       "      <th></th>\n",
       "      <th>age</th>\n",
       "      <th>workclass</th>\n",
       "      <th>fnlwgt</th>\n",
       "      <th>education</th>\n",
       "      <th>education-num</th>\n",
       "      <th>marital-status</th>\n",
       "      <th>occupation</th>\n",
       "      <th>relationship</th>\n",
       "      <th>race</th>\n",
       "      <th>sex</th>\n",
       "      <th>capital-gain</th>\n",
       "      <th>capital-loss</th>\n",
       "      <th>hours-per-week</th>\n",
       "      <th>native-country</th>\n",
       "      <th>income</th>\n",
       "    </tr>\n",
       "  </thead>\n",
       "  <tbody>\n",
       "    <tr>\n",
       "      <th>19847</th>\n",
       "      <td>34</td>\n",
       "      <td>Self-emp-inc</td>\n",
       "      <td>202450</td>\n",
       "      <td>HS-grad</td>\n",
       "      <td>9</td>\n",
       "      <td>Married-civ-spouse</td>\n",
       "      <td>Craft-repair</td>\n",
       "      <td>Husband</td>\n",
       "      <td>White</td>\n",
       "      <td>Male</td>\n",
       "      <td>0</td>\n",
       "      <td>0</td>\n",
       "      <td>50</td>\n",
       "      <td>United-States</td>\n",
       "      <td>0</td>\n",
       "    </tr>\n",
       "  </tbody>\n",
       "</table>\n",
       "</div>"
      ],
      "text/plain": [
       "       age      workclass  fnlwgt education  education-num  \\\n",
       "19847   34   Self-emp-inc  202450   HS-grad              9   \n",
       "\n",
       "            marital-status     occupation relationship    race    sex  \\\n",
       "19847   Married-civ-spouse   Craft-repair      Husband   White   Male   \n",
       "\n",
       "       capital-gain  capital-loss  hours-per-week  native-country  income  \n",
       "19847             0             0              50   United-States       0  "
      ]
     },
     "execution_count": 57,
     "metadata": {},
     "output_type": "execute_result"
    }
   ],
   "source": [
    "columns = [\n",
    "    'age', 'workclass', 'fnlwgt', 'education', 'education-num',\n",
    "    'marital-status', 'occupation', 'relationship', 'race', 'sex',\n",
    "    'capital-gain', 'capital-loss', 'hours-per-week', 'native-country',\n",
    "    'income'\n",
    "]\n",
    "\n",
    "df = pd.read_csv('adult.data', header=None, names=columns)\n",
    "df['income'] = (df['income'] != \" <=50K\").astype('int32')\n",
    "df.sample()"
   ]
  },
  {
   "cell_type": "markdown",
   "metadata": {
    "id": "JKb6BsQMP75f"
   },
   "source": [
    "Важной частью процесса построения модели является отбор признаков. На практике многие признаки оказывают малое влияние на модель (при этом их расчёт занимает время) или даже негативно сказываются на качестве модели. Попробуем несколько подходов отбора признаков, оценим, как они влияют на качество модели и сколько времени занимают.\n",
    "\n"
   ]
  },
  {
   "cell_type": "markdown",
   "metadata": {
    "id": "iGqys4ZpiXjr"
   },
   "source": [
    "Разделите выборку на обучающую и тестовую в соотношении 3:1. Зафиксируйте `random_state=777`, также используйте `stratify=True`."
   ]
  },
  {
   "cell_type": "code",
   "execution_count": 58,
   "metadata": {
    "execution": {
     "iopub.execute_input": "2024-12-22T12:57:50.827135Z",
     "iopub.status.busy": "2024-12-22T12:57:50.825978Z",
     "iopub.status.idle": "2024-12-22T12:57:50.862517Z",
     "shell.execute_reply": "2024-12-22T12:57:50.861746Z",
     "shell.execute_reply.started": "2024-12-22T12:57:50.827090Z"
    },
    "id": "M2TT35c_iYc-"
   },
   "outputs": [],
   "source": [
    "X = df.drop('income', axis=1)\n",
    "y = df['income']\n",
    "\n",
    "X_train, X_test, y_train, y_test = train_test_split(X, y, test_size=0.25, random_state=777, stratify=y)"
   ]
  },
  {
   "cell_type": "markdown",
   "metadata": {
    "id": "-uAlw2X-P75f"
   },
   "source": [
    "Давайте закодируем все категориальные признаки с помощью One-hot Encoding. Сколько новых признаков мы получим?"
   ]
  },
  {
   "cell_type": "code",
   "execution_count": 59,
   "metadata": {
    "execution": {
     "iopub.execute_input": "2024-12-22T13:02:42.903972Z",
     "iopub.status.busy": "2024-12-22T13:02:42.902600Z",
     "iopub.status.idle": "2024-12-22T13:02:42.920490Z",
     "shell.execute_reply": "2024-12-22T13:02:42.919716Z",
     "shell.execute_reply.started": "2024-12-22T13:02:42.903923Z"
    },
    "id": "ILg-JGugP75f"
   },
   "outputs": [
    {
     "name": "stdout",
     "output_type": "stream",
     "text": [
      "Количество категориальных признаков до кодирования: 8\n"
     ]
    }
   ],
   "source": [
    "from sklearn.preprocessing import OneHotEncoder\n",
    "\n",
    "categorical_features = X_train.select_dtypes(include=[\"object\"]).columns\n",
    "numerical_features = X_train.select_dtypes(exclude=[\"object\"]).columns\n",
    "\n",
    "print(f\"Количество категориальных признаков до кодирования: {len(categorical_features)}\")"
   ]
  },
  {
   "cell_type": "code",
   "execution_count": 83,
   "metadata": {
    "execution": {
     "iopub.execute_input": "2024-12-22T13:28:07.390376Z",
     "iopub.status.busy": "2024-12-22T13:28:07.389084Z",
     "iopub.status.idle": "2024-12-22T13:28:07.409844Z",
     "shell.execute_reply": "2024-12-22T13:28:07.409121Z",
     "shell.execute_reply.started": "2024-12-22T13:28:07.390332Z"
    },
    "tags": []
   },
   "outputs": [
    {
     "name": "stdout",
     "output_type": "stream",
     "text": [
      "Количество категориальных признаков после кодирования: 102\n"
     ]
    }
   ],
   "source": [
    "one_hot_encoder = OneHotEncoder(handle_unknown=\"ignore\")\n",
    "one_hot_encoder.fit(X_train[categorical_features])\n",
    "\n",
    "num_new_features = one_hot_encoder.get_feature_names_out(categorical_features).shape[0]\n",
    "print(f\"Количество категориальных признаков после кодирования: {num_new_features}\")\n"
   ]
  },
  {
   "cell_type": "markdown",
   "metadata": {},
   "source": [
    "Получили 94 новых признаков "
   ]
  },
  {
   "cell_type": "markdown",
   "metadata": {
    "id": "kq-XZwf3P75g"
   },
   "source": [
    "В качестве основной модели будем использовать логистическую регрессию, а целевой метрики — `AUC-PR`. Обучите модель и посчитайте качество на тестовой выборке. Давайте запомним полученное значение."
   ]
  },
  {
   "cell_type": "code",
   "execution_count": 87,
   "metadata": {
    "execution": {
     "iopub.execute_input": "2024-12-22T13:36:40.041461Z",
     "iopub.status.busy": "2024-12-22T13:36:40.040202Z",
     "iopub.status.idle": "2024-12-22T13:36:40.374093Z",
     "shell.execute_reply": "2024-12-22T13:36:40.373156Z",
     "shell.execute_reply.started": "2024-12-22T13:36:40.041410Z"
    },
    "tags": []
   },
   "outputs": [
    {
     "name": "stdout",
     "output_type": "stream",
     "text": [
      "AUC-PR: 0.45042\n",
      "Время обучения модели: 0.25 секунд\n"
     ]
    }
   ],
   "source": [
    "from sklearn.preprocessing import OneHotEncoder\n",
    "from sklearn.linear_model import LogisticRegression\n",
    "from sklearn.metrics import average_precision_score\n",
    "from time import time\n",
    "\n",
    "\n",
    "encoded_categorical_features = one_hot_encoder.transform(X_train[categorical_features])\n",
    "\n",
    "encoded_categorical_df = pd.DataFrame(\n",
    "    encoded_categorical_features,\n",
    "    columns=one_hot_encoder.get_feature_names_out(categorical_features),\n",
    "    index=X_train.index  \n",
    ")\n",
    "\n",
    "X_train_preprocessed = X_train.drop(columns=categorical_features).reset_index(drop=True)\n",
    "\n",
    "X_train_final = pd.concat([X_train_preprocessed, encoded_categorical_df.reset_index(drop=True)], axis=1)\n",
    "\n",
    "start_time = time()\n",
    "model = LogisticRegression(random_state=42, max_iter=10000)\n",
    "model.fit(X_train_final, y_train)\n",
    "end_time = time()\n",
    "\n",
    "y_pred_probs = model.predict_proba(X_test_final)[:, 1]\n",
    "auc_pr = average_precision_score(y_test, y_pred_probs)\n",
    "\n",
    "print(f\"AUC-PR: {auc_pr:.5f}\")\n",
    "print(f\"Время обучения модели: {end_time - start_time:.2f} секунд\")\n"
   ]
  },
  {
   "cell_type": "markdown",
   "metadata": {
    "id": "hrbIEFGUIQ6I"
   },
   "source": [
    "Допустим, мы хотим оставить только 40 лучших признаков.\n",
    "\n",
    "Заметим, что нельзя оценивать качество по тестовой выборке, иначе мы можем переобучиться, как, например, при настройке гиперпараметров. Разделите обучающую выборку на 2 части, одну из которых, используйте для валидации. Исходную тестовую выборку стоит использовать только для финальной оценки качества после процедуры фильтрации"
   ]
  },
  {
   "cell_type": "code",
   "execution_count": 88,
   "metadata": {
    "execution": {
     "iopub.execute_input": "2024-12-22T13:44:05.107264Z",
     "iopub.status.busy": "2024-12-22T13:44:05.106023Z",
     "iopub.status.idle": "2024-12-22T13:44:05.143791Z",
     "shell.execute_reply": "2024-12-22T13:44:05.142851Z",
     "shell.execute_reply.started": "2024-12-22T13:44:05.107202Z"
    },
    "id": "DuHUvh0UwsxZ"
   },
   "outputs": [],
   "source": [
    "X_train_part, X_valid_part, y_train_part, y_valid_part = train_test_split(X_train, y_train, test_size=0.3, random_state=777, stratify=y_train)"
   ]
  },
  {
   "cell_type": "markdown",
   "metadata": {
    "id": "hymygH5YwveY"
   },
   "source": [
    "Попробуем сделать это следующими способами:"
   ]
  },
  {
   "cell_type": "markdown",
   "metadata": {
    "id": "QD7jIiDeP75g"
   },
   "source": [
    "#### __Задание 9. Встроенные методы (0.5 балла)__"
   ]
  },
  {
   "cell_type": "markdown",
   "metadata": {
    "id": "bf2T9xtUP75g"
   },
   "source": [
    "Начнём с отбора признаков с помощью модели. У разных алгоритмов есть разные встроенные способы оценки вклада признаков в предсказание. Как известно, у линейной модели за это отвечают веса, а значит, их модуль можно интерпретировать как важность. Такой метод отбора называются встроенным или embedded method, так как он заложен в особенности модели.\n",
    "\n",
    "Оставьте 40 признаков с наибольшим модулем соответствующего параметра линейной модели. Обучите модели заново и оцените её качество. Замерьте скорость такого отбора признаков.\n",
    "\n"
   ]
  },
  {
   "cell_type": "code",
   "execution_count": 106,
   "metadata": {
    "execution": {
     "iopub.execute_input": "2024-12-22T14:15:54.067167Z",
     "iopub.status.busy": "2024-12-22T14:15:54.065888Z",
     "iopub.status.idle": "2024-12-22T14:15:54.568549Z",
     "shell.execute_reply": "2024-12-22T14:15:54.567474Z",
     "shell.execute_reply.started": "2024-12-22T14:15:54.067118Z"
    },
    "id": "wqOH9EunP75g",
    "tags": []
   },
   "outputs": [
    {
     "name": "stdout",
     "output_type": "stream",
     "text": [
      "Время, затраченное на отбор признаков и обучение модели: 0.46 секунд\n",
      "AUC-PR: 0.74788\n"
     ]
    }
   ],
   "source": [
    "start_time = time()\n",
    "\n",
    "logreg_model = LogisticRegression(max_iter=10000, random_state=777)\n",
    "logreg_model.fit(X_train_ohe, y_train)\n",
    "\n",
    "feature_importance = pd.Series(np.abs(logreg_model.coef_[0]), index=X_train_ohe.columns)\n",
    "top_features = feature_importance.nlargest(40).index \n",
    "\n",
    "X_train_40 = X_train_ohe[top_features]\n",
    "X_test_40 = X_test_ohe[top_features]\n",
    "\n",
    "logreg_model = LogisticRegression(max_iter=10000, solver='liblinear', random_state=777)\n",
    "logreg_model.fit(X_train_40, y_train)\n",
    "\n",
    "end_time = time()\n",
    "\n",
    "y_pred_probs = logreg_model.predict_proba(X_test_40)[:, 1]\n",
    "auc_pr = average_precision_score(y_test, y_pred_probs)\n",
    "\n",
    "print(\"Время, затраченное на отбор признаков и обучение модели: {:.2f} секунд\".format(end_time - start_time))\n",
    "print(\"AUC-PR: {:.5f}\".format(auc_pr))"
   ]
  },
  {
   "cell_type": "markdown",
   "metadata": {
    "id": "CCmtS99eVVrC"
   },
   "source": [
    "Изменилось ли качество? Как?"
   ]
  },
  {
   "cell_type": "markdown",
   "metadata": {},
   "source": [
    "Качество сильно улучшилось, ~ на 0.3 "
   ]
  },
  {
   "cell_type": "markdown",
   "metadata": {
    "id": "E5y5hVyYP75h"
   },
   "source": [
    "Подумаем, что мы не учли. Мы действовали в предположении, что признаки вносят вклад равномерно, и не учитывали их масштаб. Если мы умножим один из признаков в 100 раз, то без учёта регуляризации его вес уменьшится в эти же 100 раз. А мы на основе этого отбираем признаки! Давайте сначала отмасштабируем признаки одним из способов, а только потом будем удалять признаки.\n",
    "\n",
    "Помните, что не все способы одинаково хороши, особенно в условиях наличия выбросов\n",
    "\n",
    "Кстати, в таком случае надо пересчитать качество на всех признаках (сделайте это ниже). Если вы сделали нормирование признаков в самом начале, то попробуйте отобрать признаки на неотмасштабированных данных.\n",
    "\n",
    "Что получилось?"
   ]
  },
  {
   "cell_type": "code",
   "execution_count": 113,
   "metadata": {
    "execution": {
     "iopub.execute_input": "2024-12-22T14:24:14.271952Z",
     "iopub.status.busy": "2024-12-22T14:24:14.270714Z",
     "iopub.status.idle": "2024-12-22T14:24:14.964763Z",
     "shell.execute_reply": "2024-12-22T14:24:14.963567Z",
     "shell.execute_reply.started": "2024-12-22T14:24:14.271895Z"
    },
    "id": "qXytEuBgP75h",
    "tags": []
   },
   "outputs": [
    {
     "name": "stdout",
     "output_type": "stream",
     "text": [
      "AUC-PR на всех признаках: 0.76247\n",
      "Время обучения модели: 0.54 секунд\n"
     ]
    }
   ],
   "source": [
    "from sklearn.preprocessing import StandardScaler\n",
    "X_num_train = X_train_part.select_dtypes(include=[np.number])\n",
    "X_num_valid = X_valid_part.select_dtypes(include=[np.number])\n",
    "\n",
    "# Масштабируем числовые признаки\n",
    "scaler = StandardScaler()\n",
    "X_num_train_scaled = pd.DataFrame(\n",
    "    scaler.fit_transform(X_num_train),\n",
    "    columns=X_num_train.columns,\n",
    "    index=X_num_train.index\n",
    ")\n",
    "X_num_valid_scaled = pd.DataFrame(\n",
    "    scaler.transform(X_num_valid),\n",
    "    columns=X_num_valid.columns,\n",
    "    index=X_num_valid.index\n",
    ")\n",
    "\n",
    "\n",
    "categorical_features = X_train_part.select_dtypes(include=['object']).columns.tolist()\n",
    "\n",
    "\n",
    "one_hot_encoder = OneHotEncoder(sparse_output=False, handle_unknown='ignore')\n",
    "one_hot_encoder.fit(X_train_part[categorical_features])\n",
    "\n",
    "encoded_categorical_features_train = one_hot_encoder.transform(X_train_part[categorical_features])\n",
    "encoded_categorical_features_valid = one_hot_encoder.transform(X_valid_part[categorical_features])\n",
    "\n",
    "encoded_categorical_df_train = pd.DataFrame(\n",
    "    encoded_categorical_features_train,\n",
    "    columns=one_hot_encoder.get_feature_names_out(categorical_features),\n",
    "    index=X_train_part.index\n",
    ")\n",
    "\n",
    "encoded_categorical_df_valid = pd.DataFrame(\n",
    "    encoded_categorical_features_valid,\n",
    "    columns=one_hot_encoder.get_feature_names_out(categorical_features),\n",
    "    index=X_valid_part.index\n",
    ")\n",
    "\n",
    "X_train_final = pd.concat([X_num_train_scaled, encoded_categorical_df_train], axis=1)\n",
    "X_valid_final = pd.concat([X_num_valid_scaled, encoded_categorical_df_valid], axis=1)\n",
    "\n",
    "\n",
    "start_time = time()\n",
    "logreg_model = LogisticRegression(random_state=42, max_iter=10000)\n",
    "logreg_model.fit(X_train_final, y_train_part)\n",
    "end_time = time()\n",
    "\n",
    "\n",
    "y_pred_probs = logreg_model.predict_proba(X_valid_final)[:, 1]\n",
    "auc_pr_all = average_precision_score(y_valid_part, y_pred_probs)\n",
    "\n",
    "\n",
    "print(f\"AUC-PR на всех признаках: {auc_pr_all:.5f}\")\n",
    "print(f\"Время обучения модели: {end_time - start_time:.2f} секунд\")"
   ]
  },
  {
   "cell_type": "markdown",
   "metadata": {},
   "source": [
    "Теперь проверим качетво на 40 лучших признаках: "
   ]
  },
  {
   "cell_type": "code",
   "execution_count": 118,
   "metadata": {
    "execution": {
     "iopub.execute_input": "2024-12-22T14:28:07.580941Z",
     "iopub.status.busy": "2024-12-22T14:28:07.579670Z",
     "iopub.status.idle": "2024-12-22T14:28:07.863836Z",
     "shell.execute_reply": "2024-12-22T14:28:07.862709Z",
     "shell.execute_reply.started": "2024-12-22T14:28:07.580894Z"
    },
    "tags": []
   },
   "outputs": [
    {
     "name": "stdout",
     "output_type": "stream",
     "text": [
      "AUC-PR на топ-40 признаках: 0.72634\n",
      "Время обучения модели: 0.25 секунд\n"
     ]
    }
   ],
   "source": [
    "feature_importance = pd.Series(np.abs(logreg_model.coef_[0]), index=X_train_final.columns)\n",
    "top_features = feature_importance.nlargest(40).index\n",
    "\n",
    "X_train_40 = X_train_final[top_features]\n",
    "X_valid_40 = X_valid_final[top_features]\n",
    "\n",
    "# Обучение модели 40 лучших признаках\n",
    "start_time = time()\n",
    "logreg_model_40 = LogisticRegression(random_state=42, max_iter=10000)\n",
    "logreg_model_40.fit(X_train_40, y_train_part)\n",
    "end_time = time()\n",
    "\n",
    "y_pred_probs_40 = logreg_model_40.predict_proba(X_valid_40)[:, 1]\n",
    "auc_pr_40 = average_precision_score(y_valid_part, y_pred_probs_40)\n",
    "\n",
    "print(f\"AUC-PR на топ-40 признаках: {auc_pr_40:.5f}\")\n",
    "print(f\"Время обучения модели: {end_time - start_time:.2f} секунд\")"
   ]
  },
  {
   "cell_type": "markdown",
   "metadata": {},
   "source": [
    "При масштабировании модели и обучении без отбора признаков качество сильно возрастает. Но при масштабировании и последующем обучении модели на 40 признаках, качетво падает по сравнению с тем, что мы получили ранее"
   ]
  },
  {
   "cell_type": "markdown",
   "metadata": {
    "id": "OLZJRpxjP75h"
   },
   "source": [
    "Вопрос на засыпку: one-hot кодирование возвращает нам единичные признаки-индикаторы. Попробуйте также отскалировать их, как и обычные числовые, и снова выбрать 40 главных по вкладу признаков. Изменился ли их список? Изменится ли качество?"
   ]
  },
  {
   "cell_type": "code",
   "execution_count": 128,
   "metadata": {
    "execution": {
     "iopub.execute_input": "2024-12-22T14:51:50.720387Z",
     "iopub.status.busy": "2024-12-22T14:51:50.719237Z",
     "iopub.status.idle": "2024-12-22T14:51:50.998068Z",
     "shell.execute_reply": "2024-12-22T14:51:50.996875Z",
     "shell.execute_reply.started": "2024-12-22T14:51:50.720340Z"
    },
    "id": "VpGE8ll5P75h",
    "tags": []
   },
   "outputs": [
    {
     "name": "stdout",
     "output_type": "stream",
     "text": [
      "AUC-PR: 0.76099\n"
     ]
    }
   ],
   "source": [
    "numeric_features = X_train_part.select_dtypes(include=[np.number])\n",
    "categorical_features = X_train_part.select_dtypes(include=['object'])\n",
    "\n",
    "one_hot_encoder = OneHotEncoder(handle_unknown=\"ignore\", sparse_output=False)\n",
    "encoded_categorical_train = one_hot_encoder.fit_transform(categorical_features)\n",
    "encoded_categorical_valid = one_hot_encoder.transform(X_valid_part.select_dtypes(include=['object']))\n",
    "\n",
    "scaler_numeric = StandardScaler()\n",
    "scaled_numeric_train = scaler_numeric.fit_transform(numeric_features)\n",
    "scaled_numeric_valid = scaler_numeric.transform(X_valid_part.select_dtypes(include=[np.number]))\n",
    "\n",
    "#добавили скалирование категориальных\n",
    "scaler_categorical = StandardScaler()\n",
    "scaled_categorical_train = scaler_categorical.fit_transform(encoded_categorical_train)\n",
    "scaled_categorical_valid = scaler_categorical.transform(encoded_categorical_valid)\n",
    "\n",
    "X_train_final = pd.DataFrame(\n",
    "    data=np.hstack([scaled_numeric_train, scaled_categorical_train]),\n",
    "    columns=list(numeric_features.columns) + list(one_hot_encoder.get_feature_names_out(categorical_features.columns)),\n",
    "    index=X_train_part.index\n",
    ")\n",
    "\n",
    "X_valid_final = pd.DataFrame(\n",
    "    data=np.hstack([scaled_numeric_valid, scaled_categorical_valid]),\n",
    "    columns=list(numeric_features.columns) + list(one_hot_encoder.get_feature_names_out(categorical_features.columns)),\n",
    "    index=X_valid_part.index\n",
    ")\n",
    "\n",
    "model = LogisticRegression(max_iter=10000, random_state=777)\n",
    "model.fit(X_train_final, y_train_part)\n",
    "\n",
    "\n",
    "y_pred_probs = model.predict_proba(X_valid_final)[:, 1]\n",
    "auc_pr = average_precision_score(y_valid_part, y_pred_probs)\n",
    "\n",
    "print(f\"AUC-PR: {auc_pr:.5f}\")"
   ]
  },
  {
   "cell_type": "code",
   "execution_count": 136,
   "metadata": {
    "execution": {
     "iopub.execute_input": "2024-12-22T15:30:12.485928Z",
     "iopub.status.busy": "2024-12-22T15:30:12.484718Z",
     "iopub.status.idle": "2024-12-22T15:30:12.704662Z",
     "shell.execute_reply": "2024-12-22T15:30:12.703619Z",
     "shell.execute_reply.started": "2024-12-22T15:30:12.485881Z"
    },
    "tags": []
   },
   "outputs": [
    {
     "name": "stdout",
     "output_type": "stream",
     "text": [
      "AUC-PR на топ-40 признаках: 0.75958\n",
      "Время обучения модели: 0.19 секунд\n"
     ]
    }
   ],
   "source": [
    "feature_importance = pd.Series(np.abs(model.coef_[0]), index=X_train_final.columns)\n",
    "top_features = feature_importance.nlargest(40).index\n",
    "\n",
    "X_train_40 = X_train_final[top_features]\n",
    "X_valid_40 = X_valid_final[top_features]\n",
    "\n",
    "\n",
    "start_time = time()\n",
    "logreg_model_40 = LogisticRegression(random_state=42, max_iter=10000)\n",
    "logreg_model_40.fit(X_train_40, y_train_part)\n",
    "end_time = time()\n",
    "\n",
    "\n",
    "y_pred_probs_40 = logreg_model_40.predict_proba(X_valid_40)[:, 1]\n",
    "auc_pr_40 = average_precision_score(y_valid_part, y_pred_probs_40)\n",
    "\n",
    "\n",
    "print(f\"AUC-PR на топ-40 признаках: {auc_pr_40:.5f}\")\n",
    "print(f\"Время обучения модели: {end_time - start_time:.2f} секунд\")"
   ]
  },
  {
   "cell_type": "markdown",
   "metadata": {},
   "source": [
    "Качество модели немного ухудшилось, и без отбора и при отборе признаков. Скалирование  переводит 0 и 1 в значения, распределённые вокруг среднего, это нарушает бинарность признаков.\n",
    "Модель начинает интерпретировать значения не как бинарные индикаторы, а как непрерывные значения. Поэтому могло произойти ухудшение качества"
   ]
  },
  {
   "cell_type": "markdown",
   "metadata": {
    "id": "3nK78Ag2P75i"
   },
   "source": [
    "#### __Задание 10. Методы фильтрации (0.5 балла)__\n",
    "\n",
    "\n",
    "Давайте отбирать признаки умнее, а именно через подсчёт некоторой функции для каждого признака. На основании значений этой функции будем оставлять наиболее важные признаки. Методы этого семейства называют фильтрующими или  filter methods.\n",
    "\n",
    "Одна из самых простых функция - корреляция между признаком и целевой переменной. Подумайте, какая взаимосвязь между корреляцией и предсказательной способностью модели, и как бы вы использовали информацию о корреляции для отбора признаков\n",
    "\n",
    "**Ответ:**\n",
    "Высокая корреляция (по модулю)значит, что признак имеет сильную линейную связь с целевой переменной. Такой признак попадет в топ.\n",
    "\n",
    "Низкая корреляция (по модулю)значит, что признак слабо связан с целевой переменной. Он не такой полезный.\n",
    "\n",
    "Посчитайте корреляцию каждого признака с таргетом и отфильтруйте 40 признаков исходя из того, что вы описали, после чего замерьте качество и время отбора\n",
    "\n"
   ]
  },
  {
   "cell_type": "code",
   "execution_count": 137,
   "metadata": {
    "execution": {
     "iopub.execute_input": "2024-12-22T15:31:14.545137Z",
     "iopub.status.busy": "2024-12-22T15:31:14.543905Z",
     "iopub.status.idle": "2024-12-22T15:31:14.705268Z",
     "shell.execute_reply": "2024-12-22T15:31:14.704127Z",
     "shell.execute_reply.started": "2024-12-22T15:31:14.545089Z"
    },
    "id": "0snv1D-hP75i",
    "tags": []
   },
   "outputs": [
    {
     "name": "stdout",
     "output_type": "stream",
     "text": [
      "AUC-PR на топ-40 признаках: 0.75998\n",
      "Время отбора признаков и обучения модели: 0.08 секунд\n"
     ]
    }
   ],
   "source": [
    "from time import time\n",
    "correlations = X_train_final.corrwith(y_train_part).abs()\n",
    "top_features = correlations.nlargest(40).index\n",
    "\n",
    "X_train_40 = X_train_final[top_features]\n",
    "X_valid_40 = X_valid_final[top_features]\n",
    "\n",
    "start_time = time() \n",
    "logreg_model_40 = LogisticRegression(random_state=42, max_iter=10000)\n",
    "logreg_model_40.fit(X_train_40, y_train_part)\n",
    "end_time = time()  \n",
    "y_pred_probs_40 = logreg_model_40.predict_proba(X_valid_40)[:, 1]\n",
    "auc_pr_40 = average_precision_score(y_valid_part, y_pred_probs_40)\n",
    "\n",
    "print(f\"AUC-PR на топ-40 признаках: {auc_pr_40:.5f}\")\n",
    "print(f\"Время отбора признаков и обучения модели: {end_time - start_time:.2f} секунд\")"
   ]
  },
  {
   "cell_type": "markdown",
   "metadata": {
    "id": "2E6yxKB2KBav"
   },
   "source": [
    "В качестве еще одной функция можно считать t-статистику:\n",
    "\n",
    "$$t(j) = \\frac{|\\mu_+ - \\mu_-|}{\\sqrt{\\frac{n_+ \\sigma^2_+ + n_- \\sigma^2_-}{n_+ + n_-}}},$$\n",
    "\n",
    "где $\\mu$, $\\sigma$, $n$ соответственно среднее, стандартное отклонение и количество объектов каждого из классов.\n",
    "\n",
    "Оставьте 40 признаков с наибольшим значением $t$, замерьте качество и скорость отбора признаков."
   ]
  },
  {
   "cell_type": "code",
   "execution_count": 140,
   "metadata": {
    "execution": {
     "iopub.execute_input": "2024-12-22T15:33:03.299295Z",
     "iopub.status.busy": "2024-12-22T15:33:03.297888Z",
     "iopub.status.idle": "2024-12-22T15:33:03.589121Z",
     "shell.execute_reply": "2024-12-22T15:33:03.587897Z",
     "shell.execute_reply.started": "2024-12-22T15:33:03.299243Z"
    },
    "id": "a-IuzDptKE5J",
    "tags": []
   },
   "outputs": [
    {
     "name": "stdout",
     "output_type": "stream",
     "text": [
      "AUC-PR на топ-40 признаках: 0.75998\n",
      "Время отбора признаков и обучения модели: 0.25 секунд\n"
     ]
    }
   ],
   "source": [
    "def calculate_t_statistics(X, y):\n",
    "    t_statistics = []\n",
    "    for col in X.columns:\n",
    "        feature = X[col]\n",
    "        positive_class = feature[y == 1]\n",
    "        negative_class = feature[y == 0]\n",
    "        \n",
    "        mu_pos = positive_class.mean()\n",
    "        mu_neg = negative_class.mean()\n",
    "        sigma_pos = positive_class.std()\n",
    "        sigma_neg = negative_class.std()\n",
    "        n_pos = positive_class.shape[0]\n",
    "        n_neg = negative_class.shape[0]\n",
    "\n",
    "        numerator = np.abs(mu_pos - mu_neg)\n",
    "        denominator = np.sqrt((n_pos * sigma_pos**2 + n_neg * sigma_neg**2) / (n_pos + n_neg))\n",
    "        t_value = numerator / denominator if denominator != 0 else 0\n",
    "        t_statistics.append(t_value)\n",
    "\n",
    "    return pd.Series(t_statistics, index=X.columns)\n",
    "\n",
    "start_time = time()\n",
    "t_statistics = calculate_t_statistics(X_train_final, y_train_part)\n",
    "\n",
    "top_features = t_statistics.nlargest(40).index\n",
    "\n",
    "X_train_40 = X_train_final[top_features]\n",
    "X_valid_40 = X_valid_final[top_features]\n",
    "\n",
    "logreg_model_40 = LogisticRegression(random_state=346346, max_iter=10000)\n",
    "logreg_model_40.fit(X_train_40, y_train_part)\n",
    "\n",
    "\n",
    "y_pred_probs_40 = logreg_model_40.predict_proba(X_valid_40)[:, 1]\n",
    "auc_pr_40 = average_precision_score(y_valid_part, y_pred_probs_40)\n",
    "end_time = time()\n",
    "\n",
    "\n",
    "print(f\"AUC-PR на топ-40 признаках: {auc_pr_40:.5f}\")\n",
    "print(f\"Время отбора признаков и обучения модели: {end_time - start_time:.2f} секунд\")"
   ]
  },
  {
   "cell_type": "markdown",
   "metadata": {
    "id": "zO63RNCLP75i"
   },
   "source": [
    "#### __Задание 11. Методы-обёртки__ (1 балл)\n",
    "\n",
    "Третий из рассматриваемых нами методов работает следующим образом: мы исключаем признаки по очереди и смотрим, как это влияет на качество. Удаляем признаки таким жадным способом, пока не окажется выполненым некоторое условие (количество признаков или ухудшение качества). Более конкретно, алгоритм выглядит так:\n",
    "\n",
    "- $k$ - число признаков, которых мы хотим оставить\n",
    "- $m$ - число признаков, которых мы выбрасываем на каждой итерации, оно же длина шага\n",
    "\n",
    "Шаг $i$:\n",
    "- $F_i$ - набор признаков (равный всему множеству признаков на i=0)\n",
    "- $M_i$ - их число, в общем случае $\\max(k, M_{i-1} - m)$\n",
    "1. Если признаков осталось ровно $k$, либо метрика стала уменьшаться более, чем на $\\epsilon$ — останавливаемся (не наш случай, но так тоже можно)\n",
    "2. Обучаем модель $a_i$ на наборе $F_i$, после чего оцениваем важность признаков (любым из способов выше или какими-нибудь ещё)\n",
    "3. Отбираем $\\min(M_i - k, m)$ наиболее бесполезных, согласно пункту 2, признаков (берем $m$, если можем, иначе оставляем вплоть до k), удаляем, переходим к следующему шагу\n",
    "\n",
    "Снова оставьте только 40 признаков и оцените качество на тестовой выборке. Подберите длину шага из каких-то соображений (каких, кстати?) и замерьте время работы метода"
   ]
  },
  {
   "cell_type": "code",
   "execution_count": null,
   "metadata": {
    "id": "ISGdzDQQP75j"
   },
   "outputs": [],
   "source": [
    "# your code here"
   ]
  },
  {
   "cell_type": "markdown",
   "metadata": {
    "id": "1AEL4z61P75j"
   },
   "source": [
    "Стоит отметить, что с помощью такого метода можно пойти и в обратную сторону. Попробуйте _добавлять_ самые полезные признаки в выборку до тех пор, пока не наберется 40 штук. Найдется ли порог, при котором добавление следующих признаков будет только ухудшать качество модели?"
   ]
  },
  {
   "cell_type": "code",
   "execution_count": null,
   "metadata": {
    "id": "ZzF8TzVFP75j"
   },
   "outputs": [],
   "source": [
    "# your code here"
   ]
  },
  {
   "cell_type": "markdown",
   "metadata": {
    "id": "wj6a-BERP75j"
   },
   "source": [
    "Давайте подведём итоги по отбору признаков. Назовите преимущества и недостатки каждого из методов. Какой метод привёл к наилучшему качеству?\n",
    "\n",
    "**Ответ:** # your code here"
   ]
  },
  {
   "cell_type": "markdown",
   "metadata": {
    "id": "zrR06pp7P75k"
   },
   "source": [
    "# Часть 4. Оценка экономического эффекта модели (2 балла)\n",
    "\n"
   ]
  },
  {
   "cell_type": "markdown",
   "metadata": {
    "id": "CmgOdf7GT3uh"
   },
   "source": [
    "В данной части мы займемся тем, что от вас скорее всего потребуется на реальной работе (помимо перекладки `json`, разумеется). А именно:\n",
    "- мы соберем несколько специализированных метрик качества,\n",
    "- попытаемся настроить модель на максимизацию _прибыли_,\n",
    "- оценим, сколько вообще получится заработать на этом.\n",
    "\n",
    "Разумеется, здесь будет сделано множество упрощающих жизнь допущений, но обо всем по порядку. Если вы всё прослушали на экономике, то напомним, что выручка — это сколько денег нам принесли клиенты, а прибыль — выручка за вычетом расходов на зарплату и прочее."
   ]
  },
  {
   "cell_type": "markdown",
   "metadata": {
    "id": "NQkW5Xh6yip2"
   },
   "source": [
    "\n",
    "#### __Задание 12. Прогноз по доходам и расходам__ (1 балл)\n",
    "\n",
    "В этой части мы будем работать с данными [UCI Bank Marketing Dataset](https://archive.ics.uci.edu/ml/datasets/bank+marketing). Этот датасет содержит информацию о банковском телефонном маркетинге.\n",
    "\n",
    "__Объектом__ здесь является телефонный звонок потенциальному клиенту с предложением некоторой услуги (утверждается, что это краткосрочный депозит). В качестве признакового описания используются характеристики клиента (образование, брак и т.д.), данные о звонке и различные экономические индикаторы - более подробная информация представлена в файле `bank-additional-names.txt`.\n",
    "__Целевая переменная__ - ответ клиента (согласился ли он открыть депозит?)"
   ]
  },
  {
   "cell_type": "code",
   "execution_count": null,
   "metadata": {
    "id": "e9WBqQd1aAjp"
   },
   "outputs": [],
   "source": [
    "!wget https://archive.ics.uci.edu/ml/machine-learning-databases/00222/bank-additional.zip\n",
    "!unzip bank-additional.zip\n",
    "df = pd.read_csv('bank-additional/bank-additional-full.csv', sep=';')"
   ]
  },
  {
   "cell_type": "code",
   "execution_count": null,
   "metadata": {
    "id": "Gbw5k7lMaYT1"
   },
   "outputs": [],
   "source": [
    "df.head()"
   ]
  },
  {
   "cell_type": "code",
   "execution_count": null,
   "metadata": {
    "id": "qmxCn_Pz3kJB"
   },
   "outputs": [],
   "source": [
    "X = df.drop(columns=['duration', 'y'])\n",
    "y = (df.y == 'yes')"
   ]
  },
  {
   "cell_type": "markdown",
   "metadata": {
    "id": "lMKgtxfwaBEQ"
   },
   "source": [
    "В этой части не нужно делить выборку - мы будем использовать кросс-валидацию.  Используйте наиболее подходящие с вашей точки зрения параметры и их значения (`shuffle`, `stratify`, число фолдов, ...). По кросс-валидации у вас получится несколько вариантов обучающей и тестовой выборки. Для удобства можно воспользоваться шаблоном ниже, который по ходу выполнения задания будет обрастать функционалом. Как обычно, это необязательно, но сохранять результаты экспериментов очень и очень желательно, в конце мы будем их сравнивать"
   ]
  },
  {
   "cell_type": "code",
   "execution_count": null,
   "metadata": {
    "id": "DWH-ApMjY4et"
   },
   "outputs": [],
   "source": [
    "from collections import defaultdict\n",
    "from sklearn.model_selection import KFold\n",
    "\n",
    "def cross_validate(\n",
    "    X,\n",
    "    y,\n",
    "    n_splits=5,\n",
    "    random_state=None,\n",
    "    shuffle=False,\n",
    "    # другие аргументы, которые могут вам пригодиться дальше по пунктам\n",
    "):\n",
    "    metrics = []\n",
    "    # или любой другой фолд, посмотрите в model_selection\n",
    "    kf = KFold(n_splits=n_splits, random_state=random_state, shuffle=shuffle)\n",
    "\n",
    "    for train_index, test_index in kf.split(X):\n",
    "\n",
    "        # возьмите датасет и обучите модель\n",
    "        # your code here\n",
    "\n",
    "        # посчитайте метрики, которые вам нужны и добавьте результаты с каждого фолда\n",
    "        metric_dict = {\n",
    "            # \"metric_key\": metric_value\n",
    "        }\n",
    "        metrics.append(metric_dict)\n",
    "\n",
    "    # осталось только красиво всё обернуть\n",
    "    return pd.DataFrame(metrics)"
   ]
  },
  {
   "cell_type": "markdown",
   "metadata": {
    "id": "YIX-omTIyxtU"
   },
   "source": [
    "Выберите метрику классификации, которая вам кажется подходящей, и обучите логистическую регрессию на каждой обучающей выборке (закодируйте категориальные признаки способом, который выше вам понравился больше всех, отнормируйте числовые, гиперпараметры оставьте по умолчанию), сделайте предсказания для соответствующих тестовых выборок, выведите результаты"
   ]
  },
  {
   "cell_type": "code",
   "execution_count": null,
   "metadata": {
    "id": "5V3f4cQryx6c"
   },
   "outputs": [],
   "source": [
    "# your code here"
   ]
  },
  {
   "cell_type": "markdown",
   "metadata": {
    "id": "CcuHfZjfzmnt"
   },
   "source": [
    "Допустим, работники вашего колл-центра получают за один звонок клиенту 2 доллара. При согласии клиента на предлагаемые условия он принесет в банк 10 долларов. Предположим, что всем положительным прогнозам ваши сотрудники решили позвонить.\n",
    "\n",
    "В качестве бизнес-метрики в нашей задаче мы будем считать прибыль aka `profit`, соответственно лучшую модель будем выбирать исходя из этого.\n",
    "Посчитайте на всех тестовых выборках выручку и сохраните результаты для бизнес-метрики вместе с предыдущей метрикой, которую вы выбрали\n",
    "\n",
    "Ответьте на вопросы:\n",
    "- Сколько денег вы в среднем заработаете?\n",
    "- Какое получилось стандартное отклонение профита?\n",
    "- Сколько из заработанных денег придётся отдать операторам вашего колл-центра?\n",
    "- Пропорциональна ли бизнес-метрика выбранной метрике классификации?"
   ]
  },
  {
   "cell_type": "code",
   "execution_count": null,
   "metadata": {
    "id": "0okqAh-AzWTX"
   },
   "outputs": [],
   "source": [
    "# your code here"
   ]
  },
  {
   "cell_type": "markdown",
   "metadata": {
    "id": "Da1x6u6wP75k"
   },
   "source": [
    "Внесем некоторую долю случайности. Пусть теперь согласный на условия клиент будет приносить не 10 долларов, а случайную величину, равномерно распределенную в интервале $[0;20)$. Проделайте все те же самые действия. Для имитации реальной ситуации **НЕ** фиксируйте `random_seed` при подсчете выручки с клиента (для разбиения на фолды разумеется оставьте). Что получилось?"
   ]
  },
  {
   "cell_type": "code",
   "execution_count": null,
   "metadata": {
    "id": "0AKmJpRAP75k"
   },
   "outputs": [],
   "source": [
    "# your code here"
   ]
  },
  {
   "cell_type": "markdown",
   "metadata": {
    "id": "O1g9FPExP75k"
   },
   "source": [
    "Настройте по кросс-валидации коэффициент регуляризации модели для максимизации прибыли (считайте как случайную величину выше). Удалось ли получить какой-то выигрыш? При каком коэффициенте регуляризациии прибыль максимальна? Постройте график зависимости ожидаемой прибыли от коэффициента"
   ]
  },
  {
   "cell_type": "code",
   "execution_count": null,
   "metadata": {
    "id": "YXx7qU5PP75l"
   },
   "outputs": [],
   "source": [
    "# your code here"
   ]
  },
  {
   "cell_type": "markdown",
   "metadata": {
    "id": "sdptRdaIP75l"
   },
   "source": [
    "Попробуйте запустить перебор несколько раз. Находится ли каждый раз один и тот же \"лучший\" коэффициент? Присутствует ли какая-то закономерность? Какие вы можете сделать из этого выводы?"
   ]
  },
  {
   "cell_type": "code",
   "execution_count": null,
   "metadata": {
    "id": "inD5UMbGP75l"
   },
   "outputs": [],
   "source": [
    "# your code here"
   ]
  },
  {
   "cell_type": "markdown",
   "metadata": {
    "id": "J0j8HubaP75l"
   },
   "source": [
    "#### __Задание 13. Ключевая метрика__ (1 балл)\n",
    "\n",
    "Выше мы уже описали примерную экономическую модель вашей задачи. Как вы считаете, что для вашего бизнеса важнее — хороший precision или recall модели? Почему?\n",
    "\n",
    "__Ответ:__ # your answer here\n",
    "\n"
   ]
  },
  {
   "cell_type": "markdown",
   "metadata": {
    "id": "4LFRNnrtP75m"
   },
   "source": [
    "> Вспомним, что на самом деле логистическая регрессия предсказывает нам вероятности положительного класса для объекта. Возможно, путем настройки __порога бинаризации__ этих вероятностей мы сможем получить какой-то выигрыш?\n",
    "\n",
    "Проверьте ваши рассуждения выше с помощью настройки порога бинаризации на кросс-валидации для максимизации прибыли. Воспользуйтесь сеткой от 0 до 1 с шагом 0.01. Напомним, что снижение порога дает нам более высокий recall и более низкий precision, и наоборот. Добавьте новую ML-метрику в ваш CV-пайплайн, найдите такой порог, при котором бизнес-метрика максимальна, и проверьте, связана ли новая ML метрика с профитом"
   ]
  },
  {
   "cell_type": "code",
   "execution_count": null,
   "metadata": {
    "id": "3ALl1YeBP75m"
   },
   "outputs": [],
   "source": [
    "# your code here"
   ]
  },
  {
   "cell_type": "markdown",
   "metadata": {
    "id": "fLL7uqb2P75m"
   },
   "source": [
    "Постройте график зависимости прибыли от порога бинаризации. Выделите наилучший порог\n",
    "\n",
    "\n"
   ]
  },
  {
   "cell_type": "code",
   "execution_count": null,
   "metadata": {
    "id": "K2D3BkVsP75m"
   },
   "outputs": [],
   "source": [
    "# your code here"
   ]
  },
  {
   "cell_type": "markdown",
   "metadata": {
    "id": "pjw2DImXXoFx"
   },
   "source": [
    "__Вопрос:__ Замечаете ли вы какую-то закономерность? Для правильного ответа на этот вопрос попробуйте запустить несколько раз и задумайтесь, почему порог получается в какой-то конкретной области?"
   ]
  },
  {
   "cell_type": "markdown",
   "metadata": {
    "id": "WfnHUQ7sXouL"
   },
   "source": [
    "__Ответ:__ # your answer here"
   ]
  },
  {
   "cell_type": "markdown",
   "metadata": {
    "id": "7tyapxyGdrSX"
   },
   "source": [
    "Наконец, чтобы точнее понять, что наша модель лучше исходной, посчитайте среднее и стандартное отклонение по фолдам бизнес-метрики для оптимизированной модели (гиперпараметры + порог) и дефолтной логистической регрессии. Проверьте, действительно ли удалось добиться значимого изменения прибыли — примените какой-либо статистический тест (например, парный t-критерий с $\\alpha=0.95$) к метрике, полученной двумя этими моделями"
   ]
  },
  {
   "cell_type": "code",
   "execution_count": null,
   "metadata": {
    "id": "kosI-CEjeeSb"
   },
   "outputs": [],
   "source": [
    "# your code here"
   ]
  },
  {
   "cell_type": "markdown",
   "metadata": {
    "id": "eELf9JBWM9D5"
   },
   "source": [
    "# __Бонусная часть. Многоклассовая классификация__ (1.5 балла)\n",
    "\n",
    "Как известно, некоторые задачи не ограничиваются всего лишь двумя классами. На лекции вы проходили несколько способов обобщения линейных моделей на этот случай: One-vs-Rest и One-vs-One. Ниже мы посмотрим, в чём преимущества и недостатки обоих подходов, а так же попробуем ещё один чуть более экзотический метод\n",
    "\n",
    "#### **Задание 14. One-vs-Rest vs One-vs-One** (0.5 балла)\n",
    "\n",
    "В качестве [датасета](https://www.kaggle.com/datasets/thedevastator/higher-education-predictors-of-student-retention/data) здесь и ниже мы будем брать очень жизненные и актуальные данные о том, доучится студент или нет, в зависимости от курсов, возраста, гендера и прочих (не)осуждаемых признаков."
   ]
  },
  {
   "cell_type": "code",
   "execution_count": null,
   "metadata": {
    "id": "23xX_I3bO3uQ"
   },
   "outputs": [],
   "source": [
    "import kagglehub\n",
    "\n",
    "path = kagglehub.dataset_download(\"thedevastator/higher-education-predictors-of-student-retention\") + \"/dataset.csv\"\n",
    "\n",
    "features = [\"Marital status\", \"Course\", \"Nacionality\", \"Gender\", \"Age at enrollment\"]\n",
    "target = \"Target\""
   ]
  },
  {
   "cell_type": "markdown",
   "metadata": {
    "id": "KMuDGcDiO6bI"
   },
   "source": [
    "Будем смотреть только какое-то подмножество наиболее весёлых факторов. От вас по классике потребуется их преобразовать, в зависимости от того, числовые они или категориальные и **закодировать таргет чиселками!!!**"
   ]
  },
  {
   "cell_type": "code",
   "execution_count": null,
   "metadata": {
    "id": "_Y8NbWwPPVHZ"
   },
   "outputs": [],
   "source": [
    "# your code here"
   ]
  },
  {
   "cell_type": "code",
   "execution_count": null,
   "metadata": {
    "id": "f8kXNmpIPYdA"
   },
   "outputs": [],
   "source": [
    "X_train, X_test, y_train, y_test = train_test_split(X, y, random_state=228, shuffle=True, test_size=0.2)"
   ]
  },
  {
   "cell_type": "markdown",
   "metadata": {
    "id": "j4cGqq_kPfrQ"
   },
   "source": [
    "Ваш следующий шаг - посмотреть, каким образом в `sklearn` реализованы OvR и OvO, обучить таким образом логистическую регрессию с `max_iter=10000`, далее выбрать какую-то метрику (и её усреднение, его выбор тоже аргументируйте), и сравнить следующие параметры:\n",
    "- число классификаторов\n",
    "- скорость обучения\n",
    "- качество модели\n",
    "\n",
    "Также сохраните куда-нибудь предсказания вероятностей у каждой из моделей. Это можно сделать не одним способом, но возможно вам чуть с этим поможет следующий пункт\n"
   ]
  },
  {
   "cell_type": "code",
   "execution_count": null,
   "metadata": {
    "id": "BuO6VHE1P4dA"
   },
   "outputs": [],
   "source": [
    "# your code here"
   ]
  },
  {
   "cell_type": "markdown",
   "metadata": {
    "id": "rCxJ7e3QYsgF"
   },
   "source": [
    "Как вы объясните полученные результаты?\n",
    "\n",
    "__Ответ:__ # your code here"
   ]
  },
  {
   "cell_type": "markdown",
   "metadata": {
    "id": "075hgy9sP7QX"
   },
   "source": [
    "#### __Задание 15. Softmax регрессия__ (1 балл)\n",
    "\n",
    "Однако любознательные машинисты могут задаться вопросом \"А зачем нам вся эта шляпа, если у сигмоиды есть обобщение на случай многоклассовой классификации?\" Если вам понравилось считать градиенты в прошлом дз, или вам нравится обучать нейросети, этот пункт для вас. Здесь мы попробуем построить одну-единственную модель, которая будет всё предсказывать, а также сравним с вариантами выше"
   ]
  },
  {
   "cell_type": "markdown",
   "metadata": {
    "id": "HgBxUToxRPN8"
   },
   "source": [
    "Начнём с подсчёта лосса. Вспомним, что логистическая функция потерь это частный случай кросс-энтропии, её и будем пытаться оптимизировать.\n",
    "\n",
    "$$\n",
    "\\text{CE}(X, y) = -\\frac{1}{N}\\sum_i \\sum_k [y_i = k] \\log p(x_i = k)\n",
    "$$\n",
    "Вероятности в данном случае будем считать при помощи софтмакса, что есть общий случай сигмоиды\n",
    "\n",
    "$$\n",
    "p(x_i) = \\text{Softmax}(a(x_i)); \\quad\n",
    "\\text{Softmax}(x)_k = \\frac{e^{x_{k}}}{\\sum_j e^{x_{j}}} \\\\\n",
    "$$\n",
    "\n",
    "Предсказание модели на одном объекта будет делаться уже при помощи матрицы весов, посклоьку выходов несколько\n",
    "\n",
    "$$\n",
    "a(x_i) = x_i\\cdot W \\\\\n",
    "$$\n",
    "\n",
    "Ниже предлагается написать код для такой функции потерь. Если необходимо, модифицируйте шаблон по своему усмотрению (вспомогательные функции, новые аргументы, всё, что душа пожелает)"
   ]
  },
  {
   "cell_type": "code",
   "execution_count": null,
   "metadata": {
    "id": "AYsBvtxmTK5d"
   },
   "outputs": [],
   "source": [
    "from typing import Iterable, Optional\n",
    "from torch.nn.functional import cross_entropy\n",
    "import torch\n",
    "\n",
    "def custom_ce(\n",
    "    y_pred: np.ndarray[float],\n",
    "    y_true: np.ndarray[int],\n",
    ") -> float:\n",
    "    # your code here\n",
    "    return"
   ]
  },
  {
   "cell_type": "code",
   "execution_count": null,
   "metadata": {
    "id": "JOK4eJXpSamh"
   },
   "outputs": [],
   "source": [
    "for _ in range(1000):\n",
    "\n",
    "    n_objects = np.random.randint(1, 100)\n",
    "    n_classes = np.random.randint(2, 20)\n",
    "    y_pred = np.random.normal(0, 1, (n_objects, n_classes))\n",
    "    y_true = np.random.randint(low=0, high=n_classes, size=(n_objects,))\n",
    "\n",
    "    your_ce = custom_ce(y_pred, y_true) # не забудьте поправить, если меняли шаблон\n",
    "    torch_ce = cross_entropy(torch.tensor(y_pred), torch.tensor(y_true))\n",
    "    assert np.allclose(your_ce, torch_ce), \"Что-то пошло не так\""
   ]
  },
  {
   "cell_type": "markdown",
   "metadata": {
    "id": "X9MLDIQrT24U"
   },
   "source": [
    "Дальше самая интересная часть - нужно вывести производную этой функции потерь (на всякий случай уточним, что `torch` использовать нельзя, разве что для самопроверки). Полезные факты, которые вам могут пригодиться:\n",
    "\n",
    "- в матричном виде найти производную непросто, попробуйте сперва сделать это для одного объекта, обобщить будет полегче\n",
    "- логсофтмакс дифференцировать гораздо легче, чем просто софтмакс\n",
    "- не забывайте про правило дифференцирования сложной функции\n",
    "- поскольку веса в данном случае матрица, результат будет тоже матрица, учтите при сверке размерностей\n",
    "- если вы не придумали, как преобразовать индикаторы в векторный вид, сейчас самое время"
   ]
  },
  {
   "cell_type": "code",
   "execution_count": null,
   "metadata": {
    "id": "tYHes6fVVO7s"
   },
   "outputs": [],
   "source": [
    "def ce_gradient(X: np.ndarray, W: np.ndarray, y: np.ndarray) -> np.ndarray[float]:\n",
    "    # your code here\n",
    "    return"
   ]
  },
  {
   "cell_type": "markdown",
   "metadata": {
    "id": "x8KP9v4WW6UL"
   },
   "source": [
    "Дальше дело за малым. Вспомните (или узнайте), как делается градиентный спуск, и дополните класс софтмакс-регрессии ниже. Здесь разумнее использовать критерий останова по итерациям, но логрег из `sklearn` устроен немного хитрее. Если хотите добавить еще критерии останова, какие-то другие параметры, то пожалуйста"
   ]
  },
  {
   "cell_type": "code",
   "execution_count": null,
   "metadata": {
    "id": "n133i8Nlc9Et"
   },
   "outputs": [],
   "source": [
    "class SoftmaxRegression:\n",
    "\n",
    "    def __init__(self, lr=1e-3, max_iter=10000):\n",
    "        self.W = None\n",
    "        self.max_iter = max_iter\n",
    "        self.lr = lr\n",
    "\n",
    "    def fit(self, X, y):\n",
    "        # your code here\n",
    "\n",
    "    def predict(self, X, y=None):\n",
    "        # your code here"
   ]
  },
  {
   "cell_type": "markdown",
   "metadata": {
    "id": "-JSpEv6oXSIX"
   },
   "source": [
    "Обучите на тех же данных, что и выше, замерьте те же три параметра, плюс сравните значения кросс-энтропии для уже трёх моделей. Сравните модели между собой и выберите фаворита в данной задаче."
   ]
  },
  {
   "cell_type": "code",
   "execution_count": null,
   "metadata": {
    "id": "6sUQDl5_Y8HB"
   },
   "outputs": [],
   "source": [
    "# your code here"
   ]
  },
  {
   "cell_type": "markdown",
   "metadata": {
    "id": "U6xDfck0cfrr"
   },
   "source": [
    "__Ответ__: # your text here"
   ]
  },
  {
   "cell_type": "markdown",
   "metadata": {
    "id": "ACYk14eyP75n"
   },
   "source": [
    "__Бонус (0.01 балла):__ что вы кушали в день сдачи данного ДЗ на завтрак?\n",
    "\n",
    "__Ответ:__ # your answer here"
   ]
  }
 ],
 "metadata": {
  "colab": {
   "collapsed_sections": [
    "xvhLtt4OP75Q",
    "RvWzOe4wP75T",
    "4VbJR0e3P75U"
   ],
   "provenance": []
  },
  "kernelspec": {
   "display_name": "DataSphere Kernel",
   "language": "python",
   "name": "python3"
  },
  "language_info": {
   "codemirror_mode": {
    "name": "ipython",
    "version": 3
   },
   "file_extension": ".py",
   "mimetype": "text/x-python",
   "name": "python",
   "nbconvert_exporter": "python",
   "pygments_lexer": "ipython3",
   "version": "3.10.12"
  }
 },
 "nbformat": 4,
 "nbformat_minor": 4
}
