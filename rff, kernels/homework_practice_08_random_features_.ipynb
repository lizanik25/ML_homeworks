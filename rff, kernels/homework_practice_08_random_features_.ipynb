{
 "cells": [
  {
   "cell_type": "markdown",
   "metadata": {
    "id": "RYp0bXOFK-hP"
   },
   "source": [
    "# Машинное обучение, ФКН ВШЭ\n",
    "\n",
    "## Практическое задание 8. Метод опорных векторов и аппроксимация ядер\n",
    "\n",
    "### Общая информация\n",
    "\n",
    "Дата выдачи: 30.01.2025\n",
    "\n",
    "Мягкий дедлайн: 23:59MSK 16.02.2025\n",
    "\n",
    "Жесткий дедлайн: 23:59MSK 23.02.2025\n",
    "\n",
    "### Оценивание и штрафы\n",
    "Каждая из задач имеет определенную «стоимость» (указана в скобках около задачи). Максимальная оценка за работу (без учёта бонусов) — 10 баллов.\n",
    "\n",
    "Сдавать задание после указанного жёсткого срока сдачи нельзя. При выставлении неполного балла за задание в связи с наличием ошибок на усмотрение проверяющего предусмотрена возможность исправить работу на указанных в ответном письме условиях.\n",
    "\n",
    "Задание выполняется самостоятельно. «Похожие» решения считаются плагиатом и все задействованные студенты (в том числе те, у кого списали) не могут получить за него больше 0 баллов (подробнее о плагиате см. на странице курса). Если вы нашли решение какого-то из заданий (или его часть) в открытом источнике, необходимо указать ссылку на этот источник в отдельном блоке в конце вашей работы (скорее всего вы будете не единственным, кто это нашел, поэтому чтобы исключить подозрение в плагиате, необходима ссылка на источник).\n",
    "\n",
    "Использование генеративных языковых моделей разрешено только в случае явного указания на это. Необходимо прописать (в соответствующих пунктах, где использовались, либо в начале/конце работы):\n",
    "- какая языковая модель использовалась\n",
    "- какие использовались промпты и в каких частях работы\n",
    "- с какими сложностями вы столкнулись при использовании генеративных моделей, с чем они помогли больше всего\n",
    "\n",
    "Неэффективная реализация кода может негативно отразиться на оценке.\n",
    "\n",
    "### Формат сдачи\n",
    "Задания сдаются через систему anytask. Посылка должна содержать:\n",
    "* Ноутбук homework-practice-08-random-features-Username.ipynb\n",
    "\n",
    "Username — ваша фамилия и имя на латинице именно в таком порядке"
   ]
  },
  {
   "cell_type": "markdown",
   "metadata": {
    "id": "vY8vT0W_K-hR"
   },
   "source": [
    "### О задании\n",
    "\n",
    "На занятиях мы подробно обсуждали метод опорных векторов (SVM). В базовой версии в нём нет чего-то особенного — мы всего лишь используем специальную функцию потерь, которая не требует устремлять отступы к бесконечности; ей достаточно, чтобы отступы были не меньше +1. Затем мы узнали, что SVM можно переписать в двойственном виде, который, позволяет заменить скалярные произведения объектов на ядра. Это будет соответствовать построению модели в новом пространстве более высокой размерности, координаты которого представляют собой нелинейные модификации исходных признаков.\n",
    "\n",
    "Ядровой SVM, к сожалению, довольно затратен по памяти (нужно хранить матрицу Грама размера $d \\times d$) и по времени (нужно решать задачу условной оптимизации с квадратичной функцией, а это не очень быстро). Мы обсуждали, что есть способы посчитать новые признаки $\\tilde \\varphi(x)$ на основе исходных так, что скалярные произведения этих новых $\\langle \\tilde \\varphi(x), \\tilde \\varphi(z) \\rangle$ приближают ядро $K(x, z)$.\n",
    "\n",
    "Мы будем исследовать аппроксимации методом Random Fourier Features (RFF, также в литературе встречается название Random Kitchen Sinks) для гауссовых ядер. Будем использовать формулы, которые немного отличаются от того, что было на лекциях (мы добавим сдвиги внутрь тригонометрических функций и будем использовать только косинусы, потому что с нужным сдвигом косинус превратится в синус):\n",
    "$$\\tilde \\varphi(x) = (\n",
    "\\cos (w_1^T x + b_1),\n",
    "\\dots,\n",
    "\\cos (w_n^T x + b_n)\n",
    "),$$\n",
    "где $w_j \\sim \\mathcal{N}(0, 1/\\sigma^2)$, $b_j \\sim U[-\\pi, \\pi]$.\n",
    "\n",
    "На новых признаках $\\tilde \\varphi(x)$ мы будем строить любую линейную модель.\n",
    "\n",
    "Можно считать, что это некоторая новая парадигма построения сложных моделей. Можно направленно искать сложные нелинейные закономерности в данных с помощью градиентного бустинга или нейронных сетей, а можно просто нагенерировать большое количество случайных нелинейных признаков и надеяться, что быстрая и простая модель (то есть линейная) сможет показать на них хорошее качество. В этом задании мы изучим, насколько работоспособна такая идея.\n",
    "\n",
    "### Алгоритм\n",
    "\n",
    "Вам потребуется реализовать следующий алгоритм:\n",
    "1. Понизить размерность выборки до new_dim с помощью метода главных компонент.\n",
    "2. Для полученной выборки оценить гиперпараметр $\\sigma^2$ с помощью эвристики (рекомендуем считать медиану не по всем парам объектов, а по случайному подмножеству из где-то миллиона пар объектов): $$\\sigma^2 = \\text{median}_{i, j = 1, \\dots, \\ell, i \\neq j} \\left\\{\\sum_{k = 1}^{d} (x_{ik} - x_{jk})^2 \\right\\}$$\n",
    "3. Сгенерировать n_features наборов весов $w_j$ и сдвигов $b_j$.\n",
    "4. Сформировать n_features новых признаков по формулам, приведённым выше.\n",
    "5. Обучить линейную модель (логистическую регрессию или SVM) на новых признаках.\n",
    "6. Повторить преобразования (PCA, формирование новых признаков) к тестовой выборке и применить модель."
   ]
  },
  {
   "cell_type": "code",
   "execution_count": 3,
   "metadata": {
    "execution": {
     "iopub.execute_input": "2025-02-22T13:16:32.774680Z",
     "iopub.status.busy": "2025-02-22T13:16:32.773337Z",
     "iopub.status.idle": "2025-02-22T13:16:32.849786Z",
     "shell.execute_reply": "2025-02-22T13:16:32.848912Z",
     "shell.execute_reply.started": "2025-02-22T13:16:32.774637Z"
    },
    "id": "yTLLy_kifnkS",
    "tags": []
   },
   "outputs": [
    {
     "name": "stdout",
     "output_type": "stream",
     "text": [
      "The autoreload extension is already loaded. To reload it, use:\n",
      "  %reload_ext autoreload\n"
     ]
    }
   ],
   "source": [
    "%load_ext autoreload\n",
    "%autoreload 2"
   ]
  },
  {
   "cell_type": "markdown",
   "metadata": {
    "id": "N_sGunb7K-hS"
   },
   "source": [
    "Тестировать алгоритм мы будем на данных Fashion MNIST. Ниже код для их загрузки и подготовки."
   ]
  },
  {
   "cell_type": "code",
   "execution_count": 4,
   "metadata": {
    "colab": {
     "base_uri": "https://localhost:8080/"
    },
    "execution": {
     "iopub.execute_input": "2025-02-22T13:16:32.851768Z",
     "iopub.status.busy": "2025-02-22T13:16:32.850731Z",
     "iopub.status.idle": "2025-02-22T13:16:33.315834Z",
     "shell.execute_reply": "2025-02-22T13:16:33.315082Z",
     "shell.execute_reply.started": "2025-02-22T13:16:32.851725Z"
    },
    "id": "YyG6dBfjK-hS",
    "outputId": "6cfdc934-4001-4bc6-e6aa-a293ec50708a",
    "tags": []
   },
   "outputs": [],
   "source": [
    "import numpy as np\n",
    "\n",
    "# 1 Способ\n",
    "import keras\n",
    "from keras.datasets import fashion_mnist\n",
    "(x_train_pics, y_train), (x_test_pics, y_test) = fashion_mnist.load_data()\n",
    "\n",
    "# 2 Способ (если первый не работает)\n",
    "# from sklearn.datasets import fetch_openml\n",
    "# def load_fashion_mnist():\n",
    "#     X, y = fetch_openml('Fashion-MNIST', version=1, return_X_y=True, as_frame=False)\n",
    "#     X = X.reshape(-1, 28, 28).astype('uint8')\n",
    "#     y = y.astype('int64')\n",
    "#     x_train, x_test = X[:60000], X[60000:]\n",
    "#     y_train, y_test = y[:60000], y[60000:]\n",
    "#     return (x_train, y_train), (x_test, y_test)\n",
    "# (x_train_pics, y_train), (x_test_pics, y_test) = load_fashion_mnist()\n",
    "\n",
    "\n",
    "\n",
    "\n",
    "x_train = x_train_pics.reshape(y_train.shape[0], -1)\n",
    "x_test = x_test_pics.reshape(y_test.shape[0], -1)"
   ]
  },
  {
   "cell_type": "markdown",
   "metadata": {
    "id": "zaI6mZ5EfnkU"
   },
   "source": [
    "__Задание 0. (0.25 баллов)__\n",
    "\n",
    "**Вопрос:** зачем в алгоритме нужен метод главных компонент?\n",
    "\n",
    "**Ответ**:\n",
    "PCA удаляет линейные зависимости. Это помогает избежать переобучения при генерации RFF-признаков.\n",
    "\n",
    "PCA уменьшает размерность до new_dim, сохраняя основную информацию, и снижает сложность вычислений.\n",
    "\n",
    "По заданию гиперпараметр в RFF рассчитывается через медиану расстояний между объектами. В исходном пространстве расстояния могут быть разреженными. После PCA расстояния становятся более адекватными, поэтому проще найти корректное значение гиперпараметра."
   ]
  },
  {
   "cell_type": "markdown",
   "metadata": {
    "id": "rJNN55F7K-hT"
   },
   "source": [
    "__Задание 1. (3 балла)__\n",
    "\n",
    "Реализуйте алгоритм, описанный выше. Можете воспользоваться шаблоном класса в `homework_practice_08_rff.py` (допишите его и исправьте несостыковки в классе пайплайна) или написать свой интерфейс.\n",
    "\n",
    "Ваша реализация должна поддерживать следующие опции:\n",
    "1. Возможность задавать значения гиперпараметров new_dim (по умолчанию 50) и n_features (по умолчанию 1000).\n",
    "2. Возможность включать или выключать предварительное понижение размерности с помощью метода главных компонент.\n",
    "3. Возможность выбирать тип линейной модели (логистическая регрессия или SVM с линейным ядром).\n",
    "\n",
    "Протестируйте на данных Fashion MNIST, сформированных кодом выше. Если на тесте у вас получилась доля верных ответов не ниже 0.84 с гиперпараметрами по умолчанию, то вы всё сделали правильно."
   ]
  },
  {
   "cell_type": "code",
   "execution_count": 5,
   "metadata": {
    "execution": {
     "iopub.execute_input": "2025-02-22T13:16:33.317828Z",
     "iopub.status.busy": "2025-02-22T13:16:33.317151Z",
     "iopub.status.idle": "2025-02-22T13:16:33.876462Z",
     "shell.execute_reply": "2025-02-22T13:16:33.875689Z",
     "shell.execute_reply.started": "2025-02-22T13:16:33.317782Z"
    },
    "id": "jP8yepx8K-hT",
    "scrolled": true,
    "tags": []
   },
   "outputs": [],
   "source": [
    "from homework_practice_08_rff import RFFPipeline, RandomFeatureCreator\n",
    "\n",
    "pipeline = RFFPipeline(n_features=1000, new_dim=50, feature_creator_class=RandomFeatureCreator)"
   ]
  },
  {
   "cell_type": "code",
   "execution_count": 6,
   "metadata": {
    "execution": {
     "iopub.execute_input": "2025-02-22T13:16:33.878202Z",
     "iopub.status.busy": "2025-02-22T13:16:33.877382Z",
     "iopub.status.idle": "2025-02-22T13:16:35.974757Z",
     "shell.execute_reply": "2025-02-22T13:16:35.973954Z",
     "shell.execute_reply.started": "2025-02-22T13:16:33.878162Z"
    },
    "id": "xBRkXgitXVnY",
    "tags": []
   },
   "outputs": [],
   "source": [
    "import tensorflow as tf\n",
    "from sklearn.metrics import accuracy_score\n",
    "fashion_mnist = tf.keras.datasets.fashion_mnist\n",
    "(x_train_pics, y_train), (x_test_pics, y_test) = fashion_mnist.load_data()\n",
    "x_train = x_train_pics.reshape(y_train.shape[0], -1)\n",
    "x_test = x_test_pics.reshape(y_test.shape[0], -1)"
   ]
  },
  {
   "cell_type": "code",
   "execution_count": 5,
   "metadata": {
    "colab": {
     "base_uri": "https://localhost:8080/"
    },
    "execution": {
     "iopub.execute_input": "2025-02-22T12:20:55.547080Z",
     "iopub.status.busy": "2025-02-22T12:20:55.546356Z",
     "iopub.status.idle": "2025-02-22T12:23:22.799432Z",
     "shell.execute_reply": "2025-02-22T12:23:22.797402Z",
     "shell.execute_reply.started": "2025-02-22T12:20:55.547044Z"
    },
    "id": "akd7sygUZF-p",
    "outputId": "8e7788de-68b0-4340-b29e-f21dca5abf36"
   },
   "outputs": [
    {
     "name": "stderr",
     "output_type": "stream",
     "text": [
      "/usr/local/lib/python3.10/dist-packages/sklearn/linear_model/_logistic.py:458: ConvergenceWarning: lbfgs failed to converge (status=1):\n",
      "STOP: TOTAL NO. of ITERATIONS REACHED LIMIT.\n",
      "\n",
      "Increase the number of iterations (max_iter) or scale the data as shown in:\n",
      "    https://scikit-learn.org/stable/modules/preprocessing.html\n",
      "Please also refer to the documentation for alternative solver options:\n",
      "    https://scikit-learn.org/stable/modules/linear_model.html#logistic-regression\n",
      "  n_iter_i = _check_optimize_result(\n"
     ]
    },
    {
     "data": {
      "text/plain": [
       "0.8789"
      ]
     },
     "execution_count": 5,
     "metadata": {},
     "output_type": "execute_result"
    }
   ],
   "source": [
    "model = RFFPipeline(n_features=1000, new_dim=50, use_PCA=True, classifier_class='LogisticRegression')\n",
    "\n",
    "model.fit(x_train, y_train)\n",
    "\n",
    "y_pred = model.predict(x_test)\n",
    "\n",
    "accuracy = accuracy_score(y_test, y_pred)\n",
    "accuracy"
   ]
  },
  {
   "cell_type": "markdown",
   "metadata": {
    "id": "HYqQUEi-K-hU"
   },
   "source": [
    "__Задание 2. (2.5 балла)__\n",
    "\n",
    "Сравните подход со случайными признаками с обучением SVM на исходных признаках. Попробуйте вариант с обычным (линейным) SVM и с ядровым SVM. Ядровой SVM может очень долго обучаться, поэтому можно делать любые разумные вещи для ускорения: брать подмножество объектов из обучающей выборки, например.\n",
    "\n",
    "Сравните подход со случайными признаками с вариантом, в котором вы понижаете размерность с помощью PCA и обучите градиентный бустинг. Используйте одну из реализаций CatBoost/LightGBM/XGBoost.\n",
    "\n",
    "Сделайте выводы — насколько идея со случайными признаками работает? Сравните как с точки зрения качества, так и с точки зрения скорости обучения и применения."
   ]
  },
  {
   "cell_type": "code",
   "execution_count": 8,
   "metadata": {
    "execution": {
     "iopub.execute_input": "2025-02-22T13:16:36.071339Z",
     "iopub.status.busy": "2025-02-22T13:16:36.070301Z",
     "iopub.status.idle": "2025-02-22T13:16:36.124149Z",
     "shell.execute_reply": "2025-02-22T13:16:36.123110Z",
     "shell.execute_reply.started": "2025-02-22T13:16:36.071298Z"
    },
    "id": "u72kAeH7CUEd",
    "tags": []
   },
   "outputs": [],
   "source": [
    "import time\n",
    "from sklearn.metrics import accuracy_score\n",
    "from sklearn.svm import SVC, LinearSVC"
   ]
  },
  {
   "cell_type": "code",
   "execution_count": 6,
   "metadata": {
    "execution": {
     "iopub.execute_input": "2025-02-22T12:57:20.901758Z",
     "iopub.status.busy": "2025-02-22T12:57:20.900569Z",
     "iopub.status.idle": "2025-02-22T12:57:20.978691Z",
     "shell.execute_reply": "2025-02-22T12:57:20.977816Z",
     "shell.execute_reply.started": "2025-02-22T12:57:20.901727Z"
    },
    "id": "bi9o1ezjCIMY",
    "tags": []
   },
   "outputs": [],
   "source": [
    "# Выбор подмножества для ускорения\n",
    "ind = np.random.choice(np.arange(x_train.shape[0]), size=5000, replace=False)\n",
    "x_train_subset, y_train_subset = x_train[ind], y_train[ind]\n"
   ]
  },
  {
   "cell_type": "markdown",
   "metadata": {
    "id": "xj24XbW8oGXk"
   },
   "source": [
    "**Линейный SVM на исходных признаках**"
   ]
  },
  {
   "cell_type": "code",
   "execution_count": null,
   "metadata": {
    "colab": {
     "base_uri": "https://localhost:8080/"
    },
    "id": "mXr0ze42kkfG",
    "outputId": "43a690eb-f33f-4498-a914-16982da6e35f"
   },
   "outputs": [
    {
     "name": "stderr",
     "output_type": "stream",
     "text": [
      "/usr/local/lib/python3.11/dist-packages/sklearn/svm/_base.py:1249: ConvergenceWarning: Liblinear failed to converge, increase the number of iterations.\n",
      "  warnings.warn(\n"
     ]
    }
   ],
   "source": [
    "start_time = time.time()\n",
    "model_svm_linear = LinearSVC()\n",
    "model_svm_linear.fit(x_train_subset, y_train_subset)\n",
    "y_pred_svm_linear = model_svm_linear.predict(x_test)\n",
    "svm_linear_time = time.time() - start_time"
   ]
  },
  {
   "cell_type": "markdown",
   "metadata": {
    "id": "1YaKQAJooOBX"
   },
   "source": [
    "**RBF Kernel SVM на исходных признаках**"
   ]
  },
  {
   "cell_type": "code",
   "execution_count": null,
   "metadata": {
    "id": "aSG2TqGGo0v_"
   },
   "outputs": [],
   "source": [
    "start_time = time.time()\n",
    "model_svm_rbf = SVC(kernel=\"rbf\")\n",
    "model_svm_rbf.fit(x_train_subset, y_train_subset)\n",
    "y_pred_svm_rbf = model_svm_rbf.predict(x_test)\n",
    "svm_rbf_time = time.time() - start_time"
   ]
  },
  {
   "cell_type": "markdown",
   "metadata": {
    "id": "MT56uX_do92X"
   },
   "source": [
    "**LogReg на случайные признаки**"
   ]
  },
  {
   "cell_type": "code",
   "execution_count": null,
   "metadata": {
    "colab": {
     "base_uri": "https://localhost:8080/"
    },
    "id": "ECH-sPVHpALx",
    "outputId": "012df9dc-b89c-4166-95e3-61d479371f2e"
   },
   "outputs": [
    {
     "name": "stderr",
     "output_type": "stream",
     "text": [
      "/usr/local/lib/python3.11/dist-packages/sklearn/linear_model/_logistic.py:465: ConvergenceWarning: lbfgs failed to converge (status=1):\n",
      "STOP: TOTAL NO. of ITERATIONS REACHED LIMIT.\n",
      "\n",
      "Increase the number of iterations (max_iter) or scale the data as shown in:\n",
      "    https://scikit-learn.org/stable/modules/preprocessing.html\n",
      "Please also refer to the documentation for alternative solver options:\n",
      "    https://scikit-learn.org/stable/modules/linear_model.html#logistic-regression\n",
      "  n_iter_i = _check_optimize_result(\n"
     ]
    }
   ],
   "source": [
    "start_time = time.time()\n",
    "model_logreg_rff = RFFPipeline(n_features=1000, new_dim=50, use_PCA=True, classifier_class='LogisticRegression')\n",
    "model_logreg_rff.fit(x_train, y_train)\n",
    "y_pred_logreg_rff = model_logreg_rff.predict(x_test)\n",
    "logreg_rff_time = time.time() - start_time"
   ]
  },
  {
   "cell_type": "markdown",
   "metadata": {
    "id": "OqpqVc7Co1Q0"
   },
   "source": [
    "**SVM на случайные признаки**"
   ]
  },
  {
   "cell_type": "code",
   "execution_count": null,
   "metadata": {
    "id": "hsgjPSdApaFk"
   },
   "outputs": [],
   "source": [
    "start_time = time.time()\n",
    "model_svm_rff = RFFPipeline(n_features=1000, new_dim=50, use_PCA=True, classifier_class='SVM')\n",
    "model_svm_rff.fit(x_train, y_train)\n",
    "y_pred_svm_rff = model_svm_rff.predict(x_test)\n",
    "svm_rff_time = time.time() - start_time"
   ]
  },
  {
   "cell_type": "markdown",
   "metadata": {
    "id": "-l8unch_TOAT"
   },
   "source": [
    "**PCA + CatBoost**"
   ]
  },
  {
   "cell_type": "code",
   "execution_count": 13,
   "metadata": {
    "colab": {
     "base_uri": "https://localhost:8080/"
    },
    "execution": {
     "iopub.execute_input": "2025-02-22T12:28:13.234302Z",
     "iopub.status.busy": "2025-02-22T12:28:13.233367Z",
     "iopub.status.idle": "2025-02-22T12:28:43.682056Z",
     "shell.execute_reply": "2025-02-22T12:28:43.681220Z",
     "shell.execute_reply.started": "2025-02-22T12:28:13.234274Z"
    },
    "id": "8OeKbNz201o1",
    "outputId": "9a668343-c3ed-46b4-b171-07de76967f71",
    "tags": []
   },
   "outputs": [
    {
     "name": "stdout",
     "output_type": "stream",
     "text": [
      "Defaulting to user installation because normal site-packages is not writeable\n",
      "Collecting catboost\n",
      "  Downloading catboost-1.2.7-cp310-cp310-manylinux2014_x86_64.whl.metadata (1.2 kB)\n",
      "Requirement already satisfied: graphviz in /usr/local/lib/python3.10/dist-packages (from catboost) (0.20.1)\n",
      "Requirement already satisfied: matplotlib in /usr/local/lib/python3.10/dist-packages (from catboost) (3.7.1)\n",
      "Requirement already satisfied: numpy<2.0,>=1.16.0 in /usr/local/lib/python3.10/dist-packages (from catboost) (1.22.4)\n",
      "Requirement already satisfied: pandas>=0.24 in /usr/local/lib/python3.10/dist-packages (from catboost) (1.5.3)\n",
      "Requirement already satisfied: scipy in /usr/local/lib/python3.10/dist-packages (from catboost) (1.10.1)\n",
      "Requirement already satisfied: plotly in /usr/local/lib/python3.10/dist-packages (from catboost) (5.13.1)\n",
      "Requirement already satisfied: six in /usr/lib/python3/dist-packages (from catboost) (1.16.0)\n",
      "Requirement already satisfied: python-dateutil>=2.8.1 in /usr/local/lib/python3.10/dist-packages (from pandas>=0.24->catboost) (2.8.2)\n",
      "Requirement already satisfied: pytz>=2020.1 in /usr/local/lib/python3.10/dist-packages (from pandas>=0.24->catboost) (2022.7.1)\n",
      "Requirement already satisfied: contourpy>=1.0.1 in /usr/local/lib/python3.10/dist-packages (from matplotlib->catboost) (1.1.0)\n",
      "Requirement already satisfied: cycler>=0.10 in /usr/local/lib/python3.10/dist-packages (from matplotlib->catboost) (0.11.0)\n",
      "Requirement already satisfied: fonttools>=4.22.0 in /usr/local/lib/python3.10/dist-packages (from matplotlib->catboost) (4.41.1)\n",
      "Requirement already satisfied: kiwisolver>=1.0.1 in /usr/local/lib/python3.10/dist-packages (from matplotlib->catboost) (1.4.4)\n",
      "Requirement already satisfied: packaging>=20.0 in /usr/local/lib/python3.10/dist-packages (from matplotlib->catboost) (23.1)\n",
      "Requirement already satisfied: pillow>=6.2.0 in /usr/local/lib/python3.10/dist-packages (from matplotlib->catboost) (9.4.0)\n",
      "Requirement already satisfied: pyparsing>=2.3.1 in /usr/local/lib/python3.10/dist-packages (from matplotlib->catboost) (3.1.0)\n",
      "Requirement already satisfied: tenacity>=6.2.0 in /usr/local/lib/python3.10/dist-packages (from plotly->catboost) (8.2.2)\n",
      "Downloading catboost-1.2.7-cp310-cp310-manylinux2014_x86_64.whl (98.7 MB)\n",
      "\u001b[2K   \u001b[90m━━━━━━━━━━━━━━━━━━━━━━━━━━━━━━━━━━━━━━━━\u001b[0m \u001b[32m98.7/98.7 MB\u001b[0m \u001b[31m47.0 MB/s\u001b[0m eta \u001b[36m0:00:00\u001b[0m00:01\u001b[0m00:01\u001b[0m\n",
      "\u001b[?25hInstalling collected packages: catboost\n",
      "Successfully installed catboost-1.2.7\n",
      "\n",
      "\u001b[1m[\u001b[0m\u001b[34;49mnotice\u001b[0m\u001b[1;39;49m]\u001b[0m\u001b[39;49m A new release of pip is available: \u001b[0m\u001b[31;49m23.0.1\u001b[0m\u001b[39;49m -> \u001b[0m\u001b[32;49m25.0.1\u001b[0m\n",
      "\u001b[1m[\u001b[0m\u001b[34;49mnotice\u001b[0m\u001b[1;39;49m]\u001b[0m\u001b[39;49m To update, run: \u001b[0m\u001b[32;49mpython3 -m pip install --upgrade pip\u001b[0m\n"
     ]
    }
   ],
   "source": [
    "%pip install catboost"
   ]
  },
  {
   "cell_type": "code",
   "execution_count": 7,
   "metadata": {
    "execution": {
     "iopub.execute_input": "2025-02-22T12:57:32.666421Z",
     "iopub.status.busy": "2025-02-22T12:57:32.665272Z",
     "iopub.status.idle": "2025-02-22T12:57:32.737849Z",
     "shell.execute_reply": "2025-02-22T12:57:32.737006Z",
     "shell.execute_reply.started": "2025-02-22T12:57:32.666392Z"
    },
    "id": "FIhgLDaDTb_Z",
    "tags": []
   },
   "outputs": [],
   "source": [
    "from sklearn.model_selection import train_test_split\n",
    "from sklearn.decomposition import PCA\n",
    "from catboost import CatBoostClassifier"
   ]
  },
  {
   "cell_type": "code",
   "execution_count": null,
   "metadata": {
    "id": "m_ZZIB94TTBl"
   },
   "outputs": [],
   "source": [
    "start_time = time.time()\n",
    "\n",
    "pca = PCA(n_components=50)\n",
    "train_features_pca = pca.fit_transform(x_train)\n",
    "test_features_pca = pca.transform(x_test)\n",
    "\n",
    "X_train_pca, X_val_pca, y_train_pca, y_val_pca = train_test_split(train_features_pca, y_train, train_size=0.8, random_state=42)\n",
    "\n",
    "params = {\n",
    "    \"iterations\": 100,\n",
    "    \"learning_rate\": 0.1,\n",
    "    \"verbose\": 0\n",
    "}\n",
    "\n",
    "classifier_catboost = CatBoostClassifier(**params)\n",
    "classifier_catboost.fit(X_train_pca, y_train_pca)\n",
    "y_pred_catboost = classifier_catboost.predict(test_features_pca)\n",
    "\n",
    "catboost_time = time.time() - start_time"
   ]
  },
  {
   "cell_type": "code",
   "execution_count": null,
   "metadata": {
    "colab": {
     "base_uri": "https://localhost:8080/"
    },
    "id": "67HdU2blsJzT",
    "outputId": "92dbf96d-1e5f-4454-cbd0-c60dd1c62c14"
   },
   "outputs": [
    {
     "data": {
      "text/plain": [
       "{'LogReg RFF': {'accuracy': 0.8785, 'time': 582.1315140724182},\n",
       " 'SVM RFF': {'accuracy': 0.8806, 'time': 663.5659618377686},\n",
       " 'Linear SVM': {'accuracy': 0.7276, 'time': 86.7362871170044},\n",
       " 'RBF Kernel SVM': {'accuracy': 0.836, 'time': 26.586111068725586},\n",
       " 'PCA + CatBoost': {'accuracy': 0.8295, 'time': 58.56579375267029}}"
      ]
     },
     "execution_count": 17,
     "metadata": {},
     "output_type": "execute_result"
    }
   ],
   "source": [
    "# Оценка качества\n",
    "results = {\n",
    "    \"LogReg RFF\": {\n",
    "        \"accuracy\": accuracy_score(y_test, y_pred_logreg_rff),\n",
    "        \"time\": logreg_rff_time\n",
    "    },\n",
    "    \"SVM RFF\": {\n",
    "        \"accuracy\": accuracy_score(y_test, y_pred_svm_rff),\n",
    "        \"time\": svm_rff_time\n",
    "    },\n",
    "    \"Linear SVM\": {\n",
    "        \"accuracy\": accuracy_score(y_test, y_pred_svm_linear),\n",
    "        \"time\": svm_linear_time\n",
    "    },\n",
    "    \"RBF Kernel SVM\": {\n",
    "        \"accuracy\": accuracy_score(y_test, y_pred_svm_rbf),\n",
    "        \"time\": svm_rbf_time\n",
    "    },\n",
    "    \"PCA + CatBoost\": {\n",
    "        \"accuracy\": accuracy_score(y_test, y_pred_catboost),\n",
    "        \"time\": catboost_time\n",
    "    },\n",
    "}\n",
    "results"
   ]
  },
  {
   "cell_type": "markdown",
   "metadata": {
    "id": "SFPLLvnSMf3v"
   },
   "source": [
    "Выводы:\n",
    "\n",
    "1.   Лучшее качество из SVM показал SVM RFF, но по времени работал значительно дольше остальных\n",
    "2.   Качество ядрового SVM сравнимо с SVM RFF, но по времени ядровой SVM отработал сильно быстрее\n",
    "3.   Самое худшее качество оказалось на Linear SVM\n",
    "3.   Качество бустинга оказалось почти такое же, как у ядрового SVM, хотя работал он медленнее\n",
    "\n",
    "\n",
    "Подытоживая, можно сказать, что rff и правда позволяет улучшить качество, и можно его использовать если нет жесткого ограничения по времени"
   ]
  },
  {
   "cell_type": "markdown",
   "metadata": {
    "id": "e6umjhWuK-hV"
   },
   "source": [
    "__Задание 3. (2 балла)__\n",
    "\n",
    "Проведите эксперименты:\n",
    "1. Помогает ли предварительное понижение размерности с помощью PCA?\n",
    "2. Как зависит итоговое качество от n_features? Выходит ли оно на плато при росте n_features?\n",
    "3. Важно ли, какую модель обучать — логистическую регрессию или SVM?"
   ]
  },
  {
   "cell_type": "markdown",
   "metadata": {
    "id": "T7TKrc9sSrLC"
   },
   "source": [
    "**Помогает ли предварительное понижение размерности с помощью PCA?**"
   ]
  },
  {
   "cell_type": "code",
   "execution_count": null,
   "metadata": {
    "id": "c2QIHIMbK-hW"
   },
   "outputs": [],
   "source": [
    "new_dims = [20, 50, 100, 200, 350, 500]\n",
    "accuracy_pca = {}"
   ]
  },
  {
   "cell_type": "code",
   "execution_count": null,
   "metadata": {
    "id": "4ysANQ5PhE31"
   },
   "outputs": [],
   "source": [
    "scaler = StandardScaler()\n",
    "x_train_scaled = scaler.fit_transform(x_train)\n",
    "x_test_scaled = scaler.transform(x_test)"
   ]
  },
  {
   "cell_type": "code",
   "execution_count": null,
   "metadata": {
    "colab": {
     "base_uri": "https://localhost:8080/"
    },
    "id": "hIyC1HL0Ehpg",
    "outputId": "65c074a0-a980-4e14-da24-1e0b33b24946"
   },
   "outputs": [
    {
     "data": {
      "text/plain": [
       "0.8631"
      ]
     },
     "execution_count": 33,
     "metadata": {},
     "output_type": "execute_result"
    }
   ],
   "source": [
    "model_no_pca = RFFPipeline(n_features=1000, use_PCA=False, classifier_class='LogisticRegression')\n",
    "model_no_pca.fit(x_train_scaled, y_train)\n",
    "y_pred_no_pca = model_no_pca.predict(x_test_scaled)\n",
    "accuracy_pca['Без PCA'] = accuracy_score(y_test, y_pred_no_pca)\n",
    "accuracy_pca['Без PCA']"
   ]
  },
  {
   "cell_type": "code",
   "execution_count": null,
   "metadata": {
    "colab": {
     "base_uri": "https://localhost:8080/"
    },
    "id": "_DZ2U7C2v2tY",
    "outputId": "a21cfce3-2991-4b00-a3cd-753830994bb6"
   },
   "outputs": [
    {
     "name": "stderr",
     "output_type": "stream",
     "text": [
      "/usr/local/lib/python3.11/dist-packages/sklearn/linear_model/_logistic.py:465: ConvergenceWarning: lbfgs failed to converge (status=1):\n",
      "STOP: TOTAL NO. of ITERATIONS REACHED LIMIT.\n",
      "\n",
      "Increase the number of iterations (max_iter) or scale the data as shown in:\n",
      "    https://scikit-learn.org/stable/modules/preprocessing.html\n",
      "Please also refer to the documentation for alternative solver options:\n",
      "    https://scikit-learn.org/stable/modules/linear_model.html#logistic-regression\n",
      "  n_iter_i = _check_optimize_result(\n",
      "/usr/local/lib/python3.11/dist-packages/sklearn/linear_model/_logistic.py:465: ConvergenceWarning: lbfgs failed to converge (status=1):\n",
      "STOP: TOTAL NO. of ITERATIONS REACHED LIMIT.\n",
      "\n",
      "Increase the number of iterations (max_iter) or scale the data as shown in:\n",
      "    https://scikit-learn.org/stable/modules/preprocessing.html\n",
      "Please also refer to the documentation for alternative solver options:\n",
      "    https://scikit-learn.org/stable/modules/linear_model.html#logistic-regression\n",
      "  n_iter_i = _check_optimize_result(\n",
      "/usr/local/lib/python3.11/dist-packages/sklearn/linear_model/_logistic.py:465: ConvergenceWarning: lbfgs failed to converge (status=1):\n",
      "STOP: TOTAL NO. of ITERATIONS REACHED LIMIT.\n",
      "\n",
      "Increase the number of iterations (max_iter) or scale the data as shown in:\n",
      "    https://scikit-learn.org/stable/modules/preprocessing.html\n",
      "Please also refer to the documentation for alternative solver options:\n",
      "    https://scikit-learn.org/stable/modules/linear_model.html#logistic-regression\n",
      "  n_iter_i = _check_optimize_result(\n"
     ]
    }
   ],
   "source": [
    "for dim in new_dims:\n",
    "    model_pca = RFFPipeline(n_features=1000, new_dim=dim, use_PCA=True, classifier_class='LogisticRegression')\n",
    "    model_pca.fit(x_train, y_train)\n",
    "    y_pred_pca = model_pca.predict(x_test)\n",
    "    accuracy_pca[dim] = accuracy_score(y_test, y_pred_pca)"
   ]
  },
  {
   "cell_type": "code",
   "execution_count": 9,
   "metadata": {
    "execution": {
     "iopub.execute_input": "2025-02-22T13:16:46.659095Z",
     "iopub.status.busy": "2025-02-22T13:16:46.657888Z",
     "iopub.status.idle": "2025-02-22T13:16:47.135813Z",
     "shell.execute_reply": "2025-02-22T13:16:47.134953Z",
     "shell.execute_reply.started": "2025-02-22T13:16:46.659047Z"
    },
    "id": "g6tQFmSX2dzW"
   },
   "outputs": [],
   "source": [
    "import matplotlib.pyplot as plt\n",
    "import seaborn as sns"
   ]
  },
  {
   "cell_type": "code",
   "execution_count": null,
   "metadata": {
    "colab": {
     "base_uri": "https://localhost:8080/",
     "height": 487
    },
    "id": "NSKNMADov5tz",
    "outputId": "492c7ef8-268b-4560-a4ef-46b530e29136"
   },
   "outputs": [
    {
     "data": {
      "image/png": "[encoded data removed]",
      "text/plain": [
       "<Figure size 800x500 with 1 Axes>"
      ]
     },
     "metadata": {},
     "output_type": "display_data"
    }
   ],
   "source": [
    "x_labels = [\"Без PCA\"] + new_dims\n",
    "\n",
    "y_values = [accuracy_pca[\"Без PCA\"]] + [accuracy_pca[dim] for dim in new_dims]\n",
    "\n",
    "plt.figure(figsize=(8, 5))\n",
    "sns.barplot(x=x_labels, y=y_values)\n",
    "\n",
    "plt.xlabel(\"new dimension\")\n",
    "plt.ylabel(\"accuracy\")\n",
    "plt.title(\"Влияние pca на accuracy\")\n",
    "\n",
    "plt.show()"
   ]
  },
  {
   "cell_type": "markdown",
   "metadata": {
    "id": "w39Ksx8xRY_n"
   },
   "source": [
    "Видим, что действительно без PCA accuracy немного ниже. Пик достигается примерно при dim равном 100 и дальше accuracy начинает снижаться, значит dim где-то от 50 до 100 оптимален."
   ]
  },
  {
   "cell_type": "markdown",
   "metadata": {
    "id": "p_VfQEVeSwgd"
   },
   "source": [
    "**Как зависит итоговое качество от n_features? Выходит ли оно на плато при росте n_features?**"
   ]
  },
  {
   "cell_type": "code",
   "execution_count": 10,
   "metadata": {
    "execution": {
     "iopub.execute_input": "2025-02-22T13:16:55.195436Z",
     "iopub.status.busy": "2025-02-22T13:16:55.194449Z",
     "iopub.status.idle": "2025-02-22T13:16:55.253201Z",
     "shell.execute_reply": "2025-02-22T13:16:55.252437Z",
     "shell.execute_reply.started": "2025-02-22T13:16:55.195406Z"
    }
   },
   "outputs": [],
   "source": [
    "# Выбор подмножества для ускорения\n",
    "ind = np.random.choice(np.arange(x_train.shape[0]), size=5000, replace=False)\n",
    "x_train_subset, y_train_subset = x_train[ind], y_train[ind]"
   ]
  },
  {
   "cell_type": "code",
   "execution_count": 12,
   "metadata": {
    "execution": {
     "iopub.execute_input": "2025-02-22T13:17:36.602500Z",
     "iopub.status.busy": "2025-02-22T13:17:36.601411Z",
     "iopub.status.idle": "2025-02-22T13:17:36.672856Z",
     "shell.execute_reply": "2025-02-22T13:17:36.672035Z",
     "shell.execute_reply.started": "2025-02-22T13:17:36.602458Z"
    },
    "id": "Yr5vrLqtv8xJ",
    "tags": []
   },
   "outputs": [],
   "source": [
    "n_features_values = list(range(100, 5000, 500))\n",
    "accuracy_features = {}"
   ]
  },
  {
   "cell_type": "code",
   "execution_count": 13,
   "metadata": {
    "colab": {
     "base_uri": "https://localhost:8080/"
    },
    "execution": {
     "iopub.execute_input": "2025-02-22T13:17:52.731461Z",
     "iopub.status.busy": "2025-02-22T13:17:52.730533Z",
     "iopub.status.idle": "2025-02-22T13:23:40.714949Z",
     "shell.execute_reply": "2025-02-22T13:23:40.714001Z",
     "shell.execute_reply.started": "2025-02-22T13:17:52.731430Z"
    },
    "id": "Uf42qtyov-fk",
    "outputId": "c4aa065c-6795-4702-c0ec-24dde8341011",
    "tags": []
   },
   "outputs": [
    {
     "name": "stderr",
     "output_type": "stream",
     "text": [
      "/usr/local/lib/python3.10/dist-packages/sklearn/linear_model/_logistic.py:458: ConvergenceWarning: lbfgs failed to converge (status=1):\n",
      "STOP: TOTAL NO. of ITERATIONS REACHED LIMIT.\n",
      "\n",
      "Increase the number of iterations (max_iter) or scale the data as shown in:\n",
      "    https://scikit-learn.org/stable/modules/preprocessing.html\n",
      "Please also refer to the documentation for alternative solver options:\n",
      "    https://scikit-learn.org/stable/modules/linear_model.html#logistic-regression\n",
      "  n_iter_i = _check_optimize_result(\n",
      "/usr/local/lib/python3.10/dist-packages/sklearn/linear_model/_logistic.py:458: ConvergenceWarning: lbfgs failed to converge (status=1):\n",
      "STOP: TOTAL NO. of ITERATIONS REACHED LIMIT.\n",
      "\n",
      "Increase the number of iterations (max_iter) or scale the data as shown in:\n",
      "    https://scikit-learn.org/stable/modules/preprocessing.html\n",
      "Please also refer to the documentation for alternative solver options:\n",
      "    https://scikit-learn.org/stable/modules/linear_model.html#logistic-regression\n",
      "  n_iter_i = _check_optimize_result(\n",
      "/usr/local/lib/python3.10/dist-packages/sklearn/linear_model/_logistic.py:458: ConvergenceWarning: lbfgs failed to converge (status=1):\n",
      "STOP: TOTAL NO. of ITERATIONS REACHED LIMIT.\n",
      "\n",
      "Increase the number of iterations (max_iter) or scale the data as shown in:\n",
      "    https://scikit-learn.org/stable/modules/preprocessing.html\n",
      "Please also refer to the documentation for alternative solver options:\n",
      "    https://scikit-learn.org/stable/modules/linear_model.html#logistic-regression\n",
      "  n_iter_i = _check_optimize_result(\n",
      "/usr/local/lib/python3.10/dist-packages/sklearn/linear_model/_logistic.py:458: ConvergenceWarning: lbfgs failed to converge (status=1):\n",
      "STOP: TOTAL NO. of ITERATIONS REACHED LIMIT.\n",
      "\n",
      "Increase the number of iterations (max_iter) or scale the data as shown in:\n",
      "    https://scikit-learn.org/stable/modules/preprocessing.html\n",
      "Please also refer to the documentation for alternative solver options:\n",
      "    https://scikit-learn.org/stable/modules/linear_model.html#logistic-regression\n",
      "  n_iter_i = _check_optimize_result(\n",
      "/usr/local/lib/python3.10/dist-packages/sklearn/linear_model/_logistic.py:458: ConvergenceWarning: lbfgs failed to converge (status=1):\n",
      "STOP: TOTAL NO. of ITERATIONS REACHED LIMIT.\n",
      "\n",
      "Increase the number of iterations (max_iter) or scale the data as shown in:\n",
      "    https://scikit-learn.org/stable/modules/preprocessing.html\n",
      "Please also refer to the documentation for alternative solver options:\n",
      "    https://scikit-learn.org/stable/modules/linear_model.html#logistic-regression\n",
      "  n_iter_i = _check_optimize_result(\n",
      "/usr/local/lib/python3.10/dist-packages/sklearn/linear_model/_logistic.py:458: ConvergenceWarning: lbfgs failed to converge (status=1):\n",
      "STOP: TOTAL NO. of ITERATIONS REACHED LIMIT.\n",
      "\n",
      "Increase the number of iterations (max_iter) or scale the data as shown in:\n",
      "    https://scikit-learn.org/stable/modules/preprocessing.html\n",
      "Please also refer to the documentation for alternative solver options:\n",
      "    https://scikit-learn.org/stable/modules/linear_model.html#logistic-regression\n",
      "  n_iter_i = _check_optimize_result(\n",
      "/usr/local/lib/python3.10/dist-packages/sklearn/linear_model/_logistic.py:458: ConvergenceWarning: lbfgs failed to converge (status=1):\n",
      "STOP: TOTAL NO. of ITERATIONS REACHED LIMIT.\n",
      "\n",
      "Increase the number of iterations (max_iter) or scale the data as shown in:\n",
      "    https://scikit-learn.org/stable/modules/preprocessing.html\n",
      "Please also refer to the documentation for alternative solver options:\n",
      "    https://scikit-learn.org/stable/modules/linear_model.html#logistic-regression\n",
      "  n_iter_i = _check_optimize_result(\n",
      "/usr/local/lib/python3.10/dist-packages/sklearn/linear_model/_logistic.py:458: ConvergenceWarning: lbfgs failed to converge (status=1):\n",
      "STOP: TOTAL NO. of ITERATIONS REACHED LIMIT.\n",
      "\n",
      "Increase the number of iterations (max_iter) or scale the data as shown in:\n",
      "    https://scikit-learn.org/stable/modules/preprocessing.html\n",
      "Please also refer to the documentation for alternative solver options:\n",
      "    https://scikit-learn.org/stable/modules/linear_model.html#logistic-regression\n",
      "  n_iter_i = _check_optimize_result(\n",
      "/usr/local/lib/python3.10/dist-packages/sklearn/linear_model/_logistic.py:458: ConvergenceWarning: lbfgs failed to converge (status=1):\n",
      "STOP: TOTAL NO. of ITERATIONS REACHED LIMIT.\n",
      "\n",
      "Increase the number of iterations (max_iter) or scale the data as shown in:\n",
      "    https://scikit-learn.org/stable/modules/preprocessing.html\n",
      "Please also refer to the documentation for alternative solver options:\n",
      "    https://scikit-learn.org/stable/modules/linear_model.html#logistic-regression\n",
      "  n_iter_i = _check_optimize_result(\n"
     ]
    }
   ],
   "source": [
    "for n_feat in n_features_values:\n",
    "    model_n_feat = RFFPipeline(n_features=n_feat, new_dim=50, use_PCA=True, classifier_class='LogisticRegression')\n",
    "    model_n_feat.fit(x_train_subset, y_train_subset)\n",
    "    y_pred_n_feat = model_n_feat.predict(x_test)\n",
    "    accuracy_features[n_feat] = accuracy_score(y_test, y_pred_n_feat)\n",
    "    accuracy_features[n_feat]"
   ]
  },
  {
   "cell_type": "code",
   "execution_count": 14,
   "metadata": {
    "execution": {
     "iopub.execute_input": "2025-02-22T13:23:52.683583Z",
     "iopub.status.busy": "2025-02-22T13:23:52.682488Z",
     "iopub.status.idle": "2025-02-22T13:23:53.004621Z",
     "shell.execute_reply": "2025-02-22T13:23:53.003611Z",
     "shell.execute_reply.started": "2025-02-22T13:23:52.683530Z"
    },
    "id": "Gr0XAMQtwOyg"
   },
   "outputs": [
    {
     "data": {
      "image/png": "[encoded data removed]",
      "text/plain": [
       "<Figure size 800x500 with 1 Axes>"
      ]
     },
     "metadata": {},
     "output_type": "display_data"
    }
   ],
   "source": [
    "plt.figure(figsize=(8, 5))\n",
    "sns.lineplot(x=list(accuracy_features.keys()), y=list(accuracy_features.values()), marker='o')\n",
    "plt.xlabel('Количество случайных признаков (n_features)')\n",
    "plt.ylabel('Accuracy')\n",
    "plt.title('Влияние n_features на accuracy')\n",
    "plt.show()"
   ]
  },
  {
   "cell_type": "markdown",
   "metadata": {
    "id": "SU0Lkfb3Sd4A"
   },
   "source": [
    "Видим, что увеличение числа признаков не сильно влияет на качество (после значения 500 признаков accuracy остается примерно стабильным). Оптимальное количество равно примерно 1500"
   ]
  },
  {
   "cell_type": "markdown",
   "metadata": {
    "id": "W-9fE9FmSoGm"
   },
   "source": [
    "**Важно ли, какую модель обучать — логистическую регрессию или SVM?**\n",
    "\n",
    "Такой эксперимент мы провели во 2 задании. SVM обучается чуть дольше, чем LogReg, но качество у LogReg чуть ниже, хотя у обеих моделей оно достаточно высокое. Поэтому, если цель - получить максимальное качество и можем чуть дольше подождать, то используем svm."
   ]
  },
  {
   "cell_type": "markdown",
   "metadata": {
    "id": "QVDWHCdrK-hX"
   },
   "source": [
    "__Задание 4. (Максимум 1.5 балла)__\n",
    "\n",
    "Как вы, должно быть, помните с курса МО-1, многие алгоритмы машинного обучения работают лучше, если признаки данных некоррелированы. Оказывается, что для RFF существует модификация, позволяющая получать ортогональные случайные признаки (Orthogonal Random Features, ORF). Об этом методе можно прочитать в [статье](https://proceedings.neurips.cc/paper/2016/file/53adaf494dc89ef7196d73636eb2451b-Paper.pdf). Реализуйте класс для вычисления ORF по аналогии с основным заданием. Обратите внимание, что ваш класс должен уметь работать со случаем n_features > new_dim (в статье есть замечание на этот счет), n_features=new_dim и n_features < new_dim также должны работать, убедитесь в этом. Проведите эксперименты, сравнивающие RFF и ORF, сделайте выводы.\n"
   ]
  },
  {
   "cell_type": "code",
   "execution_count": 16,
   "metadata": {
    "execution": {
     "iopub.execute_input": "2025-02-22T13:37:47.460650Z",
     "iopub.status.busy": "2025-02-22T13:37:47.459446Z",
     "iopub.status.idle": "2025-02-22T13:46:50.274819Z",
     "shell.execute_reply": "2025-02-22T13:46:50.274076Z",
     "shell.execute_reply.started": "2025-02-22T13:37:47.460612Z"
    },
    "id": "HSxvGI9iK-hX",
    "tags": []
   },
   "outputs": [],
   "source": [
    "from homework_practice_08_rff import RFFPipeline, OrthogonalRandomFeatureCreator\n",
    "\n",
    "\n",
    "start_time = time.time()\n",
    "model_svm_orf = RFFPipeline(n_features=1000, new_dim=50, use_PCA=True, feature_creator_class=OrthogonalRandomFeatureCreator, classifier_class='SVM')\n",
    "model_svm_orf.fit(x_train, y_train)\n",
    "y_pred_svm_orf = model_svm_orf.predict(x_test)\n",
    "svm_orf_time = time.time() - start_time\n",
    "svm_orf_accuracy = accuracy_score(y_test, y_pred_svm_orf)\n"
   ]
  },
  {
   "cell_type": "code",
   "execution_count": 17,
   "metadata": {
    "execution": {
     "iopub.execute_input": "2025-02-22T13:47:16.323333Z",
     "iopub.status.busy": "2025-02-22T13:47:16.322261Z",
     "iopub.status.idle": "2025-02-22T13:50:19.060645Z",
     "shell.execute_reply": "2025-02-22T13:50:19.059759Z",
     "shell.execute_reply.started": "2025-02-22T13:47:16.323289Z"
    },
    "id": "L2wiCENsZKo2"
   },
   "outputs": [
    {
     "name": "stderr",
     "output_type": "stream",
     "text": [
      "/usr/local/lib/python3.10/dist-packages/sklearn/linear_model/_logistic.py:458: ConvergenceWarning: lbfgs failed to converge (status=1):\n",
      "STOP: TOTAL NO. of ITERATIONS REACHED LIMIT.\n",
      "\n",
      "Increase the number of iterations (max_iter) or scale the data as shown in:\n",
      "    https://scikit-learn.org/stable/modules/preprocessing.html\n",
      "Please also refer to the documentation for alternative solver options:\n",
      "    https://scikit-learn.org/stable/modules/linear_model.html#logistic-regression\n",
      "  n_iter_i = _check_optimize_result(\n"
     ]
    }
   ],
   "source": [
    "start_time = time.time()\n",
    "model_logreg_orf = RFFPipeline(n_features=1000, new_dim=50, use_PCA=True, feature_creator_class=OrthogonalRandomFeatureCreator, classifier_class='LogisticRegression')\n",
    "model_logreg_orf.fit(x_train, y_train)\n",
    "y_pred_logreg_orf = model_logreg_orf.predict(x_test)\n",
    "logreg_orf_time = time.time() - start_time\n",
    "logreg_orf_accuracy = accuracy_score(y_test, y_pred_logreg_orf)"
   ]
  },
  {
   "cell_type": "code",
   "execution_count": 18,
   "metadata": {
    "execution": {
     "iopub.execute_input": "2025-02-22T13:50:19.082820Z",
     "iopub.status.busy": "2025-02-22T13:50:19.080706Z",
     "iopub.status.idle": "2025-02-22T13:50:19.167069Z",
     "shell.execute_reply": "2025-02-22T13:50:19.165999Z",
     "shell.execute_reply.started": "2025-02-22T13:50:19.082773Z"
    },
    "id": "gfwMdQsoZNfa"
   },
   "outputs": [
    {
     "data": {
      "text/plain": [
       "{'SVM ORF': {'accuracy': 0.8828, 'time': 542.7587792873383},\n",
       " 'LogReg ORF': {'accuracy': 0.8756, 'time': 182.68062615394592}}"
      ]
     },
     "execution_count": 18,
     "metadata": {},
     "output_type": "execute_result"
    }
   ],
   "source": [
    "{\n",
    "    \"SVM ORF\": {\n",
    "        \"accuracy\": svm_orf_accuracy,\n",
    "        \"time\": svm_orf_time\n",
    "    },\n",
    "    \"LogReg ORF\": {\n",
    "        \"accuracy\": logreg_orf_accuracy,\n",
    "        \"time\": logreg_orf_time\n",
    "    }\n",
    "}"
   ]
  },
  {
   "cell_type": "markdown",
   "metadata": {},
   "source": [
    "По качеству примерно то же самое, по времени получается немного быстрее "
   ]
  },
  {
   "cell_type": "markdown",
   "metadata": {
    "id": "4pc7-1jmK-hY"
   },
   "source": [
    "__Задание 5. (Максимум 1 балл)__\n",
    "\n",
    "Существует большое количество работ, где идея RFF развивается, предлагаются её обобщения (которые, по сути, выливаются в другие преобразования признаков, не обязательно уже тригонометрические). Возьмите любую из таких работ, кратко опишите идею, имплементируйте её и сравните качество с ORF и RFF, которые вы запрограммировали выше.\n",
    "\n",
    "Ссылки на статьи, где обсуждаются вариации RFF для разных ядер, можно найти в окрестности таблицы 1 в работе https://arxiv.org/pdf/1407.5599  \n",
    "\n",
    "___ссылка на работу:___\n",
    "\n",
    "___описание идеи:___"
   ]
  },
  {
   "cell_type": "code",
   "execution_count": null,
   "metadata": {
    "id": "dWj-O2vjK-hY"
   },
   "outputs": [],
   "source": [
    "# Пример"
   ]
  },
  {
   "cell_type": "markdown",
   "metadata": {
    "id": "hwt6YQlIfnkV"
   },
   "source": [
    "__Задание 6. (Максимум 2.5 балла)__\n",
    "\n",
    "Реализуйте класс ядровой Ridge регрессии (Лекция 13, $\\S 1.2$), для оптимизации используте градиентный спуск **[1 балл максимум]**, также добавьте возможность использовать аналитическую формулу **[1 балл максимум]**. Для градиентного спуска выпишите градиент ниже **[0.5 баллов максимум]**.\n",
    "Подумайте о том, как в формулах правильно учесть свободный коэффициент.\n",
    "\n",
    "Затем адаптируйте вашу реализацию RFF под задачу регрессии. Сравните вашу ядровую регрессию и RFF на синтетических данных."
   ]
  },
  {
   "cell_type": "markdown",
   "metadata": {
    "id": "aTr4KWncfnkV"
   },
   "source": [
    "Функция потерь:\n",
    "$$\n",
    "Q(w) = \\frac{1}{2} ||\\Phi \\Phi^T w - y||^2 + \\frac{\\lambda}{2} w^T \\Phi \\Phi^T w \\rightarrow \\min_w,\n",
    "$$\n",
    "где $\\Phi \\Phi^T = K$, $K = (k(x_i, x_j))_{i, j = 1}^{\\ell}$.\n",
    "\n",
    "Предсказание:\n",
    "$\n",
    "y(x) = k(x)^T w,\n",
    "$\n",
    "где $k(x)$ — вектор функций ядра от пар объектов $(x, x_i)_{i=1}^{\\ell}$.\n",
    "\n",
    "___Выведите градиент:___\n",
    "$$\n",
    "\\nabla ...\n",
    "$$\n",
    "\n",
    "Вы можете изменять представленный шаблон в файле `homework_practice_08_kernel_regression.py` по своему усмотрению."
   ]
  },
  {
   "cell_type": "code",
   "execution_count": null,
   "metadata": {
    "id": "4LG_FQbFfnkV"
   },
   "outputs": [],
   "source": [
    "from homework_practice_08_kernel_regression import KernelRidgeRegression"
   ]
  }
 ],
 "metadata": {
  "colab": {
   "provenance": []
  },
  "kernelspec": {
   "display_name": "DataSphere Kernel",
   "language": "python",
   "name": "python3"
  },
  "language_info": {
   "codemirror_mode": {
    "name": "ipython",
    "version": 3
   },
   "file_extension": ".py",
   "mimetype": "text/x-python",
   "name": "python",
   "nbconvert_exporter": "python",
   "pygments_lexer": "ipython3",
   "version": "3.10.12"
  }
 },
 "nbformat": 4,
 "nbformat_minor": 4
}
