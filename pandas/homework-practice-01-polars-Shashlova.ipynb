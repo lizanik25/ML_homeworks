{
  "cells": [
    {
      "cell_type": "markdown",
      "metadata": {
        "id": "qT4lcRBz3JKd"
      },
      "source": [
        "## Машинное обучение 1, ПМИ ФКН ВШЭ\n",
        "\n",
        "## Практическое домашнее задание 1\n",
        "\n",
        "### Общая информация\n",
        "\n",
        "Дата выдачи: 25.09.2024\n",
        "\n",
        "Мягкий дедлайн: 23:59MSK 06.10.2024\n",
        "\n",
        "Жесткий дедлайн: 23:59MSK 10.10.2024"
      ]
    },
    {
      "cell_type": "markdown",
      "metadata": {
        "id": "UzmZAvdT3JKf"
      },
      "source": [
        "### О задании\n",
        "\n",
        "Задание состоит из двух разделов, посвященных работе с табличными данными с помощью библиотеки `polars` и визуализации с помощью `matplotlib`. В первом разделе вам предстоит выполнить базовые задания с помощью вышеуказанных библиотек, а во втором распределить студентов по курсам. Баллы даются за выполнение отдельных пунктов. Задачи в рамках одного раздела рекомендуется решать в том порядке, в котором они даны в задании.\n",
        "\n",
        "Задание направлено на освоение jupyter notebook (будет использоваться в дальнейших заданиях), библиотек polars и matplotlib.\n",
        "\n",
        "### Оценивание и штрафы\n",
        "Каждая из задач имеет определенную «стоимость» (указана в скобках около задачи). Максимально допустимая оценка за работу — 10 баллов без учёта бонусов. Сдавать задание после жёсткого дедлайна нельзя.\n",
        "\n",
        "Задание выполняется самостоятельно. «Похожие» решения считаются плагиатом и все задействованные студенты (в том числе те, у кого списали) не могут получить за него больше 0 баллов (подробнее о плагиате см. на странице курса). Если вы нашли решение какого-то из заданий (или его часть) в открытом источнике, необходимо указать ссылку на этот источник (скорее всего вы будете не единственным, кто это нашел, поэтому чтобы исключить подозрение в плагиате, необходима ссылка на источник).\n",
        "\n",
        "### Формат сдачи\n",
        "Задания сдаются через систему Anytask. Инвайт можно получить у семинариста или ассистента. Присылать необходимо ноутбук с выполненным заданием. Сам ноутбук называйте в формате `homework-practice-01-polars-Username.ipynb`, где Username — ваша фамилия.\n",
        "\n",
        "Для удобства проверки самостоятельно посчитайте свою максимальную оценку (исходя из набора решенных задач) и укажите ниже.\n",
        "\n",
        "Оценка: xx."
      ]
    },
    {
      "cell_type": "markdown",
      "metadata": {
        "id": "bQMq9hxz3JKg"
      },
      "source": [
        "## 0. Введение"
      ]
    },
    {
      "cell_type": "markdown",
      "metadata": {
        "id": "rDm3xw-Y3JKg"
      },
      "source": [
        "Сейчас мы находимся в jupyter-ноутбуке (или ipython-ноутбуке). Это удобная среда для написания кода, проведения экспериментов, изучения данных, построения визуализаций и других нужд, не связанных с написанием production-кода.\n",
        "\n",
        "Ноутбук состоит из ячеек, каждая из которых может быть либо ячейкой с кодом, либо ячейкой с текстом размеченным и неразмеченным. Текст поддерживает markdown-разметку и формулы в Latex.\n",
        "\n",
        "Для работы с содержимым ячейки используется *режим редактирования* (*Edit mode*, включается нажатием клавиши **Enter** после выбора ячейки), а для навигации между ячейками искользуется *командный режим* (*Command mode*, включается нажатием клавиши **Esc**). Тип ячейки можно задать в командном режиме либо с помощью горячих клавиш (**y** to code, **m** to markdown, **r** to edit raw text), либо в меню *Cell -> Cell type*.\n",
        "\n",
        "После заполнения ячейки нужно нажать *Shift + Enter*, эта команда обработает содержимое ячейки: проинтерпретирует код или сверстает размеченный текст."
      ]
    },
    {
      "cell_type": "code",
      "execution_count": 1,
      "metadata": {
        "colab": {
          "base_uri": "https://localhost:8080/"
        },
        "id": "OEmmbrlv3JKh",
        "outputId": "3b9427d2-98c2-408a-dbe9-ea77e282fff4"
      },
      "outputs": [
        {
          "output_type": "execute_result",
          "data": {
            "text/plain": [
              "4"
            ]
          },
          "metadata": {},
          "execution_count": 1
        }
      ],
      "source": [
        "# ячейка с кодом, при выполнении которой появится output\n",
        "2 + 2"
      ]
    },
    {
      "cell_type": "markdown",
      "metadata": {
        "id": "pHuI1gxN3JKi"
      },
      "source": [
        "Ячейка с неразмеченыным текстом."
      ]
    },
    {
      "cell_type": "markdown",
      "metadata": {
        "id": "7Od1jM9q3JKi"
      },
      "source": [
        "Попробуйте создать свои ячейки, написать какой-нибудь код и текст какой-нибудь формулой."
      ]
    },
    {
      "cell_type": "code",
      "execution_count": 2,
      "metadata": {
        "id": "bmR2-3Ut3JKi"
      },
      "outputs": [],
      "source": [
        "# your code"
      ]
    },
    {
      "cell_type": "markdown",
      "metadata": {
        "id": "eNSsZ84J3JKj"
      },
      "source": [
        "[Здесь](https://athena.brynmawr.edu/jupyter/hub/dblank/public/Jupyter%20Notebook%20Users%20Manual.ipynb) находится <s>не</s>большая заметка о используемом языке разметки Markdown. Он позволяет:\n",
        "\n",
        "0. Составлять упорядоченные списки\n",
        "1. Выделять *текст* <s>при</s> **необходимости**\n",
        "2. Добавлять [ссылки](http://imgs.xkcd.com/comics/the_universal_label.png)\n",
        "\n",
        "\n",
        "* Составлять неупорядоченные списки\n",
        "\n",
        "Делать вставки с помощью LaTex:\n",
        "    \n",
        "$\n",
        "\\left\\{\n",
        "\\begin{array}{ll}\n",
        "x = 16 \\sin^3 (t) \\\\\n",
        "y = 13 \\cos (t) - 5 \\cos (2t) - 2 \\cos (3t) - \\cos (4t) \\\\\n",
        "t \\in [0, 2 \\pi]\n",
        "\\end{array}\n",
        "\\right.$"
      ]
    },
    {
      "cell_type": "markdown",
      "metadata": {
        "id": "lmR9WkMh3JKj"
      },
      "source": [
        "А ещё можно вставлять картинки, или гифки, или что захотите:\n",
        "\n",
        "<img src=\"https://i.imgur.com/k5df8lX.gif\" width=\"400px\">\n",
        "\n"
      ]
    },
    {
      "cell_type": "markdown",
      "metadata": {
        "id": "dPLYl66y3JKj"
      },
      "source": [
        "### Google Colab"
      ]
    },
    {
      "cell_type": "markdown",
      "metadata": {
        "id": "A4lqG21G3JKj"
      },
      "source": [
        "Что за колаб?\n",
        "\n",
        "**Google Colab (Colaboratory)** это **Jupyter Notebook + Cloud + Google Drive.**\n",
        "\n",
        "Компания Google предоставляет возможность бесплатно запускать ноутбуки (предварительно загрузив их на свой гугл-диск) прямо в облаке. При этом вам не требуется установка никаких пакетов на свою машину, а работать можно прямиком из браузера. Вот ссылка:"
      ]
    },
    {
      "cell_type": "markdown",
      "metadata": {
        "id": "79bVOFY_3JKj"
      },
      "source": [
        "https://colab.research.google.com"
      ]
    },
    {
      "cell_type": "markdown",
      "metadata": {
        "id": "LnMoUH2P3JKj"
      },
      "source": [
        "При использовании вы увидите много сходств с jupyter ноутбуком. Одним из преимуществ является доступность GPU, соответствующую опцию можно активировать в настройках сервиса. При желании вы сможете найти в интернете много туториалов по использованию или разобраться самостоятельно =)"
      ]
    },
    {
      "cell_type": "markdown",
      "metadata": {
        "id": "iAb44N3VjD11"
      },
      "source": [
        "### Kaggle\n",
        "\n",
        "Альтернативой является **Kaggle**, он же площадка для самых разных соревнований по машинному обучению\n",
        "\n",
        "Он, как и колаб, предоставляет бесплатный GPU, и даже не один, с чётким лимитом в 30 часов в неделю (colab может его внезапно отобрать, kaggle - нет) более мощные CPU с большим числом ядер, и больше Гб ОЗУ (раз так в 2.5)\n",
        "\n",
        "https://www.kaggle.com\n",
        "\n",
        "К сожалению мир не идеален, недостатки следующие:\n",
        "- необходимость загружать датасеты через специальную кнопочку\n",
        "- невозможность использовать свои скрипты и модули :(\n",
        "- нужно тыкать техподдержку, чтобы создать аккаунт из России"
      ]
    },
    {
      "cell_type": "markdown",
      "metadata": {
        "id": "91bWX9jd3JKk"
      },
      "source": [
        "## 1. Табличные данные и Polars"
      ]
    },
    {
      "cell_type": "markdown",
      "metadata": {
        "id": "Z9L3rKBm3JKk"
      },
      "source": [
        "Эта версия домашки предполагает, что вы уже являетесь уверенным пользователем `pandas` и знакомы с датафреймами, как они устроены и как ими манипулировать. Библиотека `polars` основана на тех же концептах.\n",
        "\n",
        "Главные достоинства, которые чуть позже продемонстрируем:\n",
        "- он написан на Rust, поэтому почти все операции в нём выполняются значительно быстрее, есть распараллеливание из коробки, автоматическая оптимизация запросов и пр\n",
        "- он позволяет работать с данными, которые не помещаются в оперативку, с этим поможет `pl.LazyFrame` и streaming\n",
        "- конечно же имеются дополнительные функции, которых в `pandas` нет, но очень хочется, например агрегации с расширяющимся окном, произвольные оконные функции и прочее, для этого есть крайне гибкая штука `pl.Expr`\n",
        "\n",
        "Подробнее можете прочитать на [любом](https://habr.com/ru/articles/710240/) [ресурсе](https://realpython.com/polars-python/), [посвящённом](https://blog.jetbrains.com/pycharm/2024/07/polars-vs-pandas/) [`polars`](https://habr.com/ru/companies/spectr/articles/738766/)\n",
        "\n",
        "В этой части потребуется выполнить несколько небольших заданий. Можно пойти двумя путями: сначала изучить материалы, а потом приступить к заданиям, или же разбираться \"по ходу\". Выбирайте сами\n",
        "\n",
        "Если не понятно, как вызывать конкретный метод, обратитесь к материалам ниже. Имейте в виду, что синтаксис `polars` отличается от привычного нампаевского.\n",
        "Скорее всего все ваши самые извращённые фантазии уже как-то реализованы в `polars`, поэтому читайте внимательно. Ну и конечно гуглить не запрещено, но желательно прикладывать источник\n",
        "\n",
        "Материалы:\n",
        "1. [Getting started](https://docs.pola.rs/user-guide/getting-started/#reading-writing) из официального руководства\n",
        "2. [Документация](https://docs.pola.rs/api/python/stable/reference/index.html) со всем необходимым\n",
        "3. [Модификация для Data Science](https://polars-ds-extension.readthedocs.io/en/latest/index.html), вам скорее всего не понадобится в данном задании, но имейте в виду\n",
        "\n",
        "Многие из заданий можно выполнить несколькими способами. Не существуют единственно верного, но попробуйте максимально задействовать арсенал polars и ориентируйтесь на простоту и понятность вашего кода. Мы не будем подсказывать, что нужно использовать для решения конкретной задачи, попробуйте находить необходимый функционал сами (название метода чаще всего очевидно)"
      ]
    },
    {
      "cell_type": "code",
      "execution_count": 3,
      "metadata": {
        "id": "TwYQ-X_Q-m2A"
      },
      "outputs": [],
      "source": [
        "# поларс относительно молодой, имейте в виду, что что-то может сломаться, если будете менять версию\n",
        "!pip install -qU hvplot xlsx2csv polars==1.5.0"
      ]
    },
    {
      "cell_type": "code",
      "execution_count": 4,
      "metadata": {
        "id": "72smvZpD3JKk"
      },
      "outputs": [],
      "source": [
        "import polars as pl"
      ]
    },
    {
      "cell_type": "markdown",
      "metadata": {
        "id": "hX2zRkMI3JKk"
      },
      "source": [
        "Скачаем данные:"
      ]
    },
    {
      "cell_type": "code",
      "execution_count": 5,
      "metadata": {
        "id": "a4wqrhEA3JKk"
      },
      "outputs": [],
      "source": [
        "!wget  -O 'end_seminar.xlsx' -q 'https://www.dropbox.com/s/f4rm8sjc3v99p0m/_end_seminar.xlsx?dl=0'"
      ]
    },
    {
      "cell_type": "markdown",
      "metadata": {
        "id": "joackhzP3JKl"
      },
      "source": [
        "Для пользователей Windows: скачайте файл самостоятельно и поместите его в папку с тетрадкой. Или попробуйте один из следующих вариантов:"
      ]
    },
    {
      "cell_type": "code",
      "execution_count": 6,
      "metadata": {
        "id": "yhc9NUeE3JKl"
      },
      "outputs": [],
      "source": [
        "# !powershell iwr -outf somefile https://somesite/somefile"
      ]
    },
    {
      "cell_type": "code",
      "execution_count": 7,
      "metadata": {
        "id": "FxbRPi183JKl"
      },
      "outputs": [],
      "source": [
        "# !pip install wget\n",
        "# import wget\n",
        "# wget.download('https://dropbox.com/s/f4rm8sjc3v99p0m/_end_seminar.xlsx?dl=1', 'end_seminar.xlsx')"
      ]
    },
    {
      "cell_type": "markdown",
      "metadata": {
        "id": "5hIwLXz43JKl"
      },
      "source": [
        "### 📌 **Обязательно прочитайте блок ниже**\n",
        "\n",
        "> Пандасом и нампаем пользоваться неельзяя... Совсем\n",
        "\n",
        "> В первой части задания (до раздела \"Распределение студентов по курсам\") использование циклов запрещается и повлечет за собой снижение оценки. Во второй уже можно, но с оговорками, о чём ниже\n",
        "\n",
        "> Циклами в данном случае считается `for`, `while` и map-методы `polars`, где можно использовать лямбда-функцию. Главным образом `map_elements` и его производные.\n",
        "И как правило, всё то, что не умеет делать `pl.LazyFrame` - список [здесь](https://docs.pola.rs/api/python/stable/reference/lazyframe/index.html). Мотивация следующая - используя встроенные функции и методы, `polars` может оптимизировать ваш запрос и провести все нужные манипуляции, прежде чем сериализовать и вывести ответ (за некоторыми исключениями), поэтому важно научиться с этим управляться\n",
        "\n",
        "> Чтобы сделать выбор `polars` осмысленным, мы немножко модифицируем исходный датасет. Он будет больше в несколько раз и может не влезть в память, если у вас меньше 8 Гб, а с учётом преобразований может потребоваться до 64 Гб! Не пренебрегайте возможностями `pl.LazyFrame`. Его использование не обязательно, но может сильно облегчить вам жизнь\n",
        "\n",
        "> Трансформировать датасет `df` можно, как только это потребуется по условию (таких пунктов всего 2), на всякий случай поставим значок 🔄\n",
        "\n",
        "> Если небрежно обращаться с методами `polars`, вы рискуете крашнуть ядро, взорвать компутер, потерять рассудок... Если вдруг у вас есть тачка или хотите подебажить на исходном датасете, то пожалуйста, но помните про условия выше\n",
        "\n",
        "> Гарантируется, что задание можно выполнить, имея лишь ресурсы Google Colab (бесплатные), удачи ( ͡° ͜ʖ ͡°)"
      ]
    },
    {
      "cell_type": "markdown",
      "metadata": {
        "id": "das_ZBWy3JKl"
      },
      "source": [
        "Для каждой задачи из этого раздела вы должны написать код для получения ответа, а также дать текстовый ответ, если он предполагается.\n",
        "\n",
        "На некоторые вопросы вы можете получить путём пристального взгляда на таблицу, но это не будет засчитываться. Вы в любом случае должны получить ответ с помощью кода."
      ]
    },
    {
      "cell_type": "markdown",
      "metadata": {
        "id": "7L9UmKvHSBhk"
      },
      "source": [
        "### 🐻 Бонус polars. [3 балла]\n",
        "Бонус за использование `polars` равен вашей оценке за дз, умноженной на коэффициент 1.3, поэтому даже если сделали не всё, не отчаивайтесь)"
      ]
    },
    {
      "cell_type": "markdown",
      "metadata": {
        "id": "KH2B5XPBDlgp"
      },
      "source": [
        "#### 0. Ещё пара красивых слов"
      ]
    },
    {
      "cell_type": "markdown",
      "metadata": {
        "id": "-pO9LsL5Dsds"
      },
      "source": [
        "Первые несколько манипуляций мы сделаем за вас, а заодно поясним, в чём тут нюанс"
      ]
    },
    {
      "cell_type": "code",
      "execution_count": 8,
      "metadata": {
        "colab": {
          "base_uri": "https://localhost:8080/"
        },
        "id": "Ee0QXmptDrX7",
        "outputId": "bbc4136d-03d9-45ab-b4c2-ad09d082b15d"
      },
      "outputs": [
        {
          "output_type": "stream",
          "name": "stdout",
          "text": [
            "361 rows\n",
            "0.14587879180908203 mb\n"
          ]
        }
      ],
      "source": [
        "# читаем датафрейм\n",
        "initial_df = pl.read_excel(\"end_seminar.xlsx\", engine=\"xlsx2csv\")\n",
        "print(initial_df.shape[0], \"rows\")\n",
        "print(initial_df.estimated_size(\"mb\"), \"mb\")"
      ]
    },
    {
      "cell_type": "markdown",
      "metadata": {
        "id": "P0nMQNXCD1IO"
      },
      "source": [
        "Как видим, он достаточно маленький. С такими объёмами выбор библиотеки это чисто вкусовщина. Давайте немного поднимем ставки"
      ]
    },
    {
      "cell_type": "code",
      "execution_count": 9,
      "metadata": {
        "id": "PzBRfWY1ECOV"
      },
      "outputs": [],
      "source": [
        "def repeat_df(df: pl.DataFrame | pl.LazyFrame, n: int = 2) -> pl.LazyFrame:\n",
        "    return (\n",
        "        df.lazy()\n",
        "        .select(pl.col(\"timestamp\").unique().sort().repeat_by(n).flatten())\n",
        "        .join(df.lazy(), on=\"timestamp\", how=\"left\")\n",
        "    )"
      ]
    },
    {
      "cell_type": "markdown",
      "metadata": {
        "id": "loouiViPEHGJ"
      },
      "source": [
        "Для работы с датафреймами, которые в память не влезают, нам понадобится объект `pl.LazyFrame`. Он представляет из себя схему выполнения вашего запроса, который оптимизируется, бьётся на батчи и параллелится под капотом через StreamingAPI, что для нас просто идеально. Перевести объект туда можно через метод `lazy`, обратно через `collect`. Учтите, что `streaming=True` работает не со всеми операциями, применяйте с умом, это можно проверить через `pl.LazyFrame.explain(streaming=True)`"
      ]
    },
    {
      "cell_type": "code",
      "execution_count": 10,
      "metadata": {
        "colab": {
          "base_uri": "https://localhost:8080/"
        },
        "id": "OvTbmiSjEEfA",
        "outputId": "0fccc46e-34d7-4c4d-fdd3-8c6a5e861fdc"
      },
      "outputs": [
        {
          "output_type": "stream",
          "name": "stdout",
          "text": [
            "Schema\n",
            "LEFT JOIN:\n",
            "LEFT PLAN ON: [col(\"timestamp\")]\n",
            "   SELECT [col(\"timestamp\").unique().sort(asc).repeat_by([dyn int: 2]).explode()] FROM\n",
            "    STREAMING:\n",
            "      DF [\"timestamp\", \"id\", \"rating\", \"18_group\"]; PROJECT 1/16 COLUMNS; SELECTION: None\n",
            "RIGHT PLAN ON: [col(\"timestamp\")]\n",
            "  DF [\"timestamp\", \"id\", \"rating\", \"18_group\"]; PROJECT */16 COLUMNS; SELECTION: None\n",
            "END LEFT JOIN\n"
          ]
        }
      ],
      "source": [
        "repeat_n = 2\n",
        "\n",
        "repeated_df = repeat_df(initial_df, repeat_n)\n",
        "print(\"Schema\")\n",
        "print(repeated_df.explain(streaming=True, optimized=True))"
      ]
    },
    {
      "cell_type": "code",
      "execution_count": 11,
      "metadata": {
        "colab": {
          "base_uri": "https://localhost:8080/"
        },
        "id": "7geBTZI6F691",
        "outputId": "02b9aba5-af8c-47a8-aee8-2f50fe24725e"
      },
      "outputs": [
        {
          "output_type": "stream",
          "name": "stdout",
          "text": [
            "722 rows\n",
            "0.2917900085449219 mb\n"
          ]
        }
      ],
      "source": [
        "# как видим, повторы работают\n",
        "repeated_df = repeated_df.collect()\n",
        "assert repeated_df.shape[0] == initial_df.shape[0] * repeat_n\n",
        "print(repeated_df.shape[0], \"rows\")\n",
        "print(repeated_df.estimated_size(\"mb\"), \"mb\")"
      ]
    },
    {
      "cell_type": "markdown",
      "metadata": {
        "id": "00wHctZJGe8s"
      },
      "source": [
        "Теперь ещё интереснее. Если бы наш датасет был не в 2 раза больше, а в 100000 раз, что бы мы делали? К счастью для нас, поларс может уместить 300кк строк всего лишь в 512Мб, и это даже не прикол, но работать с этим придётся немного иначе"
      ]
    },
    {
      "cell_type": "code",
      "execution_count": 12,
      "metadata": {
        "colab": {
          "base_uri": "https://localhost:8080/"
        },
        "id": "jm93pikEGqJi",
        "outputId": "48a945c4-a4e2-478b-f92d-433d317dcae3"
      },
      "outputs": [
        {
          "output_type": "stream",
          "name": "stdout",
          "text": [
            "14.245975762605667 gb\n"
          ]
        }
      ],
      "source": [
        "N = 100000\n",
        "\n",
        "df = repeat_df(initial_df, N)\n",
        "print(initial_df.estimated_size(\"gb\") * N, \"gb\")"
      ]
    },
    {
      "cell_type": "markdown",
      "metadata": {
        "id": "MGMtuNEiG-xH"
      },
      "source": [
        "Поэтому даже такая тривиальная задача, как подсчёт строк становится уже не такой простой. Про это и будет дз"
      ]
    },
    {
      "cell_type": "code",
      "execution_count": 13,
      "metadata": {
        "colab": {
          "base_uri": "https://localhost:8080/"
        },
        "id": "pKo9lSvnHlgW",
        "outputId": "da4bd497-3303-40f6-91cb-57b13a3d42bf"
      },
      "outputs": [
        {
          "output_type": "stream",
          "name": "stdout",
          "text": [
            "ой, не получилось...\n"
          ]
        }
      ],
      "source": [
        "try:\n",
        "    print(df.shape[0], \"rows\")\n",
        "except AttributeError:\n",
        "    print(\"ой, не получилось...\")\n",
        "\n",
        "# df.collect().shape[0] # тоже можно, если влезет\n",
        "# len(df.collect().to_pandas()) # а такое может крашнуть ядро, попробуйте, хехе..."
      ]
    },
    {
      "cell_type": "code",
      "execution_count": 14,
      "metadata": {
        "colab": {
          "base_uri": "https://localhost:8080/"
        },
        "id": "mt-cWy3LHhvR",
        "outputId": "d128bbd9-5c29-43b8-801a-7059057a56d9"
      },
      "outputs": [
        {
          "output_type": "stream",
          "name": "stdout",
          "text": [
            "36100000 rows\n"
          ]
        }
      ],
      "source": [
        "def lazy_len(df: pl.LazyFrame) -> int:\n",
        "    return df.select(pl.len()).collect().item()\n",
        "\n",
        "\n",
        "rows = lazy_len(df)  # намного экономнее, потому что оптимизировано под капотом\n",
        "assert rows == initial_df.shape[0] * N\n",
        "print(rows, \"rows\")"
      ]
    },
    {
      "cell_type": "markdown",
      "metadata": {
        "id": "EVEQn0fwc6_v"
      },
      "source": [
        "Далее нужно работать с увеличенным датафреймом `df`"
      ]
    },
    {
      "cell_type": "markdown",
      "metadata": {
        "id": "JZd3QSTo3JKl"
      },
      "source": [
        "#### 1. [0.5 баллов] Выведите 3 последних строки\n",
        "\n",
        "Посмотрите на данные и скажите, что они из себя представляют, сколько в таблице строк, какие столбцы? (на это не надо отвечать, просто подумайте об этом)"
      ]
    },
    {
      "cell_type": "code",
      "execution_count": 15,
      "metadata": {
        "colab": {
          "base_uri": "https://localhost:8080/",
          "height": 316
        },
        "id": "FArd5QGESdyO",
        "outputId": "d6dc9e42-7f1e-4601-edcc-78cde2b7e7a7"
      },
      "outputs": [
        {
          "output_type": "execute_result",
          "data": {
            "text/plain": [
              "shape: (3, 16)\n",
              "┌─────────────┬─────────────┬────────┬──────────┬───┬────────────┬──────────┬─────────┬────────────┐\n",
              "│ timestamp   ┆ id          ┆ rating ┆ 18_group ┆ … ┆ percentile ┆ 17_group ┆ blended ┆ is_ml_stud │\n",
              "│ ---         ┆ ---         ┆ ---    ┆ ---      ┆   ┆ ---        ┆ ---      ┆ ---     ┆ ent        │\n",
              "│ str         ┆ str         ┆ i64    ┆ i64      ┆   ┆ f64        ┆ str      ┆ str     ┆ ---        │\n",
              "│             ┆             ┆        ┆          ┆   ┆            ┆          ┆         ┆ bool       │\n",
              "╞═════════════╪═════════════╪════════╪══════════╪═══╪════════════╪══════════╪═════════╪════════════╡\n",
              "│ 2020-05-24  ┆ 9d19b0d5f4f ┆ 695    ┆ 188      ┆ … ┆ 0.197309   ┆ null     ┆ null    ┆ null       │\n",
              "│ 01:23:31    ┆ c8d7edc2258 ┆        ┆          ┆   ┆            ┆          ┆         ┆            │\n",
              "│             ┆ 406f872c…   ┆        ┆          ┆   ┆            ┆          ┆         ┆            │\n",
              "│ 2020-05-24  ┆ 9d19b0d5f4f ┆ 695    ┆ 188      ┆ … ┆ 0.197309   ┆ null     ┆ null    ┆ null       │\n",
              "│ 01:23:31    ┆ c8d7edc2258 ┆        ┆          ┆   ┆            ┆          ┆         ┆            │\n",
              "│             ┆ 406f872c…   ┆        ┆          ┆   ┆            ┆          ┆         ┆            │\n",
              "│ 2020-05-24  ┆ 9d19b0d5f4f ┆ 695    ┆ 188      ┆ … ┆ 0.197309   ┆ null     ┆ null    ┆ null       │\n",
              "│ 01:23:31    ┆ c8d7edc2258 ┆        ┆          ┆   ┆            ┆          ┆         ┆            │\n",
              "│             ┆ 406f872c…   ┆        ┆          ┆   ┆            ┆          ┆         ┆            │\n",
              "└─────────────┴─────────────┴────────┴──────────┴───┴────────────┴──────────┴─────────┴────────────┘"
            ],
            "text/html": [
              "<div><style>\n",
              ".dataframe > thead > tr,\n",
              ".dataframe > tbody > tr {\n",
              "  text-align: right;\n",
              "  white-space: pre-wrap;\n",
              "}\n",
              "</style>\n",
              "<small>shape: (3, 16)</small><table border=\"1\" class=\"dataframe\"><thead><tr><th>timestamp</th><th>id</th><th>rating</th><th>18_group</th><th>is_mi</th><th>fall_1</th><th>fall_2</th><th>fall_3</th><th>spring_1</th><th>spring_2</th><th>spring_3</th><th>is_first_time</th><th>percentile</th><th>17_group</th><th>blended</th><th>is_ml_student</th></tr><tr><td>str</td><td>str</td><td>i64</td><td>i64</td><td>i64</td><td>str</td><td>str</td><td>str</td><td>str</td><td>str</td><td>str</td><td>str</td><td>f64</td><td>str</td><td>str</td><td>bool</td></tr></thead><tbody><tr><td>&quot;2020-05-24 01:23:31&quot;</td><td>&quot;9d19b0d5f4fc8d7edc2258406f872c…</td><td>695</td><td>188</td><td>null</td><td>&quot;Безопасность компьютерных сист…</td><td>&quot;Язык SQL&quot;</td><td>&quot;Высокопроизводительные вычисле…</td><td>&quot;Компьютерные сети&quot;</td><td>&quot;Дискретная оптимизация&quot;</td><td>&quot;Численные методы&quot;</td><td>null</td><td>0.197309</td><td>null</td><td>null</td><td>null</td></tr><tr><td>&quot;2020-05-24 01:23:31&quot;</td><td>&quot;9d19b0d5f4fc8d7edc2258406f872c…</td><td>695</td><td>188</td><td>null</td><td>&quot;Безопасность компьютерных сист…</td><td>&quot;Язык SQL&quot;</td><td>&quot;Высокопроизводительные вычисле…</td><td>&quot;Компьютерные сети&quot;</td><td>&quot;Дискретная оптимизация&quot;</td><td>&quot;Численные методы&quot;</td><td>null</td><td>0.197309</td><td>null</td><td>null</td><td>null</td></tr><tr><td>&quot;2020-05-24 01:23:31&quot;</td><td>&quot;9d19b0d5f4fc8d7edc2258406f872c…</td><td>695</td><td>188</td><td>null</td><td>&quot;Безопасность компьютерных сист…</td><td>&quot;Язык SQL&quot;</td><td>&quot;Высокопроизводительные вычисле…</td><td>&quot;Компьютерные сети&quot;</td><td>&quot;Дискретная оптимизация&quot;</td><td>&quot;Численные методы&quot;</td><td>null</td><td>0.197309</td><td>null</td><td>null</td><td>null</td></tr></tbody></table></div>"
            ]
          },
          "metadata": {},
          "execution_count": 15
        }
      ],
      "source": [
        "df.tail(3).collect()\n"
      ]
    },
    {
      "cell_type": "markdown",
      "metadata": {
        "id": "o74LHRbU3JKl"
      },
      "source": [
        "### Ответьте на вопросы:\n",
        "1. Сколько было уникальных пользователей из групп 18-го года набора, а сколько из групп 17-го года?"
      ]
    },
    {
      "cell_type": "code",
      "execution_count": 16,
      "metadata": {
        "colab": {
          "base_uri": "https://localhost:8080/",
          "height": 129
        },
        "id": "P8U67LmG3JKm",
        "outputId": "c1b1f2f6-cf12-44ae-8d9a-328d72d6ad77"
      },
      "outputs": [
        {
          "output_type": "execute_result",
          "data": {
            "text/plain": [
              "shape: (1, 2)\n",
              "┌───────────────────┬───────────────────┐\n",
              "│ n_unique_18_group ┆ n_unique_17_group │\n",
              "│ ---               ┆ ---               │\n",
              "│ u32               ┆ u32               │\n",
              "╞═══════════════════╪═══════════════════╡\n",
              "│ 213               ┆ 134               │\n",
              "└───────────────────┴───────────────────┘"
            ],
            "text/html": [
              "<div><style>\n",
              ".dataframe > thead > tr,\n",
              ".dataframe > tbody > tr {\n",
              "  text-align: right;\n",
              "  white-space: pre-wrap;\n",
              "}\n",
              "</style>\n",
              "<small>shape: (1, 2)</small><table border=\"1\" class=\"dataframe\"><thead><tr><th>n_unique_18_group</th><th>n_unique_17_group</th></tr><tr><td>u32</td><td>u32</td></tr></thead><tbody><tr><td>213</td><td>134</td></tr></tbody></table></div>"
            ]
          },
          "metadata": {},
          "execution_count": 16
        }
      ],
      "source": [
        "unique_users = (\n",
        "    df.select([\n",
        "        pl.col(\"id\")\n",
        "        .filter(pl.col(\"18_group\").is_not_null())\n",
        "        .n_unique()\n",
        "        .alias(\"n_unique_18_group\"),\n",
        "\n",
        "        pl.col(\"id\")\n",
        "        .filter(pl.col(\"17_group\").is_not_null())\n",
        "        .n_unique()\n",
        "        .alias(\"n_unique_17_group\")\n",
        "    ])\n",
        "    .collect()\n",
        ")\n",
        "\n",
        "unique_users"
      ]
    },
    {
      "cell_type": "markdown",
      "metadata": {
        "id": "nKYih84LTNfe"
      },
      "source": [
        "2. Есть ли уникальные студенты с равными перцентилями?"
      ]
    },
    {
      "cell_type": "code",
      "execution_count": 17,
      "metadata": {
        "colab": {
          "base_uri": "https://localhost:8080/",
          "height": 129
        },
        "id": "HvMVA-Tva0Ky",
        "outputId": "1d1e68c2-e297-4dd2-c792-b90bd871bc25"
      },
      "outputs": [
        {
          "output_type": "execute_result",
          "data": {
            "text/plain": [
              "shape: (1, 2)\n",
              "┌────────────┬─────┐\n",
              "│ percentile ┆ id  │\n",
              "│ ---        ┆ --- │\n",
              "│ f64        ┆ u32 │\n",
              "╞════════════╪═════╡\n",
              "│ 0.0        ┆ 2   │\n",
              "└────────────┴─────┘"
            ],
            "text/html": [
              "<div><style>\n",
              ".dataframe > thead > tr,\n",
              ".dataframe > tbody > tr {\n",
              "  text-align: right;\n",
              "  white-space: pre-wrap;\n",
              "}\n",
              "</style>\n",
              "<small>shape: (1, 2)</small><table border=\"1\" class=\"dataframe\"><thead><tr><th>percentile</th><th>id</th></tr><tr><td>f64</td><td>u32</td></tr></thead><tbody><tr><td>0.0</td><td>2</td></tr></tbody></table></div>"
            ]
          },
          "metadata": {},
          "execution_count": 17
        }
      ],
      "source": [
        "unique_users_per_percentile = (\n",
        "    df.group_by(\"percentile\")\n",
        "    .agg([\n",
        "        pl.col(\"id\").n_unique()\n",
        "    ]).filter(pl.col(\"id\") > 1)\n",
        ")\n",
        "unique_users_per_percentile.collect()"
      ]
    },
    {
      "cell_type": "markdown",
      "metadata": {
        "id": "PObB1agk3JKm"
      },
      "source": [
        "#### 2. [0.5 балла] Есть ли в данных пропуски? В каких колонках? Сколько их в каждой из этих колонок?\n",
        "\n",
        "Уникальных или нет - не столь важно"
      ]
    },
    {
      "cell_type": "code",
      "execution_count": 18,
      "metadata": {
        "colab": {
          "base_uri": "https://localhost:8080/",
          "height": 149
        },
        "id": "zmMJ5oSi3JKm",
        "outputId": "a2be4a51-422c-48f3-b895-7dc7eddf7221"
      },
      "outputs": [
        {
          "output_type": "execute_result",
          "data": {
            "text/plain": [
              "shape: (1, 16)\n",
              "┌───────────┬─────┬────────┬──────────┬───┬────────────┬──────────┬──────────┬───────────────┐\n",
              "│ timestamp ┆ id  ┆ rating ┆ 18_group ┆ … ┆ percentile ┆ 17_group ┆ blended  ┆ is_ml_student │\n",
              "│ ---       ┆ --- ┆ ---    ┆ ---      ┆   ┆ ---        ┆ ---      ┆ ---      ┆ ---           │\n",
              "│ u32       ┆ u32 ┆ u32    ┆ u32      ┆   ┆ u32        ┆ u32      ┆ u32      ┆ u32           │\n",
              "╞═══════════╪═════╪════════╪══════════╪═══╪════════════╪══════════╪══════════╪═══════════════╡\n",
              "│ 0         ┆ 0   ┆ 0      ┆ 13800000 ┆ … ┆ 0          ┆ 22300000 ┆ 22300000 ┆ 30400000      │\n",
              "└───────────┴─────┴────────┴──────────┴───┴────────────┴──────────┴──────────┴───────────────┘"
            ],
            "text/html": [
              "<div><style>\n",
              ".dataframe > thead > tr,\n",
              ".dataframe > tbody > tr {\n",
              "  text-align: right;\n",
              "  white-space: pre-wrap;\n",
              "}\n",
              "</style>\n",
              "<small>shape: (1, 16)</small><table border=\"1\" class=\"dataframe\"><thead><tr><th>timestamp</th><th>id</th><th>rating</th><th>18_group</th><th>is_mi</th><th>fall_1</th><th>fall_2</th><th>fall_3</th><th>spring_1</th><th>spring_2</th><th>spring_3</th><th>is_first_time</th><th>percentile</th><th>17_group</th><th>blended</th><th>is_ml_student</th></tr><tr><td>u32</td><td>u32</td><td>u32</td><td>u32</td><td>u32</td><td>u32</td><td>u32</td><td>u32</td><td>u32</td><td>u32</td><td>u32</td><td>u32</td><td>u32</td><td>u32</td><td>u32</td><td>u32</td></tr></thead><tbody><tr><td>0</td><td>0</td><td>0</td><td>13800000</td><td>34300000</td><td>0</td><td>0</td><td>0</td><td>0</td><td>0</td><td>0</td><td>200000</td><td>0</td><td>22300000</td><td>22300000</td><td>30400000</td></tr></tbody></table></div>"
            ]
          },
          "metadata": {},
          "execution_count": 18
        }
      ],
      "source": [
        "null_counts = df.null_count()\n",
        "null_counts.collect()"
      ]
    },
    {
      "cell_type": "markdown",
      "metadata": {
        "id": "H0gva-uD3JKm"
      },
      "source": [
        "🔄 Преобразуйте датасет - заполните пропуски пустой строкой для строковых колонок, нулём для числовых и False для булевых (постарайтесь избежать перечисления названий всех столбцов)."
      ]
    },
    {
      "cell_type": "code",
      "execution_count": 19,
      "metadata": {
        "id": "1WOBP3Yx3JKm"
      },
      "outputs": [],
      "source": [
        "df = df.fill_null(strategy=\"zero\")"
      ]
    },
    {
      "cell_type": "markdown",
      "metadata": {
        "id": "a0TfG6CY3JKn"
      },
      "source": [
        "#### 3. [0.5 балла] Посмотрите повнимательнее на колонку 'is_first_time'.\n",
        "\n",
        "Каково процентное соотношение ответов? Сколько из них \"Нет\"?"
      ]
    },
    {
      "cell_type": "code",
      "execution_count": 20,
      "metadata": {
        "colab": {
          "base_uri": "https://localhost:8080/",
          "height": 129
        },
        "id": "wGolS2eY3JKn",
        "outputId": "761a0b7a-1772-4773-d155-9e45d3848acf"
      },
      "outputs": [
        {
          "output_type": "execute_result",
          "data": {
            "text/plain": [
              "shape: (1, 3)\n",
              "┌──────────────────────┬───────────────────────┬────────────────────────┐\n",
              "│ Процент ответов 'Да' ┆ Процент ответов 'Нет' ┆ Процент пустых ответов │\n",
              "│ ---                  ┆ ---                   ┆ ---                    │\n",
              "│ f64                  ┆ f64                   ┆ f64                    │\n",
              "╞══════════════════════╪═══════════════════════╪════════════════════════╡\n",
              "│ 85.31856             ┆ 14.127424             ┆ 0.554017               │\n",
              "└──────────────────────┴───────────────────────┴────────────────────────┘"
            ],
            "text/html": [
              "<div><style>\n",
              ".dataframe > thead > tr,\n",
              ".dataframe > tbody > tr {\n",
              "  text-align: right;\n",
              "  white-space: pre-wrap;\n",
              "}\n",
              "</style>\n",
              "<small>shape: (1, 3)</small><table border=\"1\" class=\"dataframe\"><thead><tr><th>Процент ответов &#x27;Да&#x27;</th><th>Процент ответов &#x27;Нет&#x27;</th><th>Процент пустых ответов</th></tr><tr><td>f64</td><td>f64</td><td>f64</td></tr></thead><tbody><tr><td>85.31856</td><td>14.127424</td><td>0.554017</td></tr></tbody></table></div>"
            ]
          },
          "metadata": {},
          "execution_count": 20
        }
      ],
      "source": [
        "counts = df.select([\n",
        "    (pl.col(\"is_first_time\") == \"Да\").sum().alias(\"yes_count\"),\n",
        "    (pl.col(\"is_first_time\") == \"Нет\").sum().alias(\"no_count\"),\n",
        "    (pl.col(\"is_first_time\") == \"\").sum().alias(\"empty_count\"),\n",
        "     pl.col(\"is_first_time\").count().alias(\"total_count\")\n",
        "])\n",
        "\n",
        "counts.collect()\n",
        "\n",
        "percentages = (\n",
        "    counts.with_columns([\n",
        "\n",
        "        (pl.col(\"yes_count\") / pl.col(\"total_count\") * 100).alias(\"Процент ответов 'Да'\"),\n",
        "\n",
        "        (pl.col(\"no_count\") / pl.col(\"total_count\") * 100).alias(\"Процент ответов 'Нет'\"),\n",
        "\n",
        "        (pl.col(\"empty_count\") / pl.col(\"total_count\") * 100).alias(\"Процент пустых ответов\")\n",
        "    ])\n",
        "    .select([\"Процент ответов 'Да'\", \"Процент ответов 'Нет'\", \"Процент пустых ответов\"])\n",
        "\n",
        ")\n",
        "\n",
        "percentages.collect()"
      ]
    },
    {
      "cell_type": "markdown",
      "metadata": {
        "id": "Renqf_mqekiQ"
      },
      "source": [
        "Посмотрите на колонку `timestamp` - верно ли, что датафрейм отсортирован по ней?"
      ]
    },
    {
      "cell_type": "code",
      "execution_count": 21,
      "metadata": {
        "id": "pxDzAdErerlx",
        "colab": {
          "base_uri": "https://localhost:8080/"
        },
        "outputId": "67833fb9-099c-460e-dab3-a5a926934961"
      },
      "outputs": [
        {
          "output_type": "stream",
          "name": "stdout",
          "text": [
            "Датасет отсортирован по колонке timestamp\n"
          ]
        }
      ],
      "source": [
        "is_sorted_df = (\n",
        "    df.select([\n",
        "        (pl.col(\"timestamp\") == pl.col(\"timestamp\").sort()).all().alias(\"is_sorted\")\n",
        "    ]).collect()\n",
        ")\n",
        "\n",
        "is_sorted = is_sorted_df.select(pl.col(\"is_sorted\")).row(0)[0]\n",
        "\n",
        "if is_sorted:\n",
        "    print(\"Датасет отсортирован по колонке timestamp\")\n",
        "else:\n",
        "    print(\"Датасет не отсортирован по этой колонке\")\n",
        "\n",
        "\n"
      ]
    },
    {
      "cell_type": "markdown",
      "metadata": {
        "id": "ffyqq0ilf0pv"
      },
      "source": [
        "🔄 Оставьте только самую позднюю версию обращений студентов и сохраните изменения. Дубли оставлять тоже не нужно"
      ]
    },
    {
      "cell_type": "code",
      "execution_count": 22,
      "metadata": {
        "id": "kIgPHwvOA0tg",
        "colab": {
          "base_uri": "https://localhost:8080/"
        },
        "outputId": "9f7e31b8-d004-460c-aff6-411cdd065c7f"
      },
      "outputs": [
        {
          "output_type": "stream",
          "name": "stdout",
          "text": [
            "347 rows\n"
          ]
        }
      ],
      "source": [
        "df = df.unique(subset='id', keep='last')\n",
        "df = df.collect()\n",
        "\n",
        "rows = df.shape[0]\n",
        "\n",
        "\n",
        "print(rows, \"rows\")\n"
      ]
    },
    {
      "cell_type": "markdown",
      "metadata": {
        "id": "EXTt7DAJ3JKn"
      },
      "source": [
        "#### 4. [0.5 балла] Какие  blended-курсы для четверокурсников существуют? На какой blended-курс записалось наибольшее количество студентов? На каком из курсов собрались студенты с самым высоким средним рейтингом?"
      ]
    },
    {
      "cell_type": "code",
      "execution_count": 23,
      "metadata": {
        "id": "KRmyYxI5RyZ8",
        "colab": {
          "base_uri": "https://localhost:8080/",
          "height": 224
        },
        "outputId": "95ea8008-eb3c-4e39-cb8f-01d2a9e714a3"
      },
      "outputs": [
        {
          "output_type": "execute_result",
          "data": {
            "text/plain": [
              "shape: (4, 1)\n",
              "┌─────────────────────────────────┐\n",
              "│ blended                         │\n",
              "│ ---                             │\n",
              "│ str                             │\n",
              "╞═════════════════════════════════╡\n",
              "│ DevOps                          │\n",
              "│ Введение в дифференциальную ге… │\n",
              "│ Соревновательный анализ данных  │\n",
              "│                                 │\n",
              "└─────────────────────────────────┘"
            ],
            "text/html": [
              "<div><style>\n",
              ".dataframe > thead > tr,\n",
              ".dataframe > tbody > tr {\n",
              "  text-align: right;\n",
              "  white-space: pre-wrap;\n",
              "}\n",
              "</style>\n",
              "<small>shape: (4, 1)</small><table border=\"1\" class=\"dataframe\"><thead><tr><th>blended</th></tr><tr><td>str</td></tr></thead><tbody><tr><td>&quot;DevOps&quot;</td></tr><tr><td>&quot;Введение в дифференциальную ге…</td></tr><tr><td>&quot;Соревновательный анализ данных&quot;</td></tr><tr><td>&quot;&quot;</td></tr></tbody></table></div>"
            ]
          },
          "metadata": {},
          "execution_count": 23
        }
      ],
      "source": [
        "blended_courses = (\n",
        "    df.select(\"blended\").unique()\n",
        ")\n",
        "\n",
        "blended_courses"
      ]
    },
    {
      "cell_type": "markdown",
      "metadata": {
        "id": "uK5dkCIeSbqe"
      },
      "source": [
        "Получилось 3 вида курсов(пустая строка нас не интересует)\n"
      ]
    },
    {
      "cell_type": "code",
      "execution_count": 24,
      "metadata": {
        "id": "gCe6NE9PSXXT",
        "colab": {
          "base_uri": "https://localhost:8080/",
          "height": 224
        },
        "outputId": "36387c28-6cdf-4fac-8357-7a9cbe9f3356"
      },
      "outputs": [
        {
          "output_type": "execute_result",
          "data": {
            "text/plain": [
              "shape: (4, 2)\n",
              "┌─────────────────────────────────┬─────────────────┐\n",
              "│ Курс                            ┆ Число студентов │\n",
              "│ ---                             ┆ ---             │\n",
              "│ str                             ┆ u32             │\n",
              "╞═════════════════════════════════╪═════════════════╡\n",
              "│                                 ┆ 213             │\n",
              "│ DevOps                          ┆ 87              │\n",
              "│ Соревновательный анализ данных  ┆ 32              │\n",
              "│ Введение в дифференциальную ге… ┆ 15              │\n",
              "└─────────────────────────────────┴─────────────────┘"
            ],
            "text/html": [
              "<div><style>\n",
              ".dataframe > thead > tr,\n",
              ".dataframe > tbody > tr {\n",
              "  text-align: right;\n",
              "  white-space: pre-wrap;\n",
              "}\n",
              "</style>\n",
              "<small>shape: (4, 2)</small><table border=\"1\" class=\"dataframe\"><thead><tr><th>Курс</th><th>Число студентов</th></tr><tr><td>str</td><td>u32</td></tr></thead><tbody><tr><td>&quot;&quot;</td><td>213</td></tr><tr><td>&quot;DevOps&quot;</td><td>87</td></tr><tr><td>&quot;Соревновательный анализ данных&quot;</td><td>32</td></tr><tr><td>&quot;Введение в дифференциальную ге…</td><td>15</td></tr></tbody></table></div>"
            ]
          },
          "metadata": {},
          "execution_count": 24
        }
      ],
      "source": [
        "most_popular_course = (\n",
        "    df.group_by(\"blended\")\n",
        "    .agg(pl.count(\"id\").alias(\"Число студентов\"))\n",
        "    .sort(\"Число студентов\", descending=True)\n",
        "    .select([\n",
        "        pl.col(\"blended\").alias(\"Курс\"),\n",
        "        \"Число студентов\"\n",
        "    ])\n",
        "\n",
        ")\n",
        "most_popular_course\n"
      ]
    },
    {
      "cell_type": "markdown",
      "metadata": {
        "id": "wjz1HPsNifN4"
      },
      "source": [
        "Самый популярный курс среди студентов - \"DevOps\""
      ]
    },
    {
      "cell_type": "code",
      "execution_count": 25,
      "metadata": {
        "id": "Su-YsCjOioCO",
        "colab": {
          "base_uri": "https://localhost:8080/",
          "height": 224
        },
        "outputId": "fdf035f6-bc9b-4a6e-bb94-bdca5c2106d7"
      },
      "outputs": [
        {
          "output_type": "execute_result",
          "data": {
            "text/plain": [
              "shape: (4, 2)\n",
              "┌─────────────────────────────────┬─────────────────┐\n",
              "│ Курс                            ┆ Средний рейтинг │\n",
              "│ ---                             ┆ ---             │\n",
              "│ str                             ┆ f64             │\n",
              "╞═════════════════════════════════╪═════════════════╡\n",
              "│ Введение в дифференциальную ге… ┆ 1210.733333     │\n",
              "│ DevOps                          ┆ 1154.172414     │\n",
              "│ Соревновательный анализ данных  ┆ 1144.21875      │\n",
              "│                                 ┆ 633.901408      │\n",
              "└─────────────────────────────────┴─────────────────┘"
            ],
            "text/html": [
              "<div><style>\n",
              ".dataframe > thead > tr,\n",
              ".dataframe > tbody > tr {\n",
              "  text-align: right;\n",
              "  white-space: pre-wrap;\n",
              "}\n",
              "</style>\n",
              "<small>shape: (4, 2)</small><table border=\"1\" class=\"dataframe\"><thead><tr><th>Курс</th><th>Средний рейтинг</th></tr><tr><td>str</td><td>f64</td></tr></thead><tbody><tr><td>&quot;Введение в дифференциальную ге…</td><td>1210.733333</td></tr><tr><td>&quot;DevOps&quot;</td><td>1154.172414</td></tr><tr><td>&quot;Соревновательный анализ данных&quot;</td><td>1144.21875</td></tr><tr><td>&quot;&quot;</td><td>633.901408</td></tr></tbody></table></div>"
            ]
          },
          "metadata": {},
          "execution_count": 25
        }
      ],
      "source": [
        "highest_avg_rating_course = (\n",
        "    df.group_by(\"blended\")\n",
        "    .agg(pl.mean(\"rating\").alias(\"Средний рейтинг\"))\n",
        "    .sort(\"Средний рейтинг\", descending=True)\n",
        "    .select([\n",
        "        pl.col(\"blended\").alias(\"Курс\"),\n",
        "        \"Средний рейтинг\"\n",
        "    ])\n",
        ")\n",
        "\n",
        "highest_avg_rating_course\n"
      ]
    },
    {
      "cell_type": "markdown",
      "metadata": {
        "id": "XkT5Wb1TlPu_"
      },
      "source": [
        "Студенты с самым высоким средним рейтингом выбрали курс \"Введение в дифференциальную геометрию\"\n"
      ]
    },
    {
      "cell_type": "markdown",
      "metadata": {
        "id": "afbGGxV73JKn"
      },
      "source": [
        "#### 5. [1 балл] Выясните, есть ли студенты с абсолютно одинаковыми предпочтениями по всем курсам.\n",
        "\n",
        "Для этого сформируйте таблицу, где для каждого возможного набора курсов посчитано количество студентов, выбравших такой набор, и оставьте только строки где это количество больше 1.\n",
        "\n",
        "В данном случае набор курсов задается упорядоченным множеством ('fall_1', 'fall_2', 'fall_3', 'spring_1', 'spring_2', 'spring_3', 'blended'). Элемент blended будет нулевым для 3-го курса."
      ]
    },
    {
      "cell_type": "code",
      "execution_count": 26,
      "metadata": {
        "id": "fNXhoAMw3JKn",
        "colab": {
          "base_uri": "https://localhost:8080/",
          "height": 845
        },
        "outputId": "cba14f84-c332-4ba0-8ed6-5e924581a089"
      },
      "outputs": [
        {
          "output_type": "execute_result",
          "data": {
            "text/plain": [
              "shape: (15, 8)\n",
              "┌────────────┬────────────┬────────────┬────────────┬────────────┬───────────┬─────────┬───────────┐\n",
              "│ fall_1     ┆ fall_2     ┆ fall_3     ┆ spring_1   ┆ spring_2   ┆ spring_3  ┆ blended ┆ число     │\n",
              "│ ---        ┆ ---        ┆ ---        ┆ ---        ┆ ---        ┆ ---       ┆ ---     ┆ студентов │\n",
              "│ str        ┆ str        ┆ str        ┆ str        ┆ str        ┆ str       ┆ str     ┆ ---       │\n",
              "│            ┆            ┆            ┆            ┆            ┆           ┆         ┆ u32       │\n",
              "╞════════════╪════════════╪════════════╪════════════╪════════════╪═══════════╪═════════╪═══════════╡\n",
              "│ Statistica ┆ Анализ нес ┆ Сбор и     ┆ Обучение с ┆ Конфликты  ┆ Компьютер ┆ DevOps  ┆ 2         │\n",
              "│ l Learning ┆ труктуриро ┆ обработка  ┆ подкреплен ┆ и          ┆ ное       ┆         ┆           │\n",
              "│ Theory     ┆ ванных     ┆ данных с   ┆ ием        ┆ кооперация ┆ зрение    ┆         ┆           │\n",
              "│            ┆ дан…       ┆ помо…      ┆            ┆            ┆           ┆         ┆           │\n",
              "│ Высокопрои ┆ Сбор и     ┆ Моделирова ┆ Проектиров ┆ Методы     ┆ Методы    ┆ DevOps  ┆ 2         │\n",
              "│ зводительн ┆ обработка  ┆ ние        ┆ ание и     ┆ сжатия и   ┆ сжатия и  ┆         ┆           │\n",
              "│ ые         ┆ данных с   ┆ временных  ┆ разработка ┆ передачи   ┆ передачи  ┆         ┆           │\n",
              "│ вычисле…   ┆ помо…      ┆ рядов      ┆ вы…        ┆ медиа…     ┆ медиа…    ┆         ┆           │\n",
              "│ Байесовски ┆ Анализ нес ┆ Сбор и     ┆ Обучение с ┆ Компьютерн ┆ Генератив ┆ DevOps  ┆ 2         │\n",
              "│ е методы   ┆ труктуриро ┆ обработка  ┆ подкреплен ┆ ое зрение  ┆ ные       ┆         ┆           │\n",
              "│ машинного  ┆ ванных     ┆ данных с   ┆ ием        ┆            ┆ модели в  ┆         ┆           │\n",
              "│ о…         ┆ дан…       ┆ помо…      ┆            ┆            ┆ машинном… ┆         ┆           │\n",
              "│ Язык SQL   ┆ Высокопрои ┆ Теория баз ┆ Компьютерн ┆ Промышленн ┆ Дискретна ┆         ┆ 2         │\n",
              "│            ┆ зводительн ┆ данных     ┆ ые сети    ┆ ое програм ┆ я оптимиз ┆         ┆           │\n",
              "│            ┆ ые         ┆            ┆            ┆ мирование  ┆ ация      ┆         ┆           │\n",
              "│            ┆ вычисле…   ┆            ┆            ┆ …          ┆           ┆         ┆           │\n",
              "│ Безопаснос ┆ Высокопрои ┆ Язык SQL   ┆ Компьютерн ┆ Промышленн ┆ Дискретна ┆         ┆ 3         │\n",
              "│ ть компьют ┆ зводительн ┆            ┆ ые сети    ┆ ое програм ┆ я оптимиз ┆         ┆           │\n",
              "│ ерных      ┆ ые         ┆            ┆            ┆ мирование  ┆ ация      ┆         ┆           │\n",
              "│ сист…      ┆ вычисле…   ┆            ┆            ┆ …          ┆           ┆         ┆           │\n",
              "│ …          ┆ …          ┆ …          ┆ …          ┆ …          ┆ …         ┆ …       ┆ …         │\n",
              "│ Безопаснос ┆ Матричные  ┆ Моделирова ┆ Промышленн ┆ Компьютерн ┆ Дискретна ┆         ┆ 2         │\n",
              "│ ть компьют ┆ вычисления ┆ ние        ┆ ое програм ┆ ые сети    ┆ я оптимиз ┆         ┆           │\n",
              "│ ерных      ┆            ┆ временных  ┆ мирование  ┆            ┆ ация      ┆         ┆           │\n",
              "│ сист…      ┆            ┆ рядов      ┆ …          ┆            ┆           ┆         ┆           │\n",
              "│ Моделирова ┆ Сбор и     ┆ Безопаснос ┆ Компьютерн ┆ Дополнител ┆ Системы   ┆         ┆ 2         │\n",
              "│ ние        ┆ обработка  ┆ ть компьют ┆ ые сети    ┆ ьные главы ┆ баз       ┆         ┆           │\n",
              "│ временных  ┆ данных с   ┆ ерных      ┆            ┆ прикладно… ┆ данных    ┆         ┆           │\n",
              "│ рядов      ┆ помо…      ┆ сист…      ┆            ┆            ┆           ┆         ┆           │\n",
              "│ Безопаснос ┆ Высокопрои ┆ Анализ нес ┆ Проектиров ┆ Методы     ┆ Конфликты ┆ DevOps  ┆ 2         │\n",
              "│ ть компьют ┆ зводительн ┆ труктуриро ┆ ание и     ┆ сжатия и   ┆ и коопера ┆         ┆           │\n",
              "│ ерных      ┆ ые         ┆ ванных     ┆ разработка ┆ передачи   ┆ ция       ┆         ┆           │\n",
              "│ сист…      ┆ вычисле…   ┆ дан…       ┆ вы…        ┆ медиа…     ┆           ┆         ┆           │\n",
              "│ Безопаснос ┆ Сбор и     ┆ Матричные  ┆ Компьютерн ┆ Промышленн ┆ Анализ    ┆         ┆ 2         │\n",
              "│ ть компьют ┆ обработка  ┆ вычисления ┆ ые сети    ┆ ое програм ┆ данных в  ┆         ┆           │\n",
              "│ ерных      ┆ данных с   ┆            ┆            ┆ мирование  ┆ бизнесе   ┆         ┆           │\n",
              "│ сист…      ┆ помо…      ┆            ┆            ┆ …          ┆           ┆         ┆           │\n",
              "│ Байесовски ┆ Анализ нес ┆ Глубинное  ┆ Обучение с ┆ Генеративн ┆ Компьютер ┆ DevOps  ┆ 2         │\n",
              "│ е методы   ┆ труктуриро ┆ обучение в ┆ подкреплен ┆ ые модели  ┆ ное       ┆         ┆           │\n",
              "│ машинного  ┆ ванных     ┆ обработке… ┆ ием        ┆ в          ┆ зрение    ┆         ┆           │\n",
              "│ о…         ┆ дан…       ┆            ┆            ┆ машинном…  ┆           ┆         ┆           │\n",
              "└────────────┴────────────┴────────────┴────────────┴────────────┴───────────┴─────────┴───────────┘"
            ],
            "text/html": [
              "<div><style>\n",
              ".dataframe > thead > tr,\n",
              ".dataframe > tbody > tr {\n",
              "  text-align: right;\n",
              "  white-space: pre-wrap;\n",
              "}\n",
              "</style>\n",
              "<small>shape: (15, 8)</small><table border=\"1\" class=\"dataframe\"><thead><tr><th>fall_1</th><th>fall_2</th><th>fall_3</th><th>spring_1</th><th>spring_2</th><th>spring_3</th><th>blended</th><th>число студентов</th></tr><tr><td>str</td><td>str</td><td>str</td><td>str</td><td>str</td><td>str</td><td>str</td><td>u32</td></tr></thead><tbody><tr><td>&quot;Statistical Learning Theory&quot;</td><td>&quot;Анализ неструктурированных дан…</td><td>&quot;Сбор и обработка данных с помо…</td><td>&quot;Обучение с подкреплением&quot;</td><td>&quot;Конфликты и кооперация&quot;</td><td>&quot;Компьютерное зрение&quot;</td><td>&quot;DevOps&quot;</td><td>2</td></tr><tr><td>&quot;Высокопроизводительные вычисле…</td><td>&quot;Сбор и обработка данных с помо…</td><td>&quot;Моделирование временных рядов&quot;</td><td>&quot;Проектирование и разработка вы…</td><td>&quot;Методы сжатия и передачи медиа…</td><td>&quot;Методы сжатия и передачи медиа…</td><td>&quot;DevOps&quot;</td><td>2</td></tr><tr><td>&quot;Байесовские методы машинного о…</td><td>&quot;Анализ неструктурированных дан…</td><td>&quot;Сбор и обработка данных с помо…</td><td>&quot;Обучение с подкреплением&quot;</td><td>&quot;Компьютерное зрение&quot;</td><td>&quot;Генеративные модели в машинном…</td><td>&quot;DevOps&quot;</td><td>2</td></tr><tr><td>&quot;Язык SQL&quot;</td><td>&quot;Высокопроизводительные вычисле…</td><td>&quot;Теория баз данных&quot;</td><td>&quot;Компьютерные сети&quot;</td><td>&quot;Промышленное программирование …</td><td>&quot;Дискретная оптимизация&quot;</td><td>&quot;&quot;</td><td>2</td></tr><tr><td>&quot;Безопасность компьютерных сист…</td><td>&quot;Высокопроизводительные вычисле…</td><td>&quot;Язык SQL&quot;</td><td>&quot;Компьютерные сети&quot;</td><td>&quot;Промышленное программирование …</td><td>&quot;Дискретная оптимизация&quot;</td><td>&quot;&quot;</td><td>3</td></tr><tr><td>&hellip;</td><td>&hellip;</td><td>&hellip;</td><td>&hellip;</td><td>&hellip;</td><td>&hellip;</td><td>&hellip;</td><td>&hellip;</td></tr><tr><td>&quot;Безопасность компьютерных сист…</td><td>&quot;Матричные вычисления&quot;</td><td>&quot;Моделирование временных рядов&quot;</td><td>&quot;Промышленное программирование …</td><td>&quot;Компьютерные сети&quot;</td><td>&quot;Дискретная оптимизация&quot;</td><td>&quot;&quot;</td><td>2</td></tr><tr><td>&quot;Моделирование временных рядов&quot;</td><td>&quot;Сбор и обработка данных с помо…</td><td>&quot;Безопасность компьютерных сист…</td><td>&quot;Компьютерные сети&quot;</td><td>&quot;Дополнительные главы прикладно…</td><td>&quot;Системы баз данных&quot;</td><td>&quot;&quot;</td><td>2</td></tr><tr><td>&quot;Безопасность компьютерных сист…</td><td>&quot;Высокопроизводительные вычисле…</td><td>&quot;Анализ неструктурированных дан…</td><td>&quot;Проектирование и разработка вы…</td><td>&quot;Методы сжатия и передачи медиа…</td><td>&quot;Конфликты и кооперация&quot;</td><td>&quot;DevOps&quot;</td><td>2</td></tr><tr><td>&quot;Безопасность компьютерных сист…</td><td>&quot;Сбор и обработка данных с помо…</td><td>&quot;Матричные вычисления&quot;</td><td>&quot;Компьютерные сети&quot;</td><td>&quot;Промышленное программирование …</td><td>&quot;Анализ данных в бизнесе&quot;</td><td>&quot;&quot;</td><td>2</td></tr><tr><td>&quot;Байесовские методы машинного о…</td><td>&quot;Анализ неструктурированных дан…</td><td>&quot;Глубинное обучение в обработке…</td><td>&quot;Обучение с подкреплением&quot;</td><td>&quot;Генеративные модели в машинном…</td><td>&quot;Компьютерное зрение&quot;</td><td>&quot;DevOps&quot;</td><td>2</td></tr></tbody></table></div>"
            ]
          },
          "metadata": {},
          "execution_count": 26
        }
      ],
      "source": [
        "similar_preferences = (\n",
        "    df.group_by([\"fall_1\", \"fall_2\", \"fall_3\", \"spring_1\", \"spring_2\", \"spring_3\", \"blended\"])\n",
        "    .agg(pl.count(\"id\").alias(\"число студентов\"))\n",
        "    .filter(pl.col(\"число студентов\") > 1)\n",
        ")\n",
        "\n",
        "similar_preferences"
      ]
    },
    {
      "cell_type": "markdown",
      "metadata": {
        "id": "JU0vq96o3JKo"
      },
      "source": [
        "#### 6. [0.5 балла] Найдите курсы по выбору, на которые записывались как студенты 18-го года набора, так и студенты 17-го года."
      ]
    },
    {
      "cell_type": "code",
      "execution_count": 27,
      "metadata": {
        "id": "9uyB3-Dil427",
        "colab": {
          "base_uri": "https://localhost:8080/",
          "height": 318
        },
        "outputId": "6437b743-f8cf-4dd4-b145-6a507beb88e0"
      },
      "outputs": [
        {
          "output_type": "execute_result",
          "data": {
            "text/plain": [
              "shape: (7, 1)\n",
              "┌─────────────────────────────────┐\n",
              "│ Курс                            │\n",
              "│ ---                             │\n",
              "│ str                             │\n",
              "╞═════════════════════════════════╡\n",
              "│ Statistical Learning Theory     │\n",
              "│ Безопасность компьютерных сист… │\n",
              "│ Принятие решений в условиях ри… │\n",
              "│ Численные методы                │\n",
              "│ Сбор и обработка данных с помо… │\n",
              "│ Моделирование временных рядов   │\n",
              "│ Высокопроизводительные вычисле… │\n",
              "└─────────────────────────────────┘"
            ],
            "text/html": [
              "<div><style>\n",
              ".dataframe > thead > tr,\n",
              ".dataframe > tbody > tr {\n",
              "  text-align: right;\n",
              "  white-space: pre-wrap;\n",
              "}\n",
              "</style>\n",
              "<small>shape: (7, 1)</small><table border=\"1\" class=\"dataframe\"><thead><tr><th>Курс</th></tr><tr><td>str</td></tr></thead><tbody><tr><td>&quot;Statistical Learning Theory&quot;</td></tr><tr><td>&quot;Безопасность компьютерных сист…</td></tr><tr><td>&quot;Принятие решений в условиях ри…</td></tr><tr><td>&quot;Численные методы&quot;</td></tr><tr><td>&quot;Сбор и обработка данных с помо…</td></tr><tr><td>&quot;Моделирование временных рядов&quot;</td></tr><tr><td>&quot;Высокопроизводительные вычисле…</td></tr></tbody></table></div>"
            ]
          },
          "metadata": {},
          "execution_count": 27
        }
      ],
      "source": [
        "students_18_group = df.filter(pl.col(\"18_group\") != 0).select([\"18_group\", \"fall_1\", \"fall_2\", \"fall_3\", \"spring_1\", \"spring_2\", \"spring_3\", \"blended\"]).unpivot(\n",
        "        on=[\"fall_1\", \"fall_2\", \"fall_3\", \"spring_1\", \"spring_2\", \"spring_3\", \"blended\"],\n",
        "        value_name=\"Курс\"\n",
        "    )\n",
        "\n",
        "\n",
        "students_17_group = df.filter(pl.col(\"17_group\") != '').select([\"17_group\", \"fall_1\", \"fall_2\", \"fall_3\", \"spring_1\", \"spring_2\", \"spring_3\", \"blended\"]).unpivot(\n",
        "        on=[\"fall_1\", \"fall_2\", \"fall_3\", \"spring_1\", \"spring_2\", \"spring_3\", \"blended\"],\n",
        "        value_name=\"Курс\"\n",
        "    )\n",
        "\n",
        "\n",
        "courses_df = students_17_group.select(\"Курс\").unique().join(students_18_group.select(\"Курс\").unique(), on=\"Курс\", how=\"inner\").select(\"Курс\").filter(pl.col(\"Курс\") != '')\n",
        "courses_df"
      ]
    },
    {
      "cell_type": "markdown",
      "metadata": {
        "id": "NMkajSaI3JKr"
      },
      "source": [
        "Методом исключения найдите курсы, которые предлагались только студентам 18-го года и только студентам 17-го года."
      ]
    },
    {
      "cell_type": "markdown",
      "metadata": {
        "id": "CXdGNQZIpIbJ"
      },
      "source": [
        "Курсы только для студентов 17-го года"
      ]
    },
    {
      "cell_type": "code",
      "execution_count": 28,
      "metadata": {
        "id": "xwLm7BiJl8k8",
        "colab": {
          "base_uri": "https://localhost:8080/",
          "height": 443
        },
        "outputId": "e352fcb7-31c0-42da-a282-3672254cdc9f"
      },
      "outputs": [
        {
          "output_type": "execute_result",
          "data": {
            "text/plain": [
              "shape: (13, 1)\n",
              "┌─────────────────────────────────┐\n",
              "│ Курс                            │\n",
              "│ ---                             │\n",
              "│ str                             │\n",
              "╞═════════════════════════════════╡\n",
              "│ Глубинное обучение в обработке… │\n",
              "│ Генеративные модели в машинном… │\n",
              "│ Обучение с подкреплением        │\n",
              "│ Методы сжатия и передачи медиа… │\n",
              "│ DevOps                          │\n",
              "│ …                               │\n",
              "│ Конфликты и кооперация          │\n",
              "│ Символьные вычисления           │\n",
              "│ Компьютерное зрение             │\n",
              "│ Соревновательный анализ данных  │\n",
              "│ Проектирование и разработка вы… │\n",
              "└─────────────────────────────────┘"
            ],
            "text/html": [
              "<div><style>\n",
              ".dataframe > thead > tr,\n",
              ".dataframe > tbody > tr {\n",
              "  text-align: right;\n",
              "  white-space: pre-wrap;\n",
              "}\n",
              "</style>\n",
              "<small>shape: (13, 1)</small><table border=\"1\" class=\"dataframe\"><thead><tr><th>Курс</th></tr><tr><td>str</td></tr></thead><tbody><tr><td>&quot;Глубинное обучение в обработке…</td></tr><tr><td>&quot;Генеративные модели в машинном…</td></tr><tr><td>&quot;Обучение с подкреплением&quot;</td></tr><tr><td>&quot;Методы сжатия и передачи медиа…</td></tr><tr><td>&quot;DevOps&quot;</td></tr><tr><td>&hellip;</td></tr><tr><td>&quot;Конфликты и кооперация&quot;</td></tr><tr><td>&quot;Символьные вычисления&quot;</td></tr><tr><td>&quot;Компьютерное зрение&quot;</td></tr><tr><td>&quot;Соревновательный анализ данных&quot;</td></tr><tr><td>&quot;Проектирование и разработка вы…</td></tr></tbody></table></div>"
            ]
          },
          "metadata": {},
          "execution_count": 28
        }
      ],
      "source": [
        "students_17_group.select(\"Курс\").unique().join(students_18_group.select(\"Курс\").unique(), on=\"Курс\", how=\"anti\").select(\"Курс\")"
      ]
    },
    {
      "cell_type": "markdown",
      "metadata": {
        "id": "Nm9_UqYopSne"
      },
      "source": [
        "Курсы только для студентов 18-го года"
      ]
    },
    {
      "cell_type": "code",
      "execution_count": 29,
      "metadata": {
        "id": "Hl7IXMLJl_Fo",
        "colab": {
          "base_uri": "https://localhost:8080/",
          "height": 443
        },
        "outputId": "e97c40de-3242-4203-8956-d5933e30f926"
      },
      "outputs": [
        {
          "output_type": "execute_result",
          "data": {
            "text/plain": [
              "shape: (11, 1)\n",
              "┌─────────────────────────────────┐\n",
              "│ Курс                            │\n",
              "│ ---                             │\n",
              "│ str                             │\n",
              "╞═════════════════════════════════╡\n",
              "│ Анализ данных в бизнесе         │\n",
              "│ Язык SQL                        │\n",
              "│ Системы баз данных              │\n",
              "│                                 │\n",
              "│ Теория баз данных               │\n",
              "│ …                               │\n",
              "│ Дискретная оптимизация          │\n",
              "│ Промышленное программирование … │\n",
              "│ Компьютерные сети               │\n",
              "│ Машинное обучение 2             │\n",
              "│ Матричные вычисления            │\n",
              "└─────────────────────────────────┘"
            ],
            "text/html": [
              "<div><style>\n",
              ".dataframe > thead > tr,\n",
              ".dataframe > tbody > tr {\n",
              "  text-align: right;\n",
              "  white-space: pre-wrap;\n",
              "}\n",
              "</style>\n",
              "<small>shape: (11, 1)</small><table border=\"1\" class=\"dataframe\"><thead><tr><th>Курс</th></tr><tr><td>str</td></tr></thead><tbody><tr><td>&quot;Анализ данных в бизнесе&quot;</td></tr><tr><td>&quot;Язык SQL&quot;</td></tr><tr><td>&quot;Системы баз данных&quot;</td></tr><tr><td>&quot;&quot;</td></tr><tr><td>&quot;Теория баз данных&quot;</td></tr><tr><td>&hellip;</td></tr><tr><td>&quot;Дискретная оптимизация&quot;</td></tr><tr><td>&quot;Промышленное программирование …</td></tr><tr><td>&quot;Компьютерные сети&quot;</td></tr><tr><td>&quot;Машинное обучение 2&quot;</td></tr><tr><td>&quot;Матричные вычисления&quot;</td></tr></tbody></table></div>"
            ]
          },
          "metadata": {},
          "execution_count": 29
        }
      ],
      "source": [
        "students_18_group.select(\"Курс\").unique().join(students_17_group.select(\"Курс\").unique(), on=\"Курс\", how=\"anti\").select(\"Курс\")"
      ]
    },
    {
      "cell_type": "markdown",
      "metadata": {
        "id": "c5TmcNdI3JKs"
      },
      "source": [
        "### Визуализации"
      ]
    },
    {
      "cell_type": "markdown",
      "metadata": {
        "id": "74juA0bp3JKs"
      },
      "source": [
        "При работе с данными часто неудобно делать какие-то выводы, если смотреть на таблицу и числа в частности, поэтому важно уметь визуализировать данные. Здесь будут описаны ключевые правила оформления графиков для **всех** домашних заданий.\n",
        "\n",
        "У matplotlib, конечно же, есть [документация](https://matplotlib.org/users/index.html) с большим количеством [примеров](https://matplotlib.org/examples/), но для начала достаточно знать про несколько основных типов графиков:\n",
        "- plot — обычный поточечный график, которым можно изображать кривые или отдельные точки;\n",
        "- hist — гистограмма, показывающая распределение некоторой величины;\n",
        "- scatter — график, показывающий взаимосвязь двух величин;\n",
        "- bar — столбцовый график, показывающий взаимосвязь количественной величины от категориальной.\n",
        "\n",
        "В этом задании вы попробуете построить один из них. Не забывайте про базовые принципы построения приличных графиков:\n",
        "- оси должны быть подписаны, причём не слишком мелко;\n",
        "- у графика должно быть название;\n",
        "- если изображено несколько графиков, то необходима поясняющая легенда;\n",
        "- все линии на графиках должны быть чётко видны (нет похожих цветов или цветов, сливающихся с фоном);\n",
        "- если возможно сделать график интерактивным, это обычно того стоит - помогает решить проблемы с читаемостью;\n",
        "- если отображена величина, имеющая очевидный диапазон значений (например, проценты могут быть от 0 до 100), то желательно масштабировать ось на весь диапазон значений (исключением является случай, когда вам необходимо показать малое отличие, которое незаметно в таких масштабах);\n",
        "- сетка на графике помогает оценить значения в точках на глаз, это обычно полезно, поэтому лучше ее отрисовывать;\n",
        "- если распределение на гистограмме имеет тяжёлые хвосты, лучше использовать логарифмическую шкалу.\n",
        "\n",
        "Еще одна билиотека для визуализации: [seaborn](https://jakevdp.github.io/PythonDataScienceHandbook/04.14-visualization-with-seaborn.html). Это настройка над matplotlib, иногда удобнее и красивее делать визуализации через неё.\n",
        "\n",
        "У `polars` уже есть встроенные инструменты для визуализации, в частности интерактивные на базе [hvplot](https://docs.pola.rs/user-guide/misc/visualization/#plotly). Из её преимуществ - хорошая производительность при работе с большими данными, есть поддержка самых популярных видов графиков, но синтаксис не самый удобный"
      ]
    },
    {
      "cell_type": "markdown",
      "metadata": {
        "id": "QkH7afPm3JKs"
      },
      "source": [
        "#### 7. [0.5 балла] Постройте график средних рейтингов по дням получения ответов (bar plot)."
      ]
    },
    {
      "cell_type": "code",
      "execution_count": 30,
      "metadata": {
        "id": "p5uqBgesxakt",
        "colab": {
          "base_uri": "https://localhost:8080/",
          "height": 17
        },
        "outputId": "67c3aeac-1707-46ff-c583-464888d52c0f"
      },
      "outputs": [
        {
          "output_type": "display_data",
          "data": {
            "application/javascript": [
              "(function(root) {\n",
              "  function now() {\n",
              "    return new Date();\n",
              "  }\n",
              "\n",
              "  var force = true;\n",
              "  var py_version = '3.4.3'.replace('rc', '-rc.').replace('.dev', '-dev.');\n",
              "  var reloading = false;\n",
              "  var Bokeh = root.Bokeh;\n",
              "\n",
              "  if (typeof (root._bokeh_timeout) === \"undefined\" || force) {\n",
              "    root._bokeh_timeout = Date.now() + 5000;\n",
              "    root._bokeh_failed_load = false;\n",
              "  }\n",
              "\n",
              "  function run_callbacks() {\n",
              "    try {\n",
              "      root._bokeh_onload_callbacks.forEach(function(callback) {\n",
              "        if (callback != null)\n",
              "          callback();\n",
              "      });\n",
              "    } finally {\n",
              "      delete root._bokeh_onload_callbacks;\n",
              "    }\n",
              "    console.debug(\"Bokeh: all callbacks have finished\");\n",
              "  }\n",
              "\n",
              "  function load_libs(css_urls, js_urls, js_modules, js_exports, callback) {\n",
              "    if (css_urls == null) css_urls = [];\n",
              "    if (js_urls == null) js_urls = [];\n",
              "    if (js_modules == null) js_modules = [];\n",
              "    if (js_exports == null) js_exports = {};\n",
              "\n",
              "    root._bokeh_onload_callbacks.push(callback);\n",
              "\n",
              "    if (root._bokeh_is_loading > 0) {\n",
              "      console.debug(\"Bokeh: BokehJS is being loaded, scheduling callback at\", now());\n",
              "      return null;\n",
              "    }\n",
              "    if (js_urls.length === 0 && js_modules.length === 0 && Object.keys(js_exports).length === 0) {\n",
              "      run_callbacks();\n",
              "      return null;\n",
              "    }\n",
              "    if (!reloading) {\n",
              "      console.debug(\"Bokeh: BokehJS not loaded, scheduling load and callback at\", now());\n",
              "    }\n",
              "\n",
              "    function on_load() {\n",
              "      root._bokeh_is_loading--;\n",
              "      if (root._bokeh_is_loading === 0) {\n",
              "        console.debug(\"Bokeh: all BokehJS libraries/stylesheets loaded\");\n",
              "        run_callbacks()\n",
              "      }\n",
              "    }\n",
              "    window._bokeh_on_load = on_load\n",
              "\n",
              "    function on_error() {\n",
              "      console.error(\"failed to load \" + url);\n",
              "    }\n",
              "\n",
              "    var skip = [];\n",
              "    if (window.requirejs) {\n",
              "      window.requirejs.config({'packages': {}, 'paths': {}, 'shim': {}});\n",
              "      root._bokeh_is_loading = css_urls.length + 0;\n",
              "    } else {\n",
              "      root._bokeh_is_loading = css_urls.length + js_urls.length + js_modules.length + Object.keys(js_exports).length;\n",
              "    }\n",
              "\n",
              "    var existing_stylesheets = []\n",
              "    var links = document.getElementsByTagName('link')\n",
              "    for (var i = 0; i < links.length; i++) {\n",
              "      var link = links[i]\n",
              "      if (link.href != null) {\n",
              "\texisting_stylesheets.push(link.href)\n",
              "      }\n",
              "    }\n",
              "    for (var i = 0; i < css_urls.length; i++) {\n",
              "      var url = css_urls[i];\n",
              "      if (existing_stylesheets.indexOf(url) !== -1) {\n",
              "\ton_load()\n",
              "\tcontinue;\n",
              "      }\n",
              "      const element = document.createElement(\"link\");\n",
              "      element.onload = on_load;\n",
              "      element.onerror = on_error;\n",
              "      element.rel = \"stylesheet\";\n",
              "      element.type = \"text/css\";\n",
              "      element.href = url;\n",
              "      console.debug(\"Bokeh: injecting link tag for BokehJS stylesheet: \", url);\n",
              "      document.body.appendChild(element);\n",
              "    }    var existing_scripts = []\n",
              "    var scripts = document.getElementsByTagName('script')\n",
              "    for (var i = 0; i < scripts.length; i++) {\n",
              "      var script = scripts[i]\n",
              "      if (script.src != null) {\n",
              "\texisting_scripts.push(script.src)\n",
              "      }\n",
              "    }\n",
              "    for (var i = 0; i < js_urls.length; i++) {\n",
              "      var url = js_urls[i];\n",
              "      if (skip.indexOf(url) !== -1 || existing_scripts.indexOf(url) !== -1) {\n",
              "\tif (!window.requirejs) {\n",
              "\t  on_load();\n",
              "\t}\n",
              "\tcontinue;\n",
              "      }\n",
              "      var element = document.createElement('script');\n",
              "      element.onload = on_load;\n",
              "      element.onerror = on_error;\n",
              "      element.async = false;\n",
              "      element.src = url;\n",
              "      console.debug(\"Bokeh: injecting script tag for BokehJS library: \", url);\n",
              "      document.head.appendChild(element);\n",
              "    }\n",
              "    for (var i = 0; i < js_modules.length; i++) {\n",
              "      var url = js_modules[i];\n",
              "      if (skip.indexOf(url) !== -1 || existing_scripts.indexOf(url) !== -1) {\n",
              "\tif (!window.requirejs) {\n",
              "\t  on_load();\n",
              "\t}\n",
              "\tcontinue;\n",
              "      }\n",
              "      var element = document.createElement('script');\n",
              "      element.onload = on_load;\n",
              "      element.onerror = on_error;\n",
              "      element.async = false;\n",
              "      element.src = url;\n",
              "      element.type = \"module\";\n",
              "      console.debug(\"Bokeh: injecting script tag for BokehJS library: \", url);\n",
              "      document.head.appendChild(element);\n",
              "    }\n",
              "    for (const name in js_exports) {\n",
              "      var url = js_exports[name];\n",
              "      if (skip.indexOf(url) >= 0 || root[name] != null) {\n",
              "\tif (!window.requirejs) {\n",
              "\t  on_load();\n",
              "\t}\n",
              "\tcontinue;\n",
              "      }\n",
              "      var element = document.createElement('script');\n",
              "      element.onerror = on_error;\n",
              "      element.async = false;\n",
              "      element.type = \"module\";\n",
              "      console.debug(\"Bokeh: injecting script tag for BokehJS library: \", url);\n",
              "      element.textContent = `\n",
              "      import ${name} from \"${url}\"\n",
              "      window.${name} = ${name}\n",
              "      window._bokeh_on_load()\n",
              "      `\n",
              "      document.head.appendChild(element);\n",
              "    }\n",
              "    if (!js_urls.length && !js_modules.length) {\n",
              "      on_load()\n",
              "    }\n",
              "  };\n",
              "\n",
              "  function inject_raw_css(css) {\n",
              "    const element = document.createElement(\"style\");\n",
              "    element.appendChild(document.createTextNode(css));\n",
              "    document.body.appendChild(element);\n",
              "  }\n",
              "\n",
              "  var js_urls = [\"https://cdn.bokeh.org/bokeh/release/bokeh-3.4.3.min.js\", \"https://cdn.bokeh.org/bokeh/release/bokeh-gl-3.4.3.min.js\", \"https://cdn.bokeh.org/bokeh/release/bokeh-widgets-3.4.3.min.js\", \"https://cdn.bokeh.org/bokeh/release/bokeh-tables-3.4.3.min.js\", \"https://cdn.holoviz.org/panel/1.4.5/dist/panel.min.js\"];\n",
              "  var js_modules = [];\n",
              "  var js_exports = {};\n",
              "  var css_urls = [];\n",
              "  var inline_js = [    function(Bokeh) {\n",
              "      Bokeh.set_log_level(\"info\");\n",
              "    },\n",
              "function(Bokeh) {} // ensure no trailing comma for IE\n",
              "  ];\n",
              "\n",
              "  function run_inline_js() {\n",
              "    if ((root.Bokeh !== undefined) || (force === true)) {\n",
              "      for (var i = 0; i < inline_js.length; i++) {\n",
              "\ttry {\n",
              "          inline_js[i].call(root, root.Bokeh);\n",
              "\t} catch(e) {\n",
              "\t  if (!reloading) {\n",
              "\t    throw e;\n",
              "\t  }\n",
              "\t}\n",
              "      }\n",
              "      // Cache old bokeh versions\n",
              "      if (Bokeh != undefined && !reloading) {\n",
              "\tvar NewBokeh = root.Bokeh;\n",
              "\tif (Bokeh.versions === undefined) {\n",
              "\t  Bokeh.versions = new Map();\n",
              "\t}\n",
              "\tif (NewBokeh.version !== Bokeh.version) {\n",
              "\t  Bokeh.versions.set(NewBokeh.version, NewBokeh)\n",
              "\t}\n",
              "\troot.Bokeh = Bokeh;\n",
              "      }} else if (Date.now() < root._bokeh_timeout) {\n",
              "      setTimeout(run_inline_js, 100);\n",
              "    } else if (!root._bokeh_failed_load) {\n",
              "      console.log(\"Bokeh: BokehJS failed to load within specified timeout.\");\n",
              "      root._bokeh_failed_load = true;\n",
              "    }\n",
              "    root._bokeh_is_initializing = false\n",
              "  }\n",
              "\n",
              "  function load_or_wait() {\n",
              "    // Implement a backoff loop that tries to ensure we do not load multiple\n",
              "    // versions of Bokeh and its dependencies at the same time.\n",
              "    // In recent versions we use the root._bokeh_is_initializing flag\n",
              "    // to determine whether there is an ongoing attempt to initialize\n",
              "    // bokeh, however for backward compatibility we also try to ensure\n",
              "    // that we do not start loading a newer (Panel>=1.0 and Bokeh>3) version\n",
              "    // before older versions are fully initialized.\n",
              "    if (root._bokeh_is_initializing && Date.now() > root._bokeh_timeout) {\n",
              "      root._bokeh_is_initializing = false;\n",
              "      root._bokeh_onload_callbacks = undefined;\n",
              "      console.log(\"Bokeh: BokehJS was loaded multiple times but one version failed to initialize.\");\n",
              "      load_or_wait();\n",
              "    } else if (root._bokeh_is_initializing || (typeof root._bokeh_is_initializing === \"undefined\" && root._bokeh_onload_callbacks !== undefined)) {\n",
              "      setTimeout(load_or_wait, 100);\n",
              "    } else {\n",
              "      root._bokeh_is_initializing = true\n",
              "      root._bokeh_onload_callbacks = []\n",
              "      var bokeh_loaded = Bokeh != null && (Bokeh.version === py_version || (Bokeh.versions !== undefined && Bokeh.versions.has(py_version)));\n",
              "      if (!reloading && !bokeh_loaded) {\n",
              "\troot.Bokeh = undefined;\n",
              "      }\n",
              "      load_libs(css_urls, js_urls, js_modules, js_exports, function() {\n",
              "\tconsole.debug(\"Bokeh: BokehJS plotting callback run at\", now());\n",
              "\trun_inline_js();\n",
              "      });\n",
              "    }\n",
              "  }\n",
              "  // Give older versions of the autoload script a head-start to ensure\n",
              "  // they initialize before we start loading newer version.\n",
              "  setTimeout(load_or_wait, 100)\n",
              "}(window));"
            ],
            "application/vnd.holoviews_load.v0+json": "(function(root) {\n  function now() {\n    return new Date();\n  }\n\n  var force = true;\n  var py_version = '3.4.3'.replace('rc', '-rc.').replace('.dev', '-dev.');\n  var reloading = false;\n  var Bokeh = root.Bokeh;\n\n  if (typeof (root._bokeh_timeout) === \"undefined\" || force) {\n    root._bokeh_timeout = Date.now() + 5000;\n    root._bokeh_failed_load = false;\n  }\n\n  function run_callbacks() {\n    try {\n      root._bokeh_onload_callbacks.forEach(function(callback) {\n        if (callback != null)\n          callback();\n      });\n    } finally {\n      delete root._bokeh_onload_callbacks;\n    }\n    console.debug(\"Bokeh: all callbacks have finished\");\n  }\n\n  function load_libs(css_urls, js_urls, js_modules, js_exports, callback) {\n    if (css_urls == null) css_urls = [];\n    if (js_urls == null) js_urls = [];\n    if (js_modules == null) js_modules = [];\n    if (js_exports == null) js_exports = {};\n\n    root._bokeh_onload_callbacks.push(callback);\n\n    if (root._bokeh_is_loading > 0) {\n      console.debug(\"Bokeh: BokehJS is being loaded, scheduling callback at\", now());\n      return null;\n    }\n    if (js_urls.length === 0 && js_modules.length === 0 && Object.keys(js_exports).length === 0) {\n      run_callbacks();\n      return null;\n    }\n    if (!reloading) {\n      console.debug(\"Bokeh: BokehJS not loaded, scheduling load and callback at\", now());\n    }\n\n    function on_load() {\n      root._bokeh_is_loading--;\n      if (root._bokeh_is_loading === 0) {\n        console.debug(\"Bokeh: all BokehJS libraries/stylesheets loaded\");\n        run_callbacks()\n      }\n    }\n    window._bokeh_on_load = on_load\n\n    function on_error() {\n      console.error(\"failed to load \" + url);\n    }\n\n    var skip = [];\n    if (window.requirejs) {\n      window.requirejs.config({'packages': {}, 'paths': {}, 'shim': {}});\n      root._bokeh_is_loading = css_urls.length + 0;\n    } else {\n      root._bokeh_is_loading = css_urls.length + js_urls.length + js_modules.length + Object.keys(js_exports).length;\n    }\n\n    var existing_stylesheets = []\n    var links = document.getElementsByTagName('link')\n    for (var i = 0; i < links.length; i++) {\n      var link = links[i]\n      if (link.href != null) {\n\texisting_stylesheets.push(link.href)\n      }\n    }\n    for (var i = 0; i < css_urls.length; i++) {\n      var url = css_urls[i];\n      if (existing_stylesheets.indexOf(url) !== -1) {\n\ton_load()\n\tcontinue;\n      }\n      const element = document.createElement(\"link\");\n      element.onload = on_load;\n      element.onerror = on_error;\n      element.rel = \"stylesheet\";\n      element.type = \"text/css\";\n      element.href = url;\n      console.debug(\"Bokeh: injecting link tag for BokehJS stylesheet: \", url);\n      document.body.appendChild(element);\n    }    var existing_scripts = []\n    var scripts = document.getElementsByTagName('script')\n    for (var i = 0; i < scripts.length; i++) {\n      var script = scripts[i]\n      if (script.src != null) {\n\texisting_scripts.push(script.src)\n      }\n    }\n    for (var i = 0; i < js_urls.length; i++) {\n      var url = js_urls[i];\n      if (skip.indexOf(url) !== -1 || existing_scripts.indexOf(url) !== -1) {\n\tif (!window.requirejs) {\n\t  on_load();\n\t}\n\tcontinue;\n      }\n      var element = document.createElement('script');\n      element.onload = on_load;\n      element.onerror = on_error;\n      element.async = false;\n      element.src = url;\n      console.debug(\"Bokeh: injecting script tag for BokehJS library: \", url);\n      document.head.appendChild(element);\n    }\n    for (var i = 0; i < js_modules.length; i++) {\n      var url = js_modules[i];\n      if (skip.indexOf(url) !== -1 || existing_scripts.indexOf(url) !== -1) {\n\tif (!window.requirejs) {\n\t  on_load();\n\t}\n\tcontinue;\n      }\n      var element = document.createElement('script');\n      element.onload = on_load;\n      element.onerror = on_error;\n      element.async = false;\n      element.src = url;\n      element.type = \"module\";\n      console.debug(\"Bokeh: injecting script tag for BokehJS library: \", url);\n      document.head.appendChild(element);\n    }\n    for (const name in js_exports) {\n      var url = js_exports[name];\n      if (skip.indexOf(url) >= 0 || root[name] != null) {\n\tif (!window.requirejs) {\n\t  on_load();\n\t}\n\tcontinue;\n      }\n      var element = document.createElement('script');\n      element.onerror = on_error;\n      element.async = false;\n      element.type = \"module\";\n      console.debug(\"Bokeh: injecting script tag for BokehJS library: \", url);\n      element.textContent = `\n      import ${name} from \"${url}\"\n      window.${name} = ${name}\n      window._bokeh_on_load()\n      `\n      document.head.appendChild(element);\n    }\n    if (!js_urls.length && !js_modules.length) {\n      on_load()\n    }\n  };\n\n  function inject_raw_css(css) {\n    const element = document.createElement(\"style\");\n    element.appendChild(document.createTextNode(css));\n    document.body.appendChild(element);\n  }\n\n  var js_urls = [\"https://cdn.bokeh.org/bokeh/release/bokeh-3.4.3.min.js\", \"https://cdn.bokeh.org/bokeh/release/bokeh-gl-3.4.3.min.js\", \"https://cdn.bokeh.org/bokeh/release/bokeh-widgets-3.4.3.min.js\", \"https://cdn.bokeh.org/bokeh/release/bokeh-tables-3.4.3.min.js\", \"https://cdn.holoviz.org/panel/1.4.5/dist/panel.min.js\"];\n  var js_modules = [];\n  var js_exports = {};\n  var css_urls = [];\n  var inline_js = [    function(Bokeh) {\n      Bokeh.set_log_level(\"info\");\n    },\nfunction(Bokeh) {} // ensure no trailing comma for IE\n  ];\n\n  function run_inline_js() {\n    if ((root.Bokeh !== undefined) || (force === true)) {\n      for (var i = 0; i < inline_js.length; i++) {\n\ttry {\n          inline_js[i].call(root, root.Bokeh);\n\t} catch(e) {\n\t  if (!reloading) {\n\t    throw e;\n\t  }\n\t}\n      }\n      // Cache old bokeh versions\n      if (Bokeh != undefined && !reloading) {\n\tvar NewBokeh = root.Bokeh;\n\tif (Bokeh.versions === undefined) {\n\t  Bokeh.versions = new Map();\n\t}\n\tif (NewBokeh.version !== Bokeh.version) {\n\t  Bokeh.versions.set(NewBokeh.version, NewBokeh)\n\t}\n\troot.Bokeh = Bokeh;\n      }} else if (Date.now() < root._bokeh_timeout) {\n      setTimeout(run_inline_js, 100);\n    } else if (!root._bokeh_failed_load) {\n      console.log(\"Bokeh: BokehJS failed to load within specified timeout.\");\n      root._bokeh_failed_load = true;\n    }\n    root._bokeh_is_initializing = false\n  }\n\n  function load_or_wait() {\n    // Implement a backoff loop that tries to ensure we do not load multiple\n    // versions of Bokeh and its dependencies at the same time.\n    // In recent versions we use the root._bokeh_is_initializing flag\n    // to determine whether there is an ongoing attempt to initialize\n    // bokeh, however for backward compatibility we also try to ensure\n    // that we do not start loading a newer (Panel>=1.0 and Bokeh>3) version\n    // before older versions are fully initialized.\n    if (root._bokeh_is_initializing && Date.now() > root._bokeh_timeout) {\n      root._bokeh_is_initializing = false;\n      root._bokeh_onload_callbacks = undefined;\n      console.log(\"Bokeh: BokehJS was loaded multiple times but one version failed to initialize.\");\n      load_or_wait();\n    } else if (root._bokeh_is_initializing || (typeof root._bokeh_is_initializing === \"undefined\" && root._bokeh_onload_callbacks !== undefined)) {\n      setTimeout(load_or_wait, 100);\n    } else {\n      root._bokeh_is_initializing = true\n      root._bokeh_onload_callbacks = []\n      var bokeh_loaded = Bokeh != null && (Bokeh.version === py_version || (Bokeh.versions !== undefined && Bokeh.versions.has(py_version)));\n      if (!reloading && !bokeh_loaded) {\n\troot.Bokeh = undefined;\n      }\n      load_libs(css_urls, js_urls, js_modules, js_exports, function() {\n\tconsole.debug(\"Bokeh: BokehJS plotting callback run at\", now());\n\trun_inline_js();\n      });\n    }\n  }\n  // Give older versions of the autoload script a head-start to ensure\n  // they initialize before we start loading newer version.\n  setTimeout(load_or_wait, 100)\n}(window));"
          },
          "metadata": {}
        },
        {
          "output_type": "display_data",
          "data": {
            "application/vnd.holoviews_load.v0+json": "\nif ((window.PyViz === undefined) || (window.PyViz instanceof HTMLElement)) {\n  window.PyViz = {comms: {}, comm_status:{}, kernels:{}, receivers: {}, plot_index: []}\n}\n\n\n    function JupyterCommManager() {\n    }\n\n    JupyterCommManager.prototype.register_target = function(plot_id, comm_id, msg_handler) {\n      if (window.comm_manager || ((window.Jupyter !== undefined) && (Jupyter.notebook.kernel != null))) {\n        var comm_manager = window.comm_manager || Jupyter.notebook.kernel.comm_manager;\n        comm_manager.register_target(comm_id, function(comm) {\n          comm.on_msg(msg_handler);\n        });\n      } else if ((plot_id in window.PyViz.kernels) && (window.PyViz.kernels[plot_id])) {\n        window.PyViz.kernels[plot_id].registerCommTarget(comm_id, function(comm) {\n          comm.onMsg = msg_handler;\n        });\n      } else if (typeof google != 'undefined' && google.colab.kernel != null) {\n        google.colab.kernel.comms.registerTarget(comm_id, (comm) => {\n          var messages = comm.messages[Symbol.asyncIterator]();\n          function processIteratorResult(result) {\n            var message = result.value;\n            console.log(message)\n            var content = {data: message.data, comm_id};\n            var buffers = []\n            for (var buffer of message.buffers || []) {\n              buffers.push(new DataView(buffer))\n            }\n            var metadata = message.metadata || {};\n            var msg = {content, buffers, metadata}\n            msg_handler(msg);\n            return messages.next().then(processIteratorResult);\n          }\n          return messages.next().then(processIteratorResult);\n        })\n      }\n    }\n\n    JupyterCommManager.prototype.get_client_comm = function(plot_id, comm_id, msg_handler) {\n      if (comm_id in window.PyViz.comms) {\n        return window.PyViz.comms[comm_id];\n      } else if (window.comm_manager || ((window.Jupyter !== undefined) && (Jupyter.notebook.kernel != null))) {\n        var comm_manager = window.comm_manager || Jupyter.notebook.kernel.comm_manager;\n        var comm = comm_manager.new_comm(comm_id, {}, {}, {}, comm_id);\n        if (msg_handler) {\n          comm.on_msg(msg_handler);\n        }\n      } else if ((plot_id in window.PyViz.kernels) && (window.PyViz.kernels[plot_id])) {\n        var comm = window.PyViz.kernels[plot_id].connectToComm(comm_id);\n        comm.open();\n        if (msg_handler) {\n          comm.onMsg = msg_handler;\n        }\n      } else if (typeof google != 'undefined' && google.colab.kernel != null) {\n        var comm_promise = google.colab.kernel.comms.open(comm_id)\n        comm_promise.then((comm) => {\n          window.PyViz.comms[comm_id] = comm;\n          if (msg_handler) {\n            var messages = comm.messages[Symbol.asyncIterator]();\n            function processIteratorResult(result) {\n              var message = result.value;\n              var content = {data: message.data};\n              var metadata = message.metadata || {comm_id};\n              var msg = {content, metadata}\n              msg_handler(msg);\n              return messages.next().then(processIteratorResult);\n            }\n            return messages.next().then(processIteratorResult);\n          }\n        }) \n        var sendClosure = (data, metadata, buffers, disposeOnDone) => {\n          return comm_promise.then((comm) => {\n            comm.send(data, metadata, buffers, disposeOnDone);\n          });\n        };\n        var comm = {\n          send: sendClosure\n        };\n      }\n      window.PyViz.comms[comm_id] = comm;\n      return comm;\n    }\n    window.PyViz.comm_manager = new JupyterCommManager();\n    \n\n\nvar JS_MIME_TYPE = 'application/javascript';\nvar HTML_MIME_TYPE = 'text/html';\nvar EXEC_MIME_TYPE = 'application/vnd.holoviews_exec.v0+json';\nvar CLASS_NAME = 'output';\n\n/**\n * Render data to the DOM node\n */\nfunction render(props, node) {\n  var div = document.createElement(\"div\");\n  var script = document.createElement(\"script\");\n  node.appendChild(div);\n  node.appendChild(script);\n}\n\n/**\n * Handle when a new output is added\n */\nfunction handle_add_output(event, handle) {\n  var output_area = handle.output_area;\n  var output = handle.output;\n  if ((output.data == undefined) || (!output.data.hasOwnProperty(EXEC_MIME_TYPE))) {\n    return\n  }\n  var id = output.metadata[EXEC_MIME_TYPE][\"id\"];\n  var toinsert = output_area.element.find(\".\" + CLASS_NAME.split(' ')[0]);\n  if (id !== undefined) {\n    var nchildren = toinsert.length;\n    var html_node = toinsert[nchildren-1].children[0];\n    html_node.innerHTML = output.data[HTML_MIME_TYPE];\n    var scripts = [];\n    var nodelist = html_node.querySelectorAll(\"script\");\n    for (var i in nodelist) {\n      if (nodelist.hasOwnProperty(i)) {\n        scripts.push(nodelist[i])\n      }\n    }\n\n    scripts.forEach( function (oldScript) {\n      var newScript = document.createElement(\"script\");\n      var attrs = [];\n      var nodemap = oldScript.attributes;\n      for (var j in nodemap) {\n        if (nodemap.hasOwnProperty(j)) {\n          attrs.push(nodemap[j])\n        }\n      }\n      attrs.forEach(function(attr) { newScript.setAttribute(attr.name, attr.value) });\n      newScript.appendChild(document.createTextNode(oldScript.innerHTML));\n      oldScript.parentNode.replaceChild(newScript, oldScript);\n    });\n    if (JS_MIME_TYPE in output.data) {\n      toinsert[nchildren-1].children[1].textContent = output.data[JS_MIME_TYPE];\n    }\n    output_area._hv_plot_id = id;\n    if ((window.Bokeh !== undefined) && (id in Bokeh.index)) {\n      window.PyViz.plot_index[id] = Bokeh.index[id];\n    } else {\n      window.PyViz.plot_index[id] = null;\n    }\n  } else if (output.metadata[EXEC_MIME_TYPE][\"server_id\"] !== undefined) {\n    var bk_div = document.createElement(\"div\");\n    bk_div.innerHTML = output.data[HTML_MIME_TYPE];\n    var script_attrs = bk_div.children[0].attributes;\n    for (var i = 0; i < script_attrs.length; i++) {\n      toinsert[toinsert.length - 1].childNodes[1].setAttribute(script_attrs[i].name, script_attrs[i].value);\n    }\n    // store reference to server id on output_area\n    output_area._bokeh_server_id = output.metadata[EXEC_MIME_TYPE][\"server_id\"];\n  }\n}\n\n/**\n * Handle when an output is cleared or removed\n */\nfunction handle_clear_output(event, handle) {\n  var id = handle.cell.output_area._hv_plot_id;\n  var server_id = handle.cell.output_area._bokeh_server_id;\n  if (((id === undefined) || !(id in PyViz.plot_index)) && (server_id !== undefined)) { return; }\n  var comm = window.PyViz.comm_manager.get_client_comm(\"hv-extension-comm\", \"hv-extension-comm\", function () {});\n  if (server_id !== null) {\n    comm.send({event_type: 'server_delete', 'id': server_id});\n    return;\n  } else if (comm !== null) {\n    comm.send({event_type: 'delete', 'id': id});\n  }\n  delete PyViz.plot_index[id];\n  if ((window.Bokeh !== undefined) & (id in window.Bokeh.index)) {\n    var doc = window.Bokeh.index[id].model.document\n    doc.clear();\n    const i = window.Bokeh.documents.indexOf(doc);\n    if (i > -1) {\n      window.Bokeh.documents.splice(i, 1);\n    }\n  }\n}\n\n/**\n * Handle kernel restart event\n */\nfunction handle_kernel_cleanup(event, handle) {\n  delete PyViz.comms[\"hv-extension-comm\"];\n  window.PyViz.plot_index = {}\n}\n\n/**\n * Handle update_display_data messages\n */\nfunction handle_update_output(event, handle) {\n  handle_clear_output(event, {cell: {output_area: handle.output_area}})\n  handle_add_output(event, handle)\n}\n\nfunction register_renderer(events, OutputArea) {\n  function append_mime(data, metadata, element) {\n    // create a DOM node to render to\n    var toinsert = this.create_output_subarea(\n    metadata,\n    CLASS_NAME,\n    EXEC_MIME_TYPE\n    );\n    this.keyboard_manager.register_events(toinsert);\n    // Render to node\n    var props = {data: data, metadata: metadata[EXEC_MIME_TYPE]};\n    render(props, toinsert[0]);\n    element.append(toinsert);\n    return toinsert\n  }\n\n  events.on('output_added.OutputArea', handle_add_output);\n  events.on('output_updated.OutputArea', handle_update_output);\n  events.on('clear_output.CodeCell', handle_clear_output);\n  events.on('delete.Cell', handle_clear_output);\n  events.on('kernel_ready.Kernel', handle_kernel_cleanup);\n\n  OutputArea.prototype.register_mime_type(EXEC_MIME_TYPE, append_mime, {\n    safe: true,\n    index: 0\n  });\n}\n\nif (window.Jupyter !== undefined) {\n  try {\n    var events = require('base/js/events');\n    var OutputArea = require('notebook/js/outputarea').OutputArea;\n    if (OutputArea.prototype.mime_types().indexOf(EXEC_MIME_TYPE) == -1) {\n      register_renderer(events, OutputArea);\n    }\n  } catch(err) {\n  }\n}\n",
            "application/javascript": [
              "\n",
              "if ((window.PyViz === undefined) || (window.PyViz instanceof HTMLElement)) {\n",
              "  window.PyViz = {comms: {}, comm_status:{}, kernels:{}, receivers: {}, plot_index: []}\n",
              "}\n",
              "\n",
              "\n",
              "    function JupyterCommManager() {\n",
              "    }\n",
              "\n",
              "    JupyterCommManager.prototype.register_target = function(plot_id, comm_id, msg_handler) {\n",
              "      if (window.comm_manager || ((window.Jupyter !== undefined) && (Jupyter.notebook.kernel != null))) {\n",
              "        var comm_manager = window.comm_manager || Jupyter.notebook.kernel.comm_manager;\n",
              "        comm_manager.register_target(comm_id, function(comm) {\n",
              "          comm.on_msg(msg_handler);\n",
              "        });\n",
              "      } else if ((plot_id in window.PyViz.kernels) && (window.PyViz.kernels[plot_id])) {\n",
              "        window.PyViz.kernels[plot_id].registerCommTarget(comm_id, function(comm) {\n",
              "          comm.onMsg = msg_handler;\n",
              "        });\n",
              "      } else if (typeof google != 'undefined' && google.colab.kernel != null) {\n",
              "        google.colab.kernel.comms.registerTarget(comm_id, (comm) => {\n",
              "          var messages = comm.messages[Symbol.asyncIterator]();\n",
              "          function processIteratorResult(result) {\n",
              "            var message = result.value;\n",
              "            console.log(message)\n",
              "            var content = {data: message.data, comm_id};\n",
              "            var buffers = []\n",
              "            for (var buffer of message.buffers || []) {\n",
              "              buffers.push(new DataView(buffer))\n",
              "            }\n",
              "            var metadata = message.metadata || {};\n",
              "            var msg = {content, buffers, metadata}\n",
              "            msg_handler(msg);\n",
              "            return messages.next().then(processIteratorResult);\n",
              "          }\n",
              "          return messages.next().then(processIteratorResult);\n",
              "        })\n",
              "      }\n",
              "    }\n",
              "\n",
              "    JupyterCommManager.prototype.get_client_comm = function(plot_id, comm_id, msg_handler) {\n",
              "      if (comm_id in window.PyViz.comms) {\n",
              "        return window.PyViz.comms[comm_id];\n",
              "      } else if (window.comm_manager || ((window.Jupyter !== undefined) && (Jupyter.notebook.kernel != null))) {\n",
              "        var comm_manager = window.comm_manager || Jupyter.notebook.kernel.comm_manager;\n",
              "        var comm = comm_manager.new_comm(comm_id, {}, {}, {}, comm_id);\n",
              "        if (msg_handler) {\n",
              "          comm.on_msg(msg_handler);\n",
              "        }\n",
              "      } else if ((plot_id in window.PyViz.kernels) && (window.PyViz.kernels[plot_id])) {\n",
              "        var comm = window.PyViz.kernels[plot_id].connectToComm(comm_id);\n",
              "        comm.open();\n",
              "        if (msg_handler) {\n",
              "          comm.onMsg = msg_handler;\n",
              "        }\n",
              "      } else if (typeof google != 'undefined' && google.colab.kernel != null) {\n",
              "        var comm_promise = google.colab.kernel.comms.open(comm_id)\n",
              "        comm_promise.then((comm) => {\n",
              "          window.PyViz.comms[comm_id] = comm;\n",
              "          if (msg_handler) {\n",
              "            var messages = comm.messages[Symbol.asyncIterator]();\n",
              "            function processIteratorResult(result) {\n",
              "              var message = result.value;\n",
              "              var content = {data: message.data};\n",
              "              var metadata = message.metadata || {comm_id};\n",
              "              var msg = {content, metadata}\n",
              "              msg_handler(msg);\n",
              "              return messages.next().then(processIteratorResult);\n",
              "            }\n",
              "            return messages.next().then(processIteratorResult);\n",
              "          }\n",
              "        }) \n",
              "        var sendClosure = (data, metadata, buffers, disposeOnDone) => {\n",
              "          return comm_promise.then((comm) => {\n",
              "            comm.send(data, metadata, buffers, disposeOnDone);\n",
              "          });\n",
              "        };\n",
              "        var comm = {\n",
              "          send: sendClosure\n",
              "        };\n",
              "      }\n",
              "      window.PyViz.comms[comm_id] = comm;\n",
              "      return comm;\n",
              "    }\n",
              "    window.PyViz.comm_manager = new JupyterCommManager();\n",
              "    \n",
              "\n",
              "\n",
              "var JS_MIME_TYPE = 'application/javascript';\n",
              "var HTML_MIME_TYPE = 'text/html';\n",
              "var EXEC_MIME_TYPE = 'application/vnd.holoviews_exec.v0+json';\n",
              "var CLASS_NAME = 'output';\n",
              "\n",
              "/**\n",
              " * Render data to the DOM node\n",
              " */\n",
              "function render(props, node) {\n",
              "  var div = document.createElement(\"div\");\n",
              "  var script = document.createElement(\"script\");\n",
              "  node.appendChild(div);\n",
              "  node.appendChild(script);\n",
              "}\n",
              "\n",
              "/**\n",
              " * Handle when a new output is added\n",
              " */\n",
              "function handle_add_output(event, handle) {\n",
              "  var output_area = handle.output_area;\n",
              "  var output = handle.output;\n",
              "  if ((output.data == undefined) || (!output.data.hasOwnProperty(EXEC_MIME_TYPE))) {\n",
              "    return\n",
              "  }\n",
              "  var id = output.metadata[EXEC_MIME_TYPE][\"id\"];\n",
              "  var toinsert = output_area.element.find(\".\" + CLASS_NAME.split(' ')[0]);\n",
              "  if (id !== undefined) {\n",
              "    var nchildren = toinsert.length;\n",
              "    var html_node = toinsert[nchildren-1].children[0];\n",
              "    html_node.innerHTML = output.data[HTML_MIME_TYPE];\n",
              "    var scripts = [];\n",
              "    var nodelist = html_node.querySelectorAll(\"script\");\n",
              "    for (var i in nodelist) {\n",
              "      if (nodelist.hasOwnProperty(i)) {\n",
              "        scripts.push(nodelist[i])\n",
              "      }\n",
              "    }\n",
              "\n",
              "    scripts.forEach( function (oldScript) {\n",
              "      var newScript = document.createElement(\"script\");\n",
              "      var attrs = [];\n",
              "      var nodemap = oldScript.attributes;\n",
              "      for (var j in nodemap) {\n",
              "        if (nodemap.hasOwnProperty(j)) {\n",
              "          attrs.push(nodemap[j])\n",
              "        }\n",
              "      }\n",
              "      attrs.forEach(function(attr) { newScript.setAttribute(attr.name, attr.value) });\n",
              "      newScript.appendChild(document.createTextNode(oldScript.innerHTML));\n",
              "      oldScript.parentNode.replaceChild(newScript, oldScript);\n",
              "    });\n",
              "    if (JS_MIME_TYPE in output.data) {\n",
              "      toinsert[nchildren-1].children[1].textContent = output.data[JS_MIME_TYPE];\n",
              "    }\n",
              "    output_area._hv_plot_id = id;\n",
              "    if ((window.Bokeh !== undefined) && (id in Bokeh.index)) {\n",
              "      window.PyViz.plot_index[id] = Bokeh.index[id];\n",
              "    } else {\n",
              "      window.PyViz.plot_index[id] = null;\n",
              "    }\n",
              "  } else if (output.metadata[EXEC_MIME_TYPE][\"server_id\"] !== undefined) {\n",
              "    var bk_div = document.createElement(\"div\");\n",
              "    bk_div.innerHTML = output.data[HTML_MIME_TYPE];\n",
              "    var script_attrs = bk_div.children[0].attributes;\n",
              "    for (var i = 0; i < script_attrs.length; i++) {\n",
              "      toinsert[toinsert.length - 1].childNodes[1].setAttribute(script_attrs[i].name, script_attrs[i].value);\n",
              "    }\n",
              "    // store reference to server id on output_area\n",
              "    output_area._bokeh_server_id = output.metadata[EXEC_MIME_TYPE][\"server_id\"];\n",
              "  }\n",
              "}\n",
              "\n",
              "/**\n",
              " * Handle when an output is cleared or removed\n",
              " */\n",
              "function handle_clear_output(event, handle) {\n",
              "  var id = handle.cell.output_area._hv_plot_id;\n",
              "  var server_id = handle.cell.output_area._bokeh_server_id;\n",
              "  if (((id === undefined) || !(id in PyViz.plot_index)) && (server_id !== undefined)) { return; }\n",
              "  var comm = window.PyViz.comm_manager.get_client_comm(\"hv-extension-comm\", \"hv-extension-comm\", function () {});\n",
              "  if (server_id !== null) {\n",
              "    comm.send({event_type: 'server_delete', 'id': server_id});\n",
              "    return;\n",
              "  } else if (comm !== null) {\n",
              "    comm.send({event_type: 'delete', 'id': id});\n",
              "  }\n",
              "  delete PyViz.plot_index[id];\n",
              "  if ((window.Bokeh !== undefined) & (id in window.Bokeh.index)) {\n",
              "    var doc = window.Bokeh.index[id].model.document\n",
              "    doc.clear();\n",
              "    const i = window.Bokeh.documents.indexOf(doc);\n",
              "    if (i > -1) {\n",
              "      window.Bokeh.documents.splice(i, 1);\n",
              "    }\n",
              "  }\n",
              "}\n",
              "\n",
              "/**\n",
              " * Handle kernel restart event\n",
              " */\n",
              "function handle_kernel_cleanup(event, handle) {\n",
              "  delete PyViz.comms[\"hv-extension-comm\"];\n",
              "  window.PyViz.plot_index = {}\n",
              "}\n",
              "\n",
              "/**\n",
              " * Handle update_display_data messages\n",
              " */\n",
              "function handle_update_output(event, handle) {\n",
              "  handle_clear_output(event, {cell: {output_area: handle.output_area}})\n",
              "  handle_add_output(event, handle)\n",
              "}\n",
              "\n",
              "function register_renderer(events, OutputArea) {\n",
              "  function append_mime(data, metadata, element) {\n",
              "    // create a DOM node to render to\n",
              "    var toinsert = this.create_output_subarea(\n",
              "    metadata,\n",
              "    CLASS_NAME,\n",
              "    EXEC_MIME_TYPE\n",
              "    );\n",
              "    this.keyboard_manager.register_events(toinsert);\n",
              "    // Render to node\n",
              "    var props = {data: data, metadata: metadata[EXEC_MIME_TYPE]};\n",
              "    render(props, toinsert[0]);\n",
              "    element.append(toinsert);\n",
              "    return toinsert\n",
              "  }\n",
              "\n",
              "  events.on('output_added.OutputArea', handle_add_output);\n",
              "  events.on('output_updated.OutputArea', handle_update_output);\n",
              "  events.on('clear_output.CodeCell', handle_clear_output);\n",
              "  events.on('delete.Cell', handle_clear_output);\n",
              "  events.on('kernel_ready.Kernel', handle_kernel_cleanup);\n",
              "\n",
              "  OutputArea.prototype.register_mime_type(EXEC_MIME_TYPE, append_mime, {\n",
              "    safe: true,\n",
              "    index: 0\n",
              "  });\n",
              "}\n",
              "\n",
              "if (window.Jupyter !== undefined) {\n",
              "  try {\n",
              "    var events = require('base/js/events');\n",
              "    var OutputArea = require('notebook/js/outputarea').OutputArea;\n",
              "    if (OutputArea.prototype.mime_types().indexOf(EXEC_MIME_TYPE) == -1) {\n",
              "      register_renderer(events, OutputArea);\n",
              "    }\n",
              "  } catch(err) {\n",
              "  }\n",
              "}\n"
            ]
          },
          "metadata": {}
        },
        {
          "output_type": "display_data",
          "data": {
            "text/html": [
              "<style>*[data-root-id],\n",
              "*[data-root-id] > * {\n",
              "  box-sizing: border-box;\n",
              "  font-family: var(--jp-ui-font-family);\n",
              "  font-size: var(--jp-ui-font-size1);\n",
              "  color: var(--vscode-editor-foreground, var(--jp-ui-font-color1));\n",
              "}\n",
              "\n",
              "/* Override VSCode background color */\n",
              ".cell-output-ipywidget-background:has(\n",
              "    > .cell-output-ipywidget-background > .lm-Widget > *[data-root-id]\n",
              "  ),\n",
              ".cell-output-ipywidget-background:has(> .lm-Widget > *[data-root-id]) {\n",
              "  background-color: transparent !important;\n",
              "}\n",
              "</style>"
            ]
          },
          "metadata": {}
        },
        {
          "output_type": "display_data",
          "data": {
            "text/html": [
              "<div id='p1002'>\n",
              "  <div id=\"a0bfe5c3-758e-41d7-8b86-cb65c2bc159f\" data-root-id=\"p1002\" style=\"display: contents;\"></div>\n",
              "</div>\n",
              "<script type=\"application/javascript\">(function(root) {\n",
              "  var docs_json = {\"c8a8d974-f2f4-4098-98eb-8d0556b384d2\":{\"version\":\"3.4.3\",\"title\":\"Bokeh Application\",\"roots\":[{\"type\":\"object\",\"name\":\"panel.models.browser.BrowserInfo\",\"id\":\"p1002\"},{\"type\":\"object\",\"name\":\"panel.models.comm_manager.CommManager\",\"id\":\"p1003\",\"attributes\":{\"plot_id\":\"p1002\",\"comm_id\":\"81df52124e2e4a18accded62aadf9d3e\",\"client_comm_id\":\"e0eee1c002e142f586c35a644f56d883\"}}],\"defs\":[{\"type\":\"model\",\"name\":\"ReactiveHTML1\"},{\"type\":\"model\",\"name\":\"FlexBox1\",\"properties\":[{\"name\":\"align_content\",\"kind\":\"Any\",\"default\":\"flex-start\"},{\"name\":\"align_items\",\"kind\":\"Any\",\"default\":\"flex-start\"},{\"name\":\"flex_direction\",\"kind\":\"Any\",\"default\":\"row\"},{\"name\":\"flex_wrap\",\"kind\":\"Any\",\"default\":\"wrap\"},{\"name\":\"gap\",\"kind\":\"Any\",\"default\":\"\"},{\"name\":\"justify_content\",\"kind\":\"Any\",\"default\":\"flex-start\"}]},{\"type\":\"model\",\"name\":\"FloatPanel1\",\"properties\":[{\"name\":\"config\",\"kind\":\"Any\",\"default\":{\"type\":\"map\"}},{\"name\":\"contained\",\"kind\":\"Any\",\"default\":true},{\"name\":\"position\",\"kind\":\"Any\",\"default\":\"right-top\"},{\"name\":\"offsetx\",\"kind\":\"Any\",\"default\":null},{\"name\":\"offsety\",\"kind\":\"Any\",\"default\":null},{\"name\":\"theme\",\"kind\":\"Any\",\"default\":\"primary\"},{\"name\":\"status\",\"kind\":\"Any\",\"default\":\"normalized\"}]},{\"type\":\"model\",\"name\":\"GridStack1\",\"properties\":[{\"name\":\"mode\",\"kind\":\"Any\",\"default\":\"warn\"},{\"name\":\"ncols\",\"kind\":\"Any\",\"default\":null},{\"name\":\"nrows\",\"kind\":\"Any\",\"default\":null},{\"name\":\"allow_resize\",\"kind\":\"Any\",\"default\":true},{\"name\":\"allow_drag\",\"kind\":\"Any\",\"default\":true},{\"name\":\"state\",\"kind\":\"Any\",\"default\":[]}]},{\"type\":\"model\",\"name\":\"drag1\",\"properties\":[{\"name\":\"slider_width\",\"kind\":\"Any\",\"default\":5},{\"name\":\"slider_color\",\"kind\":\"Any\",\"default\":\"black\"},{\"name\":\"value\",\"kind\":\"Any\",\"default\":50}]},{\"type\":\"model\",\"name\":\"click1\",\"properties\":[{\"name\":\"terminal_output\",\"kind\":\"Any\",\"default\":\"\"},{\"name\":\"debug_name\",\"kind\":\"Any\",\"default\":\"\"},{\"name\":\"clears\",\"kind\":\"Any\",\"default\":0}]},{\"type\":\"model\",\"name\":\"FastWrapper1\",\"properties\":[{\"name\":\"object\",\"kind\":\"Any\",\"default\":null},{\"name\":\"style\",\"kind\":\"Any\",\"default\":null}]},{\"type\":\"model\",\"name\":\"NotificationAreaBase1\",\"properties\":[{\"name\":\"js_events\",\"kind\":\"Any\",\"default\":{\"type\":\"map\"}},{\"name\":\"position\",\"kind\":\"Any\",\"default\":\"bottom-right\"},{\"name\":\"_clear\",\"kind\":\"Any\",\"default\":0}]},{\"type\":\"model\",\"name\":\"NotificationArea1\",\"properties\":[{\"name\":\"js_events\",\"kind\":\"Any\",\"default\":{\"type\":\"map\"}},{\"name\":\"notifications\",\"kind\":\"Any\",\"default\":[]},{\"name\":\"position\",\"kind\":\"Any\",\"default\":\"bottom-right\"},{\"name\":\"_clear\",\"kind\":\"Any\",\"default\":0},{\"name\":\"types\",\"kind\":\"Any\",\"default\":[{\"type\":\"map\",\"entries\":[[\"type\",\"warning\"],[\"background\",\"#ffc107\"],[\"icon\",{\"type\":\"map\",\"entries\":[[\"className\",\"fas fa-exclamation-triangle\"],[\"tagName\",\"i\"],[\"color\",\"white\"]]}]]},{\"type\":\"map\",\"entries\":[[\"type\",\"info\"],[\"background\",\"#007bff\"],[\"icon\",{\"type\":\"map\",\"entries\":[[\"className\",\"fas fa-info-circle\"],[\"tagName\",\"i\"],[\"color\",\"white\"]]}]]}]}]},{\"type\":\"model\",\"name\":\"Notification\",\"properties\":[{\"name\":\"background\",\"kind\":\"Any\",\"default\":null},{\"name\":\"duration\",\"kind\":\"Any\",\"default\":3000},{\"name\":\"icon\",\"kind\":\"Any\",\"default\":null},{\"name\":\"message\",\"kind\":\"Any\",\"default\":\"\"},{\"name\":\"notification_type\",\"kind\":\"Any\",\"default\":null},{\"name\":\"_destroyed\",\"kind\":\"Any\",\"default\":false}]},{\"type\":\"model\",\"name\":\"TemplateActions1\",\"properties\":[{\"name\":\"open_modal\",\"kind\":\"Any\",\"default\":0},{\"name\":\"close_modal\",\"kind\":\"Any\",\"default\":0}]},{\"type\":\"model\",\"name\":\"BootstrapTemplateActions1\",\"properties\":[{\"name\":\"open_modal\",\"kind\":\"Any\",\"default\":0},{\"name\":\"close_modal\",\"kind\":\"Any\",\"default\":0}]},{\"type\":\"model\",\"name\":\"TemplateEditor1\",\"properties\":[{\"name\":\"layout\",\"kind\":\"Any\",\"default\":[]}]},{\"type\":\"model\",\"name\":\"MaterialTemplateActions1\",\"properties\":[{\"name\":\"open_modal\",\"kind\":\"Any\",\"default\":0},{\"name\":\"close_modal\",\"kind\":\"Any\",\"default\":0}]},{\"type\":\"model\",\"name\":\"copy_to_clipboard1\",\"properties\":[{\"name\":\"fill\",\"kind\":\"Any\",\"default\":\"none\"},{\"name\":\"value\",\"kind\":\"Any\",\"default\":null}]}]}};\n",
              "  var render_items = [{\"docid\":\"c8a8d974-f2f4-4098-98eb-8d0556b384d2\",\"roots\":{\"p1002\":\"a0bfe5c3-758e-41d7-8b86-cb65c2bc159f\"},\"root_ids\":[\"p1002\"]}];\n",
              "  var docs = Object.values(docs_json)\n",
              "  if (!docs) {\n",
              "    return\n",
              "  }\n",
              "  const py_version = docs[0].version.replace('rc', '-rc.').replace('.dev', '-dev.')\n",
              "  async function embed_document(root) {\n",
              "    var Bokeh = get_bokeh(root)\n",
              "    await Bokeh.embed.embed_items_notebook(docs_json, render_items);\n",
              "    for (const render_item of render_items) {\n",
              "      for (const root_id of render_item.root_ids) {\n",
              "\tconst id_el = document.getElementById(root_id)\n",
              "\tif (id_el.children.length && id_el.children[0].hasAttribute('data-root-id')) {\n",
              "\t  const root_el = id_el.children[0]\n",
              "\t  root_el.id = root_el.id + '-rendered'\n",
              "\t  for (const child of root_el.children) {\n",
              "            // Ensure JupyterLab does not capture keyboard shortcuts\n",
              "            // see: https://jupyterlab.readthedocs.io/en/4.1.x/extension/notebook.html#keyboard-interaction-model\n",
              "\t    child.setAttribute('data-lm-suppress-shortcuts', 'true')\n",
              "\t  }\n",
              "\t}\n",
              "      }\n",
              "    }\n",
              "  }\n",
              "  function get_bokeh(root) {\n",
              "    if (root.Bokeh === undefined) {\n",
              "      return null\n",
              "    } else if (root.Bokeh.version !== py_version) {\n",
              "      if (root.Bokeh.versions === undefined || !root.Bokeh.versions.has(py_version)) {\n",
              "\treturn null\n",
              "      }\n",
              "      return root.Bokeh.versions.get(py_version);\n",
              "    } else if (root.Bokeh.version === py_version) {\n",
              "      return root.Bokeh\n",
              "    }\n",
              "    return null\n",
              "  }\n",
              "  function is_loaded(root) {\n",
              "    var Bokeh = get_bokeh(root)\n",
              "    return (Bokeh != null && Bokeh.Panel !== undefined)\n",
              "  }\n",
              "  if (is_loaded(root)) {\n",
              "    embed_document(root);\n",
              "  } else {\n",
              "    var attempts = 0;\n",
              "    var timer = setInterval(function(root) {\n",
              "      if (is_loaded(root)) {\n",
              "        clearInterval(timer);\n",
              "        embed_document(root);\n",
              "      } else if (document.readyState == \"complete\") {\n",
              "        attempts++;\n",
              "        if (attempts > 200) {\n",
              "          clearInterval(timer);\n",
              "\t  var Bokeh = get_bokeh(root)\n",
              "\t  if (Bokeh == null || Bokeh.Panel == null) {\n",
              "            console.warn(\"Panel: ERROR: Unable to run Panel code because Bokeh or Panel library is missing\");\n",
              "\t  } else {\n",
              "\t    console.warn(\"Panel: WARNING: Attempting to render but not all required libraries could be resolved.\")\n",
              "\t    embed_document(root)\n",
              "\t  }\n",
              "        }\n",
              "      }\n",
              "    }, 25, root)\n",
              "  }\n",
              "})(window);</script>"
            ],
            "application/vnd.holoviews_exec.v0+json": ""
          },
          "metadata": {
            "application/vnd.holoviews_exec.v0+json": {
              "id": "p1002"
            }
          }
        }
      ],
      "source": [
        "import hvplot.polars"
      ]
    },
    {
      "cell_type": "code",
      "execution_count": 31,
      "metadata": {
        "id": "bQ3_dsZP3JKs"
      },
      "outputs": [],
      "source": [
        "df = df.with_columns([\n",
        "    pl.col(\"timestamp\").str.strptime(pl.Date, \"%Y-%m-%d %H:%M:%S\").alias(\"date\")\n",
        "])\n",
        "\n",
        "\n",
        "aggregated_data = (\n",
        "    df.group_by(\"date\")\n",
        "    .agg(pl.mean(\"rating\").alias(\"avg_rating\"))\n",
        "\n",
        ")\n",
        "\n"
      ]
    },
    {
      "cell_type": "code",
      "execution_count": 32,
      "metadata": {
        "id": "Dsi36lwAzOBY",
        "colab": {
          "base_uri": "https://localhost:8080/",
          "height": 427
        },
        "outputId": "b6c4d5de-c293-45fb-daf7-39a90b7a1968"
      },
      "outputs": [
        {
          "output_type": "display_data",
          "data": {
            "application/javascript": [
              "(function(root) {\n",
              "  function now() {\n",
              "    return new Date();\n",
              "  }\n",
              "\n",
              "  var force = true;\n",
              "  var py_version = '3.4.3'.replace('rc', '-rc.').replace('.dev', '-dev.');\n",
              "  var reloading = false;\n",
              "  var Bokeh = root.Bokeh;\n",
              "\n",
              "  if (typeof (root._bokeh_timeout) === \"undefined\" || force) {\n",
              "    root._bokeh_timeout = Date.now() + 5000;\n",
              "    root._bokeh_failed_load = false;\n",
              "  }\n",
              "\n",
              "  function run_callbacks() {\n",
              "    try {\n",
              "      root._bokeh_onload_callbacks.forEach(function(callback) {\n",
              "        if (callback != null)\n",
              "          callback();\n",
              "      });\n",
              "    } finally {\n",
              "      delete root._bokeh_onload_callbacks;\n",
              "    }\n",
              "    console.debug(\"Bokeh: all callbacks have finished\");\n",
              "  }\n",
              "\n",
              "  function load_libs(css_urls, js_urls, js_modules, js_exports, callback) {\n",
              "    if (css_urls == null) css_urls = [];\n",
              "    if (js_urls == null) js_urls = [];\n",
              "    if (js_modules == null) js_modules = [];\n",
              "    if (js_exports == null) js_exports = {};\n",
              "\n",
              "    root._bokeh_onload_callbacks.push(callback);\n",
              "\n",
              "    if (root._bokeh_is_loading > 0) {\n",
              "      console.debug(\"Bokeh: BokehJS is being loaded, scheduling callback at\", now());\n",
              "      return null;\n",
              "    }\n",
              "    if (js_urls.length === 0 && js_modules.length === 0 && Object.keys(js_exports).length === 0) {\n",
              "      run_callbacks();\n",
              "      return null;\n",
              "    }\n",
              "    if (!reloading) {\n",
              "      console.debug(\"Bokeh: BokehJS not loaded, scheduling load and callback at\", now());\n",
              "    }\n",
              "\n",
              "    function on_load() {\n",
              "      root._bokeh_is_loading--;\n",
              "      if (root._bokeh_is_loading === 0) {\n",
              "        console.debug(\"Bokeh: all BokehJS libraries/stylesheets loaded\");\n",
              "        run_callbacks()\n",
              "      }\n",
              "    }\n",
              "    window._bokeh_on_load = on_load\n",
              "\n",
              "    function on_error() {\n",
              "      console.error(\"failed to load \" + url);\n",
              "    }\n",
              "\n",
              "    var skip = [];\n",
              "    if (window.requirejs) {\n",
              "      window.requirejs.config({'packages': {}, 'paths': {}, 'shim': {}});\n",
              "      root._bokeh_is_loading = css_urls.length + 0;\n",
              "    } else {\n",
              "      root._bokeh_is_loading = css_urls.length + js_urls.length + js_modules.length + Object.keys(js_exports).length;\n",
              "    }\n",
              "\n",
              "    var existing_stylesheets = []\n",
              "    var links = document.getElementsByTagName('link')\n",
              "    for (var i = 0; i < links.length; i++) {\n",
              "      var link = links[i]\n",
              "      if (link.href != null) {\n",
              "\texisting_stylesheets.push(link.href)\n",
              "      }\n",
              "    }\n",
              "    for (var i = 0; i < css_urls.length; i++) {\n",
              "      var url = css_urls[i];\n",
              "      if (existing_stylesheets.indexOf(url) !== -1) {\n",
              "\ton_load()\n",
              "\tcontinue;\n",
              "      }\n",
              "      const element = document.createElement(\"link\");\n",
              "      element.onload = on_load;\n",
              "      element.onerror = on_error;\n",
              "      element.rel = \"stylesheet\";\n",
              "      element.type = \"text/css\";\n",
              "      element.href = url;\n",
              "      console.debug(\"Bokeh: injecting link tag for BokehJS stylesheet: \", url);\n",
              "      document.body.appendChild(element);\n",
              "    }    var existing_scripts = []\n",
              "    var scripts = document.getElementsByTagName('script')\n",
              "    for (var i = 0; i < scripts.length; i++) {\n",
              "      var script = scripts[i]\n",
              "      if (script.src != null) {\n",
              "\texisting_scripts.push(script.src)\n",
              "      }\n",
              "    }\n",
              "    for (var i = 0; i < js_urls.length; i++) {\n",
              "      var url = js_urls[i];\n",
              "      if (skip.indexOf(url) !== -1 || existing_scripts.indexOf(url) !== -1) {\n",
              "\tif (!window.requirejs) {\n",
              "\t  on_load();\n",
              "\t}\n",
              "\tcontinue;\n",
              "      }\n",
              "      var element = document.createElement('script');\n",
              "      element.onload = on_load;\n",
              "      element.onerror = on_error;\n",
              "      element.async = false;\n",
              "      element.src = url;\n",
              "      console.debug(\"Bokeh: injecting script tag for BokehJS library: \", url);\n",
              "      document.head.appendChild(element);\n",
              "    }\n",
              "    for (var i = 0; i < js_modules.length; i++) {\n",
              "      var url = js_modules[i];\n",
              "      if (skip.indexOf(url) !== -1 || existing_scripts.indexOf(url) !== -1) {\n",
              "\tif (!window.requirejs) {\n",
              "\t  on_load();\n",
              "\t}\n",
              "\tcontinue;\n",
              "      }\n",
              "      var element = document.createElement('script');\n",
              "      element.onload = on_load;\n",
              "      element.onerror = on_error;\n",
              "      element.async = false;\n",
              "      element.src = url;\n",
              "      element.type = \"module\";\n",
              "      console.debug(\"Bokeh: injecting script tag for BokehJS library: \", url);\n",
              "      document.head.appendChild(element);\n",
              "    }\n",
              "    for (const name in js_exports) {\n",
              "      var url = js_exports[name];\n",
              "      if (skip.indexOf(url) >= 0 || root[name] != null) {\n",
              "\tif (!window.requirejs) {\n",
              "\t  on_load();\n",
              "\t}\n",
              "\tcontinue;\n",
              "      }\n",
              "      var element = document.createElement('script');\n",
              "      element.onerror = on_error;\n",
              "      element.async = false;\n",
              "      element.type = \"module\";\n",
              "      console.debug(\"Bokeh: injecting script tag for BokehJS library: \", url);\n",
              "      element.textContent = `\n",
              "      import ${name} from \"${url}\"\n",
              "      window.${name} = ${name}\n",
              "      window._bokeh_on_load()\n",
              "      `\n",
              "      document.head.appendChild(element);\n",
              "    }\n",
              "    if (!js_urls.length && !js_modules.length) {\n",
              "      on_load()\n",
              "    }\n",
              "  };\n",
              "\n",
              "  function inject_raw_css(css) {\n",
              "    const element = document.createElement(\"style\");\n",
              "    element.appendChild(document.createTextNode(css));\n",
              "    document.body.appendChild(element);\n",
              "  }\n",
              "\n",
              "  var js_urls = [\"https://cdn.bokeh.org/bokeh/release/bokeh-3.4.3.min.js\", \"https://cdn.bokeh.org/bokeh/release/bokeh-gl-3.4.3.min.js\", \"https://cdn.bokeh.org/bokeh/release/bokeh-widgets-3.4.3.min.js\", \"https://cdn.bokeh.org/bokeh/release/bokeh-tables-3.4.3.min.js\", \"https://cdn.holoviz.org/panel/1.4.5/dist/panel.min.js\"];\n",
              "  var js_modules = [];\n",
              "  var js_exports = {};\n",
              "  var css_urls = [];\n",
              "  var inline_js = [    function(Bokeh) {\n",
              "      Bokeh.set_log_level(\"info\");\n",
              "    },\n",
              "function(Bokeh) {} // ensure no trailing comma for IE\n",
              "  ];\n",
              "\n",
              "  function run_inline_js() {\n",
              "    if ((root.Bokeh !== undefined) || (force === true)) {\n",
              "      for (var i = 0; i < inline_js.length; i++) {\n",
              "\ttry {\n",
              "          inline_js[i].call(root, root.Bokeh);\n",
              "\t} catch(e) {\n",
              "\t  if (!reloading) {\n",
              "\t    throw e;\n",
              "\t  }\n",
              "\t}\n",
              "      }\n",
              "      // Cache old bokeh versions\n",
              "      if (Bokeh != undefined && !reloading) {\n",
              "\tvar NewBokeh = root.Bokeh;\n",
              "\tif (Bokeh.versions === undefined) {\n",
              "\t  Bokeh.versions = new Map();\n",
              "\t}\n",
              "\tif (NewBokeh.version !== Bokeh.version) {\n",
              "\t  Bokeh.versions.set(NewBokeh.version, NewBokeh)\n",
              "\t}\n",
              "\troot.Bokeh = Bokeh;\n",
              "      }} else if (Date.now() < root._bokeh_timeout) {\n",
              "      setTimeout(run_inline_js, 100);\n",
              "    } else if (!root._bokeh_failed_load) {\n",
              "      console.log(\"Bokeh: BokehJS failed to load within specified timeout.\");\n",
              "      root._bokeh_failed_load = true;\n",
              "    }\n",
              "    root._bokeh_is_initializing = false\n",
              "  }\n",
              "\n",
              "  function load_or_wait() {\n",
              "    // Implement a backoff loop that tries to ensure we do not load multiple\n",
              "    // versions of Bokeh and its dependencies at the same time.\n",
              "    // In recent versions we use the root._bokeh_is_initializing flag\n",
              "    // to determine whether there is an ongoing attempt to initialize\n",
              "    // bokeh, however for backward compatibility we also try to ensure\n",
              "    // that we do not start loading a newer (Panel>=1.0 and Bokeh>3) version\n",
              "    // before older versions are fully initialized.\n",
              "    if (root._bokeh_is_initializing && Date.now() > root._bokeh_timeout) {\n",
              "      root._bokeh_is_initializing = false;\n",
              "      root._bokeh_onload_callbacks = undefined;\n",
              "      console.log(\"Bokeh: BokehJS was loaded multiple times but one version failed to initialize.\");\n",
              "      load_or_wait();\n",
              "    } else if (root._bokeh_is_initializing || (typeof root._bokeh_is_initializing === \"undefined\" && root._bokeh_onload_callbacks !== undefined)) {\n",
              "      setTimeout(load_or_wait, 100);\n",
              "    } else {\n",
              "      root._bokeh_is_initializing = true\n",
              "      root._bokeh_onload_callbacks = []\n",
              "      var bokeh_loaded = Bokeh != null && (Bokeh.version === py_version || (Bokeh.versions !== undefined && Bokeh.versions.has(py_version)));\n",
              "      if (!reloading && !bokeh_loaded) {\n",
              "\troot.Bokeh = undefined;\n",
              "      }\n",
              "      load_libs(css_urls, js_urls, js_modules, js_exports, function() {\n",
              "\tconsole.debug(\"Bokeh: BokehJS plotting callback run at\", now());\n",
              "\trun_inline_js();\n",
              "      });\n",
              "    }\n",
              "  }\n",
              "  // Give older versions of the autoload script a head-start to ensure\n",
              "  // they initialize before we start loading newer version.\n",
              "  setTimeout(load_or_wait, 100)\n",
              "}(window));"
            ],
            "application/vnd.holoviews_load.v0+json": "(function(root) {\n  function now() {\n    return new Date();\n  }\n\n  var force = true;\n  var py_version = '3.4.3'.replace('rc', '-rc.').replace('.dev', '-dev.');\n  var reloading = false;\n  var Bokeh = root.Bokeh;\n\n  if (typeof (root._bokeh_timeout) === \"undefined\" || force) {\n    root._bokeh_timeout = Date.now() + 5000;\n    root._bokeh_failed_load = false;\n  }\n\n  function run_callbacks() {\n    try {\n      root._bokeh_onload_callbacks.forEach(function(callback) {\n        if (callback != null)\n          callback();\n      });\n    } finally {\n      delete root._bokeh_onload_callbacks;\n    }\n    console.debug(\"Bokeh: all callbacks have finished\");\n  }\n\n  function load_libs(css_urls, js_urls, js_modules, js_exports, callback) {\n    if (css_urls == null) css_urls = [];\n    if (js_urls == null) js_urls = [];\n    if (js_modules == null) js_modules = [];\n    if (js_exports == null) js_exports = {};\n\n    root._bokeh_onload_callbacks.push(callback);\n\n    if (root._bokeh_is_loading > 0) {\n      console.debug(\"Bokeh: BokehJS is being loaded, scheduling callback at\", now());\n      return null;\n    }\n    if (js_urls.length === 0 && js_modules.length === 0 && Object.keys(js_exports).length === 0) {\n      run_callbacks();\n      return null;\n    }\n    if (!reloading) {\n      console.debug(\"Bokeh: BokehJS not loaded, scheduling load and callback at\", now());\n    }\n\n    function on_load() {\n      root._bokeh_is_loading--;\n      if (root._bokeh_is_loading === 0) {\n        console.debug(\"Bokeh: all BokehJS libraries/stylesheets loaded\");\n        run_callbacks()\n      }\n    }\n    window._bokeh_on_load = on_load\n\n    function on_error() {\n      console.error(\"failed to load \" + url);\n    }\n\n    var skip = [];\n    if (window.requirejs) {\n      window.requirejs.config({'packages': {}, 'paths': {}, 'shim': {}});\n      root._bokeh_is_loading = css_urls.length + 0;\n    } else {\n      root._bokeh_is_loading = css_urls.length + js_urls.length + js_modules.length + Object.keys(js_exports).length;\n    }\n\n    var existing_stylesheets = []\n    var links = document.getElementsByTagName('link')\n    for (var i = 0; i < links.length; i++) {\n      var link = links[i]\n      if (link.href != null) {\n\texisting_stylesheets.push(link.href)\n      }\n    }\n    for (var i = 0; i < css_urls.length; i++) {\n      var url = css_urls[i];\n      if (existing_stylesheets.indexOf(url) !== -1) {\n\ton_load()\n\tcontinue;\n      }\n      const element = document.createElement(\"link\");\n      element.onload = on_load;\n      element.onerror = on_error;\n      element.rel = \"stylesheet\";\n      element.type = \"text/css\";\n      element.href = url;\n      console.debug(\"Bokeh: injecting link tag for BokehJS stylesheet: \", url);\n      document.body.appendChild(element);\n    }    var existing_scripts = []\n    var scripts = document.getElementsByTagName('script')\n    for (var i = 0; i < scripts.length; i++) {\n      var script = scripts[i]\n      if (script.src != null) {\n\texisting_scripts.push(script.src)\n      }\n    }\n    for (var i = 0; i < js_urls.length; i++) {\n      var url = js_urls[i];\n      if (skip.indexOf(url) !== -1 || existing_scripts.indexOf(url) !== -1) {\n\tif (!window.requirejs) {\n\t  on_load();\n\t}\n\tcontinue;\n      }\n      var element = document.createElement('script');\n      element.onload = on_load;\n      element.onerror = on_error;\n      element.async = false;\n      element.src = url;\n      console.debug(\"Bokeh: injecting script tag for BokehJS library: \", url);\n      document.head.appendChild(element);\n    }\n    for (var i = 0; i < js_modules.length; i++) {\n      var url = js_modules[i];\n      if (skip.indexOf(url) !== -1 || existing_scripts.indexOf(url) !== -1) {\n\tif (!window.requirejs) {\n\t  on_load();\n\t}\n\tcontinue;\n      }\n      var element = document.createElement('script');\n      element.onload = on_load;\n      element.onerror = on_error;\n      element.async = false;\n      element.src = url;\n      element.type = \"module\";\n      console.debug(\"Bokeh: injecting script tag for BokehJS library: \", url);\n      document.head.appendChild(element);\n    }\n    for (const name in js_exports) {\n      var url = js_exports[name];\n      if (skip.indexOf(url) >= 0 || root[name] != null) {\n\tif (!window.requirejs) {\n\t  on_load();\n\t}\n\tcontinue;\n      }\n      var element = document.createElement('script');\n      element.onerror = on_error;\n      element.async = false;\n      element.type = \"module\";\n      console.debug(\"Bokeh: injecting script tag for BokehJS library: \", url);\n      element.textContent = `\n      import ${name} from \"${url}\"\n      window.${name} = ${name}\n      window._bokeh_on_load()\n      `\n      document.head.appendChild(element);\n    }\n    if (!js_urls.length && !js_modules.length) {\n      on_load()\n    }\n  };\n\n  function inject_raw_css(css) {\n    const element = document.createElement(\"style\");\n    element.appendChild(document.createTextNode(css));\n    document.body.appendChild(element);\n  }\n\n  var js_urls = [\"https://cdn.bokeh.org/bokeh/release/bokeh-3.4.3.min.js\", \"https://cdn.bokeh.org/bokeh/release/bokeh-gl-3.4.3.min.js\", \"https://cdn.bokeh.org/bokeh/release/bokeh-widgets-3.4.3.min.js\", \"https://cdn.bokeh.org/bokeh/release/bokeh-tables-3.4.3.min.js\", \"https://cdn.holoviz.org/panel/1.4.5/dist/panel.min.js\"];\n  var js_modules = [];\n  var js_exports = {};\n  var css_urls = [];\n  var inline_js = [    function(Bokeh) {\n      Bokeh.set_log_level(\"info\");\n    },\nfunction(Bokeh) {} // ensure no trailing comma for IE\n  ];\n\n  function run_inline_js() {\n    if ((root.Bokeh !== undefined) || (force === true)) {\n      for (var i = 0; i < inline_js.length; i++) {\n\ttry {\n          inline_js[i].call(root, root.Bokeh);\n\t} catch(e) {\n\t  if (!reloading) {\n\t    throw e;\n\t  }\n\t}\n      }\n      // Cache old bokeh versions\n      if (Bokeh != undefined && !reloading) {\n\tvar NewBokeh = root.Bokeh;\n\tif (Bokeh.versions === undefined) {\n\t  Bokeh.versions = new Map();\n\t}\n\tif (NewBokeh.version !== Bokeh.version) {\n\t  Bokeh.versions.set(NewBokeh.version, NewBokeh)\n\t}\n\troot.Bokeh = Bokeh;\n      }} else if (Date.now() < root._bokeh_timeout) {\n      setTimeout(run_inline_js, 100);\n    } else if (!root._bokeh_failed_load) {\n      console.log(\"Bokeh: BokehJS failed to load within specified timeout.\");\n      root._bokeh_failed_load = true;\n    }\n    root._bokeh_is_initializing = false\n  }\n\n  function load_or_wait() {\n    // Implement a backoff loop that tries to ensure we do not load multiple\n    // versions of Bokeh and its dependencies at the same time.\n    // In recent versions we use the root._bokeh_is_initializing flag\n    // to determine whether there is an ongoing attempt to initialize\n    // bokeh, however for backward compatibility we also try to ensure\n    // that we do not start loading a newer (Panel>=1.0 and Bokeh>3) version\n    // before older versions are fully initialized.\n    if (root._bokeh_is_initializing && Date.now() > root._bokeh_timeout) {\n      root._bokeh_is_initializing = false;\n      root._bokeh_onload_callbacks = undefined;\n      console.log(\"Bokeh: BokehJS was loaded multiple times but one version failed to initialize.\");\n      load_or_wait();\n    } else if (root._bokeh_is_initializing || (typeof root._bokeh_is_initializing === \"undefined\" && root._bokeh_onload_callbacks !== undefined)) {\n      setTimeout(load_or_wait, 100);\n    } else {\n      root._bokeh_is_initializing = true\n      root._bokeh_onload_callbacks = []\n      var bokeh_loaded = Bokeh != null && (Bokeh.version === py_version || (Bokeh.versions !== undefined && Bokeh.versions.has(py_version)));\n      if (!reloading && !bokeh_loaded) {\n\troot.Bokeh = undefined;\n      }\n      load_libs(css_urls, js_urls, js_modules, js_exports, function() {\n\tconsole.debug(\"Bokeh: BokehJS plotting callback run at\", now());\n\trun_inline_js();\n      });\n    }\n  }\n  // Give older versions of the autoload script a head-start to ensure\n  // they initialize before we start loading newer version.\n  setTimeout(load_or_wait, 100)\n}(window));"
          },
          "metadata": {}
        },
        {
          "output_type": "display_data",
          "data": {
            "application/vnd.holoviews_load.v0+json": "\nif ((window.PyViz === undefined) || (window.PyViz instanceof HTMLElement)) {\n  window.PyViz = {comms: {}, comm_status:{}, kernels:{}, receivers: {}, plot_index: []}\n}\n\n\n    function JupyterCommManager() {\n    }\n\n    JupyterCommManager.prototype.register_target = function(plot_id, comm_id, msg_handler) {\n      if (window.comm_manager || ((window.Jupyter !== undefined) && (Jupyter.notebook.kernel != null))) {\n        var comm_manager = window.comm_manager || Jupyter.notebook.kernel.comm_manager;\n        comm_manager.register_target(comm_id, function(comm) {\n          comm.on_msg(msg_handler);\n        });\n      } else if ((plot_id in window.PyViz.kernels) && (window.PyViz.kernels[plot_id])) {\n        window.PyViz.kernels[plot_id].registerCommTarget(comm_id, function(comm) {\n          comm.onMsg = msg_handler;\n        });\n      } else if (typeof google != 'undefined' && google.colab.kernel != null) {\n        google.colab.kernel.comms.registerTarget(comm_id, (comm) => {\n          var messages = comm.messages[Symbol.asyncIterator]();\n          function processIteratorResult(result) {\n            var message = result.value;\n            console.log(message)\n            var content = {data: message.data, comm_id};\n            var buffers = []\n            for (var buffer of message.buffers || []) {\n              buffers.push(new DataView(buffer))\n            }\n            var metadata = message.metadata || {};\n            var msg = {content, buffers, metadata}\n            msg_handler(msg);\n            return messages.next().then(processIteratorResult);\n          }\n          return messages.next().then(processIteratorResult);\n        })\n      }\n    }\n\n    JupyterCommManager.prototype.get_client_comm = function(plot_id, comm_id, msg_handler) {\n      if (comm_id in window.PyViz.comms) {\n        return window.PyViz.comms[comm_id];\n      } else if (window.comm_manager || ((window.Jupyter !== undefined) && (Jupyter.notebook.kernel != null))) {\n        var comm_manager = window.comm_manager || Jupyter.notebook.kernel.comm_manager;\n        var comm = comm_manager.new_comm(comm_id, {}, {}, {}, comm_id);\n        if (msg_handler) {\n          comm.on_msg(msg_handler);\n        }\n      } else if ((plot_id in window.PyViz.kernels) && (window.PyViz.kernels[plot_id])) {\n        var comm = window.PyViz.kernels[plot_id].connectToComm(comm_id);\n        comm.open();\n        if (msg_handler) {\n          comm.onMsg = msg_handler;\n        }\n      } else if (typeof google != 'undefined' && google.colab.kernel != null) {\n        var comm_promise = google.colab.kernel.comms.open(comm_id)\n        comm_promise.then((comm) => {\n          window.PyViz.comms[comm_id] = comm;\n          if (msg_handler) {\n            var messages = comm.messages[Symbol.asyncIterator]();\n            function processIteratorResult(result) {\n              var message = result.value;\n              var content = {data: message.data};\n              var metadata = message.metadata || {comm_id};\n              var msg = {content, metadata}\n              msg_handler(msg);\n              return messages.next().then(processIteratorResult);\n            }\n            return messages.next().then(processIteratorResult);\n          }\n        }) \n        var sendClosure = (data, metadata, buffers, disposeOnDone) => {\n          return comm_promise.then((comm) => {\n            comm.send(data, metadata, buffers, disposeOnDone);\n          });\n        };\n        var comm = {\n          send: sendClosure\n        };\n      }\n      window.PyViz.comms[comm_id] = comm;\n      return comm;\n    }\n    window.PyViz.comm_manager = new JupyterCommManager();\n    \n\n\nvar JS_MIME_TYPE = 'application/javascript';\nvar HTML_MIME_TYPE = 'text/html';\nvar EXEC_MIME_TYPE = 'application/vnd.holoviews_exec.v0+json';\nvar CLASS_NAME = 'output';\n\n/**\n * Render data to the DOM node\n */\nfunction render(props, node) {\n  var div = document.createElement(\"div\");\n  var script = document.createElement(\"script\");\n  node.appendChild(div);\n  node.appendChild(script);\n}\n\n/**\n * Handle when a new output is added\n */\nfunction handle_add_output(event, handle) {\n  var output_area = handle.output_area;\n  var output = handle.output;\n  if ((output.data == undefined) || (!output.data.hasOwnProperty(EXEC_MIME_TYPE))) {\n    return\n  }\n  var id = output.metadata[EXEC_MIME_TYPE][\"id\"];\n  var toinsert = output_area.element.find(\".\" + CLASS_NAME.split(' ')[0]);\n  if (id !== undefined) {\n    var nchildren = toinsert.length;\n    var html_node = toinsert[nchildren-1].children[0];\n    html_node.innerHTML = output.data[HTML_MIME_TYPE];\n    var scripts = [];\n    var nodelist = html_node.querySelectorAll(\"script\");\n    for (var i in nodelist) {\n      if (nodelist.hasOwnProperty(i)) {\n        scripts.push(nodelist[i])\n      }\n    }\n\n    scripts.forEach( function (oldScript) {\n      var newScript = document.createElement(\"script\");\n      var attrs = [];\n      var nodemap = oldScript.attributes;\n      for (var j in nodemap) {\n        if (nodemap.hasOwnProperty(j)) {\n          attrs.push(nodemap[j])\n        }\n      }\n      attrs.forEach(function(attr) { newScript.setAttribute(attr.name, attr.value) });\n      newScript.appendChild(document.createTextNode(oldScript.innerHTML));\n      oldScript.parentNode.replaceChild(newScript, oldScript);\n    });\n    if (JS_MIME_TYPE in output.data) {\n      toinsert[nchildren-1].children[1].textContent = output.data[JS_MIME_TYPE];\n    }\n    output_area._hv_plot_id = id;\n    if ((window.Bokeh !== undefined) && (id in Bokeh.index)) {\n      window.PyViz.plot_index[id] = Bokeh.index[id];\n    } else {\n      window.PyViz.plot_index[id] = null;\n    }\n  } else if (output.metadata[EXEC_MIME_TYPE][\"server_id\"] !== undefined) {\n    var bk_div = document.createElement(\"div\");\n    bk_div.innerHTML = output.data[HTML_MIME_TYPE];\n    var script_attrs = bk_div.children[0].attributes;\n    for (var i = 0; i < script_attrs.length; i++) {\n      toinsert[toinsert.length - 1].childNodes[1].setAttribute(script_attrs[i].name, script_attrs[i].value);\n    }\n    // store reference to server id on output_area\n    output_area._bokeh_server_id = output.metadata[EXEC_MIME_TYPE][\"server_id\"];\n  }\n}\n\n/**\n * Handle when an output is cleared or removed\n */\nfunction handle_clear_output(event, handle) {\n  var id = handle.cell.output_area._hv_plot_id;\n  var server_id = handle.cell.output_area._bokeh_server_id;\n  if (((id === undefined) || !(id in PyViz.plot_index)) && (server_id !== undefined)) { return; }\n  var comm = window.PyViz.comm_manager.get_client_comm(\"hv-extension-comm\", \"hv-extension-comm\", function () {});\n  if (server_id !== null) {\n    comm.send({event_type: 'server_delete', 'id': server_id});\n    return;\n  } else if (comm !== null) {\n    comm.send({event_type: 'delete', 'id': id});\n  }\n  delete PyViz.plot_index[id];\n  if ((window.Bokeh !== undefined) & (id in window.Bokeh.index)) {\n    var doc = window.Bokeh.index[id].model.document\n    doc.clear();\n    const i = window.Bokeh.documents.indexOf(doc);\n    if (i > -1) {\n      window.Bokeh.documents.splice(i, 1);\n    }\n  }\n}\n\n/**\n * Handle kernel restart event\n */\nfunction handle_kernel_cleanup(event, handle) {\n  delete PyViz.comms[\"hv-extension-comm\"];\n  window.PyViz.plot_index = {}\n}\n\n/**\n * Handle update_display_data messages\n */\nfunction handle_update_output(event, handle) {\n  handle_clear_output(event, {cell: {output_area: handle.output_area}})\n  handle_add_output(event, handle)\n}\n\nfunction register_renderer(events, OutputArea) {\n  function append_mime(data, metadata, element) {\n    // create a DOM node to render to\n    var toinsert = this.create_output_subarea(\n    metadata,\n    CLASS_NAME,\n    EXEC_MIME_TYPE\n    );\n    this.keyboard_manager.register_events(toinsert);\n    // Render to node\n    var props = {data: data, metadata: metadata[EXEC_MIME_TYPE]};\n    render(props, toinsert[0]);\n    element.append(toinsert);\n    return toinsert\n  }\n\n  events.on('output_added.OutputArea', handle_add_output);\n  events.on('output_updated.OutputArea', handle_update_output);\n  events.on('clear_output.CodeCell', handle_clear_output);\n  events.on('delete.Cell', handle_clear_output);\n  events.on('kernel_ready.Kernel', handle_kernel_cleanup);\n\n  OutputArea.prototype.register_mime_type(EXEC_MIME_TYPE, append_mime, {\n    safe: true,\n    index: 0\n  });\n}\n\nif (window.Jupyter !== undefined) {\n  try {\n    var events = require('base/js/events');\n    var OutputArea = require('notebook/js/outputarea').OutputArea;\n    if (OutputArea.prototype.mime_types().indexOf(EXEC_MIME_TYPE) == -1) {\n      register_renderer(events, OutputArea);\n    }\n  } catch(err) {\n  }\n}\n",
            "application/javascript": [
              "\n",
              "if ((window.PyViz === undefined) || (window.PyViz instanceof HTMLElement)) {\n",
              "  window.PyViz = {comms: {}, comm_status:{}, kernels:{}, receivers: {}, plot_index: []}\n",
              "}\n",
              "\n",
              "\n",
              "    function JupyterCommManager() {\n",
              "    }\n",
              "\n",
              "    JupyterCommManager.prototype.register_target = function(plot_id, comm_id, msg_handler) {\n",
              "      if (window.comm_manager || ((window.Jupyter !== undefined) && (Jupyter.notebook.kernel != null))) {\n",
              "        var comm_manager = window.comm_manager || Jupyter.notebook.kernel.comm_manager;\n",
              "        comm_manager.register_target(comm_id, function(comm) {\n",
              "          comm.on_msg(msg_handler);\n",
              "        });\n",
              "      } else if ((plot_id in window.PyViz.kernels) && (window.PyViz.kernels[plot_id])) {\n",
              "        window.PyViz.kernels[plot_id].registerCommTarget(comm_id, function(comm) {\n",
              "          comm.onMsg = msg_handler;\n",
              "        });\n",
              "      } else if (typeof google != 'undefined' && google.colab.kernel != null) {\n",
              "        google.colab.kernel.comms.registerTarget(comm_id, (comm) => {\n",
              "          var messages = comm.messages[Symbol.asyncIterator]();\n",
              "          function processIteratorResult(result) {\n",
              "            var message = result.value;\n",
              "            console.log(message)\n",
              "            var content = {data: message.data, comm_id};\n",
              "            var buffers = []\n",
              "            for (var buffer of message.buffers || []) {\n",
              "              buffers.push(new DataView(buffer))\n",
              "            }\n",
              "            var metadata = message.metadata || {};\n",
              "            var msg = {content, buffers, metadata}\n",
              "            msg_handler(msg);\n",
              "            return messages.next().then(processIteratorResult);\n",
              "          }\n",
              "          return messages.next().then(processIteratorResult);\n",
              "        })\n",
              "      }\n",
              "    }\n",
              "\n",
              "    JupyterCommManager.prototype.get_client_comm = function(plot_id, comm_id, msg_handler) {\n",
              "      if (comm_id in window.PyViz.comms) {\n",
              "        return window.PyViz.comms[comm_id];\n",
              "      } else if (window.comm_manager || ((window.Jupyter !== undefined) && (Jupyter.notebook.kernel != null))) {\n",
              "        var comm_manager = window.comm_manager || Jupyter.notebook.kernel.comm_manager;\n",
              "        var comm = comm_manager.new_comm(comm_id, {}, {}, {}, comm_id);\n",
              "        if (msg_handler) {\n",
              "          comm.on_msg(msg_handler);\n",
              "        }\n",
              "      } else if ((plot_id in window.PyViz.kernels) && (window.PyViz.kernels[plot_id])) {\n",
              "        var comm = window.PyViz.kernels[plot_id].connectToComm(comm_id);\n",
              "        comm.open();\n",
              "        if (msg_handler) {\n",
              "          comm.onMsg = msg_handler;\n",
              "        }\n",
              "      } else if (typeof google != 'undefined' && google.colab.kernel != null) {\n",
              "        var comm_promise = google.colab.kernel.comms.open(comm_id)\n",
              "        comm_promise.then((comm) => {\n",
              "          window.PyViz.comms[comm_id] = comm;\n",
              "          if (msg_handler) {\n",
              "            var messages = comm.messages[Symbol.asyncIterator]();\n",
              "            function processIteratorResult(result) {\n",
              "              var message = result.value;\n",
              "              var content = {data: message.data};\n",
              "              var metadata = message.metadata || {comm_id};\n",
              "              var msg = {content, metadata}\n",
              "              msg_handler(msg);\n",
              "              return messages.next().then(processIteratorResult);\n",
              "            }\n",
              "            return messages.next().then(processIteratorResult);\n",
              "          }\n",
              "        }) \n",
              "        var sendClosure = (data, metadata, buffers, disposeOnDone) => {\n",
              "          return comm_promise.then((comm) => {\n",
              "            comm.send(data, metadata, buffers, disposeOnDone);\n",
              "          });\n",
              "        };\n",
              "        var comm = {\n",
              "          send: sendClosure\n",
              "        };\n",
              "      }\n",
              "      window.PyViz.comms[comm_id] = comm;\n",
              "      return comm;\n",
              "    }\n",
              "    window.PyViz.comm_manager = new JupyterCommManager();\n",
              "    \n",
              "\n",
              "\n",
              "var JS_MIME_TYPE = 'application/javascript';\n",
              "var HTML_MIME_TYPE = 'text/html';\n",
              "var EXEC_MIME_TYPE = 'application/vnd.holoviews_exec.v0+json';\n",
              "var CLASS_NAME = 'output';\n",
              "\n",
              "/**\n",
              " * Render data to the DOM node\n",
              " */\n",
              "function render(props, node) {\n",
              "  var div = document.createElement(\"div\");\n",
              "  var script = document.createElement(\"script\");\n",
              "  node.appendChild(div);\n",
              "  node.appendChild(script);\n",
              "}\n",
              "\n",
              "/**\n",
              " * Handle when a new output is added\n",
              " */\n",
              "function handle_add_output(event, handle) {\n",
              "  var output_area = handle.output_area;\n",
              "  var output = handle.output;\n",
              "  if ((output.data == undefined) || (!output.data.hasOwnProperty(EXEC_MIME_TYPE))) {\n",
              "    return\n",
              "  }\n",
              "  var id = output.metadata[EXEC_MIME_TYPE][\"id\"];\n",
              "  var toinsert = output_area.element.find(\".\" + CLASS_NAME.split(' ')[0]);\n",
              "  if (id !== undefined) {\n",
              "    var nchildren = toinsert.length;\n",
              "    var html_node = toinsert[nchildren-1].children[0];\n",
              "    html_node.innerHTML = output.data[HTML_MIME_TYPE];\n",
              "    var scripts = [];\n",
              "    var nodelist = html_node.querySelectorAll(\"script\");\n",
              "    for (var i in nodelist) {\n",
              "      if (nodelist.hasOwnProperty(i)) {\n",
              "        scripts.push(nodelist[i])\n",
              "      }\n",
              "    }\n",
              "\n",
              "    scripts.forEach( function (oldScript) {\n",
              "      var newScript = document.createElement(\"script\");\n",
              "      var attrs = [];\n",
              "      var nodemap = oldScript.attributes;\n",
              "      for (var j in nodemap) {\n",
              "        if (nodemap.hasOwnProperty(j)) {\n",
              "          attrs.push(nodemap[j])\n",
              "        }\n",
              "      }\n",
              "      attrs.forEach(function(attr) { newScript.setAttribute(attr.name, attr.value) });\n",
              "      newScript.appendChild(document.createTextNode(oldScript.innerHTML));\n",
              "      oldScript.parentNode.replaceChild(newScript, oldScript);\n",
              "    });\n",
              "    if (JS_MIME_TYPE in output.data) {\n",
              "      toinsert[nchildren-1].children[1].textContent = output.data[JS_MIME_TYPE];\n",
              "    }\n",
              "    output_area._hv_plot_id = id;\n",
              "    if ((window.Bokeh !== undefined) && (id in Bokeh.index)) {\n",
              "      window.PyViz.plot_index[id] = Bokeh.index[id];\n",
              "    } else {\n",
              "      window.PyViz.plot_index[id] = null;\n",
              "    }\n",
              "  } else if (output.metadata[EXEC_MIME_TYPE][\"server_id\"] !== undefined) {\n",
              "    var bk_div = document.createElement(\"div\");\n",
              "    bk_div.innerHTML = output.data[HTML_MIME_TYPE];\n",
              "    var script_attrs = bk_div.children[0].attributes;\n",
              "    for (var i = 0; i < script_attrs.length; i++) {\n",
              "      toinsert[toinsert.length - 1].childNodes[1].setAttribute(script_attrs[i].name, script_attrs[i].value);\n",
              "    }\n",
              "    // store reference to server id on output_area\n",
              "    output_area._bokeh_server_id = output.metadata[EXEC_MIME_TYPE][\"server_id\"];\n",
              "  }\n",
              "}\n",
              "\n",
              "/**\n",
              " * Handle when an output is cleared or removed\n",
              " */\n",
              "function handle_clear_output(event, handle) {\n",
              "  var id = handle.cell.output_area._hv_plot_id;\n",
              "  var server_id = handle.cell.output_area._bokeh_server_id;\n",
              "  if (((id === undefined) || !(id in PyViz.plot_index)) && (server_id !== undefined)) { return; }\n",
              "  var comm = window.PyViz.comm_manager.get_client_comm(\"hv-extension-comm\", \"hv-extension-comm\", function () {});\n",
              "  if (server_id !== null) {\n",
              "    comm.send({event_type: 'server_delete', 'id': server_id});\n",
              "    return;\n",
              "  } else if (comm !== null) {\n",
              "    comm.send({event_type: 'delete', 'id': id});\n",
              "  }\n",
              "  delete PyViz.plot_index[id];\n",
              "  if ((window.Bokeh !== undefined) & (id in window.Bokeh.index)) {\n",
              "    var doc = window.Bokeh.index[id].model.document\n",
              "    doc.clear();\n",
              "    const i = window.Bokeh.documents.indexOf(doc);\n",
              "    if (i > -1) {\n",
              "      window.Bokeh.documents.splice(i, 1);\n",
              "    }\n",
              "  }\n",
              "}\n",
              "\n",
              "/**\n",
              " * Handle kernel restart event\n",
              " */\n",
              "function handle_kernel_cleanup(event, handle) {\n",
              "  delete PyViz.comms[\"hv-extension-comm\"];\n",
              "  window.PyViz.plot_index = {}\n",
              "}\n",
              "\n",
              "/**\n",
              " * Handle update_display_data messages\n",
              " */\n",
              "function handle_update_output(event, handle) {\n",
              "  handle_clear_output(event, {cell: {output_area: handle.output_area}})\n",
              "  handle_add_output(event, handle)\n",
              "}\n",
              "\n",
              "function register_renderer(events, OutputArea) {\n",
              "  function append_mime(data, metadata, element) {\n",
              "    // create a DOM node to render to\n",
              "    var toinsert = this.create_output_subarea(\n",
              "    metadata,\n",
              "    CLASS_NAME,\n",
              "    EXEC_MIME_TYPE\n",
              "    );\n",
              "    this.keyboard_manager.register_events(toinsert);\n",
              "    // Render to node\n",
              "    var props = {data: data, metadata: metadata[EXEC_MIME_TYPE]};\n",
              "    render(props, toinsert[0]);\n",
              "    element.append(toinsert);\n",
              "    return toinsert\n",
              "  }\n",
              "\n",
              "  events.on('output_added.OutputArea', handle_add_output);\n",
              "  events.on('output_updated.OutputArea', handle_update_output);\n",
              "  events.on('clear_output.CodeCell', handle_clear_output);\n",
              "  events.on('delete.Cell', handle_clear_output);\n",
              "  events.on('kernel_ready.Kernel', handle_kernel_cleanup);\n",
              "\n",
              "  OutputArea.prototype.register_mime_type(EXEC_MIME_TYPE, append_mime, {\n",
              "    safe: true,\n",
              "    index: 0\n",
              "  });\n",
              "}\n",
              "\n",
              "if (window.Jupyter !== undefined) {\n",
              "  try {\n",
              "    var events = require('base/js/events');\n",
              "    var OutputArea = require('notebook/js/outputarea').OutputArea;\n",
              "    if (OutputArea.prototype.mime_types().indexOf(EXEC_MIME_TYPE) == -1) {\n",
              "      register_renderer(events, OutputArea);\n",
              "    }\n",
              "  } catch(err) {\n",
              "  }\n",
              "}\n"
            ]
          },
          "metadata": {}
        },
        {
          "output_type": "display_data",
          "data": {
            "text/html": [
              "<style>*[data-root-id],\n",
              "*[data-root-id] > * {\n",
              "  box-sizing: border-box;\n",
              "  font-family: var(--jp-ui-font-family);\n",
              "  font-size: var(--jp-ui-font-size1);\n",
              "  color: var(--vscode-editor-foreground, var(--jp-ui-font-color1));\n",
              "}\n",
              "\n",
              "/* Override VSCode background color */\n",
              ".cell-output-ipywidget-background:has(\n",
              "    > .cell-output-ipywidget-background > .lm-Widget > *[data-root-id]\n",
              "  ),\n",
              ".cell-output-ipywidget-background:has(> .lm-Widget > *[data-root-id]) {\n",
              "  background-color: transparent !important;\n",
              "}\n",
              "</style>"
            ]
          },
          "metadata": {}
        },
        {
          "output_type": "display_data",
          "data": {},
          "metadata": {}
        },
        {
          "output_type": "execute_result",
          "data": {
            "text/html": [
              "<div id='p1004'>\n",
              "  <div id=\"a9ff1ded-f0af-440c-a17f-e3c9a3426b10\" data-root-id=\"p1004\" style=\"display: contents;\"></div>\n",
              "</div>\n",
              "<script type=\"application/javascript\">(function(root) {\n",
              "  var docs_json = {\"318c355d-e31f-47c7-8c56-f061230a3b37\":{\"version\":\"3.4.3\",\"title\":\"Bokeh Application\",\"roots\":[{\"type\":\"object\",\"name\":\"Row\",\"id\":\"p1004\",\"attributes\":{\"name\":\"Row00916\",\"tags\":[\"embedded\"],\"stylesheets\":[\"\\n:host(.pn-loading):before, .pn-loading:before {\\n  background-color: #c3c3c3;\\n  mask-size: auto calc(min(50%, 400px));\\n  -webkit-mask-size: auto calc(min(50%, 400px));\\n}\",{\"type\":\"object\",\"name\":\"ImportedStyleSheet\",\"id\":\"p1007\",\"attributes\":{\"url\":\"https://cdn.holoviz.org/panel/1.4.5/dist/css/loading.css\"}},{\"type\":\"object\",\"name\":\"ImportedStyleSheet\",\"id\":\"p1075\",\"attributes\":{\"url\":\"https://cdn.holoviz.org/panel/1.4.5/dist/css/listpanel.css\"}},{\"type\":\"object\",\"name\":\"ImportedStyleSheet\",\"id\":\"p1005\",\"attributes\":{\"url\":\"https://cdn.holoviz.org/panel/1.4.5/dist/bundled/theme/default.css\"}},{\"type\":\"object\",\"name\":\"ImportedStyleSheet\",\"id\":\"p1006\",\"attributes\":{\"url\":\"https://cdn.holoviz.org/panel/1.4.5/dist/bundled/theme/native.css\"}}],\"min_width\":800,\"margin\":0,\"sizing_mode\":\"stretch_width\",\"align\":\"start\",\"children\":[{\"type\":\"object\",\"name\":\"Spacer\",\"id\":\"p1008\",\"attributes\":{\"name\":\"HSpacer00923\",\"stylesheets\":[\"\\n:host(.pn-loading):before, .pn-loading:before {\\n  background-color: #c3c3c3;\\n  mask-size: auto calc(min(50%, 400px));\\n  -webkit-mask-size: auto calc(min(50%, 400px));\\n}\",{\"id\":\"p1007\"},{\"id\":\"p1005\"},{\"id\":\"p1006\"}],\"margin\":0,\"sizing_mode\":\"stretch_width\",\"align\":\"start\"}},{\"type\":\"object\",\"name\":\"Figure\",\"id\":\"p1016\",\"attributes\":{\"width\":800,\"height\":400,\"margin\":[5,10],\"sizing_mode\":\"fixed\",\"align\":\"start\",\"x_range\":{\"type\":\"object\",\"name\":\"Range1d\",\"id\":\"p1009\",\"attributes\":{\"tags\":[[[\"date\",null]],[]],\"start\":1589371200000.0,\"end\":1590321600000.0,\"reset_start\":1589371200000.0,\"reset_end\":1590321600000.0}},\"y_range\":{\"type\":\"object\",\"name\":\"Range1d\",\"id\":\"p1010\",\"attributes\":{\"tags\":[[[\"avg_rating\",null]],{\"type\":\"map\",\"entries\":[[\"invert_yaxis\",false],[\"autorange\",false]]}],\"end\":1217.9055555555556,\"reset_start\":0.0,\"reset_end\":1217.9055555555556}},\"x_scale\":{\"type\":\"object\",\"name\":\"LinearScale\",\"id\":\"p1026\"},\"y_scale\":{\"type\":\"object\",\"name\":\"LinearScale\",\"id\":\"p1027\"},\"title\":{\"type\":\"object\",\"name\":\"Title\",\"id\":\"p1019\",\"attributes\":{\"text\":\"\\u0421\\u0440\\u0435\\u0434\\u043d\\u0438\\u0435 \\u0440\\u0435\\u0439\\u0442\\u0438\\u043d\\u0433\\u0438 \\u043f\\u043e \\u0434\\u043d\\u044f\\u043c \\u043e\\u0442\\u0432\\u0435\\u0442\\u043e\\u0432\",\"text_color\":\"black\",\"text_font_size\":\"12pt\"}},\"renderers\":[{\"type\":\"object\",\"name\":\"GlyphRenderer\",\"id\":\"p1068\",\"attributes\":{\"data_source\":{\"type\":\"object\",\"name\":\"ColumnDataSource\",\"id\":\"p1059\",\"attributes\":{\"selected\":{\"type\":\"object\",\"name\":\"Selection\",\"id\":\"p1060\",\"attributes\":{\"indices\":[],\"line_indices\":[]}},\"selection_policy\":{\"type\":\"object\",\"name\":\"UnionRenderers\",\"id\":\"p1061\"},\"data\":{\"type\":\"map\",\"entries\":[[\"date\",{\"type\":\"ndarray\",\"array\":{\"type\":\"bytes\",\"data\":\"AAAAsQchd0IAAMAWWiF3QgAAgHysIXdCAABA4v4hd0IAAABIUSJ3QgAAwK2jIndCAACAE/Yid0IAAEB5SCN3QgAAwETtI3dCAACAqj8kd0I=\"},\"shape\":[10],\"dtype\":\"float64\",\"order\":\"little\"}],[\"avg_rating\",{\"type\":\"ndarray\",\"array\":{\"type\":\"bytes\",\"data\":\"chzHcRwhkkDv7u7u7n6GQDMzMzMzA4dAgynyWTeYjEBJkiRJ0tqJQJIkSZIkyYdAAAAAAACMhUAAAAAAAECCQAAAAAAA4pBAAAAAAAD0hEA=\"},\"shape\":[10],\"dtype\":\"float64\",\"order\":\"little\"}]]}}},\"view\":{\"type\":\"object\",\"name\":\"CDSView\",\"id\":\"p1069\",\"attributes\":{\"filter\":{\"type\":\"object\",\"name\":\"AllIndices\",\"id\":\"p1070\"}}},\"glyph\":{\"type\":\"object\",\"name\":\"VBar\",\"id\":\"p1065\",\"attributes\":{\"tags\":[\"apply_ranges\"],\"x\":{\"type\":\"field\",\"field\":\"date\"},\"width\":{\"type\":\"value\",\"value\":69120000.0},\"top\":{\"type\":\"field\",\"field\":\"avg_rating\"},\"fill_color\":{\"type\":\"value\",\"value\":\"orange\"},\"hatch_color\":{\"type\":\"value\",\"value\":\"orange\"}}},\"selection_glyph\":{\"type\":\"object\",\"name\":\"VBar\",\"id\":\"p1071\",\"attributes\":{\"tags\":[\"apply_ranges\"],\"x\":{\"type\":\"field\",\"field\":\"date\"},\"width\":{\"type\":\"value\",\"value\":69120000.0},\"bottom\":{\"type\":\"value\",\"value\":0},\"top\":{\"type\":\"field\",\"field\":\"avg_rating\"},\"line_color\":{\"type\":\"value\",\"value\":\"black\"},\"line_alpha\":{\"type\":\"value\",\"value\":1.0},\"line_width\":{\"type\":\"value\",\"value\":1},\"line_join\":{\"type\":\"value\",\"value\":\"bevel\"},\"line_cap\":{\"type\":\"value\",\"value\":\"butt\"},\"line_dash\":{\"type\":\"value\",\"value\":[]},\"line_dash_offset\":{\"type\":\"value\",\"value\":0},\"fill_color\":{\"type\":\"value\",\"value\":\"orange\"},\"fill_alpha\":{\"type\":\"value\",\"value\":1.0},\"hatch_color\":{\"type\":\"value\",\"value\":\"orange\"},\"hatch_alpha\":{\"type\":\"value\",\"value\":1.0},\"hatch_scale\":{\"type\":\"value\",\"value\":12.0},\"hatch_pattern\":{\"type\":\"value\",\"value\":null},\"hatch_weight\":{\"type\":\"value\",\"value\":1.0}}},\"nonselection_glyph\":{\"type\":\"object\",\"name\":\"VBar\",\"id\":\"p1066\",\"attributes\":{\"tags\":[\"apply_ranges\"],\"x\":{\"type\":\"field\",\"field\":\"date\"},\"width\":{\"type\":\"value\",\"value\":69120000.0},\"top\":{\"type\":\"field\",\"field\":\"avg_rating\"},\"line_alpha\":{\"type\":\"value\",\"value\":0.1},\"fill_color\":{\"type\":\"value\",\"value\":\"orange\"},\"fill_alpha\":{\"type\":\"value\",\"value\":0.1},\"hatch_color\":{\"type\":\"value\",\"value\":\"orange\"},\"hatch_alpha\":{\"type\":\"value\",\"value\":0.1}}},\"muted_glyph\":{\"type\":\"object\",\"name\":\"VBar\",\"id\":\"p1067\",\"attributes\":{\"tags\":[\"apply_ranges\"],\"x\":{\"type\":\"field\",\"field\":\"date\"},\"width\":{\"type\":\"value\",\"value\":69120000.0},\"top\":{\"type\":\"field\",\"field\":\"avg_rating\"},\"line_alpha\":{\"type\":\"value\",\"value\":0.2},\"fill_color\":{\"type\":\"value\",\"value\":\"orange\"},\"fill_alpha\":{\"type\":\"value\",\"value\":0.2},\"hatch_color\":{\"type\":\"value\",\"value\":\"orange\"},\"hatch_alpha\":{\"type\":\"value\",\"value\":0.2}}}}}],\"toolbar\":{\"type\":\"object\",\"name\":\"Toolbar\",\"id\":\"p1025\",\"attributes\":{\"tools\":[{\"type\":\"object\",\"name\":\"WheelZoomTool\",\"id\":\"p1014\",\"attributes\":{\"tags\":[\"hv_created\"],\"renderers\":\"auto\",\"zoom_together\":\"none\"}},{\"type\":\"object\",\"name\":\"HoverTool\",\"id\":\"p1015\",\"attributes\":{\"tags\":[\"hv_created\"],\"renderers\":[{\"id\":\"p1068\"}],\"tooltips\":[[\"date\",\"@{date}{%F %T}\"],[\"avg_rating\",\"@{avg_rating}\"]],\"formatters\":{\"type\":\"map\",\"entries\":[[\"@{date}\",\"datetime\"]]}}},{\"type\":\"object\",\"name\":\"SaveTool\",\"id\":\"p1050\"},{\"type\":\"object\",\"name\":\"PanTool\",\"id\":\"p1051\"},{\"type\":\"object\",\"name\":\"BoxZoomTool\",\"id\":\"p1052\",\"attributes\":{\"overlay\":{\"type\":\"object\",\"name\":\"BoxAnnotation\",\"id\":\"p1053\",\"attributes\":{\"syncable\":false,\"level\":\"overlay\",\"visible\":false,\"left\":{\"type\":\"number\",\"value\":\"nan\"},\"right\":{\"type\":\"number\",\"value\":\"nan\"},\"top\":{\"type\":\"number\",\"value\":\"nan\"},\"bottom\":{\"type\":\"number\",\"value\":\"nan\"},\"left_units\":\"canvas\",\"right_units\":\"canvas\",\"top_units\":\"canvas\",\"bottom_units\":\"canvas\",\"line_color\":\"black\",\"line_alpha\":1.0,\"line_width\":2,\"line_dash\":[4,4],\"fill_color\":\"lightgrey\",\"fill_alpha\":0.5}}}},{\"type\":\"object\",\"name\":\"ResetTool\",\"id\":\"p1058\"}],\"active_drag\":{\"id\":\"p1051\"},\"active_scroll\":{\"id\":\"p1014\"}}},\"left\":[{\"type\":\"object\",\"name\":\"LinearAxis\",\"id\":\"p1045\",\"attributes\":{\"ticker\":{\"type\":\"object\",\"name\":\"BasicTicker\",\"id\":\"p1046\",\"attributes\":{\"mantissas\":[1,2,5]}},\"formatter\":{\"type\":\"object\",\"name\":\"BasicTickFormatter\",\"id\":\"p1047\"},\"axis_label\":\"\\u0421\\u0440\\u0435\\u0434\\u043d\\u0438\\u0439 \\u0440\\u0435\\u0439\\u0442\\u0438\\u043d\\u0433\",\"major_label_policy\":{\"type\":\"object\",\"name\":\"AllLabels\",\"id\":\"p1048\"}}}],\"below\":[{\"type\":\"object\",\"name\":\"DatetimeAxis\",\"id\":\"p1028\",\"attributes\":{\"ticker\":{\"type\":\"object\",\"name\":\"DatetimeTicker\",\"id\":\"p1029\",\"attributes\":{\"num_minor_ticks\":5,\"tickers\":[{\"type\":\"object\",\"name\":\"AdaptiveTicker\",\"id\":\"p1030\",\"attributes\":{\"num_minor_ticks\":0,\"mantissas\":[1,2,5],\"max_interval\":500.0}},{\"type\":\"object\",\"name\":\"AdaptiveTicker\",\"id\":\"p1031\",\"attributes\":{\"num_minor_ticks\":0,\"base\":60,\"mantissas\":[1,2,5,10,15,20,30],\"min_interval\":1000.0,\"max_interval\":1800000.0}},{\"type\":\"object\",\"name\":\"AdaptiveTicker\",\"id\":\"p1032\",\"attributes\":{\"num_minor_ticks\":0,\"base\":24,\"mantissas\":[1,2,4,6,8,12],\"min_interval\":3600000.0,\"max_interval\":43200000.0}},{\"type\":\"object\",\"name\":\"DaysTicker\",\"id\":\"p1033\",\"attributes\":{\"days\":[1,2,3,4,5,6,7,8,9,10,11,12,13,14,15,16,17,18,19,20,21,22,23,24,25,26,27,28,29,30,31]}},{\"type\":\"object\",\"name\":\"DaysTicker\",\"id\":\"p1034\",\"attributes\":{\"days\":[1,4,7,10,13,16,19,22,25,28]}},{\"type\":\"object\",\"name\":\"DaysTicker\",\"id\":\"p1035\",\"attributes\":{\"days\":[1,8,15,22]}},{\"type\":\"object\",\"name\":\"DaysTicker\",\"id\":\"p1036\",\"attributes\":{\"days\":[1,15]}},{\"type\":\"object\",\"name\":\"MonthsTicker\",\"id\":\"p1037\",\"attributes\":{\"months\":[0,1,2,3,4,5,6,7,8,9,10,11]}},{\"type\":\"object\",\"name\":\"MonthsTicker\",\"id\":\"p1038\",\"attributes\":{\"months\":[0,2,4,6,8,10]}},{\"type\":\"object\",\"name\":\"MonthsTicker\",\"id\":\"p1039\",\"attributes\":{\"months\":[0,4,8]}},{\"type\":\"object\",\"name\":\"MonthsTicker\",\"id\":\"p1040\",\"attributes\":{\"months\":[0,6]}},{\"type\":\"object\",\"name\":\"YearsTicker\",\"id\":\"p1041\"}]}},\"formatter\":{\"type\":\"object\",\"name\":\"DatetimeTickFormatter\",\"id\":\"p1042\"},\"axis_label\":\"\\u0414\\u0430\\u0442\\u0430\",\"major_label_policy\":{\"type\":\"object\",\"name\":\"AllLabels\",\"id\":\"p1043\"}}}],\"center\":[{\"type\":\"object\",\"name\":\"Grid\",\"id\":\"p1044\",\"attributes\":{\"axis\":{\"id\":\"p1028\"},\"ticker\":{\"id\":\"p1029\"}}},{\"type\":\"object\",\"name\":\"Grid\",\"id\":\"p1049\",\"attributes\":{\"dimension\":1,\"axis\":{\"id\":\"p1045\"},\"ticker\":{\"id\":\"p1046\"}}}],\"min_border_top\":10,\"min_border_bottom\":10,\"min_border_left\":10,\"min_border_right\":10,\"output_backend\":\"webgl\"}},{\"type\":\"object\",\"name\":\"Spacer\",\"id\":\"p1073\",\"attributes\":{\"name\":\"HSpacer00924\",\"stylesheets\":[\"\\n:host(.pn-loading):before, .pn-loading:before {\\n  background-color: #c3c3c3;\\n  mask-size: auto calc(min(50%, 400px));\\n  -webkit-mask-size: auto calc(min(50%, 400px));\\n}\",{\"id\":\"p1007\"},{\"id\":\"p1005\"},{\"id\":\"p1006\"}],\"margin\":0,\"sizing_mode\":\"stretch_width\",\"align\":\"start\"}}]}}],\"defs\":[{\"type\":\"model\",\"name\":\"ReactiveHTML1\"},{\"type\":\"model\",\"name\":\"FlexBox1\",\"properties\":[{\"name\":\"align_content\",\"kind\":\"Any\",\"default\":\"flex-start\"},{\"name\":\"align_items\",\"kind\":\"Any\",\"default\":\"flex-start\"},{\"name\":\"flex_direction\",\"kind\":\"Any\",\"default\":\"row\"},{\"name\":\"flex_wrap\",\"kind\":\"Any\",\"default\":\"wrap\"},{\"name\":\"gap\",\"kind\":\"Any\",\"default\":\"\"},{\"name\":\"justify_content\",\"kind\":\"Any\",\"default\":\"flex-start\"}]},{\"type\":\"model\",\"name\":\"FloatPanel1\",\"properties\":[{\"name\":\"config\",\"kind\":\"Any\",\"default\":{\"type\":\"map\"}},{\"name\":\"contained\",\"kind\":\"Any\",\"default\":true},{\"name\":\"position\",\"kind\":\"Any\",\"default\":\"right-top\"},{\"name\":\"offsetx\",\"kind\":\"Any\",\"default\":null},{\"name\":\"offsety\",\"kind\":\"Any\",\"default\":null},{\"name\":\"theme\",\"kind\":\"Any\",\"default\":\"primary\"},{\"name\":\"status\",\"kind\":\"Any\",\"default\":\"normalized\"}]},{\"type\":\"model\",\"name\":\"GridStack1\",\"properties\":[{\"name\":\"mode\",\"kind\":\"Any\",\"default\":\"warn\"},{\"name\":\"ncols\",\"kind\":\"Any\",\"default\":null},{\"name\":\"nrows\",\"kind\":\"Any\",\"default\":null},{\"name\":\"allow_resize\",\"kind\":\"Any\",\"default\":true},{\"name\":\"allow_drag\",\"kind\":\"Any\",\"default\":true},{\"name\":\"state\",\"kind\":\"Any\",\"default\":[]}]},{\"type\":\"model\",\"name\":\"drag1\",\"properties\":[{\"name\":\"slider_width\",\"kind\":\"Any\",\"default\":5},{\"name\":\"slider_color\",\"kind\":\"Any\",\"default\":\"black\"},{\"name\":\"value\",\"kind\":\"Any\",\"default\":50}]},{\"type\":\"model\",\"name\":\"click1\",\"properties\":[{\"name\":\"terminal_output\",\"kind\":\"Any\",\"default\":\"\"},{\"name\":\"debug_name\",\"kind\":\"Any\",\"default\":\"\"},{\"name\":\"clears\",\"kind\":\"Any\",\"default\":0}]},{\"type\":\"model\",\"name\":\"FastWrapper1\",\"properties\":[{\"name\":\"object\",\"kind\":\"Any\",\"default\":null},{\"name\":\"style\",\"kind\":\"Any\",\"default\":null}]},{\"type\":\"model\",\"name\":\"NotificationAreaBase1\",\"properties\":[{\"name\":\"js_events\",\"kind\":\"Any\",\"default\":{\"type\":\"map\"}},{\"name\":\"position\",\"kind\":\"Any\",\"default\":\"bottom-right\"},{\"name\":\"_clear\",\"kind\":\"Any\",\"default\":0}]},{\"type\":\"model\",\"name\":\"NotificationArea1\",\"properties\":[{\"name\":\"js_events\",\"kind\":\"Any\",\"default\":{\"type\":\"map\"}},{\"name\":\"notifications\",\"kind\":\"Any\",\"default\":[]},{\"name\":\"position\",\"kind\":\"Any\",\"default\":\"bottom-right\"},{\"name\":\"_clear\",\"kind\":\"Any\",\"default\":0},{\"name\":\"types\",\"kind\":\"Any\",\"default\":[{\"type\":\"map\",\"entries\":[[\"type\",\"warning\"],[\"background\",\"#ffc107\"],[\"icon\",{\"type\":\"map\",\"entries\":[[\"className\",\"fas fa-exclamation-triangle\"],[\"tagName\",\"i\"],[\"color\",\"white\"]]}]]},{\"type\":\"map\",\"entries\":[[\"type\",\"info\"],[\"background\",\"#007bff\"],[\"icon\",{\"type\":\"map\",\"entries\":[[\"className\",\"fas fa-info-circle\"],[\"tagName\",\"i\"],[\"color\",\"white\"]]}]]}]}]},{\"type\":\"model\",\"name\":\"Notification\",\"properties\":[{\"name\":\"background\",\"kind\":\"Any\",\"default\":null},{\"name\":\"duration\",\"kind\":\"Any\",\"default\":3000},{\"name\":\"icon\",\"kind\":\"Any\",\"default\":null},{\"name\":\"message\",\"kind\":\"Any\",\"default\":\"\"},{\"name\":\"notification_type\",\"kind\":\"Any\",\"default\":null},{\"name\":\"_destroyed\",\"kind\":\"Any\",\"default\":false}]},{\"type\":\"model\",\"name\":\"TemplateActions1\",\"properties\":[{\"name\":\"open_modal\",\"kind\":\"Any\",\"default\":0},{\"name\":\"close_modal\",\"kind\":\"Any\",\"default\":0}]},{\"type\":\"model\",\"name\":\"BootstrapTemplateActions1\",\"properties\":[{\"name\":\"open_modal\",\"kind\":\"Any\",\"default\":0},{\"name\":\"close_modal\",\"kind\":\"Any\",\"default\":0}]},{\"type\":\"model\",\"name\":\"TemplateEditor1\",\"properties\":[{\"name\":\"layout\",\"kind\":\"Any\",\"default\":[]}]},{\"type\":\"model\",\"name\":\"MaterialTemplateActions1\",\"properties\":[{\"name\":\"open_modal\",\"kind\":\"Any\",\"default\":0},{\"name\":\"close_modal\",\"kind\":\"Any\",\"default\":0}]},{\"type\":\"model\",\"name\":\"copy_to_clipboard1\",\"properties\":[{\"name\":\"fill\",\"kind\":\"Any\",\"default\":\"none\"},{\"name\":\"value\",\"kind\":\"Any\",\"default\":null}]}]}};\n",
              "  var render_items = [{\"docid\":\"318c355d-e31f-47c7-8c56-f061230a3b37\",\"roots\":{\"p1004\":\"a9ff1ded-f0af-440c-a17f-e3c9a3426b10\"},\"root_ids\":[\"p1004\"]}];\n",
              "  var docs = Object.values(docs_json)\n",
              "  if (!docs) {\n",
              "    return\n",
              "  }\n",
              "  const py_version = docs[0].version.replace('rc', '-rc.').replace('.dev', '-dev.')\n",
              "  async function embed_document(root) {\n",
              "    var Bokeh = get_bokeh(root)\n",
              "    await Bokeh.embed.embed_items_notebook(docs_json, render_items);\n",
              "    for (const render_item of render_items) {\n",
              "      for (const root_id of render_item.root_ids) {\n",
              "\tconst id_el = document.getElementById(root_id)\n",
              "\tif (id_el.children.length && id_el.children[0].hasAttribute('data-root-id')) {\n",
              "\t  const root_el = id_el.children[0]\n",
              "\t  root_el.id = root_el.id + '-rendered'\n",
              "\t  for (const child of root_el.children) {\n",
              "            // Ensure JupyterLab does not capture keyboard shortcuts\n",
              "            // see: https://jupyterlab.readthedocs.io/en/4.1.x/extension/notebook.html#keyboard-interaction-model\n",
              "\t    child.setAttribute('data-lm-suppress-shortcuts', 'true')\n",
              "\t  }\n",
              "\t}\n",
              "      }\n",
              "    }\n",
              "  }\n",
              "  function get_bokeh(root) {\n",
              "    if (root.Bokeh === undefined) {\n",
              "      return null\n",
              "    } else if (root.Bokeh.version !== py_version) {\n",
              "      if (root.Bokeh.versions === undefined || !root.Bokeh.versions.has(py_version)) {\n",
              "\treturn null\n",
              "      }\n",
              "      return root.Bokeh.versions.get(py_version);\n",
              "    } else if (root.Bokeh.version === py_version) {\n",
              "      return root.Bokeh\n",
              "    }\n",
              "    return null\n",
              "  }\n",
              "  function is_loaded(root) {\n",
              "    var Bokeh = get_bokeh(root)\n",
              "    return (Bokeh != null && Bokeh.Panel !== undefined)\n",
              "  }\n",
              "  if (is_loaded(root)) {\n",
              "    embed_document(root);\n",
              "  } else {\n",
              "    var attempts = 0;\n",
              "    var timer = setInterval(function(root) {\n",
              "      if (is_loaded(root)) {\n",
              "        clearInterval(timer);\n",
              "        embed_document(root);\n",
              "      } else if (document.readyState == \"complete\") {\n",
              "        attempts++;\n",
              "        if (attempts > 200) {\n",
              "          clearInterval(timer);\n",
              "\t  var Bokeh = get_bokeh(root)\n",
              "\t  if (Bokeh == null || Bokeh.Panel == null) {\n",
              "            console.warn(\"Panel: ERROR: Unable to run Panel code because Bokeh or Panel library is missing\");\n",
              "\t  } else {\n",
              "\t    console.warn(\"Panel: WARNING: Attempting to render but not all required libraries could be resolved.\")\n",
              "\t    embed_document(root)\n",
              "\t  }\n",
              "        }\n",
              "      }\n",
              "    }, 25, root)\n",
              "  }\n",
              "})(window);</script>"
            ],
            "application/vnd.holoviews_exec.v0+json": "",
            "text/plain": [
              ":Bars   [date]   (avg_rating)"
            ]
          },
          "metadata": {
            "application/vnd.holoviews_exec.v0+json": {
              "id": "p1004"
            }
          },
          "execution_count": 32
        }
      ],
      "source": [
        "bar_plot = aggregated_data.hvplot.bar(\n",
        "    x=\"date\",\n",
        "    y=\"avg_rating\",\n",
        "    title=\"Средние рейтинги по дням ответов\",\n",
        "    xlabel=\"Дата\",\n",
        "    ylabel=\"Средний рейтинг\",\n",
        "    width=800,\n",
        "    height=400,\n",
        "    color=\"orange\",\n",
        "    grid=True,\n",
        "    legend=\"top\",\n",
        "    line_color=\"black\"\n",
        ")\n",
        "\n",
        "bar_plot"
      ]
    },
    {
      "cell_type": "markdown",
      "metadata": {
        "id": "bZB_kTE63JKs"
      },
      "source": [
        "Сохраните график в формате pdf (так он останется векторизованным) или html (тогда останется интерактивным)"
      ]
    },
    {
      "cell_type": "code",
      "execution_count": 33,
      "metadata": {
        "id": "35bHvSsV3JKt"
      },
      "outputs": [],
      "source": [
        "hvplot.save(bar_plot, 'plot.html')"
      ]
    },
    {
      "cell_type": "markdown",
      "metadata": {
        "id": "EvWtDBRp3JKt"
      },
      "source": [
        "### 2. Распределение студентов по курсам."
      ]
    },
    {
      "cell_type": "markdown",
      "metadata": {
        "id": "zTPksBGL3JKt"
      },
      "source": [
        "<span style=\"color:red\">!!!ВНИМАТЕЛЬНО ИЗУЧИТЕ ТЕКСТ НИЖЕ!!!</span>.\n",
        "\n",
        "<span style=\"color:orange\">Если во время выполнения заданий у вас вознинут вопросы -- еще раз перечитайте текст целиком, скорее всего ответы уже содержатся в нем.</span>\n",
        "\n",
        "Теперь вам нужно распределить студентов по осенним курсам по выбору, учитывая их предпочтения."
      ]
    },
    {
      "cell_type": "markdown",
      "metadata": {
        "id": "S5lk67UA3JKt"
      },
      "source": [
        "## 📌 **Алгоритм распределения студентов по курсам**:\n",
        "1. По умолчанию на каждой дисциплине по выбору у 3 и 4 курсов может учиться 1 группа (до 30 студентов). Исключения описаны ниже. На blended-дисциплинах для четверокурсников количество мест не ограничено.\n",
        "2. Проводится первая волна отбора. Для каждой дисциплины формируется список тех, кто указал её первым приоритетом (если студент должен выбрать два курса по выбору, то для него дисциплины, которые он указал первым и вторым приоритетом, рассматриваются как дисциплины первого приоритета). Если желающих больше, чем мест, то выбирается топ по перцентилю рейтинга.\n",
        "3. На дисциплинах, где остались места после первой волны, формируются списки тех, кто выбрал их вторым приоритетом, и места заполняются лучшими по перцентили рейтинга студентами. После этого проводится такая же процедура для дисциплин третьего приоритета.\n",
        "4. Если студент не попал на необходимое количество курсов по итогам трёх волн, с ним связывается учебный офис и решает вопрос в индивидуальном порядке."
      ]
    },
    {
      "cell_type": "markdown",
      "metadata": {
        "id": "Ux4yMPan3JKu"
      },
      "source": [
        "## ☝️ **Обращаем ваше внимание на следующие детали:**\n",
        "\n",
        "- Конкурс на каждый курс общий для 3-го и 4-го курса\n",
        "\n",
        "- По умолчанию студент выбирает один осенний и один весенний курс по выбору, а также четверокурсники выбирают один blended-курс. Студенты групп 17-го года специализаций МОП и ТИ выбирают по 2 осенних и 2 весенних курса по выбору, также студенты групп 18' специализации МИ выбирают 2 осенних курса. <i>Для студентов, которые выбирают 2 курса (например, осенних) первый приоритет — <code>fall_1</code> и <code>fall_2</code>, второй приоритет — <code>fall_3</code>. Такие студенты участвуют только в двух волнах отбора</i>.\n",
        "\n",
        "- Студенты специализации МОП не могут выбрать весенним курсом по выбору Машинное обучение 2. **Если студент специализации МОП выбрал Машинное обучение 2, то его приоритеты сдвигаются.** Из-за совпадений первого и второго курса по выбору двигать приоритеты не надо.\n",
        "\n",
        "- Blended-курсы не трогайте, по ним не надо распределять, на другие курсы они никак не влияют.\n",
        "\n",
        "- Заведомо известно, что в процессе распределения не возникнет ситуации, когда на одно место претендуют студенты с одинаковым перцентилем.\n",
        "\n",
        "- Постарайтесь воздержаться от использования циклов там, где это возможно. <i>Допустимо итерироваться по <b>курсам</b>, на которые проводится отбор, и по <b>волнам</b> отбора. Если вы придумаете, как обойтись и без этих циклов, то на усмотрение проверяющего могут быть добавлены бонусные баллы. <b>Дублирование кода не признается успешным избавлением от циклов</b></i>\n",
        "\n",
        "- На выходе ожидается файл res_fall.csv с результатами распределения на осенние курсы по выбору. Файл должен быть следующего формата:\n",
        "\n",
        "    * три столбца: ID, course1, course2\n",
        "    \n",
        "    * Если студент не попал на курс, но должен был, то вместо названия курса в ячейке должна быть строка \"???\"\n",
        "    \n",
        "    * Если студент должен выбрать только один курс, то в колонке course2 для него должна стоять строка \"-\"\n",
        "\n",
        "    * Если студент должен выбрать два курса по выбору, то порядок в колонках course1 и course2 не важен.\n",
        "    \n",
        "    * Формат csv: для сохранения воспользуйтесь `df.write_csv('solution.csv')`"
      ]
    },
    {
      "cell_type": "markdown",
      "metadata": {
        "id": "q4b6w14cS_rW"
      },
      "source": [
        "Для работы вам могут понадобиться следующие данные:\n",
        "\n",
        "- Результаты опроса (вы уже использовали этот файл в первой части задания, но на всякий случай ссылка: https://www.dropbox.com/s/f4rm8sjc3v99p0m/_end_seminar.xlsx?dl=0)\n",
        "\n",
        "- Соответствие номеров групп специализациям:\n",
        "\n",
        "    * 171, 172 - МОП; 173 - ТИ; 174 — АДИС; 175, 176 — РС; 177 — АПР\n",
        "    \n",
        "    * У студентов 18-го года номера групп соответствуют номерам до распределения по специализациям. Это означает, что по номеру группы 18* нельзя однозначно определить специализацию студента. При этом в рамках распределения важно знать информацию только о двух из них: МОП и МИ. Эти знание можно получить из колонок 'is_ml_student ' и 'is_mi' соответственно.\n",
        "\n",
        "- Ограничения по количеству мест на курсах по выбору:\n",
        "\n",
        "    * Осенние: везде 30 мест, кроме Statistical Learning Theory (60 мест), Высокопроизводительных вычислений (60 мест), Анализа неструктурированных данных ($\\infty$ мест)\n",
        "\n",
        "    * Весенние: везде 30 мест, кроме Обучения с подкреплением (60 мест), Анализа данных в бизнесе (60 мест).\n",
        "\n",
        "\n",
        "Кстати, убедитесь, что в данных больше нет пропусков и повторных записей и сделайте `.collect()`, если не сделали этого до"
      ]
    },
    {
      "cell_type": "markdown",
      "metadata": {
        "id": "vOVE6Do13JKu"
      },
      "source": [
        "#### 0. Проверка\n",
        "\n",
        "Для начала давайте убедимся, что вы успешно выполнили задания первой части и проверим ваши данные на наличие пропусков и повторов"
      ]
    },
    {
      "cell_type": "code",
      "execution_count": 34,
      "metadata": {
        "id": "tNeCa71zHEe8"
      },
      "outputs": [],
      "source": [
        "assert type(df) == pl.DataFrame, \"Датафрейм не собран\"\n",
        "assert df.shape[0] == 347, \"В таблице остались повторы или потеряны данные\"\n",
        "assert df.null_count().sum_horizontal().item() == 0, \"В таблице остались пропуски\""
      ]
    },
    {
      "cell_type": "markdown",
      "metadata": {
        "id": "H7qZDN0y3JKu"
      },
      "source": [
        "Если вы не получили AssertionError, то можете продолжать."
      ]
    },
    {
      "cell_type": "markdown",
      "metadata": {
        "id": "y81hqcoZ3JKu"
      },
      "source": [
        "#### 1. [1 балл] Создайте новый признак, обозначающий, сколько осенних курсов должен выбрать студент\n",
        "\n",
        "В этом вам может помочь информация о специализации и группе студента."
      ]
    },
    {
      "cell_type": "code",
      "execution_count": 35,
      "metadata": {
        "id": "ThOnhPTs3JKv"
      },
      "outputs": [],
      "source": [
        "df = df.with_columns([\n",
        "    pl.when(\n",
        "        (pl.col(\"17_group\").is_in([\"171\", \"172\", \"173\"])) | (pl.col(\"is_mi\") != 0)\n",
        "    ).then(2)\n",
        "    .otherwise(1)\n",
        "    .alias(\"Количество осенних КПВ\")\n",
        "])\n"
      ]
    },
    {
      "cell_type": "markdown",
      "metadata": {
        "id": "hapnRDPU3JKv"
      },
      "source": [
        "Проверка:"
      ]
    },
    {
      "cell_type": "code",
      "execution_count": 36,
      "metadata": {
        "id": "3qK9-jmP3JKv"
      },
      "outputs": [],
      "source": [
        "col_name = \"Количество осенних КПВ\"\n",
        "\n",
        "ids = [\n",
        "    \"2662600c2c37e11e62f6ee0b88452f22\",\n",
        "    \"d555d2805e1d93d4f023e57dc4c8f403\",\n",
        "    \"8fe79f84f36e3a5d2d6745621321302c\",\n",
        "    \"e4caca755ee0bdd711e18fb8084958b5\",\n",
        "]\n",
        "assert (\n",
        "    df.filter(pl.col(\"id\").is_in(ids)).sort(\"id\")[col_name] == [2, 1, 2, 1]\n",
        ").all()"
      ]
    },
    {
      "cell_type": "markdown",
      "metadata": {
        "id": "kty-lzOJ3JKv"
      },
      "source": [
        "#### 2. [2 балла] Распределите студентов в соответствии с первым приоритетом"
      ]
    },
    {
      "cell_type": "markdown",
      "metadata": {
        "id": "U3grSgPsi6Hh"
      },
      "source": [
        "Проверим, есть ли студенты, которые в fall_1, fall_2 и fall_3 указали повторяющиеся КПВ"
      ]
    },
    {
      "cell_type": "code",
      "execution_count": 37,
      "metadata": {
        "id": "sxy4RFF6k197",
        "colab": {
          "base_uri": "https://localhost:8080/",
          "height": 681
        },
        "outputId": "040dc3c2-aa68-4f91-9d18-59ed18394af1"
      },
      "outputs": [
        {
          "output_type": "execute_result",
          "data": {
            "text/plain": [
              "shape: (8, 18)\n",
              "┌────────────┬────────────┬────────┬──────────┬───┬────────────┬───────────┬───────────┬───────────┐\n",
              "│ timestamp  ┆ id         ┆ rating ┆ 18_group ┆ … ┆ blended    ┆ is_ml_stu ┆ date      ┆ Количеств │\n",
              "│ ---        ┆ ---        ┆ ---    ┆ ---      ┆   ┆ ---        ┆ dent      ┆ ---       ┆ о осенних │\n",
              "│ str        ┆ str        ┆ i64    ┆ i64      ┆   ┆ str        ┆ ---       ┆ date      ┆ КПВ       │\n",
              "│            ┆            ┆        ┆          ┆   ┆            ┆ bool      ┆           ┆ ---       │\n",
              "│            ┆            ┆        ┆          ┆   ┆            ┆           ┆           ┆ i32       │\n",
              "╞════════════╪════════════╪════════╪══════════╪═══╪════════════╪═══════════╪═══════════╪═══════════╡\n",
              "│ 2020-05-14 ┆ e0fceae1e2 ┆ 1203   ┆ 0        ┆ … ┆ DevOps     ┆ false     ┆ 2020-05-1 ┆ 2         │\n",
              "│ 23:33:21   ┆ 85f737630b ┆        ┆          ┆   ┆            ┆           ┆ 4         ┆           │\n",
              "│            ┆ b6123a1bd8 ┆        ┆          ┆   ┆            ┆           ┆           ┆           │\n",
              "│            ┆ …          ┆        ┆          ┆   ┆            ┆           ┆           ┆           │\n",
              "│ 2020-05-15 ┆ 86d929f6fd ┆ 761    ┆ 181      ┆ … ┆            ┆ false     ┆ 2020-05-1 ┆ 1         │\n",
              "│ 21:34:32   ┆ 741e56e93c ┆        ┆          ┆   ┆            ┆           ┆ 5         ┆           │\n",
              "│            ┆ ee59002988 ┆        ┆          ┆   ┆            ┆           ┆           ┆           │\n",
              "│            ┆ …          ┆        ┆          ┆   ┆            ┆           ┆           ┆           │\n",
              "│ 2020-05-18 ┆ 0d85933f07 ┆ 1202   ┆ 0        ┆ … ┆ DevOps     ┆ false     ┆ 2020-05-1 ┆ 1         │\n",
              "│ 14:55:38   ┆ 516e8871e9 ┆        ┆          ┆   ┆            ┆           ┆ 8         ┆           │\n",
              "│            ┆ 415c1d95dd ┆        ┆          ┆   ┆            ┆           ┆           ┆           │\n",
              "│            ┆ …          ┆        ┆          ┆   ┆            ┆           ┆           ┆           │\n",
              "│ 2020-05-18 ┆ 7fcf56aae6 ┆ 1145   ┆ 0        ┆ … ┆ Введение в ┆ false     ┆ 2020-05-1 ┆ 2         │\n",
              "│ 18:27:32   ┆ 836855a689 ┆        ┆          ┆   ┆ дифференци ┆           ┆ 8         ┆           │\n",
              "│            ┆ 000a50e803 ┆        ┆          ┆   ┆ альную ге… ┆           ┆           ┆           │\n",
              "│            ┆ …          ┆        ┆          ┆   ┆            ┆           ┆           ┆           │\n",
              "│ 2020-05-18 ┆ bb9bbd259a ┆ 1285   ┆ 0        ┆ … ┆ DevOps     ┆ false     ┆ 2020-05-1 ┆ 1         │\n",
              "│ 23:56:39   ┆ b6b8170a7d ┆        ┆          ┆   ┆            ┆           ┆ 8         ┆           │\n",
              "│            ┆ c6fb35695d ┆        ┆          ┆   ┆            ┆           ┆           ┆           │\n",
              "│            ┆ …          ┆        ┆          ┆   ┆            ┆           ┆           ┆           │\n",
              "│ 2020-05-14 ┆ 3a7326c9e3 ┆ 1457   ┆ 0        ┆ … ┆ Введение в ┆ false     ┆ 2020-05-1 ┆ 2         │\n",
              "│ 21:52:43   ┆ 55a67d3805 ┆        ┆          ┆   ┆ дифференци ┆           ┆ 4         ┆           │\n",
              "│            ┆ 824ca34c4b ┆        ┆          ┆   ┆ альную ге… ┆           ┆           ┆           │\n",
              "│            ┆ …          ┆        ┆          ┆   ┆            ┆           ┆           ┆           │\n",
              "│ 2020-05-18 ┆ 9963fc00d9 ┆ 1135   ┆ 0        ┆ … ┆ DevOps     ┆ false     ┆ 2020-05-1 ┆ 1         │\n",
              "│ 23:59:28   ┆ 405a35b894 ┆        ┆          ┆   ┆            ┆           ┆ 8         ┆           │\n",
              "│            ┆ cc04a7e198 ┆        ┆          ┆   ┆            ┆           ┆           ┆           │\n",
              "│            ┆ …          ┆        ┆          ┆   ┆            ┆           ┆           ┆           │\n",
              "│ 2020-05-18 ┆ 842a87d59d ┆ 1188   ┆ 0        ┆ … ┆ DevOps     ┆ false     ┆ 2020-05-1 ┆ 1         │\n",
              "│ 23:01:42   ┆ e90b711fe3 ┆        ┆          ┆   ┆            ┆           ┆ 8         ┆           │\n",
              "│            ┆ 266830fe60 ┆        ┆          ┆   ┆            ┆           ┆           ┆           │\n",
              "│            ┆ …          ┆        ┆          ┆   ┆            ┆           ┆           ┆           │\n",
              "└────────────┴────────────┴────────┴──────────┴───┴────────────┴───────────┴───────────┴───────────┘"
            ],
            "text/html": [
              "<div><style>\n",
              ".dataframe > thead > tr,\n",
              ".dataframe > tbody > tr {\n",
              "  text-align: right;\n",
              "  white-space: pre-wrap;\n",
              "}\n",
              "</style>\n",
              "<small>shape: (8, 18)</small><table border=\"1\" class=\"dataframe\"><thead><tr><th>timestamp</th><th>id</th><th>rating</th><th>18_group</th><th>is_mi</th><th>fall_1</th><th>fall_2</th><th>fall_3</th><th>spring_1</th><th>spring_2</th><th>spring_3</th><th>is_first_time</th><th>percentile</th><th>17_group</th><th>blended</th><th>is_ml_student</th><th>date</th><th>Количество осенних КПВ</th></tr><tr><td>str</td><td>str</td><td>i64</td><td>i64</td><td>i64</td><td>str</td><td>str</td><td>str</td><td>str</td><td>str</td><td>str</td><td>str</td><td>f64</td><td>str</td><td>str</td><td>bool</td><td>date</td><td>i32</td></tr></thead><tbody><tr><td>&quot;2020-05-14 23:33:21&quot;</td><td>&quot;e0fceae1e285f737630bb6123a1bd8…</td><td>1203</td><td>0</td><td>0</td><td>&quot;Высокопроизводительные вычисле…</td><td>&quot;Высокопроизводительные вычисле…</td><td>&quot;Высокопроизводительные вычисле…</td><td>&quot;Проектирование и разработка вы…</td><td>&quot;Проектирование и разработка вы…</td><td>&quot;Символьные вычисления&quot;</td><td>&quot;Да&quot;</td><td>0.311594</td><td>&quot;173&quot;</td><td>&quot;DevOps&quot;</td><td>false</td><td>2020-05-14</td><td>2</td></tr><tr><td>&quot;2020-05-15 21:34:32&quot;</td><td>&quot;86d929f6fd741e56e93cee59002988…</td><td>761</td><td>181</td><td>0</td><td>&quot;Сбор и обработка данных с помо…</td><td>&quot;Сбор и обработка данных с помо…</td><td>&quot;Сбор и обработка данных с помо…</td><td>&quot;Дополнительные главы прикладно…</td><td>&quot;Дополнительные главы прикладно…</td><td>&quot;Дополнительные главы прикладно…</td><td>&quot;Да&quot;</td><td>0.008969</td><td>&quot;&quot;</td><td>&quot;&quot;</td><td>false</td><td>2020-05-15</td><td>1</td></tr><tr><td>&quot;2020-05-18 14:55:38&quot;</td><td>&quot;0d85933f07516e8871e9415c1d95dd…</td><td>1202</td><td>0</td><td>0</td><td>&quot;Высокопроизводительные вычисле…</td><td>&quot;Высокопроизводительные вычисле…</td><td>&quot;Высокопроизводительные вычисле…</td><td>&quot;Методы сжатия и передачи медиа…</td><td>&quot;Проектирование и разработка вы…</td><td>&quot;Методы сжатия и передачи медиа…</td><td>&quot;Да&quot;</td><td>0.318841</td><td>&quot;175&quot;</td><td>&quot;DevOps&quot;</td><td>false</td><td>2020-05-18</td><td>1</td></tr><tr><td>&quot;2020-05-18 18:27:32&quot;</td><td>&quot;7fcf56aae6836855a689000a50e803…</td><td>1145</td><td>0</td><td>0</td><td>&quot;Безопасность компьютерных сист…</td><td>&quot;Безопасность компьютерных сист…</td><td>&quot;Безопасность компьютерных сист…</td><td>&quot;Символьные вычисления&quot;</td><td>&quot;Символьные вычисления&quot;</td><td>&quot;Символьные вычисления&quot;</td><td>&quot;Да&quot;</td><td>0.536232</td><td>&quot;173&quot;</td><td>&quot;Введение в дифференциальную ге…</td><td>false</td><td>2020-05-18</td><td>2</td></tr><tr><td>&quot;2020-05-18 23:56:39&quot;</td><td>&quot;bb9bbd259ab6b8170a7dc6fb35695d…</td><td>1285</td><td>0</td><td>0</td><td>&quot;Безопасность компьютерных сист…</td><td>&quot;Высокопроизводительные вычисле…</td><td>&quot;Высокопроизводительные вычисле…</td><td>&quot;Методы сжатия и передачи медиа…</td><td>&quot;Проектирование и разработка вы…</td><td>&quot;Конфликты и кооперация&quot;</td><td>&quot;Да&quot;</td><td>0.086957</td><td>&quot;175&quot;</td><td>&quot;DevOps&quot;</td><td>false</td><td>2020-05-18</td><td>1</td></tr><tr><td>&quot;2020-05-14 21:52:43&quot;</td><td>&quot;3a7326c9e355a67d3805824ca34c4b…</td><td>1457</td><td>0</td><td>0</td><td>&quot;Statistical Learning Theory&quot;</td><td>&quot;Высокопроизводительные вычисле…</td><td>&quot;Statistical Learning Theory&quot;</td><td>&quot;Символьные вычисления&quot;</td><td>&quot;Численные методы&quot;</td><td>&quot;Символьные вычисления&quot;</td><td>&quot;Да&quot;</td><td>0.0</td><td>&quot;173&quot;</td><td>&quot;Введение в дифференциальную ге…</td><td>false</td><td>2020-05-14</td><td>2</td></tr><tr><td>&quot;2020-05-18 23:59:28&quot;</td><td>&quot;9963fc00d9405a35b894cc04a7e198…</td><td>1135</td><td>0</td><td>0</td><td>&quot;Безопасность компьютерных сист…</td><td>&quot;Высокопроизводительные вычисле…</td><td>&quot;Безопасность компьютерных сист…</td><td>&quot;Проектирование и разработка вы…</td><td>&quot;Методы сжатия и передачи медиа…</td><td>&quot;Символьные вычисления&quot;</td><td>&quot;Да&quot;</td><td>0.572464</td><td>&quot;175&quot;</td><td>&quot;DevOps&quot;</td><td>false</td><td>2020-05-18</td><td>1</td></tr><tr><td>&quot;2020-05-18 23:01:42&quot;</td><td>&quot;842a87d59de90b711fe3266830fe60…</td><td>1188</td><td>0</td><td>0</td><td>&quot;Высокопроизводительные вычисле…</td><td>&quot;Безопасность компьютерных сист…</td><td>&quot;Безопасность компьютерных сист…</td><td>&quot;Проектирование и разработка вы…</td><td>&quot;Методы сжатия и передачи медиа…</td><td>&quot;Компьютерное зрение&quot;</td><td>&quot;Нет&quot;</td><td>0.384058</td><td>&quot;175&quot;</td><td>&quot;DevOps&quot;</td><td>false</td><td>2020-05-18</td><td>1</td></tr></tbody></table></div>"
            ]
          },
          "metadata": {},
          "execution_count": 37
        }
      ],
      "source": [
        "df_repeated_all = df.filter((pl.col(\"fall_1\") == pl.col(\"fall_2\")) & (pl.col(\"fall_2\") == pl.col(\"fall_3\")))\n",
        "\n",
        "df_repeated_partial = df.filter(\n",
        "    ((pl.col(\"fall_1\") == pl.col(\"fall_2\")) & (pl.col(\"fall_2\") != pl.col(\"fall_3\"))) |\n",
        "    ((pl.col(\"fall_2\") == pl.col(\"fall_3\")) & (pl.col(\"fall_2\") != pl.col(\"fall_1\"))) |\n",
        "    ((pl.col(\"fall_1\") == pl.col(\"fall_3\")) & (pl.col(\"fall_1\") != pl.col(\"fall_2\")))\n",
        ")\n",
        "\n",
        "df_combined = df_repeated_all.vstack(df_repeated_partial)\n",
        "\n",
        "df_combined\n"
      ]
    },
    {
      "cell_type": "code",
      "execution_count": 38,
      "metadata": {
        "id": "VDf--6oFKJXo",
        "colab": {
          "base_uri": "https://localhost:8080/"
        },
        "outputId": "da80099b-844d-464f-f250-93f6bc6a3d76"
      },
      "outputs": [
        {
          "output_type": "stream",
          "name": "stderr",
          "text": [
            "<ipython-input-38-9f9d0bc61497>:2: DeprecationWarning: `DataFrame.melt` is deprecated. Use `unpivot` instead, with `index` instead of `id_vars` and `on` instead of `value_vars`\n",
            "  .melt().select(pl.col(\"value\").unique())\n"
          ]
        }
      ],
      "source": [
        "fall_courses = df.select([\"fall_1\", \"fall_2\", \"fall_3\"]) \\\n",
        "    .melt().select(pl.col(\"value\").unique())\n",
        "\n",
        "fall_courses = fall_courses.rename({\"value\": \"Курсы\"})\n"
      ]
    },
    {
      "cell_type": "code",
      "execution_count": 39,
      "metadata": {
        "id": "MxBwooSMNCYj",
        "colab": {
          "base_uri": "https://localhost:8080/"
        },
        "outputId": "f75136e9-990f-4009-c198-1a6d69a2bd73"
      },
      "outputs": [
        {
          "output_type": "stream",
          "name": "stderr",
          "text": [
            "<ipython-input-39-3e4373e3cc95>:46: DeprecationWarning: `pl.count()` is deprecated. Please use `pl.len()` instead.\n",
            "  pl.arange(0, pl.count()).over(\"Курсы\").alias(\"student_rank\")\n"
          ]
        }
      ],
      "source": [
        "fall_courses = fall_courses.with_columns([\n",
        "    pl.lit(None).alias(\"Студенты\"),\n",
        "    pl.lit(None).alias(\"Перцентили\"),\n",
        "])\n",
        "\n",
        "for course in fall_courses[\"Курсы\"]:\n",
        "\n",
        "    students_fall_1 = df.filter(pl.col(\"fall_1\") == course).select(\"id\")\n",
        "    percentiles_fall_1 = df.filter(pl.col(\"fall_1\") == course).select(\"percentile\")\n",
        "\n",
        "    students_fall_2 = df.filter((pl.col(\"fall_2\") == course) & (pl.col(\"Количество осенних КПВ\") == 2)).select(\"id\")\n",
        "    percentiles_fall_2 = df.filter((pl.col(\"fall_2\") == course) & (pl.col(\"Количество осенних КПВ\") == 2)).select(\"percentile\")\n",
        "\n",
        "\n",
        "    all_students = students_fall_1.vstack(students_fall_2)\n",
        "    all_percentiles = percentiles_fall_1.vstack(percentiles_fall_2)\n",
        "\n",
        "    fall_courses = fall_courses.with_columns([\n",
        "        pl.when(pl.col(\"Курсы\") == course).then(all_students[\"id\"].implode()).otherwise(pl.col(\"Студенты\")).alias(\"Студенты\"),\n",
        "        pl.when(pl.col(\"Курсы\") == course).then(all_percentiles[\"percentile\"].implode()).otherwise(pl.col(\"Перцентили\")).alias(\"Перцентили\")\n",
        "    ])\n",
        "\n",
        "course_capacity = {\n",
        "    'Statistical Learning Theory': 60,\n",
        "    'Высокопроизводительные вычисления': 60,\n",
        "    'Анализ неструктурированных данных': 10000\n",
        "}\n",
        "\n",
        "for course in fall_courses[\"Курсы\"].to_list():\n",
        "    if course not in course_capacity:\n",
        "        course_capacity[course] = 30\n",
        "\n",
        "course_capacity_df = pl.DataFrame({\n",
        "    \"Курсы\": list(course_capacity.keys()),\n",
        "    \"capacity\": list(course_capacity.values())\n",
        "})\n",
        "fall_courses = fall_courses.join(course_capacity_df, on=\"Курсы\", how=\"left\")\n",
        "fall_courses = fall_courses.with_columns(\n",
        "    pl.col(\"capacity\").fill_null(30)\n",
        ")\n",
        "\n",
        "fall_courses_exploded = fall_courses.explode([\"Студенты\", \"Перцентили\"])\n",
        "fall_courses_sorted = fall_courses_exploded.sort([\"Курсы\", \"Перцентили\"], descending=[False, False])\n",
        "\n",
        "fall_courses_sorted = fall_courses_sorted.with_columns(\n",
        "     pl.arange(0, pl.count()).over(\"Курсы\").alias(\"student_rank\")\n",
        " )\n",
        "\n",
        "fall_courses_filtered = fall_courses_sorted.filter(\n",
        "    pl.col(\"student_rank\") < pl.col(\"capacity\")\n",
        "\n",
        ")\n",
        "\n",
        "fall_courses_filtered = fall_courses_filtered.join(\n",
        "    df.select([\"id\", \"Количество осенних КПВ\"]),\n",
        "    left_on=\"Студенты\",\n",
        "    right_on=\"id\",\n",
        "    how=\"left\"\n",
        ")\n",
        "\n",
        "\n",
        "\n",
        "fall_courses_filtered =fall_courses_filtered.rename({\"Студенты\": \"id\"})\n",
        "fall_courses_filtered\n",
        "fall_courses_filtered.write_csv('fall_courses_filtered.csv')"
      ]
    },
    {
      "cell_type": "code",
      "execution_count": 40,
      "metadata": {
        "id": "l5149AYH3JKv",
        "colab": {
          "base_uri": "https://localhost:8080/",
          "height": 443
        },
        "outputId": "c638e04e-351d-4d5a-b422-472304f52f1d"
      },
      "outputs": [
        {
          "output_type": "execute_result",
          "data": {
            "text/plain": [
              "shape: (266, 3)\n",
              "┌─────────────────────────────────┬──────────┬──────────┐\n",
              "│ id                              ┆ course_1 ┆ course_2 │\n",
              "│ ---                             ┆ ---      ┆ ---      │\n",
              "│ str                             ┆ str      ┆ str      │\n",
              "╞═════════════════════════════════╪══════════╪══════════╡\n",
              "│ 4df9699d2022802f80b3e6426d6976… ┆ ???      ┆ ???      │\n",
              "│ ea682b140a15d40156a00aaf0234a9… ┆ ???      ┆ ???      │\n",
              "│ c98c2ee69047bd8febea3ac2d1380b… ┆ ???      ┆ ???      │\n",
              "│ d028e00edda581b07bcbe6b841e6dc… ┆ ???      ┆ ???      │\n",
              "│ 25a3ce0eea214df2aa6d25d395d594… ┆ ???      ┆ ???      │\n",
              "│ …                               ┆ …        ┆ …        │\n",
              "│ 5d9c9087b5a851ecb6bba1bc916b68… ┆ ???      ┆ ???      │\n",
              "│ 906692ccd33f59058380aac1598c54… ┆ ???      ┆ ???      │\n",
              "│ a37a88d97b12fe90dd83dd548866b2… ┆ ???      ┆ ???      │\n",
              "│ 6ef08b5cfd42ecdd713466cb4b7b41… ┆ ???      ┆ ???      │\n",
              "│ f7f123322f77fd451a30ed4979c323… ┆ ???      ┆ ???      │\n",
              "└─────────────────────────────────┴──────────┴──────────┘"
            ],
            "text/html": [
              "<div><style>\n",
              ".dataframe > thead > tr,\n",
              ".dataframe > tbody > tr {\n",
              "  text-align: right;\n",
              "  white-space: pre-wrap;\n",
              "}\n",
              "</style>\n",
              "<small>shape: (266, 3)</small><table border=\"1\" class=\"dataframe\"><thead><tr><th>id</th><th>course_1</th><th>course_2</th></tr><tr><td>str</td><td>str</td><td>str</td></tr></thead><tbody><tr><td>&quot;4df9699d2022802f80b3e6426d6976…</td><td>&quot;???&quot;</td><td>&quot;???&quot;</td></tr><tr><td>&quot;ea682b140a15d40156a00aaf0234a9…</td><td>&quot;???&quot;</td><td>&quot;???&quot;</td></tr><tr><td>&quot;c98c2ee69047bd8febea3ac2d1380b…</td><td>&quot;???&quot;</td><td>&quot;???&quot;</td></tr><tr><td>&quot;d028e00edda581b07bcbe6b841e6dc…</td><td>&quot;???&quot;</td><td>&quot;???&quot;</td></tr><tr><td>&quot;25a3ce0eea214df2aa6d25d395d594…</td><td>&quot;???&quot;</td><td>&quot;???&quot;</td></tr><tr><td>&hellip;</td><td>&hellip;</td><td>&hellip;</td></tr><tr><td>&quot;5d9c9087b5a851ecb6bba1bc916b68…</td><td>&quot;???&quot;</td><td>&quot;???&quot;</td></tr><tr><td>&quot;906692ccd33f59058380aac1598c54…</td><td>&quot;???&quot;</td><td>&quot;???&quot;</td></tr><tr><td>&quot;a37a88d97b12fe90dd83dd548866b2…</td><td>&quot;???&quot;</td><td>&quot;???&quot;</td></tr><tr><td>&quot;6ef08b5cfd42ecdd713466cb4b7b41…</td><td>&quot;???&quot;</td><td>&quot;???&quot;</td></tr><tr><td>&quot;f7f123322f77fd451a30ed4979c323…</td><td>&quot;???&quot;</td><td>&quot;???&quot;</td></tr></tbody></table></div>"
            ]
          },
          "metadata": {},
          "execution_count": 40
        }
      ],
      "source": [
        "unique_students = fall_courses_filtered.select(\"id\").unique()\n",
        "\n",
        "\n",
        "df_wave_1 = unique_students.with_columns([\n",
        "    pl.lit(\"???\").alias(\"course_1\"),\n",
        "    pl.lit(\"???\").alias(\"course_2\")\n",
        "])\n",
        "\n",
        "df_wave_1"
      ]
    },
    {
      "cell_type": "code",
      "execution_count": 41,
      "metadata": {
        "id": "1B0B-Si2uRyo",
        "colab": {
          "base_uri": "https://localhost:8080/",
          "height": 443
        },
        "outputId": "40249b98-d74f-4f9b-e18d-e56b5664a21c"
      },
      "outputs": [
        {
          "output_type": "execute_result",
          "data": {
            "text/plain": [
              "shape: (266, 3)\n",
              "┌────────────────────────────────┬────────────────────────────────┬────────────────────────────────┐\n",
              "│ id                             ┆ course1                        ┆ course2                        │\n",
              "│ ---                            ┆ ---                            ┆ ---                            │\n",
              "│ str                            ┆ str                            ┆ str                            │\n",
              "╞════════════════════════════════╪════════════════════════════════╪════════════════════════════════╡\n",
              "│ b65194fec33b2358296f74f6d948ef ┆ Высокопроизводительные         ┆ -                              │\n",
              "│ …                              ┆ вычисле…                       ┆                                │\n",
              "│ 1b7e1b30238f393811a2b48c6f6a06 ┆ Высокопроизводительные         ┆ -                              │\n",
              "│ …                              ┆ вычисле…                       ┆                                │\n",
              "│ 573e2218c3fe3ffc1894edc12432d3 ┆ Statistical Learning Theory    ┆ Анализ неструктурированных     │\n",
              "│ …                              ┆                                ┆ дан…                           │\n",
              "│ 1386d00c9c8229c2be3c0956949ee1 ┆ Statistical Learning Theory    ┆ -                              │\n",
              "│ …                              ┆                                ┆                                │\n",
              "│ 0f114e98d9f732aa51db34f687db26 ┆ Матричные вычисления           ┆ -                              │\n",
              "│ …                              ┆                                ┆                                │\n",
              "│ …                              ┆ …                              ┆ …                              │\n",
              "│ ce2a9120d5581dcd8bd0d6252918c9 ┆ Statistical Learning Theory    ┆ Моделирование временных рядов  │\n",
              "│ …                              ┆                                ┆                                │\n",
              "│ 796d174c592006376963b8f31e818d ┆ Моделирование временных рядов  ┆ -                              │\n",
              "│ …                              ┆                                ┆                                │\n",
              "│ c154bbf18efdd4d760e52155eaa879 ┆ Сбор и обработка данных с      ┆ ???                            │\n",
              "│ …                              ┆ помо…                          ┆                                │\n",
              "│ 6a93fcbc79d0df6ddeba3b46739fc3 ┆ Анализ неструктурированных     ┆ Глубинное обучение в           │\n",
              "│ …                              ┆ дан…                           ┆ обработке…                     │\n",
              "│ f2d210ace25a841e1e58036b257d5d ┆ Анализ неструктурированных     ┆ -                              │\n",
              "│ …                              ┆ дан…                           ┆                                │\n",
              "└────────────────────────────────┴────────────────────────────────┴────────────────────────────────┘"
            ],
            "text/html": [
              "<div><style>\n",
              ".dataframe > thead > tr,\n",
              ".dataframe > tbody > tr {\n",
              "  text-align: right;\n",
              "  white-space: pre-wrap;\n",
              "}\n",
              "</style>\n",
              "<small>shape: (266, 3)</small><table border=\"1\" class=\"dataframe\"><thead><tr><th>id</th><th>course1</th><th>course2</th></tr><tr><td>str</td><td>str</td><td>str</td></tr></thead><tbody><tr><td>&quot;b65194fec33b2358296f74f6d948ef…</td><td>&quot;Высокопроизводительные вычисле…</td><td>&quot;-&quot;</td></tr><tr><td>&quot;1b7e1b30238f393811a2b48c6f6a06…</td><td>&quot;Высокопроизводительные вычисле…</td><td>&quot;-&quot;</td></tr><tr><td>&quot;573e2218c3fe3ffc1894edc12432d3…</td><td>&quot;Statistical Learning Theory&quot;</td><td>&quot;Анализ неструктурированных дан…</td></tr><tr><td>&quot;1386d00c9c8229c2be3c0956949ee1…</td><td>&quot;Statistical Learning Theory&quot;</td><td>&quot;-&quot;</td></tr><tr><td>&quot;0f114e98d9f732aa51db34f687db26…</td><td>&quot;Матричные вычисления&quot;</td><td>&quot;-&quot;</td></tr><tr><td>&hellip;</td><td>&hellip;</td><td>&hellip;</td></tr><tr><td>&quot;ce2a9120d5581dcd8bd0d6252918c9…</td><td>&quot;Statistical Learning Theory&quot;</td><td>&quot;Моделирование временных рядов&quot;</td></tr><tr><td>&quot;796d174c592006376963b8f31e818d…</td><td>&quot;Моделирование временных рядов&quot;</td><td>&quot;-&quot;</td></tr><tr><td>&quot;c154bbf18efdd4d760e52155eaa879…</td><td>&quot;Сбор и обработка данных с помо…</td><td>&quot;???&quot;</td></tr><tr><td>&quot;6a93fcbc79d0df6ddeba3b46739fc3…</td><td>&quot;Анализ неструктурированных дан…</td><td>&quot;Глубинное обучение в обработке…</td></tr><tr><td>&quot;f2d210ace25a841e1e58036b257d5d…</td><td>&quot;Анализ неструктурированных дан…</td><td>&quot;-&quot;</td></tr></tbody></table></div>"
            ]
          },
          "metadata": {},
          "execution_count": 41
        }
      ],
      "source": [
        "fall_courses_filtered_clean = fall_courses_filtered.drop(\"Количество осенних КПВ\")\n",
        "\n",
        "\n",
        "fall_courses_filtered = fall_courses_filtered_clean.join(\n",
        "    df.select([\"id\", \"Количество осенних КПВ\"]),\n",
        "    left_on=\"id\",\n",
        "    right_on=\"id\",\n",
        "    how=\"left\"\n",
        ")\n",
        "\n",
        "\n",
        "grouped_courses = fall_courses_filtered.group_by(\"id\").agg([\n",
        "    pl.col(\"Курсы\").alias(\"courses\"),\n",
        "    pl.col(\"Количество осенних КПВ\").first()\n",
        "])\n",
        "\n",
        "\n",
        "df_wave_1 = grouped_courses.with_columns([\n",
        "    pl.when(pl.col(\"Количество осенних КПВ\") == 1)\n",
        "      .then(pl.col(\"courses\").list.first()).alias(\"course_1\"),\n",
        "    pl.when(pl.col(\"Количество осенних КПВ\") == 1)\n",
        "      .then(pl.lit(\"-\")).alias(\"course_2\")\n",
        "])\n",
        "\n",
        "\n",
        "df_wave_1 = df_wave_1.with_columns([\n",
        "    pl.when(pl.col(\"Количество осенних КПВ\") == 2)\n",
        "      .then(pl.col(\"courses\").list.first()).otherwise(pl.col(\"course_1\")).alias(\"course_1\"),\n",
        "    pl.when(pl.col(\"Количество осенних КПВ\") == 2)\n",
        "      .then(pl.col(\"courses\").list.last()).otherwise(pl.col(\"course_2\")).alias(\"course_2\")\n",
        "])\n",
        "df_wave_1 = df_wave_1.drop(\"courses\").drop(\"Количество осенних КПВ\")\n",
        "\n",
        "df_wave_1 = df_wave_1.rename({\"course_1\": \"course1\", \"course_2\": \"course2\"})\n",
        "\n",
        "\n",
        "df_wave_1 = df_wave_1.with_columns([\n",
        "    pl.when(pl.col(\"course1\") == pl.col(\"course2\"))\n",
        "      .then(pl.lit(\"???\"))\n",
        "      .otherwise(pl.col(\"course2\")).alias(\"course2\")\n",
        "])\n",
        "df_wave_1\n",
        "\n"
      ]
    },
    {
      "cell_type": "markdown",
      "metadata": {
        "id": "YtFzmI0q3JKv"
      },
      "source": [
        "Здесь для проверки приведена таблица, в которой есть 2 дополнительные колонки:\n",
        "    \n",
        "    1) is_first_place - является ли студент лучшим по перцентили хотя бы на одном из курсов, куда он был зачислен\n",
        "    (True / NaN)\n",
        "    \n",
        "    2) is_last_place  - является ли студент худшим по перцентили хотя бы на одном из курсов, куда он был зачислен (True / NaN)"
      ]
    },
    {
      "cell_type": "code",
      "execution_count": 42,
      "metadata": {
        "id": "Fdmh053Y3JKw"
      },
      "outputs": [],
      "source": [
        "!wget  -O '2_task_check.csv' -q 'https://www.dropbox.com/s/v8o2zzq3iz5gc9w/_2_task_check.csv?dl=0'\n",
        "check_df = pl.read_csv('2_task_check.csv')\n"
      ]
    },
    {
      "cell_type": "markdown",
      "metadata": {
        "id": "eA-fUDln3JKw"
      },
      "source": [
        "После распределения студентов в соответствии с первым приоритетом добавьте в свой датафрейм аналогичные признаки и запустите проверку:"
      ]
    },
    {
      "cell_type": "code",
      "execution_count": 43,
      "metadata": {
        "id": "ueNXylC23JKw"
      },
      "outputs": [],
      "source": [
        "# fir_col_name = \"is_first_place\"  # Название колонки с признаком лучшего по перцентилю\n",
        "# last_col_name = \"is_last_place\"\n",
        "\n",
        "# assert (\n",
        "#     check_df.sort(\"id\").select(\"is_first_place\", \"is_last_place\")\n",
        "#     == df_wave_1.sort(\"id\").select(fir_col_name, last_col_name)\n",
        "# ).sum().rows() == [(10, 12)]"
      ]
    },
    {
      "cell_type": "markdown",
      "metadata": {
        "id": "qrPM6dpZ3JKw"
      },
      "source": [
        "#### 3. [2 балла] Проведите все три волны отбора студентов на курсы по выбору"
      ]
    },
    {
      "cell_type": "markdown",
      "metadata": {
        "id": "alPsVP_46_oO"
      },
      "source": [
        "**Вторая волна**"
      ]
    },
    {
      "cell_type": "code",
      "execution_count": 44,
      "metadata": {
        "collapsed": true,
        "id": "G_pKJQHo3JKw",
        "colab": {
          "base_uri": "https://localhost:8080/",
          "height": 845
        },
        "outputId": "4b4c1ea7-12e2-4f3a-dd03-e2a30a299585"
      },
      "outputs": [
        {
          "output_type": "execute_result",
          "data": {
            "text/plain": [
              "shape: (105, 18)\n",
              "┌────────────┬────────────┬────────┬──────────┬───┬─────────┬────────────┬────────────┬────────────┐\n",
              "│ timestamp  ┆ id         ┆ rating ┆ 18_group ┆ … ┆ blended ┆ is_ml_stud ┆ date       ┆ Количество │\n",
              "│ ---        ┆ ---        ┆ ---    ┆ ---      ┆   ┆ ---     ┆ ent        ┆ ---        ┆ осенних    │\n",
              "│ str        ┆ str        ┆ i64    ┆ i64      ┆   ┆ str     ┆ ---        ┆ date       ┆ КПВ        │\n",
              "│            ┆            ┆        ┆          ┆   ┆         ┆ bool       ┆            ┆ ---        │\n",
              "│            ┆            ┆        ┆          ┆   ┆         ┆            ┆            ┆ i32        │\n",
              "╞════════════╪════════════╪════════╪══════════╪═══╪═════════╪════════════╪════════════╪════════════╡\n",
              "│ 2020-05-19 ┆ b5548f676f ┆ 583    ┆ 188      ┆ … ┆         ┆ false      ┆ 2020-05-19 ┆ 1          │\n",
              "│ 01:06:33   ┆ bdd51ea08b ┆        ┆          ┆   ┆         ┆            ┆            ┆            │\n",
              "│            ┆ 8c3cc6c811 ┆        ┆          ┆   ┆         ┆            ┆            ┆            │\n",
              "│            ┆ …          ┆        ┆          ┆   ┆         ┆            ┆            ┆            │\n",
              "│ 2020-05-18 ┆ 635e9ca4fc ┆ 555    ┆ 186      ┆ … ┆         ┆ true       ┆ 2020-05-18 ┆ 1          │\n",
              "│ 16:11:14   ┆ f26a2bd38b ┆        ┆          ┆   ┆         ┆            ┆            ┆            │\n",
              "│            ┆ 8488a8edfc ┆        ┆          ┆   ┆         ┆            ┆            ┆            │\n",
              "│            ┆ …          ┆        ┆          ┆   ┆         ┆            ┆            ┆            │\n",
              "│ 2020-05-18 ┆ 86c24daaa6 ┆ 530    ┆ 184      ┆ … ┆         ┆ false      ┆ 2020-05-18 ┆ 1          │\n",
              "│ 23:35:28   ┆ 2246142d46 ┆        ┆          ┆   ┆         ┆            ┆            ┆            │\n",
              "│            ┆ ee58534a65 ┆        ┆          ┆   ┆         ┆            ┆            ┆            │\n",
              "│            ┆ …          ┆        ┆          ┆   ┆         ┆            ┆            ┆            │\n",
              "│ 2020-05-18 ┆ 2b0d7dd550 ┆ 619    ┆ 185      ┆ … ┆         ┆ false      ┆ 2020-05-18 ┆ 1          │\n",
              "│ 20:26:39   ┆ bcca4c586c ┆        ┆          ┆   ┆         ┆            ┆            ┆            │\n",
              "│            ┆ bb27d8478a ┆        ┆          ┆   ┆         ┆            ┆            ┆            │\n",
              "│            ┆ …          ┆        ┆          ┆   ┆         ┆            ┆            ┆            │\n",
              "│ 2020-05-14 ┆ 881b1a6fda ┆ 1084   ┆ 0        ┆ … ┆ DevOps  ┆ false      ┆ 2020-05-14 ┆ 2          │\n",
              "│ 20:52:42   ┆ 195b354ae2 ┆        ┆          ┆   ┆         ┆            ┆            ┆            │\n",
              "│            ┆ edb396a69f ┆        ┆          ┆   ┆         ┆            ┆            ┆            │\n",
              "│            ┆ …          ┆        ┆          ┆   ┆         ┆            ┆            ┆            │\n",
              "│ …          ┆ …          ┆ …      ┆ …        ┆ … ┆ …       ┆ …          ┆ …          ┆ …          │\n",
              "│ 2020-05-18 ┆ a6ce02b125 ┆ 597    ┆ 185      ┆ … ┆         ┆ false      ┆ 2020-05-18 ┆ 1          │\n",
              "│ 21:15:58   ┆ 40bca3cdd1 ┆        ┆          ┆   ┆         ┆            ┆            ┆            │\n",
              "│            ┆ 5757f8a2e9 ┆        ┆          ┆   ┆         ┆            ┆            ┆            │\n",
              "│            ┆ …          ┆        ┆          ┆   ┆         ┆            ┆            ┆            │\n",
              "│ 2020-05-18 ┆ f5d9f99cb8 ┆ 516    ┆ 187      ┆ … ┆         ┆ false      ┆ 2020-05-18 ┆ 1          │\n",
              "│ 19:36:51   ┆ 76ca0888d1 ┆        ┆          ┆   ┆         ┆            ┆            ┆            │\n",
              "│            ┆ 8b6e444fa1 ┆        ┆          ┆   ┆         ┆            ┆            ┆            │\n",
              "│            ┆ …          ┆        ┆          ┆   ┆         ┆            ┆            ┆            │\n",
              "│ 2020-05-18 ┆ de539be8b2 ┆ 1015   ┆ 0        ┆ … ┆ DevOps  ┆ false      ┆ 2020-05-18 ┆ 2          │\n",
              "│ 22:43:06   ┆ 9b3afa0021 ┆        ┆          ┆   ┆         ┆            ┆            ┆            │\n",
              "│            ┆ 84e28d63c6 ┆        ┆          ┆   ┆         ┆            ┆            ┆            │\n",
              "│            ┆ …          ┆        ┆          ┆   ┆         ┆            ┆            ┆            │\n",
              "│ 2020-05-18 ┆ fa4860bc71 ┆ 642    ┆ 187      ┆ … ┆         ┆ false      ┆ 2020-05-18 ┆ 1          │\n",
              "│ 14:44:19   ┆ 9aadedbb00 ┆        ┆          ┆   ┆         ┆            ┆            ┆            │\n",
              "│            ┆ ba027067a8 ┆        ┆          ┆   ┆         ┆            ┆            ┆            │\n",
              "│            ┆ …          ┆        ┆          ┆   ┆         ┆            ┆            ┆            │\n",
              "│ 2020-05-18 ┆ f2e1cfc27a ┆ 981    ┆ 0        ┆ … ┆ DevOps  ┆ false      ┆ 2020-05-18 ┆ 2          │\n",
              "│ 18:22:26   ┆ 724879ac2a ┆        ┆          ┆   ┆         ┆            ┆            ┆            │\n",
              "│            ┆ 8c98004c14 ┆        ┆          ┆   ┆         ┆            ┆            ┆            │\n",
              "│            ┆ …          ┆        ┆          ┆   ┆         ┆            ┆            ┆            │\n",
              "└────────────┴────────────┴────────┴──────────┴───┴─────────┴────────────┴────────────┴────────────┘"
            ],
            "text/html": [
              "<div><style>\n",
              ".dataframe > thead > tr,\n",
              ".dataframe > tbody > tr {\n",
              "  text-align: right;\n",
              "  white-space: pre-wrap;\n",
              "}\n",
              "</style>\n",
              "<small>shape: (105, 18)</small><table border=\"1\" class=\"dataframe\"><thead><tr><th>timestamp</th><th>id</th><th>rating</th><th>18_group</th><th>is_mi</th><th>fall_1</th><th>fall_2</th><th>fall_3</th><th>spring_1</th><th>spring_2</th><th>spring_3</th><th>is_first_time</th><th>percentile</th><th>17_group</th><th>blended</th><th>is_ml_student</th><th>date</th><th>Количество осенних КПВ</th></tr><tr><td>str</td><td>str</td><td>i64</td><td>i64</td><td>i64</td><td>str</td><td>str</td><td>str</td><td>str</td><td>str</td><td>str</td><td>str</td><td>f64</td><td>str</td><td>str</td><td>bool</td><td>date</td><td>i32</td></tr></thead><tbody><tr><td>&quot;2020-05-19 01:06:33&quot;</td><td>&quot;b5548f676fbdd51ea08b8c3cc6c811…</td><td>583</td><td>188</td><td>0</td><td>&quot;Безопасность компьютерных сист…</td><td>&quot;Сбор и обработка данных с помо…</td><td>&quot;Язык SQL&quot;</td><td>&quot;Компьютерные сети&quot;</td><td>&quot;Системы баз данных&quot;</td><td>&quot;Системы баз данных&quot;</td><td>&quot;Да&quot;</td><td>0.726457</td><td>&quot;&quot;</td><td>&quot;&quot;</td><td>false</td><td>2020-05-19</td><td>1</td></tr><tr><td>&quot;2020-05-18 16:11:14&quot;</td><td>&quot;635e9ca4fcf26a2bd38b8488a8edfc…</td><td>555</td><td>186</td><td>0</td><td>&quot;Сбор и обработка данных с помо…</td><td>&quot;Безопасность компьютерных сист…</td><td>&quot;Язык SQL&quot;</td><td>&quot;Дополнительные главы прикладно…</td><td>&quot;Системы баз данных&quot;</td><td>&quot;Компьютерные сети&quot;</td><td>&quot;Да&quot;</td><td>0.847534</td><td>&quot;&quot;</td><td>&quot;&quot;</td><td>true</td><td>2020-05-18</td><td>1</td></tr><tr><td>&quot;2020-05-18 23:35:28&quot;</td><td>&quot;86c24daaa62246142d46ee58534a65…</td><td>530</td><td>184</td><td>0</td><td>&quot;Сбор и обработка данных с помо…</td><td>&quot;Моделирование временных рядов&quot;</td><td>&quot;Теория баз данных&quot;</td><td>&quot;Анализ данных в бизнесе&quot;</td><td>&quot;Численные методы&quot;</td><td>&quot;Системы баз данных&quot;</td><td>&quot;Нет&quot;</td><td>0.939462</td><td>&quot;&quot;</td><td>&quot;&quot;</td><td>false</td><td>2020-05-18</td><td>1</td></tr><tr><td>&quot;2020-05-18 20:26:39&quot;</td><td>&quot;2b0d7dd550bcca4c586cbb27d8478a…</td><td>619</td><td>185</td><td>0</td><td>&quot;Безопасность компьютерных сист…</td><td>&quot;Сбор и обработка данных с помо…</td><td>&quot;Матричные вычисления&quot;</td><td>&quot;Компьютерные сети&quot;</td><td>&quot;Промышленное программирование …</td><td>&quot;Анализ данных в бизнесе&quot;</td><td>&quot;Да&quot;</td><td>0.560538</td><td>&quot;&quot;</td><td>&quot;&quot;</td><td>false</td><td>2020-05-18</td><td>1</td></tr><tr><td>&quot;2020-05-14 20:52:42&quot;</td><td>&quot;881b1a6fda195b354ae2edb396a69f…</td><td>1084</td><td>0</td><td>0</td><td>&quot;Безопасность компьютерных сист…</td><td>&quot;Анализ неструктурированных дан…</td><td>&quot;Глубинное обучение в обработке…</td><td>&quot;Компьютерное зрение&quot;</td><td>&quot;Проектирование и разработка вы…</td><td>&quot;Генеративные модели в машинном…</td><td>&quot;Да&quot;</td><td>0.782609</td><td>&quot;172&quot;</td><td>&quot;DevOps&quot;</td><td>false</td><td>2020-05-14</td><td>2</td></tr><tr><td>&hellip;</td><td>&hellip;</td><td>&hellip;</td><td>&hellip;</td><td>&hellip;</td><td>&hellip;</td><td>&hellip;</td><td>&hellip;</td><td>&hellip;</td><td>&hellip;</td><td>&hellip;</td><td>&hellip;</td><td>&hellip;</td><td>&hellip;</td><td>&hellip;</td><td>&hellip;</td><td>&hellip;</td><td>&hellip;</td></tr><tr><td>&quot;2020-05-18 21:15:58&quot;</td><td>&quot;a6ce02b12540bca3cdd15757f8a2e9…</td><td>597</td><td>185</td><td>0</td><td>&quot;Безопасность компьютерных сист…</td><td>&quot;Сбор и обработка данных с помо…</td><td>&quot;Матричные вычисления&quot;</td><td>&quot;Компьютерные сети&quot;</td><td>&quot;Промышленное программирование …</td><td>&quot;Анализ данных в бизнесе&quot;</td><td>&quot;Да&quot;</td><td>0.663677</td><td>&quot;&quot;</td><td>&quot;&quot;</td><td>false</td><td>2020-05-18</td><td>1</td></tr><tr><td>&quot;2020-05-18 19:36:51&quot;</td><td>&quot;f5d9f99cb876ca0888d18b6e444fa1…</td><td>516</td><td>187</td><td>0</td><td>&quot;Сбор и обработка данных с помо…</td><td>&quot;Язык SQL&quot;</td><td>&quot;Теория баз данных&quot;</td><td>&quot;Промышленное программирование …</td><td>&quot;Машинное обучение 2&quot;</td><td>&quot;Компьютерные сети&quot;</td><td>&quot;Нет&quot;</td><td>0.982063</td><td>&quot;&quot;</td><td>&quot;&quot;</td><td>false</td><td>2020-05-18</td><td>1</td></tr><tr><td>&quot;2020-05-18 22:43:06&quot;</td><td>&quot;de539be8b29b3afa002184e28d63c6…</td><td>1015</td><td>0</td><td>0</td><td>&quot;Анализ неструктурированных дан…</td><td>&quot;Безопасность компьютерных сист…</td><td>&quot;Глубинное обучение в обработке…</td><td>&quot;Обучение с подкреплением&quot;</td><td>&quot;Методы сжатия и передачи медиа…</td><td>&quot;Проектирование и разработка вы…</td><td>&quot;Да&quot;</td><td>0.949275</td><td>&quot;173&quot;</td><td>&quot;DevOps&quot;</td><td>false</td><td>2020-05-18</td><td>2</td></tr><tr><td>&quot;2020-05-18 14:44:19&quot;</td><td>&quot;fa4860bc719aadedbb00ba027067a8…</td><td>642</td><td>187</td><td>0</td><td>&quot;Безопасность компьютерных сист…</td><td>&quot;Высокопроизводительные вычисле…</td><td>&quot;Язык SQL&quot;</td><td>&quot;Компьютерные сети&quot;</td><td>&quot;Промышленное программирование …</td><td>&quot;Дискретная оптимизация&quot;</td><td>&quot;Да&quot;</td><td>0.44843</td><td>&quot;&quot;</td><td>&quot;&quot;</td><td>false</td><td>2020-05-18</td><td>1</td></tr><tr><td>&quot;2020-05-18 18:22:26&quot;</td><td>&quot;f2e1cfc27a724879ac2a8c98004c14…</td><td>981</td><td>0</td><td>0</td><td>&quot;Принятие решений в условиях ри…</td><td>&quot;Моделирование временных рядов&quot;</td><td>&quot;Глубинное обучение в обработке…</td><td>&quot;Обучение с подкреплением&quot;</td><td>&quot;Компьютерное зрение&quot;</td><td>&quot;Методы сжатия и передачи медиа…</td><td>&quot;Да&quot;</td><td>0.978261</td><td>&quot;173&quot;</td><td>&quot;DevOps&quot;</td><td>false</td><td>2020-05-18</td><td>2</td></tr></tbody></table></div>"
            ]
          },
          "metadata": {},
          "execution_count": 44
        }
      ],
      "source": [
        "students_without_question_marks = df_wave_1.filter(pl.col(\"course2\") != \"???\").select(\"id\")\n",
        "\n",
        "df_without_wave_1 = df.filter(~pl.col(\"id\").is_in(students_without_question_marks[\"id\"]))\n",
        "df_without_wave_1\n",
        "\n"
      ]
    },
    {
      "cell_type": "code",
      "execution_count": 45,
      "metadata": {
        "id": "SKEMFyH2vgia",
        "colab": {
          "base_uri": "https://localhost:8080/",
          "height": 351
        },
        "outputId": "31490b59-7f13-4b0a-9d02-5e8818c76cd9"
      },
      "outputs": [
        {
          "output_type": "execute_result",
          "data": {
            "text/plain": [
              "shape: (3, 18)\n",
              "┌────────────┬────────────┬────────┬──────────┬───┬────────────┬───────────┬───────────┬───────────┐\n",
              "│ timestamp  ┆ id         ┆ rating ┆ 18_group ┆ … ┆ blended    ┆ is_ml_stu ┆ date      ┆ Количеств │\n",
              "│ ---        ┆ ---        ┆ ---    ┆ ---      ┆   ┆ ---        ┆ dent      ┆ ---       ┆ о осенних │\n",
              "│ str        ┆ str        ┆ i64    ┆ i64      ┆   ┆ str        ┆ ---       ┆ date      ┆ КПВ       │\n",
              "│            ┆            ┆        ┆          ┆   ┆            ┆ bool      ┆           ┆ ---       │\n",
              "│            ┆            ┆        ┆          ┆   ┆            ┆           ┆           ┆ i32       │\n",
              "╞════════════╪════════════╪════════╪══════════╪═══╪════════════╪═══════════╪═══════════╪═══════════╡\n",
              "│ 2020-05-14 ┆ e0fceae1e2 ┆ 1203   ┆ 0        ┆ … ┆ DevOps     ┆ false     ┆ 2020-05-1 ┆ 2         │\n",
              "│ 23:33:21   ┆ 85f737630b ┆        ┆          ┆   ┆            ┆           ┆ 4         ┆           │\n",
              "│            ┆ b6123a1bd8 ┆        ┆          ┆   ┆            ┆           ┆           ┆           │\n",
              "│            ┆ …          ┆        ┆          ┆   ┆            ┆           ┆           ┆           │\n",
              "│ 2020-05-18 ┆ 7fcf56aae6 ┆ 1145   ┆ 0        ┆ … ┆ Введение в ┆ false     ┆ 2020-05-1 ┆ 2         │\n",
              "│ 18:27:32   ┆ 836855a689 ┆        ┆          ┆   ┆ дифференци ┆           ┆ 8         ┆           │\n",
              "│            ┆ 000a50e803 ┆        ┆          ┆   ┆ альную ге… ┆           ┆           ┆           │\n",
              "│            ┆ …          ┆        ┆          ┆   ┆            ┆           ┆           ┆           │\n",
              "│ 2020-05-18 ┆ 9963fc00d9 ┆ 1135   ┆ 0        ┆ … ┆ DevOps     ┆ false     ┆ 2020-05-1 ┆ 1         │\n",
              "│ 23:59:28   ┆ 405a35b894 ┆        ┆          ┆   ┆            ┆           ┆ 8         ┆           │\n",
              "│            ┆ cc04a7e198 ┆        ┆          ┆   ┆            ┆           ┆           ┆           │\n",
              "│            ┆ …          ┆        ┆          ┆   ┆            ┆           ┆           ┆           │\n",
              "└────────────┴────────────┴────────┴──────────┴───┴────────────┴───────────┴───────────┴───────────┘"
            ],
            "text/html": [
              "<div><style>\n",
              ".dataframe > thead > tr,\n",
              ".dataframe > tbody > tr {\n",
              "  text-align: right;\n",
              "  white-space: pre-wrap;\n",
              "}\n",
              "</style>\n",
              "<small>shape: (3, 18)</small><table border=\"1\" class=\"dataframe\"><thead><tr><th>timestamp</th><th>id</th><th>rating</th><th>18_group</th><th>is_mi</th><th>fall_1</th><th>fall_2</th><th>fall_3</th><th>spring_1</th><th>spring_2</th><th>spring_3</th><th>is_first_time</th><th>percentile</th><th>17_group</th><th>blended</th><th>is_ml_student</th><th>date</th><th>Количество осенних КПВ</th></tr><tr><td>str</td><td>str</td><td>i64</td><td>i64</td><td>i64</td><td>str</td><td>str</td><td>str</td><td>str</td><td>str</td><td>str</td><td>str</td><td>f64</td><td>str</td><td>str</td><td>bool</td><td>date</td><td>i32</td></tr></thead><tbody><tr><td>&quot;2020-05-14 23:33:21&quot;</td><td>&quot;e0fceae1e285f737630bb6123a1bd8…</td><td>1203</td><td>0</td><td>0</td><td>&quot;Высокопроизводительные вычисле…</td><td>&quot;Высокопроизводительные вычисле…</td><td>&quot;Высокопроизводительные вычисле…</td><td>&quot;Проектирование и разработка вы…</td><td>&quot;Проектирование и разработка вы…</td><td>&quot;Символьные вычисления&quot;</td><td>&quot;Да&quot;</td><td>0.311594</td><td>&quot;173&quot;</td><td>&quot;DevOps&quot;</td><td>false</td><td>2020-05-14</td><td>2</td></tr><tr><td>&quot;2020-05-18 18:27:32&quot;</td><td>&quot;7fcf56aae6836855a689000a50e803…</td><td>1145</td><td>0</td><td>0</td><td>&quot;Безопасность компьютерных сист…</td><td>&quot;Безопасность компьютерных сист…</td><td>&quot;Безопасность компьютерных сист…</td><td>&quot;Символьные вычисления&quot;</td><td>&quot;Символьные вычисления&quot;</td><td>&quot;Символьные вычисления&quot;</td><td>&quot;Да&quot;</td><td>0.536232</td><td>&quot;173&quot;</td><td>&quot;Введение в дифференциальную ге…</td><td>false</td><td>2020-05-18</td><td>2</td></tr><tr><td>&quot;2020-05-18 23:59:28&quot;</td><td>&quot;9963fc00d9405a35b894cc04a7e198…</td><td>1135</td><td>0</td><td>0</td><td>&quot;Безопасность компьютерных сист…</td><td>&quot;Высокопроизводительные вычисле…</td><td>&quot;Безопасность компьютерных сист…</td><td>&quot;Проектирование и разработка вы…</td><td>&quot;Методы сжатия и передачи медиа…</td><td>&quot;Символьные вычисления&quot;</td><td>&quot;Да&quot;</td><td>0.572464</td><td>&quot;175&quot;</td><td>&quot;DevOps&quot;</td><td>false</td><td>2020-05-18</td><td>1</td></tr></tbody></table></div>"
            ]
          },
          "metadata": {},
          "execution_count": 45
        }
      ],
      "source": [
        "students_in_second_wave = df_combined.filter(pl.col(\"id\").is_in(df_without_wave_1[\"id\"]))\n",
        "students_in_second_wave"
      ]
    },
    {
      "cell_type": "markdown",
      "metadata": {
        "id": "cH48srL0vq4F"
      },
      "source": [
        "Есть два студента, которые указали одинаковые кпв во всех приоритетах. Один из них попал на курс в первую волну, а на второй кпв не сможет попасть, поэтому не участвует во второй и третьей волне. Второй не прошел в первую волну и не участвует во второй и третьей волне с таким же курсом, так что не попадает никуда. Третий студент указал два одинаковых кпв первым и третьим приоритетом и не попал в первую волну, он участвует во второй волне со вторым приоритетом, как и все студенты с одним кпв. Посмотрим, как он пройдет вторую волну.   "
      ]
    },
    {
      "cell_type": "code",
      "execution_count": 46,
      "metadata": {
        "id": "mXK5Wckhz3Hj",
        "colab": {
          "base_uri": "https://localhost:8080/",
          "height": 443
        },
        "outputId": "85b96c63-b85f-42c0-eda6-64eb11aaa00e"
      },
      "outputs": [
        {
          "output_type": "execute_result",
          "data": {
            "text/plain": [
              "shape: (267, 3)\n",
              "┌──────────────────────────────────┬──────────────────────────────────┬────────────────────────────┐\n",
              "│ id                               ┆ course1                          ┆ course2                    │\n",
              "│ ---                              ┆ ---                              ┆ ---                        │\n",
              "│ str                              ┆ str                              ┆ str                        │\n",
              "╞══════════════════════════════════╪══════════════════════════════════╪════════════════════════════╡\n",
              "│ b65194fec33b2358296f74f6d948ef…  ┆ Высокопроизводительные вычисле…  ┆ -                          │\n",
              "│ 1b7e1b30238f393811a2b48c6f6a06…  ┆ Высокопроизводительные вычисле…  ┆ -                          │\n",
              "│ 573e2218c3fe3ffc1894edc12432d3…  ┆ Statistical Learning Theory      ┆ Анализ неструктурированных │\n",
              "│                                  ┆                                  ┆ дан…                       │\n",
              "│ 1386d00c9c8229c2be3c0956949ee1…  ┆ Statistical Learning Theory      ┆ -                          │\n",
              "│ 0f114e98d9f732aa51db34f687db26…  ┆ Матричные вычисления             ┆ -                          │\n",
              "│ …                                ┆ …                                ┆ …                          │\n",
              "│ 796d174c592006376963b8f31e818d…  ┆ Моделирование временных рядов    ┆ -                          │\n",
              "│ c154bbf18efdd4d760e52155eaa879…  ┆ Сбор и обработка данных с помо…  ┆ ???                        │\n",
              "│ 6a93fcbc79d0df6ddeba3b46739fc3…  ┆ Анализ неструктурированных дан…  ┆ Глубинное обучение в       │\n",
              "│                                  ┆                                  ┆ обработке…                 │\n",
              "│ f2d210ace25a841e1e58036b257d5d…  ┆ Анализ неструктурированных дан…  ┆ -                          │\n",
              "│ 7fcf56aae6836855a689000a50e803…  ┆ ???                              ┆ ???                        │\n",
              "└──────────────────────────────────┴──────────────────────────────────┴────────────────────────────┘"
            ],
            "text/html": [
              "<div><style>\n",
              ".dataframe > thead > tr,\n",
              ".dataframe > tbody > tr {\n",
              "  text-align: right;\n",
              "  white-space: pre-wrap;\n",
              "}\n",
              "</style>\n",
              "<small>shape: (267, 3)</small><table border=\"1\" class=\"dataframe\"><thead><tr><th>id</th><th>course1</th><th>course2</th></tr><tr><td>str</td><td>str</td><td>str</td></tr></thead><tbody><tr><td>&quot;b65194fec33b2358296f74f6d948ef…</td><td>&quot;Высокопроизводительные вычисле…</td><td>&quot;-&quot;</td></tr><tr><td>&quot;1b7e1b30238f393811a2b48c6f6a06…</td><td>&quot;Высокопроизводительные вычисле…</td><td>&quot;-&quot;</td></tr><tr><td>&quot;573e2218c3fe3ffc1894edc12432d3…</td><td>&quot;Statistical Learning Theory&quot;</td><td>&quot;Анализ неструктурированных дан…</td></tr><tr><td>&quot;1386d00c9c8229c2be3c0956949ee1…</td><td>&quot;Statistical Learning Theory&quot;</td><td>&quot;-&quot;</td></tr><tr><td>&quot;0f114e98d9f732aa51db34f687db26…</td><td>&quot;Матричные вычисления&quot;</td><td>&quot;-&quot;</td></tr><tr><td>&hellip;</td><td>&hellip;</td><td>&hellip;</td></tr><tr><td>&quot;796d174c592006376963b8f31e818d…</td><td>&quot;Моделирование временных рядов&quot;</td><td>&quot;-&quot;</td></tr><tr><td>&quot;c154bbf18efdd4d760e52155eaa879…</td><td>&quot;Сбор и обработка данных с помо…</td><td>&quot;???&quot;</td></tr><tr><td>&quot;6a93fcbc79d0df6ddeba3b46739fc3…</td><td>&quot;Анализ неструктурированных дан…</td><td>&quot;Глубинное обучение в обработке…</td></tr><tr><td>&quot;f2d210ace25a841e1e58036b257d5d…</td><td>&quot;Анализ неструктурированных дан…</td><td>&quot;-&quot;</td></tr><tr><td>&quot;7fcf56aae6836855a689000a50e803…</td><td>&quot;???&quot;</td><td>&quot;???&quot;</td></tr></tbody></table></div>"
            ]
          },
          "metadata": {},
          "execution_count": 46
        }
      ],
      "source": [
        "new_student = pl.DataFrame({\n",
        "    \"id\": [\"7fcf56aae6836855a689000a50e80360\"],\n",
        "    \"course1\": [\"???\"],\n",
        "    \"course2\": [\"???\"]\n",
        "})\n",
        "\n",
        "df_wave_1 = df_wave_1.vstack(new_student)\n",
        "df_wave_1\n"
      ]
    },
    {
      "cell_type": "code",
      "execution_count": 47,
      "metadata": {
        "id": "hhW8XaRu0JfL",
        "colab": {
          "base_uri": "https://localhost:8080/",
          "height": 845
        },
        "outputId": "7e72d09b-ac4f-416f-faf6-0e8d72e65977"
      },
      "outputs": [
        {
          "output_type": "execute_result",
          "data": {
            "text/plain": [
              "shape: (103, 18)\n",
              "┌────────────┬────────────┬────────┬──────────┬───┬─────────┬────────────┬────────────┬────────────┐\n",
              "│ timestamp  ┆ id         ┆ rating ┆ 18_group ┆ … ┆ blended ┆ is_ml_stud ┆ date       ┆ Количество │\n",
              "│ ---        ┆ ---        ┆ ---    ┆ ---      ┆   ┆ ---     ┆ ent        ┆ ---        ┆ осенних    │\n",
              "│ str        ┆ str        ┆ i64    ┆ i64      ┆   ┆ str     ┆ ---        ┆ date       ┆ КПВ        │\n",
              "│            ┆            ┆        ┆          ┆   ┆         ┆ bool       ┆            ┆ ---        │\n",
              "│            ┆            ┆        ┆          ┆   ┆         ┆            ┆            ┆ i32        │\n",
              "╞════════════╪════════════╪════════╪══════════╪═══╪═════════╪════════════╪════════════╪════════════╡\n",
              "│ 2020-05-19 ┆ b5548f676f ┆ 583    ┆ 188      ┆ … ┆         ┆ false      ┆ 2020-05-19 ┆ 1          │\n",
              "│ 01:06:33   ┆ bdd51ea08b ┆        ┆          ┆   ┆         ┆            ┆            ┆            │\n",
              "│            ┆ 8c3cc6c811 ┆        ┆          ┆   ┆         ┆            ┆            ┆            │\n",
              "│            ┆ …          ┆        ┆          ┆   ┆         ┆            ┆            ┆            │\n",
              "│ 2020-05-18 ┆ 635e9ca4fc ┆ 555    ┆ 186      ┆ … ┆         ┆ true       ┆ 2020-05-18 ┆ 1          │\n",
              "│ 16:11:14   ┆ f26a2bd38b ┆        ┆          ┆   ┆         ┆            ┆            ┆            │\n",
              "│            ┆ 8488a8edfc ┆        ┆          ┆   ┆         ┆            ┆            ┆            │\n",
              "│            ┆ …          ┆        ┆          ┆   ┆         ┆            ┆            ┆            │\n",
              "│ 2020-05-18 ┆ 86c24daaa6 ┆ 530    ┆ 184      ┆ … ┆         ┆ false      ┆ 2020-05-18 ┆ 1          │\n",
              "│ 23:35:28   ┆ 2246142d46 ┆        ┆          ┆   ┆         ┆            ┆            ┆            │\n",
              "│            ┆ ee58534a65 ┆        ┆          ┆   ┆         ┆            ┆            ┆            │\n",
              "│            ┆ …          ┆        ┆          ┆   ┆         ┆            ┆            ┆            │\n",
              "│ 2020-05-18 ┆ 2b0d7dd550 ┆ 619    ┆ 185      ┆ … ┆         ┆ false      ┆ 2020-05-18 ┆ 1          │\n",
              "│ 20:26:39   ┆ bcca4c586c ┆        ┆          ┆   ┆         ┆            ┆            ┆            │\n",
              "│            ┆ bb27d8478a ┆        ┆          ┆   ┆         ┆            ┆            ┆            │\n",
              "│            ┆ …          ┆        ┆          ┆   ┆         ┆            ┆            ┆            │\n",
              "│ 2020-05-14 ┆ 881b1a6fda ┆ 1084   ┆ 0        ┆ … ┆ DevOps  ┆ false      ┆ 2020-05-14 ┆ 2          │\n",
              "│ 20:52:42   ┆ 195b354ae2 ┆        ┆          ┆   ┆         ┆            ┆            ┆            │\n",
              "│            ┆ edb396a69f ┆        ┆          ┆   ┆         ┆            ┆            ┆            │\n",
              "│            ┆ …          ┆        ┆          ┆   ┆         ┆            ┆            ┆            │\n",
              "│ …          ┆ …          ┆ …      ┆ …        ┆ … ┆ …       ┆ …          ┆ …          ┆ …          │\n",
              "│ 2020-05-18 ┆ a6ce02b125 ┆ 597    ┆ 185      ┆ … ┆         ┆ false      ┆ 2020-05-18 ┆ 1          │\n",
              "│ 21:15:58   ┆ 40bca3cdd1 ┆        ┆          ┆   ┆         ┆            ┆            ┆            │\n",
              "│            ┆ 5757f8a2e9 ┆        ┆          ┆   ┆         ┆            ┆            ┆            │\n",
              "│            ┆ …          ┆        ┆          ┆   ┆         ┆            ┆            ┆            │\n",
              "│ 2020-05-18 ┆ f5d9f99cb8 ┆ 516    ┆ 187      ┆ … ┆         ┆ false      ┆ 2020-05-18 ┆ 1          │\n",
              "│ 19:36:51   ┆ 76ca0888d1 ┆        ┆          ┆   ┆         ┆            ┆            ┆            │\n",
              "│            ┆ 8b6e444fa1 ┆        ┆          ┆   ┆         ┆            ┆            ┆            │\n",
              "│            ┆ …          ┆        ┆          ┆   ┆         ┆            ┆            ┆            │\n",
              "│ 2020-05-18 ┆ de539be8b2 ┆ 1015   ┆ 0        ┆ … ┆ DevOps  ┆ false      ┆ 2020-05-18 ┆ 2          │\n",
              "│ 22:43:06   ┆ 9b3afa0021 ┆        ┆          ┆   ┆         ┆            ┆            ┆            │\n",
              "│            ┆ 84e28d63c6 ┆        ┆          ┆   ┆         ┆            ┆            ┆            │\n",
              "│            ┆ …          ┆        ┆          ┆   ┆         ┆            ┆            ┆            │\n",
              "│ 2020-05-18 ┆ fa4860bc71 ┆ 642    ┆ 187      ┆ … ┆         ┆ false      ┆ 2020-05-18 ┆ 1          │\n",
              "│ 14:44:19   ┆ 9aadedbb00 ┆        ┆          ┆   ┆         ┆            ┆            ┆            │\n",
              "│            ┆ ba027067a8 ┆        ┆          ┆   ┆         ┆            ┆            ┆            │\n",
              "│            ┆ …          ┆        ┆          ┆   ┆         ┆            ┆            ┆            │\n",
              "│ 2020-05-18 ┆ f2e1cfc27a ┆ 981    ┆ 0        ┆ … ┆ DevOps  ┆ false      ┆ 2020-05-18 ┆ 2          │\n",
              "│ 18:22:26   ┆ 724879ac2a ┆        ┆          ┆   ┆         ┆            ┆            ┆            │\n",
              "│            ┆ 8c98004c14 ┆        ┆          ┆   ┆         ┆            ┆            ┆            │\n",
              "│            ┆ …          ┆        ┆          ┆   ┆         ┆            ┆            ┆            │\n",
              "└────────────┴────────────┴────────┴──────────┴───┴─────────┴────────────┴────────────┴────────────┘"
            ],
            "text/html": [
              "<div><style>\n",
              ".dataframe > thead > tr,\n",
              ".dataframe > tbody > tr {\n",
              "  text-align: right;\n",
              "  white-space: pre-wrap;\n",
              "}\n",
              "</style>\n",
              "<small>shape: (103, 18)</small><table border=\"1\" class=\"dataframe\"><thead><tr><th>timestamp</th><th>id</th><th>rating</th><th>18_group</th><th>is_mi</th><th>fall_1</th><th>fall_2</th><th>fall_3</th><th>spring_1</th><th>spring_2</th><th>spring_3</th><th>is_first_time</th><th>percentile</th><th>17_group</th><th>blended</th><th>is_ml_student</th><th>date</th><th>Количество осенних КПВ</th></tr><tr><td>str</td><td>str</td><td>i64</td><td>i64</td><td>i64</td><td>str</td><td>str</td><td>str</td><td>str</td><td>str</td><td>str</td><td>str</td><td>f64</td><td>str</td><td>str</td><td>bool</td><td>date</td><td>i32</td></tr></thead><tbody><tr><td>&quot;2020-05-19 01:06:33&quot;</td><td>&quot;b5548f676fbdd51ea08b8c3cc6c811…</td><td>583</td><td>188</td><td>0</td><td>&quot;Безопасность компьютерных сист…</td><td>&quot;Сбор и обработка данных с помо…</td><td>&quot;Язык SQL&quot;</td><td>&quot;Компьютерные сети&quot;</td><td>&quot;Системы баз данных&quot;</td><td>&quot;Системы баз данных&quot;</td><td>&quot;Да&quot;</td><td>0.726457</td><td>&quot;&quot;</td><td>&quot;&quot;</td><td>false</td><td>2020-05-19</td><td>1</td></tr><tr><td>&quot;2020-05-18 16:11:14&quot;</td><td>&quot;635e9ca4fcf26a2bd38b8488a8edfc…</td><td>555</td><td>186</td><td>0</td><td>&quot;Сбор и обработка данных с помо…</td><td>&quot;Безопасность компьютерных сист…</td><td>&quot;Язык SQL&quot;</td><td>&quot;Дополнительные главы прикладно…</td><td>&quot;Системы баз данных&quot;</td><td>&quot;Компьютерные сети&quot;</td><td>&quot;Да&quot;</td><td>0.847534</td><td>&quot;&quot;</td><td>&quot;&quot;</td><td>true</td><td>2020-05-18</td><td>1</td></tr><tr><td>&quot;2020-05-18 23:35:28&quot;</td><td>&quot;86c24daaa62246142d46ee58534a65…</td><td>530</td><td>184</td><td>0</td><td>&quot;Сбор и обработка данных с помо…</td><td>&quot;Моделирование временных рядов&quot;</td><td>&quot;Теория баз данных&quot;</td><td>&quot;Анализ данных в бизнесе&quot;</td><td>&quot;Численные методы&quot;</td><td>&quot;Системы баз данных&quot;</td><td>&quot;Нет&quot;</td><td>0.939462</td><td>&quot;&quot;</td><td>&quot;&quot;</td><td>false</td><td>2020-05-18</td><td>1</td></tr><tr><td>&quot;2020-05-18 20:26:39&quot;</td><td>&quot;2b0d7dd550bcca4c586cbb27d8478a…</td><td>619</td><td>185</td><td>0</td><td>&quot;Безопасность компьютерных сист…</td><td>&quot;Сбор и обработка данных с помо…</td><td>&quot;Матричные вычисления&quot;</td><td>&quot;Компьютерные сети&quot;</td><td>&quot;Промышленное программирование …</td><td>&quot;Анализ данных в бизнесе&quot;</td><td>&quot;Да&quot;</td><td>0.560538</td><td>&quot;&quot;</td><td>&quot;&quot;</td><td>false</td><td>2020-05-18</td><td>1</td></tr><tr><td>&quot;2020-05-14 20:52:42&quot;</td><td>&quot;881b1a6fda195b354ae2edb396a69f…</td><td>1084</td><td>0</td><td>0</td><td>&quot;Безопасность компьютерных сист…</td><td>&quot;Анализ неструктурированных дан…</td><td>&quot;Глубинное обучение в обработке…</td><td>&quot;Компьютерное зрение&quot;</td><td>&quot;Проектирование и разработка вы…</td><td>&quot;Генеративные модели в машинном…</td><td>&quot;Да&quot;</td><td>0.782609</td><td>&quot;172&quot;</td><td>&quot;DevOps&quot;</td><td>false</td><td>2020-05-14</td><td>2</td></tr><tr><td>&hellip;</td><td>&hellip;</td><td>&hellip;</td><td>&hellip;</td><td>&hellip;</td><td>&hellip;</td><td>&hellip;</td><td>&hellip;</td><td>&hellip;</td><td>&hellip;</td><td>&hellip;</td><td>&hellip;</td><td>&hellip;</td><td>&hellip;</td><td>&hellip;</td><td>&hellip;</td><td>&hellip;</td><td>&hellip;</td></tr><tr><td>&quot;2020-05-18 21:15:58&quot;</td><td>&quot;a6ce02b12540bca3cdd15757f8a2e9…</td><td>597</td><td>185</td><td>0</td><td>&quot;Безопасность компьютерных сист…</td><td>&quot;Сбор и обработка данных с помо…</td><td>&quot;Матричные вычисления&quot;</td><td>&quot;Компьютерные сети&quot;</td><td>&quot;Промышленное программирование …</td><td>&quot;Анализ данных в бизнесе&quot;</td><td>&quot;Да&quot;</td><td>0.663677</td><td>&quot;&quot;</td><td>&quot;&quot;</td><td>false</td><td>2020-05-18</td><td>1</td></tr><tr><td>&quot;2020-05-18 19:36:51&quot;</td><td>&quot;f5d9f99cb876ca0888d18b6e444fa1…</td><td>516</td><td>187</td><td>0</td><td>&quot;Сбор и обработка данных с помо…</td><td>&quot;Язык SQL&quot;</td><td>&quot;Теория баз данных&quot;</td><td>&quot;Промышленное программирование …</td><td>&quot;Машинное обучение 2&quot;</td><td>&quot;Компьютерные сети&quot;</td><td>&quot;Нет&quot;</td><td>0.982063</td><td>&quot;&quot;</td><td>&quot;&quot;</td><td>false</td><td>2020-05-18</td><td>1</td></tr><tr><td>&quot;2020-05-18 22:43:06&quot;</td><td>&quot;de539be8b29b3afa002184e28d63c6…</td><td>1015</td><td>0</td><td>0</td><td>&quot;Анализ неструктурированных дан…</td><td>&quot;Безопасность компьютерных сист…</td><td>&quot;Глубинное обучение в обработке…</td><td>&quot;Обучение с подкреплением&quot;</td><td>&quot;Методы сжатия и передачи медиа…</td><td>&quot;Проектирование и разработка вы…</td><td>&quot;Да&quot;</td><td>0.949275</td><td>&quot;173&quot;</td><td>&quot;DevOps&quot;</td><td>false</td><td>2020-05-18</td><td>2</td></tr><tr><td>&quot;2020-05-18 14:44:19&quot;</td><td>&quot;fa4860bc719aadedbb00ba027067a8…</td><td>642</td><td>187</td><td>0</td><td>&quot;Безопасность компьютерных сист…</td><td>&quot;Высокопроизводительные вычисле…</td><td>&quot;Язык SQL&quot;</td><td>&quot;Компьютерные сети&quot;</td><td>&quot;Промышленное программирование …</td><td>&quot;Дискретная оптимизация&quot;</td><td>&quot;Да&quot;</td><td>0.44843</td><td>&quot;&quot;</td><td>&quot;&quot;</td><td>false</td><td>2020-05-18</td><td>1</td></tr><tr><td>&quot;2020-05-18 18:22:26&quot;</td><td>&quot;f2e1cfc27a724879ac2a8c98004c14…</td><td>981</td><td>0</td><td>0</td><td>&quot;Принятие решений в условиях ри…</td><td>&quot;Моделирование временных рядов&quot;</td><td>&quot;Глубинное обучение в обработке…</td><td>&quot;Обучение с подкреплением&quot;</td><td>&quot;Компьютерное зрение&quot;</td><td>&quot;Методы сжатия и передачи медиа…</td><td>&quot;Да&quot;</td><td>0.978261</td><td>&quot;173&quot;</td><td>&quot;DevOps&quot;</td><td>false</td><td>2020-05-18</td><td>2</td></tr></tbody></table></div>"
            ]
          },
          "metadata": {},
          "execution_count": 47
        }
      ],
      "source": [
        "df_without_wave_1 = df_without_wave_1.filter((pl.col(\"id\") != \"7fcf56aae6836855a689000a50e80360\") & (pl.col(\"id\") != \"e0fceae1e285f737630bb6123a1bd85d\"))\n",
        "\n",
        "df_without_wave_1\n",
        "\n",
        "\n"
      ]
    },
    {
      "cell_type": "code",
      "execution_count": 48,
      "metadata": {
        "id": "ohVje9H_s2bH",
        "colab": {
          "base_uri": "https://localhost:8080/",
          "height": 443
        },
        "outputId": "e8334649-01ef-462e-fdd4-5a1fb8fba797"
      },
      "outputs": [
        {
          "output_type": "execute_result",
          "data": {
            "text/plain": [
              "shape: (12, 4)\n",
              "┌─────────────────────────────┬────────────────────────────┬──────────┬────────────────────────────┐\n",
              "│ Курсы                       ┆ Количество студентов после ┆ capacity ┆ Количество свободных мест  │\n",
              "│ ---                         ┆ пер…                       ┆ ---      ┆ на к…                      │\n",
              "│ str                         ┆ ---                        ┆ i64      ┆ ---                        │\n",
              "│                             ┆ u32                        ┆          ┆ i64                        │\n",
              "╞═════════════════════════════╪════════════════════════════╪══════════╪════════════════════════════╡\n",
              "│ Принятие решений в условиях ┆ 8                          ┆ 30       ┆ 22                         │\n",
              "│ ри…                         ┆                            ┆          ┆                            │\n",
              "│ Сбор и обработка данных с   ┆ 30                         ┆ 30       ┆ 0                          │\n",
              "│ помо…                       ┆                            ┆          ┆                            │\n",
              "│ Анализ неструктурированных  ┆ 48                         ┆ 10000    ┆ 9952                       │\n",
              "│ дан…                        ┆                            ┆          ┆                            │\n",
              "│ Моделирование временных     ┆ 30                         ┆ 30       ┆ 0                          │\n",
              "│ рядов                       ┆                            ┆          ┆                            │\n",
              "│ Statistical Learning Theory ┆ 33                         ┆ 60       ┆ 27                         │\n",
              "│ …                           ┆ …                          ┆ …        ┆ …                          │\n",
              "│ Высокопроизводительные      ┆ 44                         ┆ 60       ┆ 16                         │\n",
              "│ вычисле…                    ┆                            ┆          ┆                            │\n",
              "│ Язык SQL                    ┆ 29                         ┆ 30       ┆ 1                          │\n",
              "│ Глубинное обучение в        ┆ 23                         ┆ 30       ┆ 7                          │\n",
              "│ обработке…                  ┆                            ┆          ┆                            │\n",
              "│ Теория баз данных           ┆ 14                         ┆ 30       ┆ 16                         │\n",
              "│ Матричные вычисления        ┆ 15                         ┆ 30       ┆ 15                         │\n",
              "└─────────────────────────────┴────────────────────────────┴──────────┴────────────────────────────┘"
            ],
            "text/html": [
              "<div><style>\n",
              ".dataframe > thead > tr,\n",
              ".dataframe > tbody > tr {\n",
              "  text-align: right;\n",
              "  white-space: pre-wrap;\n",
              "}\n",
              "</style>\n",
              "<small>shape: (12, 4)</small><table border=\"1\" class=\"dataframe\"><thead><tr><th>Курсы</th><th>Количество студентов после первой волны</th><th>capacity</th><th>Количество свободных мест на курсе</th></tr><tr><td>str</td><td>u32</td><td>i64</td><td>i64</td></tr></thead><tbody><tr><td>&quot;Принятие решений в условиях ри…</td><td>8</td><td>30</td><td>22</td></tr><tr><td>&quot;Сбор и обработка данных с помо…</td><td>30</td><td>30</td><td>0</td></tr><tr><td>&quot;Анализ неструктурированных дан…</td><td>48</td><td>10000</td><td>9952</td></tr><tr><td>&quot;Моделирование временных рядов&quot;</td><td>30</td><td>30</td><td>0</td></tr><tr><td>&quot;Statistical Learning Theory&quot;</td><td>33</td><td>60</td><td>27</td></tr><tr><td>&hellip;</td><td>&hellip;</td><td>&hellip;</td><td>&hellip;</td></tr><tr><td>&quot;Высокопроизводительные вычисле…</td><td>44</td><td>60</td><td>16</td></tr><tr><td>&quot;Язык SQL&quot;</td><td>29</td><td>30</td><td>1</td></tr><tr><td>&quot;Глубинное обучение в обработке…</td><td>23</td><td>30</td><td>7</td></tr><tr><td>&quot;Теория баз данных&quot;</td><td>14</td><td>30</td><td>16</td></tr><tr><td>&quot;Матричные вычисления&quot;</td><td>15</td><td>30</td><td>15</td></tr></tbody></table></div>"
            ]
          },
          "metadata": {},
          "execution_count": 48
        }
      ],
      "source": [
        "course1_students = df_wave_1.group_by(\"course1\").agg([\n",
        "    pl.count(\"id\").alias(\"количество студентов после первой волны\")\n",
        "])\n",
        "\n",
        "course2_students = df_wave_1.filter((pl.col(\"course2\") != \"-\") & (pl.col(\"course2\") != \"???\")).group_by(\"course2\").agg([\n",
        "    pl.count(\"id\").alias(\"количество студентов после первой волны\")\n",
        "])\n",
        "\n",
        "course1_students = course1_students.rename({\"course1\": \"Курсы\"})\n",
        "course2_students = course2_students.rename({\"course2\": \"Курсы\"})\n",
        "\n",
        "\n",
        "all_courses_students = course1_students.vstack(course2_students)\n",
        "\n",
        "all_courses_students = all_courses_students.filter(pl.col(\"Курсы\") != \"???\")\n",
        "\n",
        "final_result = all_courses_students.group_by(\"Курсы\").agg([\n",
        "    pl.sum(\"количество студентов после первой волны\").alias(\"Количество студентов после первой волны\")\n",
        "])\n",
        "final_result = final_result.join(course_capacity_df, on=\"Курсы\", how=\"left\")\n",
        "final_result = final_result.with_columns(\n",
        "    pl.col(\"capacity\").fill_null(30)\n",
        ")\n",
        "\n",
        "final_result = final_result.with_columns([\n",
        "    (pl.col(\"capacity\") - pl.col(\"Количество студентов после первой волны\")).alias(\"Количество свободных мест на курсе\")\n",
        "])\n",
        "final_result.head(12)"
      ]
    },
    {
      "cell_type": "code",
      "execution_count": 49,
      "metadata": {
        "id": "e2yHYSP5xm8r",
        "colab": {
          "base_uri": "https://localhost:8080/",
          "height": 843
        },
        "outputId": "c1c1596f-0fb0-46ae-bdd4-c0e21174269d"
      },
      "outputs": [
        {
          "output_type": "stream",
          "name": "stderr",
          "text": [
            "<ipython-input-49-329e48826f43>:27: DeprecationWarning: `pl.count()` is deprecated. Please use `pl.len()` instead.\n",
            "  pl.arange(0, pl.count()).over(\"Курсы\").alias(\"student_rank\")\n"
          ]
        },
        {
          "output_type": "execute_result",
          "data": {
            "text/plain": [
              "shape: (52, 8)\n",
              "┌────────────┬────────────┬──────────┬────────────┬────────────┬───────────┬───────────┬───────────┐\n",
              "│ Курсы      ┆ Количество ┆ capacity ┆ Количество ┆ id         ┆ Перцентил ┆ student_r ┆ Количеств │\n",
              "│ ---        ┆ студентов  ┆ ---      ┆ свободных  ┆ ---        ┆ и         ┆ ank       ┆ о осенних │\n",
              "│ str        ┆ после пер… ┆ i64      ┆ мест на к… ┆ str        ┆ ---       ┆ ---       ┆ КПВ       │\n",
              "│            ┆ ---        ┆          ┆ ---        ┆            ┆ f64       ┆ i64       ┆ ---       │\n",
              "│            ┆ u32        ┆          ┆ i64        ┆            ┆           ┆           ┆ i32       │\n",
              "╞════════════╪════════════╪══════════╪════════════╪════════════╪═══════════╪═══════════╪═══════════╡\n",
              "│ Statistica ┆ 33         ┆ 60       ┆ 27         ┆ 7f9d0f835b ┆ 0.2287    ┆ 0         ┆ 1         │\n",
              "│ l Learning ┆            ┆          ┆            ┆ f734ccd461 ┆           ┆           ┆           │\n",
              "│ Theory     ┆            ┆          ┆            ┆ 9041c3475c ┆           ┆           ┆           │\n",
              "│            ┆            ┆          ┆            ┆ …          ┆           ┆           ┆           │\n",
              "│ Statistica ┆ 33         ┆ 60       ┆ 27         ┆ 2ba0a356c9 ┆ 0.304933  ┆ 1         ┆ 1         │\n",
              "│ l Learning ┆            ┆          ┆            ┆ 5af4fe7427 ┆           ┆           ┆           │\n",
              "│ Theory     ┆            ┆          ┆            ┆ 2e70808208 ┆           ┆           ┆           │\n",
              "│            ┆            ┆          ┆            ┆ …          ┆           ┆           ┆           │\n",
              "│ Statistica ┆ 33         ┆ 60       ┆ 27         ┆ fd784637a1 ┆ 0.533632  ┆ 2         ┆ 1         │\n",
              "│ l Learning ┆            ┆          ┆            ┆ 9d65bbe5b0 ┆           ┆           ┆           │\n",
              "│ Theory     ┆            ┆          ┆            ┆ 7d6efac5a0 ┆           ┆           ┆           │\n",
              "│            ┆            ┆          ┆            ┆ …          ┆           ┆           ┆           │\n",
              "│ Statistica ┆ 33         ┆ 60       ┆ 27         ┆ eb1d7205d9 ┆ 0.608696  ┆ 3         ┆ 2         │\n",
              "│ l Learning ┆            ┆          ┆            ┆ 13319ef3d4 ┆           ┆           ┆           │\n",
              "│ Theory     ┆            ┆          ┆            ┆ 8e07198398 ┆           ┆           ┆           │\n",
              "│            ┆            ┆          ┆            ┆ …          ┆           ┆           ┆           │\n",
              "│ Statistica ┆ 33         ┆ 60       ┆ 27         ┆ 39cd182045 ┆ 0.623318  ┆ 4         ┆ 2         │\n",
              "│ l Learning ┆            ┆          ┆            ┆ 9fdbcc193f ┆           ┆           ┆           │\n",
              "│ Theory     ┆            ┆          ┆            ┆ 9bb0ddb74a ┆           ┆           ┆           │\n",
              "│            ┆            ┆          ┆            ┆ …          ┆           ┆           ┆           │\n",
              "│ …          ┆ …          ┆ …        ┆ …          ┆ …          ┆ …         ┆ …         ┆ …         │\n",
              "│ Теория баз ┆ 14         ┆ 30       ┆ 16         ┆ cddf159101 ┆ 0.408072  ┆ 0         ┆ 1         │\n",
              "│ данных     ┆            ┆          ┆            ┆ f9a5a30f90 ┆           ┆           ┆           │\n",
              "│            ┆            ┆          ┆            ┆ 41ceebdb28 ┆           ┆           ┆           │\n",
              "│            ┆            ┆          ┆            ┆ …          ┆           ┆           ┆           │\n",
              "│ Теория баз ┆ 14         ┆ 30       ┆ 16         ┆ cc8e710c87 ┆ 0.834081  ┆ 1         ┆ 1         │\n",
              "│ данных     ┆            ┆          ┆            ┆ 1ae8236b8b ┆           ┆           ┆           │\n",
              "│            ┆            ┆          ┆            ┆ 8705e68407 ┆           ┆           ┆           │\n",
              "│            ┆            ┆          ┆            ┆ …          ┆           ┆           ┆           │\n",
              "│ Теория баз ┆ 14         ┆ 30       ┆ 16         ┆ c97ab5caba ┆ 0.860987  ┆ 2         ┆ 1         │\n",
              "│ данных     ┆            ┆          ┆            ┆ ce9f00673c ┆           ┆           ┆           │\n",
              "│            ┆            ┆          ┆            ┆ c8384771aa ┆           ┆           ┆           │\n",
              "│            ┆            ┆          ┆            ┆ …          ┆           ┆           ┆           │\n",
              "│ Теория баз ┆ 14         ┆ 30       ┆ 16         ┆ bd416140ec ┆ 0.977578  ┆ 3         ┆ 1         │\n",
              "│ данных     ┆            ┆          ┆            ┆ db32b6dbd7 ┆           ┆           ┆           │\n",
              "│            ┆            ┆          ┆            ┆ f40820bf63 ┆           ┆           ┆           │\n",
              "│            ┆            ┆          ┆            ┆ …          ┆           ┆           ┆           │\n",
              "│ Язык SQL   ┆ 29         ┆ 30       ┆ 1          ┆ 86eebda725 ┆ 0.224215  ┆ 0         ┆ 1         │\n",
              "│            ┆            ┆          ┆            ┆ 013685effc ┆           ┆           ┆           │\n",
              "│            ┆            ┆          ┆            ┆ b0c9759113 ┆           ┆           ┆           │\n",
              "│            ┆            ┆          ┆            ┆ …          ┆           ┆           ┆           │\n",
              "└────────────┴────────────┴──────────┴────────────┴────────────┴───────────┴───────────┴───────────┘"
            ],
            "text/html": [
              "<div><style>\n",
              ".dataframe > thead > tr,\n",
              ".dataframe > tbody > tr {\n",
              "  text-align: right;\n",
              "  white-space: pre-wrap;\n",
              "}\n",
              "</style>\n",
              "<small>shape: (52, 8)</small><table border=\"1\" class=\"dataframe\"><thead><tr><th>Курсы</th><th>Количество студентов после первой волны</th><th>capacity</th><th>Количество свободных мест на курсе</th><th>id</th><th>Перцентили</th><th>student_rank</th><th>Количество осенних КПВ</th></tr><tr><td>str</td><td>u32</td><td>i64</td><td>i64</td><td>str</td><td>f64</td><td>i64</td><td>i32</td></tr></thead><tbody><tr><td>&quot;Statistical Learning Theory&quot;</td><td>33</td><td>60</td><td>27</td><td>&quot;7f9d0f835bf734ccd4619041c3475c…</td><td>0.2287</td><td>0</td><td>1</td></tr><tr><td>&quot;Statistical Learning Theory&quot;</td><td>33</td><td>60</td><td>27</td><td>&quot;2ba0a356c95af4fe74272e70808208…</td><td>0.304933</td><td>1</td><td>1</td></tr><tr><td>&quot;Statistical Learning Theory&quot;</td><td>33</td><td>60</td><td>27</td><td>&quot;fd784637a19d65bbe5b07d6efac5a0…</td><td>0.533632</td><td>2</td><td>1</td></tr><tr><td>&quot;Statistical Learning Theory&quot;</td><td>33</td><td>60</td><td>27</td><td>&quot;eb1d7205d913319ef3d48e07198398…</td><td>0.608696</td><td>3</td><td>2</td></tr><tr><td>&quot;Statistical Learning Theory&quot;</td><td>33</td><td>60</td><td>27</td><td>&quot;39cd1820459fdbcc193f9bb0ddb74a…</td><td>0.623318</td><td>4</td><td>2</td></tr><tr><td>&hellip;</td><td>&hellip;</td><td>&hellip;</td><td>&hellip;</td><td>&hellip;</td><td>&hellip;</td><td>&hellip;</td><td>&hellip;</td></tr><tr><td>&quot;Теория баз данных&quot;</td><td>14</td><td>30</td><td>16</td><td>&quot;cddf159101f9a5a30f9041ceebdb28…</td><td>0.408072</td><td>0</td><td>1</td></tr><tr><td>&quot;Теория баз данных&quot;</td><td>14</td><td>30</td><td>16</td><td>&quot;cc8e710c871ae8236b8b8705e68407…</td><td>0.834081</td><td>1</td><td>1</td></tr><tr><td>&quot;Теория баз данных&quot;</td><td>14</td><td>30</td><td>16</td><td>&quot;c97ab5cabace9f00673cc8384771aa…</td><td>0.860987</td><td>2</td><td>1</td></tr><tr><td>&quot;Теория баз данных&quot;</td><td>14</td><td>30</td><td>16</td><td>&quot;bd416140ecdb32b6dbd7f40820bf63…</td><td>0.977578</td><td>3</td><td>1</td></tr><tr><td>&quot;Язык SQL&quot;</td><td>29</td><td>30</td><td>1</td><td>&quot;86eebda725013685effcb0c9759113…</td><td>0.224215</td><td>0</td><td>1</td></tr></tbody></table></div>"
            ]
          },
          "metadata": {},
          "execution_count": 49
        }
      ],
      "source": [
        "final_result = final_result.with_columns([\n",
        "    pl.lit(None).alias(\"id\"),\n",
        "    pl.lit(None).alias(\"Перцентили\"),\n",
        "])\n",
        "\n",
        "for course in final_result[\"Курсы\"]:\n",
        "\n",
        "    students_fall_3 = df_without_wave_1.filter((pl.col(\"fall_3\") == course) & (pl.col(\"Количество осенних КПВ\") == 2)).select(\"id\")\n",
        "    percentiles_fall_3 = df_without_wave_1.filter((pl.col(\"fall_3\") == course) & (pl.col(\"Количество осенних КПВ\") == 2)).select(\"percentile\")\n",
        "\n",
        "\n",
        "    students_fall_2 = df_without_wave_1.filter((pl.col(\"fall_2\") == course) & (pl.col(\"Количество осенних КПВ\") == 1)).select(\"id\")\n",
        "    percentiles_fall_2 = df_without_wave_1.filter((pl.col(\"fall_2\") == course) & (pl.col(\"Количество осенних КПВ\") == 1)).select(\"percentile\")\n",
        "\n",
        "    all_students = students_fall_3.vstack(students_fall_2)\n",
        "    all_percentiles = percentiles_fall_3.vstack(percentiles_fall_2)\n",
        "\n",
        "    final_result = final_result.with_columns([\n",
        "        pl.when(pl.col(\"Курсы\") == course).then(all_students[\"id\"].implode()).otherwise(pl.col(\"id\")).alias(\"id\"),\n",
        "        pl.when(pl.col(\"Курсы\") == course).then(all_percentiles[\"percentile\"].implode()).otherwise(pl.col(\"Перцентили\")).alias(\"Перцентили\")\n",
        "    ])\n",
        "\n",
        "final_result = final_result.explode([\"id\", \"Перцентили\"])\n",
        "final_result = final_result.sort([\"Курсы\", \"Перцентили\"], descending=[False, False])\n",
        "\n",
        "final_result = final_result.with_columns(\n",
        "     pl.arange(0, pl.count()).over(\"Курсы\").alias(\"student_rank\")\n",
        " )\n",
        "\n",
        "\n",
        "\n",
        "final_result = final_result.join(\n",
        "    df.select([\"id\", \"Количество осенних КПВ\"]),\n",
        "    left_on=\"id\",\n",
        "    right_on=\"id\",\n",
        "    how=\"left\"\n",
        ")\n",
        "\n",
        "\n",
        "\n",
        "final_result_null_df = final_result.filter(\n",
        "    (pl.col(\"student_rank\") >= pl.col(\"Количество свободных мест на курсе\")) &\n",
        "    (pl.col(\"Количество осенних КПВ\") == 2)\n",
        ")\n",
        "\n",
        "new_students_df_1 = final_result_null_df.filter(~pl.col(\"id\").is_in(df_wave_1[\"id\"])).select(\"id\").unique()\n",
        "\n",
        "\n",
        "new_students_wave_0 = new_students_df_1.with_columns([\n",
        "    pl.lit(\"???\").alias(\"course1\"),\n",
        "    pl.lit(\"???\").alias(\"course2\")\n",
        "])\n",
        "\n",
        "\n",
        "df_wave_1 = df_wave_1.vstack(new_students_wave_0)\n",
        "\n",
        "final_result = final_result.filter(\n",
        "    pl.col(\"student_rank\") < pl.col(\"Количество свободных мест на курсе\")\n",
        "\n",
        ")\n",
        "\n",
        "\n",
        "final_result\n"
      ]
    },
    {
      "cell_type": "code",
      "execution_count": 50,
      "metadata": {
        "id": "coBk_PwaAEVn",
        "colab": {
          "base_uri": "https://localhost:8080/",
          "height": 443
        },
        "outputId": "6db684f9-f632-431c-b7c3-b3e0c705e1d0"
      },
      "outputs": [
        {
          "output_type": "execute_result",
          "data": {
            "text/plain": [
              "shape: (52, 3)\n",
              "┌─────────────────────────────────┬─────────────────────────────────┬────────────────────────┐\n",
              "│ id                              ┆ courses                         ┆ Количество осенних КПВ │\n",
              "│ ---                             ┆ ---                             ┆ ---                    │\n",
              "│ str                             ┆ list[str]                       ┆ i32                    │\n",
              "╞═════════════════════════════════╪═════════════════════════════════╪════════════════════════╡\n",
              "│ fd784637a19d65bbe5b07d6efac5a0… ┆ [\"Statistical Learning Theory\"… ┆ 1                      │\n",
              "│ 6388c7920a7d454d2db81430f1f231… ┆ [\"Матричные вычисления\"]        ┆ 1                      │\n",
              "│ aa21f50934a72e00bbc7e65a54ea0b… ┆ [\"Высокопроизводительные вычис… ┆ 1                      │\n",
              "│ c154bbf18efdd4d760e52155eaa879… ┆ [\"Высокопроизводительные вычис… ┆ 2                      │\n",
              "│ 7134f24c241836458335aa3abb8d87… ┆ [\"Глубинное обучение в обработ… ┆ 2                      │\n",
              "│ …                               ┆ …                               ┆ …                      │\n",
              "│ 26e72efe2995eb032a25561b2bf786… ┆ [\"Высокопроизводительные вычис… ┆ 1                      │\n",
              "│ 30f3653fc176d54e89ac3179c455c6… ┆ [\"Матричные вычисления\"]        ┆ 1                      │\n",
              "│ eb1d7205d913319ef3d48e07198398… ┆ [\"Statistical Learning Theory\"… ┆ 2                      │\n",
              "│ 7f9d0f835bf734ccd4619041c3475c… ┆ [\"Statistical Learning Theory\"… ┆ 1                      │\n",
              "│ fa4860bc719aadedbb00ba027067a8… ┆ [\"Высокопроизводительные вычис… ┆ 1                      │\n",
              "└─────────────────────────────────┴─────────────────────────────────┴────────────────────────┘"
            ],
            "text/html": [
              "<div><style>\n",
              ".dataframe > thead > tr,\n",
              ".dataframe > tbody > tr {\n",
              "  text-align: right;\n",
              "  white-space: pre-wrap;\n",
              "}\n",
              "</style>\n",
              "<small>shape: (52, 3)</small><table border=\"1\" class=\"dataframe\"><thead><tr><th>id</th><th>courses</th><th>Количество осенних КПВ</th></tr><tr><td>str</td><td>list[str]</td><td>i32</td></tr></thead><tbody><tr><td>&quot;fd784637a19d65bbe5b07d6efac5a0…</td><td>[&quot;Statistical Learning Theory&quot;]</td><td>1</td></tr><tr><td>&quot;6388c7920a7d454d2db81430f1f231…</td><td>[&quot;Матричные вычисления&quot;]</td><td>1</td></tr><tr><td>&quot;aa21f50934a72e00bbc7e65a54ea0b…</td><td>[&quot;Высокопроизводительные вычисления&quot;]</td><td>1</td></tr><tr><td>&quot;c154bbf18efdd4d760e52155eaa879…</td><td>[&quot;Высокопроизводительные вычисления&quot;]</td><td>2</td></tr><tr><td>&quot;7134f24c241836458335aa3abb8d87…</td><td>[&quot;Глубинное обучение в обработке звука&quot;]</td><td>2</td></tr><tr><td>&hellip;</td><td>&hellip;</td><td>&hellip;</td></tr><tr><td>&quot;26e72efe2995eb032a25561b2bf786…</td><td>[&quot;Высокопроизводительные вычисления&quot;]</td><td>1</td></tr><tr><td>&quot;30f3653fc176d54e89ac3179c455c6…</td><td>[&quot;Матричные вычисления&quot;]</td><td>1</td></tr><tr><td>&quot;eb1d7205d913319ef3d48e07198398…</td><td>[&quot;Statistical Learning Theory&quot;]</td><td>2</td></tr><tr><td>&quot;7f9d0f835bf734ccd4619041c3475c…</td><td>[&quot;Statistical Learning Theory&quot;]</td><td>1</td></tr><tr><td>&quot;fa4860bc719aadedbb00ba027067a8…</td><td>[&quot;Высокопроизводительные вычисления&quot;]</td><td>1</td></tr></tbody></table></div>"
            ]
          },
          "metadata": {},
          "execution_count": 50
        }
      ],
      "source": [
        "grouped_courses_2 = final_result.group_by(\"id\").agg([\n",
        "    pl.col(\"Курсы\").alias(\"courses\"),\n",
        "    pl.col(\"Количество осенних КПВ\").first()\n",
        "])\n",
        "grouped_courses_2\n"
      ]
    },
    {
      "cell_type": "code",
      "execution_count": 51,
      "metadata": {
        "id": "DK-Wmh56ahlX",
        "colab": {
          "base_uri": "https://localhost:8080/",
          "height": 443
        },
        "outputId": "8a9602c5-7943-458f-b7ed-2f2ef24632c7"
      },
      "outputs": [
        {
          "output_type": "execute_result",
          "data": {
            "text/plain": [
              "shape: (52, 3)\n",
              "┌─────────────────────────────────┬──────────┬──────────┐\n",
              "│ id                              ┆ course_1 ┆ course_2 │\n",
              "│ ---                             ┆ ---      ┆ ---      │\n",
              "│ str                             ┆ str      ┆ str      │\n",
              "╞═════════════════════════════════╪══════════╪══════════╡\n",
              "│ 2e04f9bc8796f095ed7b9c7941df91… ┆ ???      ┆ ???      │\n",
              "│ aa21f50934a72e00bbc7e65a54ea0b… ┆ ???      ┆ ???      │\n",
              "│ 31e38f7596f83b72ebba1c6fc6b7a5… ┆ ???      ┆ ???      │\n",
              "│ 081eba3952cfc116e0e9b941d6a974… ┆ ???      ┆ ???      │\n",
              "│ d7118b44c7e8fdbbaaca226d2da6fe… ┆ ???      ┆ ???      │\n",
              "│ …                               ┆ …        ┆ …        │\n",
              "│ 79d14db48e4737af731960ae212d51… ┆ ???      ┆ ???      │\n",
              "│ c154bbf18efdd4d760e52155eaa879… ┆ ???      ┆ ???      │\n",
              "│ a65d50ef4fadfac64508a54e972d86… ┆ ???      ┆ ???      │\n",
              "│ 7134f24c241836458335aa3abb8d87… ┆ ???      ┆ ???      │\n",
              "│ d555d2805e1d93d4f023e57dc4c8f4… ┆ ???      ┆ ???      │\n",
              "└─────────────────────────────────┴──────────┴──────────┘"
            ],
            "text/html": [
              "<div><style>\n",
              ".dataframe > thead > tr,\n",
              ".dataframe > tbody > tr {\n",
              "  text-align: right;\n",
              "  white-space: pre-wrap;\n",
              "}\n",
              "</style>\n",
              "<small>shape: (52, 3)</small><table border=\"1\" class=\"dataframe\"><thead><tr><th>id</th><th>course_1</th><th>course_2</th></tr><tr><td>str</td><td>str</td><td>str</td></tr></thead><tbody><tr><td>&quot;2e04f9bc8796f095ed7b9c7941df91…</td><td>&quot;???&quot;</td><td>&quot;???&quot;</td></tr><tr><td>&quot;aa21f50934a72e00bbc7e65a54ea0b…</td><td>&quot;???&quot;</td><td>&quot;???&quot;</td></tr><tr><td>&quot;31e38f7596f83b72ebba1c6fc6b7a5…</td><td>&quot;???&quot;</td><td>&quot;???&quot;</td></tr><tr><td>&quot;081eba3952cfc116e0e9b941d6a974…</td><td>&quot;???&quot;</td><td>&quot;???&quot;</td></tr><tr><td>&quot;d7118b44c7e8fdbbaaca226d2da6fe…</td><td>&quot;???&quot;</td><td>&quot;???&quot;</td></tr><tr><td>&hellip;</td><td>&hellip;</td><td>&hellip;</td></tr><tr><td>&quot;79d14db48e4737af731960ae212d51…</td><td>&quot;???&quot;</td><td>&quot;???&quot;</td></tr><tr><td>&quot;c154bbf18efdd4d760e52155eaa879…</td><td>&quot;???&quot;</td><td>&quot;???&quot;</td></tr><tr><td>&quot;a65d50ef4fadfac64508a54e972d86…</td><td>&quot;???&quot;</td><td>&quot;???&quot;</td></tr><tr><td>&quot;7134f24c241836458335aa3abb8d87…</td><td>&quot;???&quot;</td><td>&quot;???&quot;</td></tr><tr><td>&quot;d555d2805e1d93d4f023e57dc4c8f4…</td><td>&quot;???&quot;</td><td>&quot;???&quot;</td></tr></tbody></table></div>"
            ]
          },
          "metadata": {},
          "execution_count": 51
        }
      ],
      "source": [
        "unique_students_1 = final_result.select(\"id\").unique()\n",
        "\n",
        "df_wave_2 = unique_students_1.with_columns([\n",
        "    pl.lit(\"???\").alias(\"course_1\"),\n",
        "    pl.lit(\"???\").alias(\"course_2\")\n",
        "])\n",
        "\n",
        "df_wave_2"
      ]
    },
    {
      "cell_type": "code",
      "execution_count": 52,
      "metadata": {
        "id": "8Gnco5v9a2nb",
        "colab": {
          "base_uri": "https://localhost:8080/",
          "height": 443
        },
        "outputId": "941f248e-f0fa-4d00-d87c-45776de409e1"
      },
      "outputs": [
        {
          "output_type": "execute_result",
          "data": {
            "text/plain": [
              "shape: (52, 3)\n",
              "┌──────────────────────────────────┬─────────────────────────────┬─────────────────────────────────┐\n",
              "│ id                               ┆ course1                     ┆ course2                         │\n",
              "│ ---                              ┆ ---                         ┆ ---                             │\n",
              "│ str                              ┆ str                         ┆ str                             │\n",
              "╞══════════════════════════════════╪═════════════════════════════╪═════════════════════════════════╡\n",
              "│ fd784637a19d65bbe5b07d6efac5a0…  ┆ Statistical Learning Theory ┆ -                               │\n",
              "│ 6388c7920a7d454d2db81430f1f231…  ┆ Матричные вычисления        ┆ -                               │\n",
              "│ aa21f50934a72e00bbc7e65a54ea0b…  ┆ Высокопроизводительные      ┆ -                               │\n",
              "│                                  ┆ вычисле…                    ┆                                 │\n",
              "│ c154bbf18efdd4d760e52155eaa879…  ┆ ???                         ┆ Высокопроизводительные вычисле… │\n",
              "│ 7134f24c241836458335aa3abb8d87…  ┆ ???                         ┆ Глубинное обучение в обработке… │\n",
              "│ …                                ┆ …                           ┆ …                               │\n",
              "│ 26e72efe2995eb032a25561b2bf786…  ┆ Высокопроизводительные      ┆ -                               │\n",
              "│                                  ┆ вычисле…                    ┆                                 │\n",
              "│ 30f3653fc176d54e89ac3179c455c6…  ┆ Матричные вычисления        ┆ -                               │\n",
              "│ eb1d7205d913319ef3d48e07198398…  ┆ ???                         ┆ Statistical Learning Theory     │\n",
              "│ 7f9d0f835bf734ccd4619041c3475c…  ┆ Statistical Learning Theory ┆ -                               │\n",
              "│ fa4860bc719aadedbb00ba027067a8…  ┆ Высокопроизводительные      ┆ -                               │\n",
              "│                                  ┆ вычисле…                    ┆                                 │\n",
              "└──────────────────────────────────┴─────────────────────────────┴─────────────────────────────────┘"
            ],
            "text/html": [
              "<div><style>\n",
              ".dataframe > thead > tr,\n",
              ".dataframe > tbody > tr {\n",
              "  text-align: right;\n",
              "  white-space: pre-wrap;\n",
              "}\n",
              "</style>\n",
              "<small>shape: (52, 3)</small><table border=\"1\" class=\"dataframe\"><thead><tr><th>id</th><th>course1</th><th>course2</th></tr><tr><td>str</td><td>str</td><td>str</td></tr></thead><tbody><tr><td>&quot;fd784637a19d65bbe5b07d6efac5a0…</td><td>&quot;Statistical Learning Theory&quot;</td><td>&quot;-&quot;</td></tr><tr><td>&quot;6388c7920a7d454d2db81430f1f231…</td><td>&quot;Матричные вычисления&quot;</td><td>&quot;-&quot;</td></tr><tr><td>&quot;aa21f50934a72e00bbc7e65a54ea0b…</td><td>&quot;Высокопроизводительные вычисле…</td><td>&quot;-&quot;</td></tr><tr><td>&quot;c154bbf18efdd4d760e52155eaa879…</td><td>&quot;???&quot;</td><td>&quot;Высокопроизводительные вычисле…</td></tr><tr><td>&quot;7134f24c241836458335aa3abb8d87…</td><td>&quot;???&quot;</td><td>&quot;Глубинное обучение в обработке…</td></tr><tr><td>&hellip;</td><td>&hellip;</td><td>&hellip;</td></tr><tr><td>&quot;26e72efe2995eb032a25561b2bf786…</td><td>&quot;Высокопроизводительные вычисле…</td><td>&quot;-&quot;</td></tr><tr><td>&quot;30f3653fc176d54e89ac3179c455c6…</td><td>&quot;Матричные вычисления&quot;</td><td>&quot;-&quot;</td></tr><tr><td>&quot;eb1d7205d913319ef3d48e07198398…</td><td>&quot;???&quot;</td><td>&quot;Statistical Learning Theory&quot;</td></tr><tr><td>&quot;7f9d0f835bf734ccd4619041c3475c…</td><td>&quot;Statistical Learning Theory&quot;</td><td>&quot;-&quot;</td></tr><tr><td>&quot;fa4860bc719aadedbb00ba027067a8…</td><td>&quot;Высокопроизводительные вычисле…</td><td>&quot;-&quot;</td></tr></tbody></table></div>"
            ]
          },
          "metadata": {},
          "execution_count": 52
        }
      ],
      "source": [
        "df_wave_2 = grouped_courses_2.with_columns([\n",
        "    pl.when(pl.col(\"Количество осенних КПВ\") == 1)\n",
        "      .then(pl.col(\"courses\").list.first()).alias(\"course_1\"),\n",
        "    pl.when(pl.col(\"Количество осенних КПВ\") == 1)\n",
        "      .then(pl.lit(\"-\")).alias(\"course_2\")\n",
        "])\n",
        "\n",
        "df_wave_2 = df_wave_2.with_columns([\n",
        "    pl.when(pl.col(\"Количество осенних КПВ\") == 2)\n",
        "      .then(pl.col(\"courses\").list.first()).otherwise(pl.col(\"course_1\")).alias(\"course_1\"),\n",
        "    pl.when(pl.col(\"Количество осенних КПВ\") == 2)\n",
        "      .then(pl.col(\"courses\").list.last()).otherwise(pl.col(\"course_2\")).alias(\"course_2\")\n",
        "])\n",
        "df_wave_2 = df_wave_2.drop(\"courses\").drop(\"Количество осенних КПВ\")\n",
        "\n",
        "df_wave_2 = df_wave_2.rename({\"course_1\": \"course1\", \"course_2\": \"course2\"})\n",
        "\n",
        "df_wave_2 = df_wave_2.with_columns([\n",
        "    pl.when(pl.col(\"course1\") == pl.col(\"course2\"))\n",
        "      .then(pl.lit(\"???\"))\n",
        "      .otherwise(pl.col(\"course1\")).alias(\"course1\")\n",
        "])\n",
        "df_wave_2\n",
        "\n"
      ]
    },
    {
      "cell_type": "code",
      "execution_count": 53,
      "metadata": {
        "id": "JnicaLs3b8tH",
        "colab": {
          "base_uri": "https://localhost:8080/",
          "height": 443
        },
        "outputId": "1c18636c-1f3c-4c05-ad44-30a97ffe7359"
      },
      "outputs": [
        {
          "output_type": "execute_result",
          "data": {
            "text/plain": [
              "shape: (304, 3)\n",
              "┌──────────────────────────────────┬─────────────────────────────┬─────────────────────────────────┐\n",
              "│ id                               ┆ course1                     ┆ course2                         │\n",
              "│ ---                              ┆ ---                         ┆ ---                             │\n",
              "│ str                              ┆ str                         ┆ str                             │\n",
              "╞══════════════════════════════════╪═════════════════════════════╪═════════════════════════════════╡\n",
              "│ b65194fec33b2358296f74f6d948ef…  ┆ Высокопроизводительные      ┆ -                               │\n",
              "│                                  ┆ вычисле…                    ┆                                 │\n",
              "│ 1b7e1b30238f393811a2b48c6f6a06…  ┆ Высокопроизводительные      ┆ -                               │\n",
              "│                                  ┆ вычисле…                    ┆                                 │\n",
              "│ 573e2218c3fe3ffc1894edc12432d3…  ┆ Statistical Learning Theory ┆ Анализ неструктурированных дан… │\n",
              "│ 1386d00c9c8229c2be3c0956949ee1…  ┆ Statistical Learning Theory ┆ -                               │\n",
              "│ 0f114e98d9f732aa51db34f687db26…  ┆ Матричные вычисления        ┆ -                               │\n",
              "│ …                                ┆ …                           ┆ …                               │\n",
              "│ b8d4c538f6b47a1a692bec6c2f2915…  ┆ Высокопроизводительные      ┆ -                               │\n",
              "│                                  ┆ вычисле…                    ┆                                 │\n",
              "│ 26e72efe2995eb032a25561b2bf786…  ┆ Высокопроизводительные      ┆ -                               │\n",
              "│                                  ┆ вычисле…                    ┆                                 │\n",
              "│ 30f3653fc176d54e89ac3179c455c6…  ┆ Матричные вычисления        ┆ -                               │\n",
              "│ 7f9d0f835bf734ccd4619041c3475c…  ┆ Statistical Learning Theory ┆ -                               │\n",
              "│ fa4860bc719aadedbb00ba027067a8…  ┆ Высокопроизводительные      ┆ -                               │\n",
              "│                                  ┆ вычисле…                    ┆                                 │\n",
              "└──────────────────────────────────┴─────────────────────────────┴─────────────────────────────────┘"
            ],
            "text/html": [
              "<div><style>\n",
              ".dataframe > thead > tr,\n",
              ".dataframe > tbody > tr {\n",
              "  text-align: right;\n",
              "  white-space: pre-wrap;\n",
              "}\n",
              "</style>\n",
              "<small>shape: (304, 3)</small><table border=\"1\" class=\"dataframe\"><thead><tr><th>id</th><th>course1</th><th>course2</th></tr><tr><td>str</td><td>str</td><td>str</td></tr></thead><tbody><tr><td>&quot;b65194fec33b2358296f74f6d948ef…</td><td>&quot;Высокопроизводительные вычисле…</td><td>&quot;-&quot;</td></tr><tr><td>&quot;1b7e1b30238f393811a2b48c6f6a06…</td><td>&quot;Высокопроизводительные вычисле…</td><td>&quot;-&quot;</td></tr><tr><td>&quot;573e2218c3fe3ffc1894edc12432d3…</td><td>&quot;Statistical Learning Theory&quot;</td><td>&quot;Анализ неструктурированных дан…</td></tr><tr><td>&quot;1386d00c9c8229c2be3c0956949ee1…</td><td>&quot;Statistical Learning Theory&quot;</td><td>&quot;-&quot;</td></tr><tr><td>&quot;0f114e98d9f732aa51db34f687db26…</td><td>&quot;Матричные вычисления&quot;</td><td>&quot;-&quot;</td></tr><tr><td>&hellip;</td><td>&hellip;</td><td>&hellip;</td></tr><tr><td>&quot;b8d4c538f6b47a1a692bec6c2f2915…</td><td>&quot;Высокопроизводительные вычисле…</td><td>&quot;-&quot;</td></tr><tr><td>&quot;26e72efe2995eb032a25561b2bf786…</td><td>&quot;Высокопроизводительные вычисле…</td><td>&quot;-&quot;</td></tr><tr><td>&quot;30f3653fc176d54e89ac3179c455c6…</td><td>&quot;Матричные вычисления&quot;</td><td>&quot;-&quot;</td></tr><tr><td>&quot;7f9d0f835bf734ccd4619041c3475c…</td><td>&quot;Statistical Learning Theory&quot;</td><td>&quot;-&quot;</td></tr><tr><td>&quot;fa4860bc719aadedbb00ba027067a8…</td><td>&quot;Высокопроизводительные вычисле…</td><td>&quot;-&quot;</td></tr></tbody></table></div>"
            ]
          },
          "metadata": {},
          "execution_count": 53
        }
      ],
      "source": [
        "students_with_one_course = df_wave_2.filter(pl.col(\"course2\") == \"-\")\n",
        "\n",
        "df_wave_1_updated = df_wave_1.vstack(students_with_one_course)\n",
        "df_wave_1_updated"
      ]
    },
    {
      "cell_type": "code",
      "execution_count": 54,
      "metadata": {
        "id": "XtDD1l_Yf4tt",
        "colab": {
          "base_uri": "https://localhost:8080/",
          "height": 443
        },
        "outputId": "25dd5a90-49c4-43c4-d342-b02f76f1b595"
      },
      "outputs": [
        {
          "output_type": "execute_result",
          "data": {
            "text/plain": [
              "shape: (16, 2)\n",
              "┌─────────────────────────────────┬─────────────────────────────────┐\n",
              "│ id                              ┆ course2                         │\n",
              "│ ---                             ┆ ---                             │\n",
              "│ str                             ┆ str                             │\n",
              "╞═════════════════════════════════╪═════════════════════════════════╡\n",
              "│ c154bbf18efdd4d760e52155eaa879… ┆ Высокопроизводительные вычисле… │\n",
              "│ 7134f24c241836458335aa3abb8d87… ┆ Глубинное обучение в обработке… │\n",
              "│ 492c677be00bb8223ebbaffa3aff25… ┆ Глубинное обучение в обработке… │\n",
              "│ 39cd1820459fdbcc193f9bb0ddb74a… ┆ Statistical Learning Theory     │\n",
              "│ cef24632489091cb8c085688b7d78d… ┆ Анализ неструктурированных дан… │\n",
              "│ …                               ┆ …                               │\n",
              "│ d40cbae8cfc9e6c5d05831ef7e122f… ┆ Анализ неструктурированных дан… │\n",
              "│ de539be8b29b3afa002184e28d63c6… ┆ Глубинное обучение в обработке… │\n",
              "│ 79d14db48e4737af731960ae212d51… ┆ Анализ неструктурированных дан… │\n",
              "│ bba51e2f648cb3323b96858a404dac… ┆ Анализ неструктурированных дан… │\n",
              "│ eb1d7205d913319ef3d48e07198398… ┆ Statistical Learning Theory     │\n",
              "└─────────────────────────────────┴─────────────────────────────────┘"
            ],
            "text/html": [
              "<div><style>\n",
              ".dataframe > thead > tr,\n",
              ".dataframe > tbody > tr {\n",
              "  text-align: right;\n",
              "  white-space: pre-wrap;\n",
              "}\n",
              "</style>\n",
              "<small>shape: (16, 2)</small><table border=\"1\" class=\"dataframe\"><thead><tr><th>id</th><th>course2</th></tr><tr><td>str</td><td>str</td></tr></thead><tbody><tr><td>&quot;c154bbf18efdd4d760e52155eaa879…</td><td>&quot;Высокопроизводительные вычисле…</td></tr><tr><td>&quot;7134f24c241836458335aa3abb8d87…</td><td>&quot;Глубинное обучение в обработке…</td></tr><tr><td>&quot;492c677be00bb8223ebbaffa3aff25…</td><td>&quot;Глубинное обучение в обработке…</td></tr><tr><td>&quot;39cd1820459fdbcc193f9bb0ddb74a…</td><td>&quot;Statistical Learning Theory&quot;</td></tr><tr><td>&quot;cef24632489091cb8c085688b7d78d…</td><td>&quot;Анализ неструктурированных дан…</td></tr><tr><td>&hellip;</td><td>&hellip;</td></tr><tr><td>&quot;d40cbae8cfc9e6c5d05831ef7e122f…</td><td>&quot;Анализ неструктурированных дан…</td></tr><tr><td>&quot;de539be8b29b3afa002184e28d63c6…</td><td>&quot;Глубинное обучение в обработке…</td></tr><tr><td>&quot;79d14db48e4737af731960ae212d51…</td><td>&quot;Анализ неструктурированных дан…</td></tr><tr><td>&quot;bba51e2f648cb3323b96858a404dac…</td><td>&quot;Анализ неструктурированных дан…</td></tr><tr><td>&quot;eb1d7205d913319ef3d48e07198398…</td><td>&quot;Statistical Learning Theory&quot;</td></tr></tbody></table></div>"
            ]
          },
          "metadata": {},
          "execution_count": 54
        }
      ],
      "source": [
        "students_with_missing_course1 = df_wave_2.filter(pl.col(\"course1\") == \"???\")\n",
        "students_with_missing_course1 = students_with_missing_course1.drop(\"course1\")\n",
        "students_with_missing_course1"
      ]
    },
    {
      "cell_type": "code",
      "execution_count": 55,
      "metadata": {
        "id": "E_093N91hUqX",
        "colab": {
          "base_uri": "https://localhost:8080/",
          "height": 443
        },
        "outputId": "5ff573b5-bff0-40c0-f0d3-e5c38b622dda"
      },
      "outputs": [
        {
          "output_type": "execute_result",
          "data": {
            "text/plain": [
              "shape: (304, 3)\n",
              "┌──────────────────────────────────┬─────────────────────────────┬─────────────────────────────────┐\n",
              "│ id                               ┆ course1                     ┆ course2                         │\n",
              "│ ---                              ┆ ---                         ┆ ---                             │\n",
              "│ str                              ┆ str                         ┆ str                             │\n",
              "╞══════════════════════════════════╪═════════════════════════════╪═════════════════════════════════╡\n",
              "│ b65194fec33b2358296f74f6d948ef…  ┆ Высокопроизводительные      ┆ -                               │\n",
              "│                                  ┆ вычисле…                    ┆                                 │\n",
              "│ 1b7e1b30238f393811a2b48c6f6a06…  ┆ Высокопроизводительные      ┆ -                               │\n",
              "│                                  ┆ вычисле…                    ┆                                 │\n",
              "│ 573e2218c3fe3ffc1894edc12432d3…  ┆ Statistical Learning Theory ┆ Анализ неструктурированных дан… │\n",
              "│ 1386d00c9c8229c2be3c0956949ee1…  ┆ Statistical Learning Theory ┆ -                               │\n",
              "│ 0f114e98d9f732aa51db34f687db26…  ┆ Матричные вычисления        ┆ -                               │\n",
              "│ …                                ┆ …                           ┆ …                               │\n",
              "│ b8d4c538f6b47a1a692bec6c2f2915…  ┆ Высокопроизводительные      ┆ -                               │\n",
              "│                                  ┆ вычисле…                    ┆                                 │\n",
              "│ 26e72efe2995eb032a25561b2bf786…  ┆ Высокопроизводительные      ┆ -                               │\n",
              "│                                  ┆ вычисле…                    ┆                                 │\n",
              "│ 30f3653fc176d54e89ac3179c455c6…  ┆ Матричные вычисления        ┆ -                               │\n",
              "│ 7f9d0f835bf734ccd4619041c3475c…  ┆ Statistical Learning Theory ┆ -                               │\n",
              "│ fa4860bc719aadedbb00ba027067a8…  ┆ Высокопроизводительные      ┆ -                               │\n",
              "│                                  ┆ вычисле…                    ┆                                 │\n",
              "└──────────────────────────────────┴─────────────────────────────┴─────────────────────────────────┘"
            ],
            "text/html": [
              "<div><style>\n",
              ".dataframe > thead > tr,\n",
              ".dataframe > tbody > tr {\n",
              "  text-align: right;\n",
              "  white-space: pre-wrap;\n",
              "}\n",
              "</style>\n",
              "<small>shape: (304, 3)</small><table border=\"1\" class=\"dataframe\"><thead><tr><th>id</th><th>course1</th><th>course2</th></tr><tr><td>str</td><td>str</td><td>str</td></tr></thead><tbody><tr><td>&quot;b65194fec33b2358296f74f6d948ef…</td><td>&quot;Высокопроизводительные вычисле…</td><td>&quot;-&quot;</td></tr><tr><td>&quot;1b7e1b30238f393811a2b48c6f6a06…</td><td>&quot;Высокопроизводительные вычисле…</td><td>&quot;-&quot;</td></tr><tr><td>&quot;573e2218c3fe3ffc1894edc12432d3…</td><td>&quot;Statistical Learning Theory&quot;</td><td>&quot;Анализ неструктурированных дан…</td></tr><tr><td>&quot;1386d00c9c8229c2be3c0956949ee1…</td><td>&quot;Statistical Learning Theory&quot;</td><td>&quot;-&quot;</td></tr><tr><td>&quot;0f114e98d9f732aa51db34f687db26…</td><td>&quot;Матричные вычисления&quot;</td><td>&quot;-&quot;</td></tr><tr><td>&hellip;</td><td>&hellip;</td><td>&hellip;</td></tr><tr><td>&quot;b8d4c538f6b47a1a692bec6c2f2915…</td><td>&quot;Высокопроизводительные вычисле…</td><td>&quot;-&quot;</td></tr><tr><td>&quot;26e72efe2995eb032a25561b2bf786…</td><td>&quot;Высокопроизводительные вычисле…</td><td>&quot;-&quot;</td></tr><tr><td>&quot;30f3653fc176d54e89ac3179c455c6…</td><td>&quot;Матричные вычисления&quot;</td><td>&quot;-&quot;</td></tr><tr><td>&quot;7f9d0f835bf734ccd4619041c3475c…</td><td>&quot;Statistical Learning Theory&quot;</td><td>&quot;-&quot;</td></tr><tr><td>&quot;fa4860bc719aadedbb00ba027067a8…</td><td>&quot;Высокопроизводительные вычисле…</td><td>&quot;-&quot;</td></tr></tbody></table></div>"
            ]
          },
          "metadata": {},
          "execution_count": 55
        }
      ],
      "source": [
        "df_wave_1_updated = df_wave_1_updated.join(\n",
        "    students_with_missing_course1,\n",
        "    on=\"id\",\n",
        "    how=\"left\",\n",
        "    suffix=\"_new\"\n",
        ")\n",
        "\n",
        "df_wave_1_updated = df_wave_1_updated.with_columns([\n",
        "    pl.when(pl.col(\"course2\") == \"???\")\n",
        "      .then(pl.col(\"course2_new\"))\n",
        "      .otherwise(pl.col(\"course2\"))\n",
        "      .alias(\"course2\")\n",
        "])\n",
        "\n",
        "df_wave_1_updated = df_wave_1_updated.drop(\"course2_new\")\n",
        "\n",
        "df_wave_1_updated = df_wave_1_updated.with_columns([\n",
        "    pl.col(\"course2\").fill_null(\"???\").alias(\"course2\")\n",
        "])\n",
        "\n",
        "df_wave_1_updated"
      ]
    },
    {
      "cell_type": "markdown",
      "metadata": {
        "id": "Yyj6N2jJxFGT"
      },
      "source": [
        "Теперь добавим в df_wave_1_updated тех студентов, которые по результатам второй волны полпали на один кпв, а на второй так и не попали"
      ]
    },
    {
      "cell_type": "code",
      "execution_count": 56,
      "metadata": {
        "id": "cyd1b9EFzsPs",
        "colab": {
          "base_uri": "https://localhost:8080/",
          "height": 129
        },
        "outputId": "1cc58414-b62e-4d3f-c819-916cecab0d1a"
      },
      "outputs": [
        {
          "output_type": "execute_result",
          "data": {
            "text/plain": [
              "shape: (1, 1)\n",
              "┌─────────────────────────────────┐\n",
              "│ id                              │\n",
              "│ ---                             │\n",
              "│ str                             │\n",
              "╞═════════════════════════════════╡\n",
              "│ d40cbae8cfc9e6c5d05831ef7e122f… │\n",
              "└─────────────────────────────────┘"
            ],
            "text/html": [
              "<div><style>\n",
              ".dataframe > thead > tr,\n",
              ".dataframe > tbody > tr {\n",
              "  text-align: right;\n",
              "  white-space: pre-wrap;\n",
              "}\n",
              "</style>\n",
              "<small>shape: (1, 1)</small><table border=\"1\" class=\"dataframe\"><thead><tr><th>id</th></tr><tr><td>str</td></tr></thead><tbody><tr><td>&quot;d40cbae8cfc9e6c5d05831ef7e122f…</td></tr></tbody></table></div>"
            ]
          },
          "metadata": {},
          "execution_count": 56
        }
      ],
      "source": [
        "missing_students = students_with_missing_course1.filter(~pl.col(\"id\").is_in(df_wave_1_updated[\"id\"]))\n",
        "\n",
        "missing_student_ids = missing_students.select(\"id\")\n",
        "missing_student_ids"
      ]
    },
    {
      "cell_type": "code",
      "execution_count": 57,
      "metadata": {
        "id": "MVuGCO0Ezkhr",
        "colab": {
          "base_uri": "https://localhost:8080/",
          "height": 443
        },
        "outputId": "56ae14cc-8920-49e3-e1f8-1828e0cfe4c4"
      },
      "outputs": [
        {
          "output_type": "execute_result",
          "data": {
            "text/plain": [
              "shape: (305, 3)\n",
              "┌──────────────────────────────────┬─────────────────────────────┬─────────────────────────────────┐\n",
              "│ id                               ┆ course1                     ┆ course2                         │\n",
              "│ ---                              ┆ ---                         ┆ ---                             │\n",
              "│ str                              ┆ str                         ┆ str                             │\n",
              "╞══════════════════════════════════╪═════════════════════════════╪═════════════════════════════════╡\n",
              "│ b65194fec33b2358296f74f6d948ef…  ┆ Высокопроизводительные      ┆ -                               │\n",
              "│                                  ┆ вычисле…                    ┆                                 │\n",
              "│ 1b7e1b30238f393811a2b48c6f6a06…  ┆ Высокопроизводительные      ┆ -                               │\n",
              "│                                  ┆ вычисле…                    ┆                                 │\n",
              "│ 573e2218c3fe3ffc1894edc12432d3…  ┆ Statistical Learning Theory ┆ Анализ неструктурированных дан… │\n",
              "│ 1386d00c9c8229c2be3c0956949ee1…  ┆ Statistical Learning Theory ┆ -                               │\n",
              "│ 0f114e98d9f732aa51db34f687db26…  ┆ Матричные вычисления        ┆ -                               │\n",
              "│ …                                ┆ …                           ┆ …                               │\n",
              "│ 26e72efe2995eb032a25561b2bf786…  ┆ Высокопроизводительные      ┆ -                               │\n",
              "│                                  ┆ вычисле…                    ┆                                 │\n",
              "│ 30f3653fc176d54e89ac3179c455c6…  ┆ Матричные вычисления        ┆ -                               │\n",
              "│ 7f9d0f835bf734ccd4619041c3475c…  ┆ Statistical Learning Theory ┆ -                               │\n",
              "│ fa4860bc719aadedbb00ba027067a8…  ┆ Высокопроизводительные      ┆ -                               │\n",
              "│                                  ┆ вычисле…                    ┆                                 │\n",
              "│ d40cbae8cfc9e6c5d05831ef7e122f…  ┆ ???                         ┆ Анализ неструктурированных дан… │\n",
              "└──────────────────────────────────┴─────────────────────────────┴─────────────────────────────────┘"
            ],
            "text/html": [
              "<div><style>\n",
              ".dataframe > thead > tr,\n",
              ".dataframe > tbody > tr {\n",
              "  text-align: right;\n",
              "  white-space: pre-wrap;\n",
              "}\n",
              "</style>\n",
              "<small>shape: (305, 3)</small><table border=\"1\" class=\"dataframe\"><thead><tr><th>id</th><th>course1</th><th>course2</th></tr><tr><td>str</td><td>str</td><td>str</td></tr></thead><tbody><tr><td>&quot;b65194fec33b2358296f74f6d948ef…</td><td>&quot;Высокопроизводительные вычисле…</td><td>&quot;-&quot;</td></tr><tr><td>&quot;1b7e1b30238f393811a2b48c6f6a06…</td><td>&quot;Высокопроизводительные вычисле…</td><td>&quot;-&quot;</td></tr><tr><td>&quot;573e2218c3fe3ffc1894edc12432d3…</td><td>&quot;Statistical Learning Theory&quot;</td><td>&quot;Анализ неструктурированных дан…</td></tr><tr><td>&quot;1386d00c9c8229c2be3c0956949ee1…</td><td>&quot;Statistical Learning Theory&quot;</td><td>&quot;-&quot;</td></tr><tr><td>&quot;0f114e98d9f732aa51db34f687db26…</td><td>&quot;Матричные вычисления&quot;</td><td>&quot;-&quot;</td></tr><tr><td>&hellip;</td><td>&hellip;</td><td>&hellip;</td></tr><tr><td>&quot;26e72efe2995eb032a25561b2bf786…</td><td>&quot;Высокопроизводительные вычисле…</td><td>&quot;-&quot;</td></tr><tr><td>&quot;30f3653fc176d54e89ac3179c455c6…</td><td>&quot;Матричные вычисления&quot;</td><td>&quot;-&quot;</td></tr><tr><td>&quot;7f9d0f835bf734ccd4619041c3475c…</td><td>&quot;Statistical Learning Theory&quot;</td><td>&quot;-&quot;</td></tr><tr><td>&quot;fa4860bc719aadedbb00ba027067a8…</td><td>&quot;Высокопроизводительные вычисле…</td><td>&quot;-&quot;</td></tr><tr><td>&quot;d40cbae8cfc9e6c5d05831ef7e122f…</td><td>&quot;???&quot;</td><td>&quot;Анализ неструктурированных дан…</td></tr></tbody></table></div>"
            ]
          },
          "metadata": {},
          "execution_count": 57
        }
      ],
      "source": [
        "new_students_wave_2 = missing_students.select([\"id\", \"course2\"]).with_columns([\n",
        "    pl.lit(\"???\").alias(\"course1\")\n",
        "])\n",
        "\n",
        "new_students_wave_2 = new_students_wave_2.select([\"id\", \"course1\", \"course2\"])\n",
        "\n",
        "df_wave_1_updated = df_wave_1_updated.vstack(new_students_wave_2)\n",
        "df_wave_1_updated"
      ]
    },
    {
      "cell_type": "markdown",
      "metadata": {
        "id": "DaEYG3x48f4l"
      },
      "source": [
        "Во вторую волну попал студент, который указал два одинаковых курса в первом и третьем приоритете. Во второй волне он прошел на курс второго приоритета"
      ]
    },
    {
      "cell_type": "markdown",
      "metadata": {
        "id": "18dREneQ64n0"
      },
      "source": [
        "**Третья волна**"
      ]
    },
    {
      "cell_type": "code",
      "execution_count": 58,
      "metadata": {
        "id": "Azwyotn679Uc",
        "colab": {
          "base_uri": "https://localhost:8080/",
          "height": 932
        },
        "outputId": "a2c58bf6-9a8b-48f9-8a78-453142e2b2c0"
      },
      "outputs": [
        {
          "output_type": "execute_result",
          "data": {
            "text/plain": [
              "shape: (42, 18)\n",
              "┌────────────┬────────────┬────────┬──────────┬───┬─────────┬────────────┬────────────┬────────────┐\n",
              "│ timestamp  ┆ id         ┆ rating ┆ 18_group ┆ … ┆ blended ┆ is_ml_stud ┆ date       ┆ Количество │\n",
              "│ ---        ┆ ---        ┆ ---    ┆ ---      ┆   ┆ ---     ┆ ent        ┆ ---        ┆ осенних    │\n",
              "│ str        ┆ str        ┆ i64    ┆ i64      ┆   ┆ str     ┆ ---        ┆ date       ┆ КПВ        │\n",
              "│            ┆            ┆        ┆          ┆   ┆         ┆ bool       ┆            ┆ ---        │\n",
              "│            ┆            ┆        ┆          ┆   ┆         ┆            ┆            ┆ i32        │\n",
              "╞════════════╪════════════╪════════╪══════════╪═══╪═════════╪════════════╪════════════╪════════════╡\n",
              "│ 2020-05-19 ┆ b5548f676f ┆ 583    ┆ 188      ┆ … ┆         ┆ false      ┆ 2020-05-19 ┆ 1          │\n",
              "│ 01:06:33   ┆ bdd51ea08b ┆        ┆          ┆   ┆         ┆            ┆            ┆            │\n",
              "│            ┆ 8c3cc6c811 ┆        ┆          ┆   ┆         ┆            ┆            ┆            │\n",
              "│            ┆ …          ┆        ┆          ┆   ┆         ┆            ┆            ┆            │\n",
              "│ 2020-05-18 ┆ 635e9ca4fc ┆ 555    ┆ 186      ┆ … ┆         ┆ true       ┆ 2020-05-18 ┆ 1          │\n",
              "│ 16:11:14   ┆ f26a2bd38b ┆        ┆          ┆   ┆         ┆            ┆            ┆            │\n",
              "│            ┆ 8488a8edfc ┆        ┆          ┆   ┆         ┆            ┆            ┆            │\n",
              "│            ┆ …          ┆        ┆          ┆   ┆         ┆            ┆            ┆            │\n",
              "│ 2020-05-18 ┆ 86c24daaa6 ┆ 530    ┆ 184      ┆ … ┆         ┆ false      ┆ 2020-05-18 ┆ 1          │\n",
              "│ 23:35:28   ┆ 2246142d46 ┆        ┆          ┆   ┆         ┆            ┆            ┆            │\n",
              "│            ┆ ee58534a65 ┆        ┆          ┆   ┆         ┆            ┆            ┆            │\n",
              "│            ┆ …          ┆        ┆          ┆   ┆         ┆            ┆            ┆            │\n",
              "│ 2020-05-18 ┆ 2b0d7dd550 ┆ 619    ┆ 185      ┆ … ┆         ┆ false      ┆ 2020-05-18 ┆ 1          │\n",
              "│ 20:26:39   ┆ bcca4c586c ┆        ┆          ┆   ┆         ┆            ┆            ┆            │\n",
              "│            ┆ bb27d8478a ┆        ┆          ┆   ┆         ┆            ┆            ┆            │\n",
              "│            ┆ …          ┆        ┆          ┆   ┆         ┆            ┆            ┆            │\n",
              "│ 2020-05-14 ┆ 253bbe1a20 ┆ 1106   ┆ 0        ┆ … ┆ DevOps  ┆ false      ┆ 2020-05-14 ┆ 1          │\n",
              "│ 20:47:13   ┆ 21d0404712 ┆        ┆          ┆   ┆         ┆            ┆            ┆            │\n",
              "│            ┆ a1e4acd229 ┆        ┆          ┆   ┆         ┆            ┆            ┆            │\n",
              "│            ┆ …          ┆        ┆          ┆   ┆         ┆            ┆            ┆            │\n",
              "│ …          ┆ …          ┆ …      ┆ …        ┆ … ┆ …       ┆ …          ┆ …          ┆ …          │\n",
              "│ 2020-05-17 ┆ 323f162a5c ┆ 605    ┆ 188      ┆ … ┆         ┆ false      ┆ 2020-05-17 ┆ 1          │\n",
              "│ 17:40:31   ┆ ad5f11e84b ┆        ┆          ┆   ┆         ┆            ┆            ┆            │\n",
              "│            ┆ f294dd7319 ┆        ┆          ┆   ┆         ┆            ┆            ┆            │\n",
              "│            ┆ …          ┆        ┆          ┆   ┆         ┆            ┆            ┆            │\n",
              "│ 2020-05-18 ┆ 1c1623a037 ┆ 595    ┆ 187      ┆ … ┆         ┆ false      ┆ 2020-05-18 ┆ 1          │\n",
              "│ 19:35:49   ┆ bd523d6872 ┆        ┆          ┆   ┆         ┆            ┆            ┆            │\n",
              "│            ┆ 45e6060e6c ┆        ┆          ┆   ┆         ┆            ┆            ┆            │\n",
              "│            ┆ …          ┆        ┆          ┆   ┆         ┆            ┆            ┆            │\n",
              "│ 2020-05-18 ┆ cabc5ea85c ┆ 686    ┆ 182      ┆ … ┆         ┆ true       ┆ 2020-05-18 ┆ 1          │\n",
              "│ 21:53:48   ┆ ac3029dc2a ┆        ┆          ┆   ┆         ┆            ┆            ┆            │\n",
              "│            ┆ ecc4955f9c ┆        ┆          ┆   ┆         ┆            ┆            ┆            │\n",
              "│            ┆ …          ┆        ┆          ┆   ┆         ┆            ┆            ┆            │\n",
              "│ 2020-05-18 ┆ a6ce02b125 ┆ 597    ┆ 185      ┆ … ┆         ┆ false      ┆ 2020-05-18 ┆ 1          │\n",
              "│ 21:15:58   ┆ 40bca3cdd1 ┆        ┆          ┆   ┆         ┆            ┆            ┆            │\n",
              "│            ┆ 5757f8a2e9 ┆        ┆          ┆   ┆         ┆            ┆            ┆            │\n",
              "│            ┆ …          ┆        ┆          ┆   ┆         ┆            ┆            ┆            │\n",
              "│ 2020-05-18 ┆ f5d9f99cb8 ┆ 516    ┆ 187      ┆ … ┆         ┆ false      ┆ 2020-05-18 ┆ 1          │\n",
              "│ 19:36:51   ┆ 76ca0888d1 ┆        ┆          ┆   ┆         ┆            ┆            ┆            │\n",
              "│            ┆ 8b6e444fa1 ┆        ┆          ┆   ┆         ┆            ┆            ┆            │\n",
              "│            ┆ …          ┆        ┆          ┆   ┆         ┆            ┆            ┆            │\n",
              "└────────────┴────────────┴────────┴──────────┴───┴─────────┴────────────┴────────────┴────────────┘"
            ],
            "text/html": [
              "<div><style>\n",
              ".dataframe > thead > tr,\n",
              ".dataframe > tbody > tr {\n",
              "  text-align: right;\n",
              "  white-space: pre-wrap;\n",
              "}\n",
              "</style>\n",
              "<small>shape: (42, 18)</small><table border=\"1\" class=\"dataframe\"><thead><tr><th>timestamp</th><th>id</th><th>rating</th><th>18_group</th><th>is_mi</th><th>fall_1</th><th>fall_2</th><th>fall_3</th><th>spring_1</th><th>spring_2</th><th>spring_3</th><th>is_first_time</th><th>percentile</th><th>17_group</th><th>blended</th><th>is_ml_student</th><th>date</th><th>Количество осенних КПВ</th></tr><tr><td>str</td><td>str</td><td>i64</td><td>i64</td><td>i64</td><td>str</td><td>str</td><td>str</td><td>str</td><td>str</td><td>str</td><td>str</td><td>f64</td><td>str</td><td>str</td><td>bool</td><td>date</td><td>i32</td></tr></thead><tbody><tr><td>&quot;2020-05-19 01:06:33&quot;</td><td>&quot;b5548f676fbdd51ea08b8c3cc6c811…</td><td>583</td><td>188</td><td>0</td><td>&quot;Безопасность компьютерных сист…</td><td>&quot;Сбор и обработка данных с помо…</td><td>&quot;Язык SQL&quot;</td><td>&quot;Компьютерные сети&quot;</td><td>&quot;Системы баз данных&quot;</td><td>&quot;Системы баз данных&quot;</td><td>&quot;Да&quot;</td><td>0.726457</td><td>&quot;&quot;</td><td>&quot;&quot;</td><td>false</td><td>2020-05-19</td><td>1</td></tr><tr><td>&quot;2020-05-18 16:11:14&quot;</td><td>&quot;635e9ca4fcf26a2bd38b8488a8edfc…</td><td>555</td><td>186</td><td>0</td><td>&quot;Сбор и обработка данных с помо…</td><td>&quot;Безопасность компьютерных сист…</td><td>&quot;Язык SQL&quot;</td><td>&quot;Дополнительные главы прикладно…</td><td>&quot;Системы баз данных&quot;</td><td>&quot;Компьютерные сети&quot;</td><td>&quot;Да&quot;</td><td>0.847534</td><td>&quot;&quot;</td><td>&quot;&quot;</td><td>true</td><td>2020-05-18</td><td>1</td></tr><tr><td>&quot;2020-05-18 23:35:28&quot;</td><td>&quot;86c24daaa62246142d46ee58534a65…</td><td>530</td><td>184</td><td>0</td><td>&quot;Сбор и обработка данных с помо…</td><td>&quot;Моделирование временных рядов&quot;</td><td>&quot;Теория баз данных&quot;</td><td>&quot;Анализ данных в бизнесе&quot;</td><td>&quot;Численные методы&quot;</td><td>&quot;Системы баз данных&quot;</td><td>&quot;Нет&quot;</td><td>0.939462</td><td>&quot;&quot;</td><td>&quot;&quot;</td><td>false</td><td>2020-05-18</td><td>1</td></tr><tr><td>&quot;2020-05-18 20:26:39&quot;</td><td>&quot;2b0d7dd550bcca4c586cbb27d8478a…</td><td>619</td><td>185</td><td>0</td><td>&quot;Безопасность компьютерных сист…</td><td>&quot;Сбор и обработка данных с помо…</td><td>&quot;Матричные вычисления&quot;</td><td>&quot;Компьютерные сети&quot;</td><td>&quot;Промышленное программирование …</td><td>&quot;Анализ данных в бизнесе&quot;</td><td>&quot;Да&quot;</td><td>0.560538</td><td>&quot;&quot;</td><td>&quot;&quot;</td><td>false</td><td>2020-05-18</td><td>1</td></tr><tr><td>&quot;2020-05-14 20:47:13&quot;</td><td>&quot;253bbe1a2021d0404712a1e4acd229…</td><td>1106</td><td>0</td><td>0</td><td>&quot;Безопасность компьютерных сист…</td><td>&quot;Моделирование временных рядов&quot;</td><td>&quot;Statistical Learning Theory&quot;</td><td>&quot;Проектирование и разработка вы…</td><td>&quot;Численные методы&quot;</td><td>&quot;Методы сжатия и передачи медиа…</td><td>&quot;Да&quot;</td><td>0.673913</td><td>&quot;176&quot;</td><td>&quot;DevOps&quot;</td><td>false</td><td>2020-05-14</td><td>1</td></tr><tr><td>&hellip;</td><td>&hellip;</td><td>&hellip;</td><td>&hellip;</td><td>&hellip;</td><td>&hellip;</td><td>&hellip;</td><td>&hellip;</td><td>&hellip;</td><td>&hellip;</td><td>&hellip;</td><td>&hellip;</td><td>&hellip;</td><td>&hellip;</td><td>&hellip;</td><td>&hellip;</td><td>&hellip;</td><td>&hellip;</td></tr><tr><td>&quot;2020-05-17 17:40:31&quot;</td><td>&quot;323f162a5cad5f11e84bf294dd7319…</td><td>605</td><td>188</td><td>0</td><td>&quot;Безопасность компьютерных сист…</td><td>&quot;Сбор и обработка данных с помо…</td><td>&quot;Язык SQL&quot;</td><td>&quot;Машинное обучение 2&quot;</td><td>&quot;Анализ данных в бизнесе&quot;</td><td>&quot;Компьютерные сети&quot;</td><td>&quot;Да&quot;</td><td>0.627803</td><td>&quot;&quot;</td><td>&quot;&quot;</td><td>false</td><td>2020-05-17</td><td>1</td></tr><tr><td>&quot;2020-05-18 19:35:49&quot;</td><td>&quot;1c1623a037bd523d687245e6060e6c…</td><td>595</td><td>187</td><td>0</td><td>&quot;Сбор и обработка данных с помо…</td><td>&quot;Язык SQL&quot;</td><td>&quot;Теория баз данных&quot;</td><td>&quot;Промышленное программирование …</td><td>&quot;Машинное обучение 2&quot;</td><td>&quot;Компьютерные сети&quot;</td><td>&quot;Да&quot;</td><td>0.672646</td><td>&quot;&quot;</td><td>&quot;&quot;</td><td>false</td><td>2020-05-18</td><td>1</td></tr><tr><td>&quot;2020-05-18 21:53:48&quot;</td><td>&quot;cabc5ea85cac3029dc2aecc4955f9c…</td><td>686</td><td>182</td><td>0</td><td>&quot;Безопасность компьютерных сист…</td><td>&quot;Сбор и обработка данных с помо…</td><td>&quot;Язык SQL&quot;</td><td>&quot;Дискретная оптимизация&quot;</td><td>&quot;Промышленное программирование …</td><td>&quot;Компьютерные сети&quot;</td><td>&quot;Да&quot;</td><td>0.242152</td><td>&quot;&quot;</td><td>&quot;&quot;</td><td>true</td><td>2020-05-18</td><td>1</td></tr><tr><td>&quot;2020-05-18 21:15:58&quot;</td><td>&quot;a6ce02b12540bca3cdd15757f8a2e9…</td><td>597</td><td>185</td><td>0</td><td>&quot;Безопасность компьютерных сист…</td><td>&quot;Сбор и обработка данных с помо…</td><td>&quot;Матричные вычисления&quot;</td><td>&quot;Компьютерные сети&quot;</td><td>&quot;Промышленное программирование …</td><td>&quot;Анализ данных в бизнесе&quot;</td><td>&quot;Да&quot;</td><td>0.663677</td><td>&quot;&quot;</td><td>&quot;&quot;</td><td>false</td><td>2020-05-18</td><td>1</td></tr><tr><td>&quot;2020-05-18 19:36:51&quot;</td><td>&quot;f5d9f99cb876ca0888d18b6e444fa1…</td><td>516</td><td>187</td><td>0</td><td>&quot;Сбор и обработка данных с помо…</td><td>&quot;Язык SQL&quot;</td><td>&quot;Теория баз данных&quot;</td><td>&quot;Промышленное программирование …</td><td>&quot;Машинное обучение 2&quot;</td><td>&quot;Компьютерные сети&quot;</td><td>&quot;Нет&quot;</td><td>0.982063</td><td>&quot;&quot;</td><td>&quot;&quot;</td><td>false</td><td>2020-05-18</td><td>1</td></tr></tbody></table></div>"
            ]
          },
          "metadata": {},
          "execution_count": 58
        }
      ],
      "source": [
        "df_without_wave_2 = df.filter(~pl.col(\"id\").is_in(df_wave_1_updated[\"id\"]))\n",
        "df_without_wave_2"
      ]
    },
    {
      "cell_type": "code",
      "execution_count": 59,
      "metadata": {
        "id": "XfTL0X4CyFJE",
        "colab": {
          "base_uri": "https://localhost:8080/",
          "height": 499
        },
        "outputId": "5ff7d403-74aa-40bc-d4ac-14c28f7aa565"
      },
      "outputs": [
        {
          "output_type": "stream",
          "name": "stderr",
          "text": [
            "<ipython-input-59-17e97fa46f98>:6: DeprecationWarning: `DataFrame.melt` is deprecated. Use `unpivot` instead, with `index` instead of `id_vars` and `on` instead of `value_vars`\n",
            "  courses_df = courses_df.melt(id_vars=None, value_vars=[\"course1\", \"course2\"], value_name=\"Курсы\")\n"
          ]
        },
        {
          "output_type": "execute_result",
          "data": {
            "text/plain": [
              "shape: (12, 2)\n",
              "┌─────────────────────────────────┬─────────────────────────────────┐\n",
              "│ Курсы                           ┆ Количество студентов после дву… │\n",
              "│ ---                             ┆ ---                             │\n",
              "│ str                             ┆ u32                             │\n",
              "╞═════════════════════════════════╪═════════════════════════════════╡\n",
              "│ Матричные вычисления            ┆ 24                              │\n",
              "│ Высокопроизводительные вычисле… ┆ 60                              │\n",
              "│ Анализ неструктурированных дан… ┆ 53                              │\n",
              "│ Принятие решений в условиях ри… ┆ 9                               │\n",
              "│ Язык SQL                        ┆ 30                              │\n",
              "│ …                               ┆ …                               │\n",
              "│ Глубинное обучение в обработке… ┆ 30                              │\n",
              "│ Теория баз данных               ┆ 18                              │\n",
              "│ Байесовские методы машинного о… ┆ 25                              │\n",
              "│ Сбор и обработка данных с помо… ┆ 30                              │\n",
              "│ Statistical Learning Theory     ┆ 41                              │\n",
              "└─────────────────────────────────┴─────────────────────────────────┘"
            ],
            "text/html": [
              "<div><style>\n",
              ".dataframe > thead > tr,\n",
              ".dataframe > tbody > tr {\n",
              "  text-align: right;\n",
              "  white-space: pre-wrap;\n",
              "}\n",
              "</style>\n",
              "<small>shape: (12, 2)</small><table border=\"1\" class=\"dataframe\"><thead><tr><th>Курсы</th><th>Количество студентов после двух волн</th></tr><tr><td>str</td><td>u32</td></tr></thead><tbody><tr><td>&quot;Матричные вычисления&quot;</td><td>24</td></tr><tr><td>&quot;Высокопроизводительные вычисле…</td><td>60</td></tr><tr><td>&quot;Анализ неструктурированных дан…</td><td>53</td></tr><tr><td>&quot;Принятие решений в условиях ри…</td><td>9</td></tr><tr><td>&quot;Язык SQL&quot;</td><td>30</td></tr><tr><td>&hellip;</td><td>&hellip;</td></tr><tr><td>&quot;Глубинное обучение в обработке…</td><td>30</td></tr><tr><td>&quot;Теория баз данных&quot;</td><td>18</td></tr><tr><td>&quot;Байесовские методы машинного о…</td><td>25</td></tr><tr><td>&quot;Сбор и обработка данных с помо…</td><td>30</td></tr><tr><td>&quot;Statistical Learning Theory&quot;</td><td>41</td></tr></tbody></table></div>"
            ]
          },
          "metadata": {},
          "execution_count": 59
        }
      ],
      "source": [
        "courses_df = df_wave_1_updated.select([\n",
        "    pl.col(\"course1\").alias(\"course1\"),\n",
        "    pl.col(\"course2\").alias(\"course2\")\n",
        "])\n",
        "\n",
        "courses_df = courses_df.melt(id_vars=None, value_vars=[\"course1\", \"course2\"], value_name=\"Курсы\")\n",
        "\n",
        "courses_df = courses_df.filter((pl.col(\"Курсы\") != \"-\") & (pl.col(\"Курсы\") != \"???\"))\n",
        "\n",
        "course_counts = courses_df.group_by(\"Курсы\").agg(\n",
        "    pl.count(\"Курсы\").alias(\"Количество студентов после двух волн\")\n",
        ")\n",
        "course_counts"
      ]
    },
    {
      "cell_type": "code",
      "execution_count": 60,
      "metadata": {
        "id": "B7Iv_FaA-NQG",
        "colab": {
          "base_uri": "https://localhost:8080/",
          "height": 443
        },
        "outputId": "8d41f89c-19c9-43b2-c5dc-4fb8413336cf"
      },
      "outputs": [
        {
          "output_type": "execute_result",
          "data": {
            "text/plain": [
              "shape: (12, 4)\n",
              "┌─────────────────────────────┬────────────────────────────┬──────────┬────────────────────────────┐\n",
              "│ Курсы                       ┆ Количество студентов после ┆ capacity ┆ Количество свободных мест  │\n",
              "│ ---                         ┆ дву…                       ┆ ---      ┆ на к…                      │\n",
              "│ str                         ┆ ---                        ┆ i64      ┆ ---                        │\n",
              "│                             ┆ u32                        ┆          ┆ i64                        │\n",
              "╞═════════════════════════════╪════════════════════════════╪══════════╪════════════════════════════╡\n",
              "│ Матричные вычисления        ┆ 24                         ┆ 30       ┆ 6                          │\n",
              "│ Высокопроизводительные      ┆ 60                         ┆ 60       ┆ 0                          │\n",
              "│ вычисле…                    ┆                            ┆          ┆                            │\n",
              "│ Анализ неструктурированных  ┆ 53                         ┆ 10000    ┆ 9947                       │\n",
              "│ дан…                        ┆                            ┆          ┆                            │\n",
              "│ Принятие решений в условиях ┆ 9                          ┆ 30       ┆ 21                         │\n",
              "│ ри…                         ┆                            ┆          ┆                            │\n",
              "│ Язык SQL                    ┆ 30                         ┆ 30       ┆ 0                          │\n",
              "│ …                           ┆ …                          ┆ …        ┆ …                          │\n",
              "│ Глубинное обучение в        ┆ 30                         ┆ 30       ┆ 0                          │\n",
              "│ обработке…                  ┆                            ┆          ┆                            │\n",
              "│ Теория баз данных           ┆ 18                         ┆ 30       ┆ 12                         │\n",
              "│ Байесовские методы          ┆ 25                         ┆ 30       ┆ 5                          │\n",
              "│ машинного о…                ┆                            ┆          ┆                            │\n",
              "│ Сбор и обработка данных с   ┆ 30                         ┆ 30       ┆ 0                          │\n",
              "│ помо…                       ┆                            ┆          ┆                            │\n",
              "│ Statistical Learning Theory ┆ 41                         ┆ 60       ┆ 19                         │\n",
              "└─────────────────────────────┴────────────────────────────┴──────────┴────────────────────────────┘"
            ],
            "text/html": [
              "<div><style>\n",
              ".dataframe > thead > tr,\n",
              ".dataframe > tbody > tr {\n",
              "  text-align: right;\n",
              "  white-space: pre-wrap;\n",
              "}\n",
              "</style>\n",
              "<small>shape: (12, 4)</small><table border=\"1\" class=\"dataframe\"><thead><tr><th>Курсы</th><th>Количество студентов после двух волн</th><th>capacity</th><th>Количество свободных мест на курсе</th></tr><tr><td>str</td><td>u32</td><td>i64</td><td>i64</td></tr></thead><tbody><tr><td>&quot;Матричные вычисления&quot;</td><td>24</td><td>30</td><td>6</td></tr><tr><td>&quot;Высокопроизводительные вычисле…</td><td>60</td><td>60</td><td>0</td></tr><tr><td>&quot;Анализ неструктурированных дан…</td><td>53</td><td>10000</td><td>9947</td></tr><tr><td>&quot;Принятие решений в условиях ри…</td><td>9</td><td>30</td><td>21</td></tr><tr><td>&quot;Язык SQL&quot;</td><td>30</td><td>30</td><td>0</td></tr><tr><td>&hellip;</td><td>&hellip;</td><td>&hellip;</td><td>&hellip;</td></tr><tr><td>&quot;Глубинное обучение в обработке…</td><td>30</td><td>30</td><td>0</td></tr><tr><td>&quot;Теория баз данных&quot;</td><td>18</td><td>30</td><td>12</td></tr><tr><td>&quot;Байесовские методы машинного о…</td><td>25</td><td>30</td><td>5</td></tr><tr><td>&quot;Сбор и обработка данных с помо…</td><td>30</td><td>30</td><td>0</td></tr><tr><td>&quot;Statistical Learning Theory&quot;</td><td>41</td><td>60</td><td>19</td></tr></tbody></table></div>"
            ]
          },
          "metadata": {},
          "execution_count": 60
        }
      ],
      "source": [
        "# course1_students_end = df_wave_1_updated.filter(pl.col(\"course2\") != \"???\").group_by(\"course1\").agg([\n",
        "#     pl.count(\"id\").alias(\"количество студентов после второй волны\")\n",
        "# ])\n",
        "\n",
        "# course2_students_end = df_wave_1_updated.filter((pl.col(\"course2\") != \"-\") & (pl.col(\"course2\") != \"???\")).group_by(\"course2\").agg([\n",
        "#     pl.count(\"id\").alias(\"количество студентов после второй волны\")\n",
        "# ])\n",
        "\n",
        "# course1_students_end = course1_students_end.rename({\"course1\": \"Курсы\"})\n",
        "# course2_students_end = course2_students_end.rename({\"course2\": \"Курсы\"})\n",
        "\n",
        "# all_courses_students_end = course1_students_end.vstack(course2_students_end)\n",
        "\n",
        "# all_courses_students_end = all_courses_students_end.filter(pl.col(\"Курсы\") != \"???\")\n",
        "\n",
        "# final_result_end = all_courses_students_end.group_by(\"Курсы\").agg([\n",
        "# #     pl.sum(\"количество студентов после второй волны\").alias(\"Количество студентов после второй волны\")\n",
        "# # ])\n",
        "final_result_end = course_counts.join(course_capacity_df, on=\"Курсы\", how=\"left\")\n",
        "final_result_end = final_result_end.with_columns(\n",
        "    pl.col(\"capacity\").fill_null(30)\n",
        ")\n",
        "\n",
        "final_result_end = final_result_end.with_columns([\n",
        "    (pl.col(\"capacity\")- pl.col(\"Количество студентов после двух волн\")).alias(\"Количество свободных мест на курсе\")\n",
        "])\n",
        "final_result_end"
      ]
    },
    {
      "cell_type": "code",
      "execution_count": 61,
      "metadata": {
        "id": "8R6wI5e5A9hI",
        "colab": {
          "base_uri": "https://localhost:8080/",
          "height": 670
        },
        "outputId": "a2c2dd89-e8a1-47f9-d976-bd5234a01696"
      },
      "outputs": [
        {
          "output_type": "stream",
          "name": "stderr",
          "text": [
            "<ipython-input-61-ba8aa782cfe6>:20: DeprecationWarning: `pl.count()` is deprecated. Please use `pl.len()` instead.\n",
            "  pl.arange(0, pl.count()).over(\"Курсы\").alias(\"student_rank\")\n"
          ]
        },
        {
          "output_type": "execute_result",
          "data": {
            "text/plain": [
              "shape: (42, 7)\n",
              "┌──────────────┬──────────────┬──────────┬──────────────┬──────────────┬────────────┬──────────────┐\n",
              "│ Курсы        ┆ Количество   ┆ capacity ┆ Количество   ┆ id           ┆ Перцентили ┆ student_rank │\n",
              "│ ---          ┆ студентов    ┆ ---      ┆ свободных    ┆ ---          ┆ ---        ┆ ---          │\n",
              "│ str          ┆ после дву…   ┆ i64      ┆ мест на к…   ┆ str          ┆ f64        ┆ i64          │\n",
              "│              ┆ ---          ┆          ┆ ---          ┆              ┆            ┆              │\n",
              "│              ┆ u32          ┆          ┆ i64          ┆              ┆            ┆              │\n",
              "╞══════════════╪══════════════╪══════════╪══════════════╪══════════════╪════════════╪══════════════╡\n",
              "│ Statistical  ┆ 41           ┆ 60       ┆ 19           ┆ 253bbe1a2021 ┆ 0.673913   ┆ 0            │\n",
              "│ Learning     ┆              ┆          ┆              ┆ d0404712a1e4 ┆            ┆              │\n",
              "│ Theory       ┆              ┆          ┆              ┆ acd229…      ┆            ┆              │\n",
              "│ Statistical  ┆ 41           ┆ 60       ┆ 19           ┆ f2ed8115db45 ┆ 0.766816   ┆ 1            │\n",
              "│ Learning     ┆              ┆          ┆              ┆ ef795ced2701 ┆            ┆              │\n",
              "│ Theory       ┆              ┆          ┆              ┆ fa8651…      ┆            ┆              │\n",
              "│ Анализ нестр ┆ 53           ┆ 10000    ┆ 9947         ┆ 8c3aa7371731 ┆ 0.695652   ┆ 0            │\n",
              "│ уктурированн ┆              ┆          ┆              ┆ bef999519c3d ┆            ┆              │\n",
              "│ ых дан…      ┆              ┆          ┆              ┆ e2c474…      ┆            ┆              │\n",
              "│ Анализ нестр ┆ 53           ┆ 10000    ┆ 9947         ┆ 1bbbfae51794 ┆ 0.789855   ┆ 1            │\n",
              "│ уктурированн ┆              ┆          ┆              ┆ b83c769b634b ┆            ┆              │\n",
              "│ ых дан…      ┆              ┆          ┆              ┆ e8da7b…      ┆            ┆              │\n",
              "│ Анализ нестр ┆ 53           ┆ 10000    ┆ 9947         ┆ aeb7bb1e047c ┆ 0.898551   ┆ 2            │\n",
              "│ уктурированн ┆              ┆          ┆              ┆ 392b7e5e3922 ┆            ┆              │\n",
              "│ ых дан…      ┆              ┆          ┆              ┆ 5cd864…      ┆            ┆              │\n",
              "│ …            ┆ …            ┆ …        ┆ …            ┆ …            ┆ …          ┆ …            │\n",
              "│ Язык SQL     ┆ 30           ┆ 30       ┆ 0            ┆ b3e75ee2a708 ┆ 0.829596   ┆ 3            │\n",
              "│              ┆              ┆          ┆              ┆ cef65cc2f80d ┆            ┆              │\n",
              "│              ┆              ┆          ┆              ┆ a894dd…      ┆            ┆              │\n",
              "│ Язык SQL     ┆ 30           ┆ 30       ┆ 0            ┆ 635e9ca4fcf2 ┆ 0.847534   ┆ 4            │\n",
              "│              ┆              ┆          ┆              ┆ 6a2bd38b8488 ┆            ┆              │\n",
              "│              ┆              ┆          ┆              ┆ a8edfc…      ┆            ┆              │\n",
              "│ Язык SQL     ┆ 30           ┆ 30       ┆ 0            ┆ d38ebd0ba564 ┆ 0.883408   ┆ 5            │\n",
              "│              ┆              ┆          ┆              ┆ ea88de8015e1 ┆            ┆              │\n",
              "│              ┆              ┆          ┆              ┆ 16f811…      ┆            ┆              │\n",
              "│ Язык SQL     ┆ 30           ┆ 30       ┆ 0            ┆ 7f8feb54319e ┆ 0.90583    ┆ 6            │\n",
              "│              ┆              ┆          ┆              ┆ 52cb63ad437f ┆            ┆              │\n",
              "│              ┆              ┆          ┆              ┆ 4128a9…      ┆            ┆              │\n",
              "│ Язык SQL     ┆ 30           ┆ 30       ┆ 0            ┆ 9f2384614160 ┆ 0.950673   ┆ 7            │\n",
              "│              ┆              ┆          ┆              ┆ 6a1e26e8e4c2 ┆            ┆              │\n",
              "│              ┆              ┆          ┆              ┆ 8e9a72…      ┆            ┆              │\n",
              "└──────────────┴──────────────┴──────────┴──────────────┴──────────────┴────────────┴──────────────┘"
            ],
            "text/html": [
              "<div><style>\n",
              ".dataframe > thead > tr,\n",
              ".dataframe > tbody > tr {\n",
              "  text-align: right;\n",
              "  white-space: pre-wrap;\n",
              "}\n",
              "</style>\n",
              "<small>shape: (42, 7)</small><table border=\"1\" class=\"dataframe\"><thead><tr><th>Курсы</th><th>Количество студентов после двух волн</th><th>capacity</th><th>Количество свободных мест на курсе</th><th>id</th><th>Перцентили</th><th>student_rank</th></tr><tr><td>str</td><td>u32</td><td>i64</td><td>i64</td><td>str</td><td>f64</td><td>i64</td></tr></thead><tbody><tr><td>&quot;Statistical Learning Theory&quot;</td><td>41</td><td>60</td><td>19</td><td>&quot;253bbe1a2021d0404712a1e4acd229…</td><td>0.673913</td><td>0</td></tr><tr><td>&quot;Statistical Learning Theory&quot;</td><td>41</td><td>60</td><td>19</td><td>&quot;f2ed8115db45ef795ced2701fa8651…</td><td>0.766816</td><td>1</td></tr><tr><td>&quot;Анализ неструктурированных дан…</td><td>53</td><td>10000</td><td>9947</td><td>&quot;8c3aa7371731bef999519c3de2c474…</td><td>0.695652</td><td>0</td></tr><tr><td>&quot;Анализ неструктурированных дан…</td><td>53</td><td>10000</td><td>9947</td><td>&quot;1bbbfae51794b83c769b634be8da7b…</td><td>0.789855</td><td>1</td></tr><tr><td>&quot;Анализ неструктурированных дан…</td><td>53</td><td>10000</td><td>9947</td><td>&quot;aeb7bb1e047c392b7e5e39225cd864…</td><td>0.898551</td><td>2</td></tr><tr><td>&hellip;</td><td>&hellip;</td><td>&hellip;</td><td>&hellip;</td><td>&hellip;</td><td>&hellip;</td><td>&hellip;</td></tr><tr><td>&quot;Язык SQL&quot;</td><td>30</td><td>30</td><td>0</td><td>&quot;b3e75ee2a708cef65cc2f80da894dd…</td><td>0.829596</td><td>3</td></tr><tr><td>&quot;Язык SQL&quot;</td><td>30</td><td>30</td><td>0</td><td>&quot;635e9ca4fcf26a2bd38b8488a8edfc…</td><td>0.847534</td><td>4</td></tr><tr><td>&quot;Язык SQL&quot;</td><td>30</td><td>30</td><td>0</td><td>&quot;d38ebd0ba564ea88de8015e116f811…</td><td>0.883408</td><td>5</td></tr><tr><td>&quot;Язык SQL&quot;</td><td>30</td><td>30</td><td>0</td><td>&quot;7f8feb54319e52cb63ad437f4128a9…</td><td>0.90583</td><td>6</td></tr><tr><td>&quot;Язык SQL&quot;</td><td>30</td><td>30</td><td>0</td><td>&quot;9f23846141606a1e26e8e4c28e9a72…</td><td>0.950673</td><td>7</td></tr></tbody></table></div>"
            ]
          },
          "metadata": {},
          "execution_count": 61
        }
      ],
      "source": [
        "final_result_end = final_result_end.with_columns([\n",
        "    pl.lit(None).alias(\"Студенты\"),\n",
        "    pl.lit(None).alias(\"Перцентили\"),\n",
        "])\n",
        "\n",
        "for course in final_result_end[\"Курсы\"]:\n",
        "\n",
        "    students_fall_4 = df_without_wave_2.filter((pl.col(\"fall_3\") == course) & (pl.col(\"Количество осенних КПВ\") == 1)).select(\"id\")\n",
        "    percentiles_fall_4 = df_without_wave_2.filter((pl.col(\"fall_3\") == course) & (pl.col(\"Количество осенних КПВ\") == 1)).select(\"percentile\")\n",
        "\n",
        "    final_result_end = final_result_end.with_columns([\n",
        "        pl.when(pl.col(\"Курсы\") == course).then(students_fall_4[\"id\"].implode()).otherwise(pl.col(\"Студенты\")).alias(\"Студенты\"),\n",
        "        pl.when(pl.col(\"Курсы\") == course).then(percentiles_fall_4[\"percentile\"].implode()).otherwise(pl.col(\"Перцентили\")).alias(\"Перцентили\")\n",
        "    ])\n",
        "\n",
        "final_result_end = final_result_end.explode([\"Студенты\", \"Перцентили\"])\n",
        "final_result_end = final_result_end.sort([\"Курсы\", \"Перцентили\"], descending=[False, False])\n",
        "\n",
        "final_result_end = final_result_end.with_columns(\n",
        "     pl.arange(0, pl.count()).over(\"Курсы\").alias(\"student_rank\")\n",
        " )\n",
        "final_result_end = final_result_end.filter(pl.col(\"Студенты\").is_not_null())\n",
        "final_result_end = final_result_end.rename({\n",
        "    \"Студенты\": \"id\"\n",
        "})\n",
        "final_result_end"
      ]
    },
    {
      "cell_type": "code",
      "execution_count": 62,
      "metadata": {
        "id": "DukaD0f05Xxl"
      },
      "outputs": [],
      "source": [
        "final_result_end.write_csv(\"final_result_end_null.csv\")"
      ]
    },
    {
      "cell_type": "code",
      "execution_count": 63,
      "metadata": {
        "id": "dBnsFQ4uM6uH",
        "colab": {
          "base_uri": "https://localhost:8080/",
          "height": 443
        },
        "outputId": "d896387b-e337-451f-d4ca-f9c1aa41a8d5"
      },
      "outputs": [
        {
          "output_type": "execute_result",
          "data": {
            "text/plain": [
              "shape: (329, 3)\n",
              "┌──────────────────────────────────┬─────────────────────────────┬─────────────────────────────────┐\n",
              "│ id                               ┆ course1                     ┆ course2                         │\n",
              "│ ---                              ┆ ---                         ┆ ---                             │\n",
              "│ str                              ┆ str                         ┆ str                             │\n",
              "╞══════════════════════════════════╪═════════════════════════════╪═════════════════════════════════╡\n",
              "│ b65194fec33b2358296f74f6d948ef…  ┆ Высокопроизводительные      ┆ -                               │\n",
              "│                                  ┆ вычисле…                    ┆                                 │\n",
              "│ 1b7e1b30238f393811a2b48c6f6a06…  ┆ Высокопроизводительные      ┆ -                               │\n",
              "│                                  ┆ вычисле…                    ┆                                 │\n",
              "│ 573e2218c3fe3ffc1894edc12432d3…  ┆ Statistical Learning Theory ┆ Анализ неструктурированных дан… │\n",
              "│ 1386d00c9c8229c2be3c0956949ee1…  ┆ Statistical Learning Theory ┆ -                               │\n",
              "│ 0f114e98d9f732aa51db34f687db26…  ┆ Матричные вычисления        ┆ -                               │\n",
              "│ …                                ┆ …                           ┆ …                               │\n",
              "│ 07b6ce7fd93bde95ce5fe14a5131a9…  ┆ ???                         ┆ -                               │\n",
              "│ d38ebd0ba564ea88de8015e116f811…  ┆ ???                         ┆ -                               │\n",
              "│ ba4091ee80dd63a042464dbd2a7e33…  ┆ ???                         ┆ -                               │\n",
              "│ 635e9ca4fcf26a2bd38b8488a8edfc…  ┆ ???                         ┆ -                               │\n",
              "│ 9f23846141606a1e26e8e4c28e9a72…  ┆ ???                         ┆ -                               │\n",
              "└──────────────────────────────────┴─────────────────────────────┴─────────────────────────────────┘"
            ],
            "text/html": [
              "<div><style>\n",
              ".dataframe > thead > tr,\n",
              ".dataframe > tbody > tr {\n",
              "  text-align: right;\n",
              "  white-space: pre-wrap;\n",
              "}\n",
              "</style>\n",
              "<small>shape: (329, 3)</small><table border=\"1\" class=\"dataframe\"><thead><tr><th>id</th><th>course1</th><th>course2</th></tr><tr><td>str</td><td>str</td><td>str</td></tr></thead><tbody><tr><td>&quot;b65194fec33b2358296f74f6d948ef…</td><td>&quot;Высокопроизводительные вычисле…</td><td>&quot;-&quot;</td></tr><tr><td>&quot;1b7e1b30238f393811a2b48c6f6a06…</td><td>&quot;Высокопроизводительные вычисле…</td><td>&quot;-&quot;</td></tr><tr><td>&quot;573e2218c3fe3ffc1894edc12432d3…</td><td>&quot;Statistical Learning Theory&quot;</td><td>&quot;Анализ неструктурированных дан…</td></tr><tr><td>&quot;1386d00c9c8229c2be3c0956949ee1…</td><td>&quot;Statistical Learning Theory&quot;</td><td>&quot;-&quot;</td></tr><tr><td>&quot;0f114e98d9f732aa51db34f687db26…</td><td>&quot;Матричные вычисления&quot;</td><td>&quot;-&quot;</td></tr><tr><td>&hellip;</td><td>&hellip;</td><td>&hellip;</td></tr><tr><td>&quot;07b6ce7fd93bde95ce5fe14a5131a9…</td><td>&quot;???&quot;</td><td>&quot;-&quot;</td></tr><tr><td>&quot;d38ebd0ba564ea88de8015e116f811…</td><td>&quot;???&quot;</td><td>&quot;-&quot;</td></tr><tr><td>&quot;ba4091ee80dd63a042464dbd2a7e33…</td><td>&quot;???&quot;</td><td>&quot;-&quot;</td></tr><tr><td>&quot;635e9ca4fcf26a2bd38b8488a8edfc…</td><td>&quot;???&quot;</td><td>&quot;-&quot;</td></tr><tr><td>&quot;9f23846141606a1e26e8e4c28e9a72…</td><td>&quot;???&quot;</td><td>&quot;-&quot;</td></tr></tbody></table></div>"
            ]
          },
          "metadata": {},
          "execution_count": 63
        }
      ],
      "source": [
        "final_result_null = final_result_end.filter(\n",
        "    pl.col(\"student_rank\") >= pl.col(\"Количество свободных мест на курсе\")\n",
        ")\n",
        "\n",
        "new_students_df = final_result_null.filter(~pl.col(\"id\").is_in(df_wave_1_updated[\"id\"])).select(\"id\").unique()\n",
        "\n",
        "new_students_wave_1 = new_students_df.with_columns([\n",
        "    pl.lit(\"???\").alias(\"course1\"),\n",
        "    pl.lit(\"-\").alias(\"course2\")\n",
        "])\n",
        "\n",
        "df_wave_1_updated = df_wave_1_updated.vstack(new_students_wave_1)\n",
        "df_wave_1_updated"
      ]
    },
    {
      "cell_type": "code",
      "execution_count": 64,
      "metadata": {
        "id": "TujmAgKiInn5",
        "colab": {
          "base_uri": "https://localhost:8080/",
          "height": 634
        },
        "outputId": "bbb47d24-7157-4e35-f08e-f54419ca7c10"
      },
      "outputs": [
        {
          "output_type": "execute_result",
          "data": {
            "text/plain": [
              "shape: (18, 8)\n",
              "┌────────────┬────────────┬──────────┬────────────┬────────────┬───────────┬───────────┬───────────┐\n",
              "│ Курсы      ┆ Количество ┆ capacity ┆ Количество ┆ id         ┆ Перцентил ┆ student_r ┆ Количеств │\n",
              "│ ---        ┆ студентов  ┆ ---      ┆ свободных  ┆ ---        ┆ и         ┆ ank       ┆ о осенних │\n",
              "│ str        ┆ после дву… ┆ i64      ┆ мест на к… ┆ str        ┆ ---       ┆ ---       ┆ КПВ       │\n",
              "│            ┆ ---        ┆          ┆ ---        ┆            ┆ f64       ┆ i64       ┆ ---       │\n",
              "│            ┆ u32        ┆          ┆ i64        ┆            ┆           ┆           ┆ i32       │\n",
              "╞════════════╪════════════╪══════════╪════════════╪════════════╪═══════════╪═══════════╪═══════════╡\n",
              "│ Statistica ┆ 41         ┆ 60       ┆ 19         ┆ 253bbe1a20 ┆ 0.673913  ┆ 0         ┆ 1         │\n",
              "│ l Learning ┆            ┆          ┆            ┆ 21d0404712 ┆           ┆           ┆           │\n",
              "│ Theory     ┆            ┆          ┆            ┆ a1e4acd229 ┆           ┆           ┆           │\n",
              "│            ┆            ┆          ┆            ┆ …          ┆           ┆           ┆           │\n",
              "│ Statistica ┆ 41         ┆ 60       ┆ 19         ┆ f2ed8115db ┆ 0.766816  ┆ 1         ┆ 1         │\n",
              "│ l Learning ┆            ┆          ┆            ┆ 45ef795ced ┆           ┆           ┆           │\n",
              "│ Theory     ┆            ┆          ┆            ┆ 2701fa8651 ┆           ┆           ┆           │\n",
              "│            ┆            ┆          ┆            ┆ …          ┆           ┆           ┆           │\n",
              "│ Анализ нес ┆ 53         ┆ 10000    ┆ 9947       ┆ 8c3aa73717 ┆ 0.695652  ┆ 0         ┆ 1         │\n",
              "│ труктуриро ┆            ┆          ┆            ┆ 31bef99951 ┆           ┆           ┆           │\n",
              "│ ванных     ┆            ┆          ┆            ┆ 9c3de2c474 ┆           ┆           ┆           │\n",
              "│ дан…       ┆            ┆          ┆            ┆ …          ┆           ┆           ┆           │\n",
              "│ Анализ нес ┆ 53         ┆ 10000    ┆ 9947       ┆ 1bbbfae517 ┆ 0.789855  ┆ 1         ┆ 1         │\n",
              "│ труктуриро ┆            ┆          ┆            ┆ 94b83c769b ┆           ┆           ┆           │\n",
              "│ ванных     ┆            ┆          ┆            ┆ 634be8da7b ┆           ┆           ┆           │\n",
              "│ дан…       ┆            ┆          ┆            ┆ …          ┆           ┆           ┆           │\n",
              "│ Анализ нес ┆ 53         ┆ 10000    ┆ 9947       ┆ aeb7bb1e04 ┆ 0.898551  ┆ 2         ┆ 1         │\n",
              "│ труктуриро ┆            ┆          ┆            ┆ 7c392b7e5e ┆           ┆           ┆           │\n",
              "│ ванных     ┆            ┆          ┆            ┆ 39225cd864 ┆           ┆           ┆           │\n",
              "│ дан…       ┆            ┆          ┆            ┆ …          ┆           ┆           ┆           │\n",
              "│ …          ┆ …          ┆ …        ┆ …          ┆ …          ┆ …         ┆ …         ┆ …         │\n",
              "│ Теория баз ┆ 18         ┆ 30       ┆ 12         ┆ 1c1623a037 ┆ 0.672646  ┆ 1         ┆ 1         │\n",
              "│ данных     ┆            ┆          ┆            ┆ bd523d6872 ┆           ┆           ┆           │\n",
              "│            ┆            ┆          ┆            ┆ 45e6060e6c ┆           ┆           ┆           │\n",
              "│            ┆            ┆          ┆            ┆ …          ┆           ┆           ┆           │\n",
              "│ Теория баз ┆ 18         ┆ 30       ┆ 12         ┆ 5c49473012 ┆ 0.773543  ┆ 2         ┆ 1         │\n",
              "│ данных     ┆            ┆          ┆            ┆ 411a1eee72 ┆           ┆           ┆           │\n",
              "│            ┆            ┆          ┆            ┆ f8ea63767a ┆           ┆           ┆           │\n",
              "│            ┆            ┆          ┆            ┆ …          ┆           ┆           ┆           │\n",
              "│ Теория баз ┆ 18         ┆ 30       ┆ 12         ┆ 8aa0f1b733 ┆ 0.795964  ┆ 3         ┆ 1         │\n",
              "│ данных     ┆            ┆          ┆            ┆ 1b49464174 ┆           ┆           ┆           │\n",
              "│            ┆            ┆          ┆            ┆ b02cd693be ┆           ┆           ┆           │\n",
              "│            ┆            ┆          ┆            ┆ …          ┆           ┆           ┆           │\n",
              "│ Теория баз ┆ 18         ┆ 30       ┆ 12         ┆ 86c24daaa6 ┆ 0.939462  ┆ 4         ┆ 1         │\n",
              "│ данных     ┆            ┆          ┆            ┆ 2246142d46 ┆           ┆           ┆           │\n",
              "│            ┆            ┆          ┆            ┆ ee58534a65 ┆           ┆           ┆           │\n",
              "│            ┆            ┆          ┆            ┆ …          ┆           ┆           ┆           │\n",
              "│ Теория баз ┆ 18         ┆ 30       ┆ 12         ┆ f5d9f99cb8 ┆ 0.982063  ┆ 5         ┆ 1         │\n",
              "│ данных     ┆            ┆          ┆            ┆ 76ca0888d1 ┆           ┆           ┆           │\n",
              "│            ┆            ┆          ┆            ┆ 8b6e444fa1 ┆           ┆           ┆           │\n",
              "│            ┆            ┆          ┆            ┆ …          ┆           ┆           ┆           │\n",
              "└────────────┴────────────┴──────────┴────────────┴────────────┴───────────┴───────────┴───────────┘"
            ],
            "text/html": [
              "<div><style>\n",
              ".dataframe > thead > tr,\n",
              ".dataframe > tbody > tr {\n",
              "  text-align: right;\n",
              "  white-space: pre-wrap;\n",
              "}\n",
              "</style>\n",
              "<small>shape: (18, 8)</small><table border=\"1\" class=\"dataframe\"><thead><tr><th>Курсы</th><th>Количество студентов после двух волн</th><th>capacity</th><th>Количество свободных мест на курсе</th><th>id</th><th>Перцентили</th><th>student_rank</th><th>Количество осенних КПВ</th></tr><tr><td>str</td><td>u32</td><td>i64</td><td>i64</td><td>str</td><td>f64</td><td>i64</td><td>i32</td></tr></thead><tbody><tr><td>&quot;Statistical Learning Theory&quot;</td><td>41</td><td>60</td><td>19</td><td>&quot;253bbe1a2021d0404712a1e4acd229…</td><td>0.673913</td><td>0</td><td>1</td></tr><tr><td>&quot;Statistical Learning Theory&quot;</td><td>41</td><td>60</td><td>19</td><td>&quot;f2ed8115db45ef795ced2701fa8651…</td><td>0.766816</td><td>1</td><td>1</td></tr><tr><td>&quot;Анализ неструктурированных дан…</td><td>53</td><td>10000</td><td>9947</td><td>&quot;8c3aa7371731bef999519c3de2c474…</td><td>0.695652</td><td>0</td><td>1</td></tr><tr><td>&quot;Анализ неструктурированных дан…</td><td>53</td><td>10000</td><td>9947</td><td>&quot;1bbbfae51794b83c769b634be8da7b…</td><td>0.789855</td><td>1</td><td>1</td></tr><tr><td>&quot;Анализ неструктурированных дан…</td><td>53</td><td>10000</td><td>9947</td><td>&quot;aeb7bb1e047c392b7e5e39225cd864…</td><td>0.898551</td><td>2</td><td>1</td></tr><tr><td>&hellip;</td><td>&hellip;</td><td>&hellip;</td><td>&hellip;</td><td>&hellip;</td><td>&hellip;</td><td>&hellip;</td><td>&hellip;</td></tr><tr><td>&quot;Теория баз данных&quot;</td><td>18</td><td>30</td><td>12</td><td>&quot;1c1623a037bd523d687245e6060e6c…</td><td>0.672646</td><td>1</td><td>1</td></tr><tr><td>&quot;Теория баз данных&quot;</td><td>18</td><td>30</td><td>12</td><td>&quot;5c49473012411a1eee72f8ea63767a…</td><td>0.773543</td><td>2</td><td>1</td></tr><tr><td>&quot;Теория баз данных&quot;</td><td>18</td><td>30</td><td>12</td><td>&quot;8aa0f1b7331b49464174b02cd693be…</td><td>0.795964</td><td>3</td><td>1</td></tr><tr><td>&quot;Теория баз данных&quot;</td><td>18</td><td>30</td><td>12</td><td>&quot;86c24daaa62246142d46ee58534a65…</td><td>0.939462</td><td>4</td><td>1</td></tr><tr><td>&quot;Теория баз данных&quot;</td><td>18</td><td>30</td><td>12</td><td>&quot;f5d9f99cb876ca0888d18b6e444fa1…</td><td>0.982063</td><td>5</td><td>1</td></tr></tbody></table></div>"
            ]
          },
          "metadata": {},
          "execution_count": 64
        }
      ],
      "source": [
        "final_result_end = final_result_end.filter(\n",
        "    pl.col(\"student_rank\") < pl.col(\"Количество свободных мест на курсе\")\n",
        "\n",
        ")\n",
        "\n",
        "final_result_end = final_result_end.join(\n",
        "    df.select([\"id\", \"Количество осенних КПВ\"]),\n",
        "    left_on=\"id\",\n",
        "    right_on=\"id\",\n",
        "    how=\"left\"\n",
        ")\n",
        "\n",
        "final_result_end"
      ]
    },
    {
      "cell_type": "code",
      "execution_count": 65,
      "metadata": {
        "id": "kx_zuG42K-Vs",
        "colab": {
          "base_uri": "https://localhost:8080/",
          "height": 478
        },
        "outputId": "40a823de-31e5-4e61-f705-40d5e2836222"
      },
      "outputs": [
        {
          "output_type": "execute_result",
          "data": {
            "text/plain": [
              "shape: (266, 3)\n",
              "┌─────────────────────────────────┬─────────────────────────────────┬────────────────────────┐\n",
              "│ id                              ┆ courses                         ┆ Количество осенних КПВ │\n",
              "│ ---                             ┆ ---                             ┆ ---                    │\n",
              "│ str                             ┆ list[str]                       ┆ i32                    │\n",
              "╞═════════════════════════════════╪═════════════════════════════════╪════════════════════════╡\n",
              "│ b65194fec33b2358296f74f6d948ef… ┆ [\"Высокопроизводительные вычис… ┆ 1                      │\n",
              "│ 1b7e1b30238f393811a2b48c6f6a06… ┆ [\"Высокопроизводительные вычис… ┆ 1                      │\n",
              "│ 573e2218c3fe3ffc1894edc12432d3… ┆ [\"Statistical Learning Theory\"… ┆ 2                      │\n",
              "│ 1386d00c9c8229c2be3c0956949ee1… ┆ [\"Statistical Learning Theory\"… ┆ 1                      │\n",
              "│ 0f114e98d9f732aa51db34f687db26… ┆ [\"Матричные вычисления\"]        ┆ 1                      │\n",
              "│ …                               ┆ …                               ┆ …                      │\n",
              "│ ce2a9120d5581dcd8bd0d6252918c9… ┆ [\"Statistical Learning Theory\"… ┆ 2                      │\n",
              "│ 796d174c592006376963b8f31e818d… ┆ [\"Моделирование временных рядо… ┆ 1                      │\n",
              "│ c154bbf18efdd4d760e52155eaa879… ┆ [\"Сбор и обработка данных с по… ┆ 2                      │\n",
              "│ 6a93fcbc79d0df6ddeba3b46739fc3… ┆ [\"Анализ неструктурированных д… ┆ 2                      │\n",
              "│ f2d210ace25a841e1e58036b257d5d… ┆ [\"Анализ неструктурированных д… ┆ 1                      │\n",
              "└─────────────────────────────────┴─────────────────────────────────┴────────────────────────┘"
            ],
            "text/html": [
              "<div><style>\n",
              ".dataframe > thead > tr,\n",
              ".dataframe > tbody > tr {\n",
              "  text-align: right;\n",
              "  white-space: pre-wrap;\n",
              "}\n",
              "</style>\n",
              "<small>shape: (266, 3)</small><table border=\"1\" class=\"dataframe\"><thead><tr><th>id</th><th>courses</th><th>Количество осенних КПВ</th></tr><tr><td>str</td><td>list[str]</td><td>i32</td></tr></thead><tbody><tr><td>&quot;b65194fec33b2358296f74f6d948ef…</td><td>[&quot;Высокопроизводительные вычисления&quot;]</td><td>1</td></tr><tr><td>&quot;1b7e1b30238f393811a2b48c6f6a06…</td><td>[&quot;Высокопроизводительные вычисления&quot;]</td><td>1</td></tr><tr><td>&quot;573e2218c3fe3ffc1894edc12432d3…</td><td>[&quot;Statistical Learning Theory&quot;, &quot;Анализ неструктурированных данных&quot;]</td><td>2</td></tr><tr><td>&quot;1386d00c9c8229c2be3c0956949ee1…</td><td>[&quot;Statistical Learning Theory&quot;]</td><td>1</td></tr><tr><td>&quot;0f114e98d9f732aa51db34f687db26…</td><td>[&quot;Матричные вычисления&quot;]</td><td>1</td></tr><tr><td>&hellip;</td><td>&hellip;</td><td>&hellip;</td></tr><tr><td>&quot;ce2a9120d5581dcd8bd0d6252918c9…</td><td>[&quot;Statistical Learning Theory&quot;, &quot;Моделирование временных рядов&quot;]</td><td>2</td></tr><tr><td>&quot;796d174c592006376963b8f31e818d…</td><td>[&quot;Моделирование временных рядов&quot;]</td><td>1</td></tr><tr><td>&quot;c154bbf18efdd4d760e52155eaa879…</td><td>[&quot;Сбор и обработка данных с помощью краудсорсинга&quot;]</td><td>2</td></tr><tr><td>&quot;6a93fcbc79d0df6ddeba3b46739fc3…</td><td>[&quot;Анализ неструктурированных данных&quot;, &quot;Глубинное обучение в обработке звука&quot;]</td><td>2</td></tr><tr><td>&quot;f2d210ace25a841e1e58036b257d5d…</td><td>[&quot;Анализ неструктурированных данных&quot;]</td><td>1</td></tr></tbody></table></div>"
            ]
          },
          "metadata": {},
          "execution_count": 65
        }
      ],
      "source": [
        "grouped_courses_3 = final_result_end.group_by(\"id\").agg([\n",
        "    pl.col(\"Курсы\").alias(\"courses\"),\n",
        "    pl.col(\"Количество осенних КПВ\").first()\n",
        "])\n",
        "grouped_courses"
      ]
    },
    {
      "cell_type": "code",
      "execution_count": 66,
      "metadata": {
        "id": "ECYEBNveLhPC",
        "colab": {
          "base_uri": "https://localhost:8080/",
          "height": 443
        },
        "outputId": "8590108e-d912-4e22-c7d4-9a2486a6f1ce"
      },
      "outputs": [
        {
          "output_type": "execute_result",
          "data": {
            "text/plain": [
              "shape: (18, 3)\n",
              "┌─────────────────────────────────┬─────────────────────────────────┬─────────┐\n",
              "│ id                              ┆ course1                         ┆ course2 │\n",
              "│ ---                             ┆ ---                             ┆ ---     │\n",
              "│ str                             ┆ str                             ┆ str     │\n",
              "╞═════════════════════════════════╪═════════════════════════════════╪═════════╡\n",
              "│ 86c24daaa62246142d46ee58534a65… ┆ Теория баз данных               ┆ -       │\n",
              "│ 5c49473012411a1eee72f8ea63767a… ┆ Теория баз данных               ┆ -       │\n",
              "│ 8c3aa7371731bef999519c3de2c474… ┆ Анализ неструктурированных дан… ┆ -       │\n",
              "│ 1bbbfae51794b83c769b634be8da7b… ┆ Анализ неструктурированных дан… ┆ -       │\n",
              "│ 2b0d7dd550bcca4c586cbb27d8478a… ┆ Матричные вычисления            ┆ -       │\n",
              "│ …                               ┆ …                               ┆ …       │\n",
              "│ 227347077a7d1d0544ddf5643b97cf… ┆ Матричные вычисления            ┆ -       │\n",
              "│ 253bbe1a2021d0404712a1e4acd229… ┆ Statistical Learning Theory     ┆ -       │\n",
              "│ 00b40fe7dbfd23e5daba7652445094… ┆ Матричные вычисления            ┆ -       │\n",
              "│ ac4e2062ca444a506991c212bd2dd8… ┆ Матричные вычисления            ┆ -       │\n",
              "│ aeb7bb1e047c392b7e5e39225cd864… ┆ Анализ неструктурированных дан… ┆ -       │\n",
              "└─────────────────────────────────┴─────────────────────────────────┴─────────┘"
            ],
            "text/html": [
              "<div><style>\n",
              ".dataframe > thead > tr,\n",
              ".dataframe > tbody > tr {\n",
              "  text-align: right;\n",
              "  white-space: pre-wrap;\n",
              "}\n",
              "</style>\n",
              "<small>shape: (18, 3)</small><table border=\"1\" class=\"dataframe\"><thead><tr><th>id</th><th>course1</th><th>course2</th></tr><tr><td>str</td><td>str</td><td>str</td></tr></thead><tbody><tr><td>&quot;86c24daaa62246142d46ee58534a65…</td><td>&quot;Теория баз данных&quot;</td><td>&quot;-&quot;</td></tr><tr><td>&quot;5c49473012411a1eee72f8ea63767a…</td><td>&quot;Теория баз данных&quot;</td><td>&quot;-&quot;</td></tr><tr><td>&quot;8c3aa7371731bef999519c3de2c474…</td><td>&quot;Анализ неструктурированных дан…</td><td>&quot;-&quot;</td></tr><tr><td>&quot;1bbbfae51794b83c769b634be8da7b…</td><td>&quot;Анализ неструктурированных дан…</td><td>&quot;-&quot;</td></tr><tr><td>&quot;2b0d7dd550bcca4c586cbb27d8478a…</td><td>&quot;Матричные вычисления&quot;</td><td>&quot;-&quot;</td></tr><tr><td>&hellip;</td><td>&hellip;</td><td>&hellip;</td></tr><tr><td>&quot;227347077a7d1d0544ddf5643b97cf…</td><td>&quot;Матричные вычисления&quot;</td><td>&quot;-&quot;</td></tr><tr><td>&quot;253bbe1a2021d0404712a1e4acd229…</td><td>&quot;Statistical Learning Theory&quot;</td><td>&quot;-&quot;</td></tr><tr><td>&quot;00b40fe7dbfd23e5daba7652445094…</td><td>&quot;Матричные вычисления&quot;</td><td>&quot;-&quot;</td></tr><tr><td>&quot;ac4e2062ca444a506991c212bd2dd8…</td><td>&quot;Матричные вычисления&quot;</td><td>&quot;-&quot;</td></tr><tr><td>&quot;aeb7bb1e047c392b7e5e39225cd864…</td><td>&quot;Анализ неструктурированных дан…</td><td>&quot;-&quot;</td></tr></tbody></table></div>"
            ]
          },
          "metadata": {},
          "execution_count": 66
        }
      ],
      "source": [
        "df_wave_3 = grouped_courses_3.with_columns([\n",
        "    pl.when(pl.col(\"Количество осенних КПВ\") == 1)\n",
        "      .then(pl.col(\"courses\").list.first()).alias(\"course_1\"),\n",
        "    pl.when(pl.col(\"Количество осенних КПВ\") == 1)\n",
        "      .then(pl.lit(\"-\")).alias(\"course_2\")\n",
        "])\n",
        "df_wave_3 = df_wave_3.drop(\"courses\").drop(\"Количество осенних КПВ\")\n",
        "\n",
        "df_wave_3 = df_wave_3.rename({\"course_1\": \"course1\", \"course_2\": \"course2\"})\n",
        "df_wave_3"
      ]
    },
    {
      "cell_type": "code",
      "execution_count": 67,
      "metadata": {
        "id": "wqPW8VnbL-HF",
        "colab": {
          "base_uri": "https://localhost:8080/",
          "height": 443
        },
        "outputId": "fdf4ea69-2f42-4441-d0f5-bf4ca4554aca"
      },
      "outputs": [
        {
          "output_type": "execute_result",
          "data": {
            "text/plain": [
              "shape: (347, 3)\n",
              "┌──────────────────────────────────┬─────────────────────────────┬─────────────────────────────────┐\n",
              "│ ID                               ┆ course1                     ┆ course2                         │\n",
              "│ ---                              ┆ ---                         ┆ ---                             │\n",
              "│ str                              ┆ str                         ┆ str                             │\n",
              "╞══════════════════════════════════╪═════════════════════════════╪═════════════════════════════════╡\n",
              "│ b65194fec33b2358296f74f6d948ef…  ┆ Высокопроизводительные      ┆ -                               │\n",
              "│                                  ┆ вычисле…                    ┆                                 │\n",
              "│ 1b7e1b30238f393811a2b48c6f6a06…  ┆ Высокопроизводительные      ┆ -                               │\n",
              "│                                  ┆ вычисле…                    ┆                                 │\n",
              "│ 573e2218c3fe3ffc1894edc12432d3…  ┆ Statistical Learning Theory ┆ Анализ неструктурированных дан… │\n",
              "│ 1386d00c9c8229c2be3c0956949ee1…  ┆ Statistical Learning Theory ┆ -                               │\n",
              "│ 0f114e98d9f732aa51db34f687db26…  ┆ Матричные вычисления        ┆ -                               │\n",
              "│ …                                ┆ …                           ┆ …                               │\n",
              "│ 227347077a7d1d0544ddf5643b97cf…  ┆ Матричные вычисления        ┆ -                               │\n",
              "│ 253bbe1a2021d0404712a1e4acd229…  ┆ Statistical Learning Theory ┆ -                               │\n",
              "│ 00b40fe7dbfd23e5daba7652445094…  ┆ Матричные вычисления        ┆ -                               │\n",
              "│ ac4e2062ca444a506991c212bd2dd8…  ┆ Матричные вычисления        ┆ -                               │\n",
              "│ aeb7bb1e047c392b7e5e39225cd864…  ┆ Анализ неструктурированных  ┆ -                               │\n",
              "│                                  ┆ дан…                        ┆                                 │\n",
              "└──────────────────────────────────┴─────────────────────────────┴─────────────────────────────────┘"
            ],
            "text/html": [
              "<div><style>\n",
              ".dataframe > thead > tr,\n",
              ".dataframe > tbody > tr {\n",
              "  text-align: right;\n",
              "  white-space: pre-wrap;\n",
              "}\n",
              "</style>\n",
              "<small>shape: (347, 3)</small><table border=\"1\" class=\"dataframe\"><thead><tr><th>ID</th><th>course1</th><th>course2</th></tr><tr><td>str</td><td>str</td><td>str</td></tr></thead><tbody><tr><td>&quot;b65194fec33b2358296f74f6d948ef…</td><td>&quot;Высокопроизводительные вычисле…</td><td>&quot;-&quot;</td></tr><tr><td>&quot;1b7e1b30238f393811a2b48c6f6a06…</td><td>&quot;Высокопроизводительные вычисле…</td><td>&quot;-&quot;</td></tr><tr><td>&quot;573e2218c3fe3ffc1894edc12432d3…</td><td>&quot;Statistical Learning Theory&quot;</td><td>&quot;Анализ неструктурированных дан…</td></tr><tr><td>&quot;1386d00c9c8229c2be3c0956949ee1…</td><td>&quot;Statistical Learning Theory&quot;</td><td>&quot;-&quot;</td></tr><tr><td>&quot;0f114e98d9f732aa51db34f687db26…</td><td>&quot;Матричные вычисления&quot;</td><td>&quot;-&quot;</td></tr><tr><td>&hellip;</td><td>&hellip;</td><td>&hellip;</td></tr><tr><td>&quot;227347077a7d1d0544ddf5643b97cf…</td><td>&quot;Матричные вычисления&quot;</td><td>&quot;-&quot;</td></tr><tr><td>&quot;253bbe1a2021d0404712a1e4acd229…</td><td>&quot;Statistical Learning Theory&quot;</td><td>&quot;-&quot;</td></tr><tr><td>&quot;00b40fe7dbfd23e5daba7652445094…</td><td>&quot;Матричные вычисления&quot;</td><td>&quot;-&quot;</td></tr><tr><td>&quot;ac4e2062ca444a506991c212bd2dd8…</td><td>&quot;Матричные вычисления&quot;</td><td>&quot;-&quot;</td></tr><tr><td>&quot;aeb7bb1e047c392b7e5e39225cd864…</td><td>&quot;Анализ неструктурированных дан…</td><td>&quot;-&quot;</td></tr></tbody></table></div>"
            ]
          },
          "metadata": {},
          "execution_count": 67
        }
      ],
      "source": [
        "df_wave_1_final = df_wave_1_updated.vstack(df_wave_3)\n",
        "df_wave_1_final = df_wave_1_final.rename({\n",
        "    \"id\": \"ID\"\n",
        "})\n",
        "df_wave_1_final"
      ]
    },
    {
      "cell_type": "code",
      "execution_count": 70,
      "metadata": {
        "id": "1ObW8YBS_8Nz"
      },
      "outputs": [],
      "source": [
        "df_wave_1_final.write_csv(\"res_fall.csv\")"
      ]
    },
    {
      "cell_type": "markdown",
      "metadata": {
        "id": "JgiMyLJz3JKw"
      },
      "source": [
        "**Отправьте свой файл res_fall.csv в контест (будет в ближайшее время, следите за новостями) и прикрепите/укажите ниже ваш никнейм и ссылку на успешную посылку.**"
      ]
    },
    {
      "cell_type": "markdown",
      "metadata": {
        "id": "3za2-Axk3JKw"
      },
      "source": [
        "*Дисклеймер:*\n",
        "\n",
        "Контест выдаётся для самопроверки. Если ваша посылка получила ОК, то код, скорее всего, правильный. Но при этом оценка всё равно может быть снижена в случае обнаружения неэффективностей или ошибок в коде. Если вы сдадите в AnyTask очевидно неработающий код или ноутбук без кода, но при этом в контест будет сдан корректный файл, то это будет расцениваться как плагиат."
      ]
    },
    {
      "cell_type": "markdown",
      "metadata": {
        "id": "jzciJOzo3JKw"
      },
      "source": [
        "На всякий случай просим вас сдать вместе с ноутбуком файл res_fall.csv в anytask"
      ]
    },
    {
      "cell_type": "markdown",
      "metadata": {
        "id": "XRHWCteT3JKx"
      },
      "source": [
        "### 4. [1 балл] Распределите таким же образом студентов еще и на весенние курсы по выбору.\n",
        "\n",
        "Если ваш код был хорошо структурирован, то это не составит проблем.\n",
        "\n",
        "Если вы выполнили это задание, сдайте среди прочего файл res_spring.csv в таком же формате, как и res_fall.csv."
      ]
    },
    {
      "cell_type": "code",
      "execution_count": 69,
      "metadata": {
        "id": "8hDYJoMO3JKx"
      },
      "outputs": [],
      "source": [
        "# (￣^'￣)ゞ"
      ]
    },
    {
      "cell_type": "markdown",
      "metadata": {
        "id": "xw9tt9dH3JKx"
      },
      "source": [
        "**Отправьте свой файл res_spring.csv в контест (будет в ближайшее время, следите за новостями) и прикрепите/укажите ниже ваш никнейм и ссылку на успешную посылку.**"
      ]
    },
    {
      "cell_type": "markdown",
      "metadata": {
        "id": "7aB4Q1fs3JKx"
      },
      "source": [
        "На всякий случай просим вас сдать вместе с ноутбуком файл res_spring.csv в anytask"
      ]
    },
    {
      "cell_type": "markdown",
      "metadata": {
        "id": "M1LivaOx3JKx"
      },
      "source": [
        "Вставьте картинку, описывающую ваш опыт выполнения этого задания:"
      ]
    },
    {
      "cell_type": "code",
      "execution_count": 69,
      "metadata": {
        "id": "QQ7X5fJW3JKx"
      },
      "outputs": [],
      "source": []
    }
  ],
  "metadata": {
    "colab": {
      "provenance": []
    },
    "kernelspec": {
      "display_name": "Python 3",
      "language": "python",
      "name": "python3"
    },
    "language_info": {
      "codemirror_mode": {
        "name": "ipython",
        "version": 3
      },
      "file_extension": ".py",
      "mimetype": "text/x-python",
      "name": "python",
      "nbconvert_exporter": "python",
      "pygments_lexer": "ipython3",
      "version": "3.10.13"
    }
  },
  "nbformat": 4,
  "nbformat_minor": 0
}